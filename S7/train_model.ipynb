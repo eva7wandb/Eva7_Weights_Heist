{
 "cells": [
  {
   "cell_type": "code",
   "execution_count": 1,
   "id": "bc88bc1a",
   "metadata": {
    "ExecuteTime": {
     "end_time": "2021-11-15T17:43:06.190491Z",
     "start_time": "2021-11-15T17:43:06.167995Z"
    }
   },
   "outputs": [],
   "source": [
    "%load_ext autoreload\n",
    "%autoreload 2"
   ]
  },
  {
   "cell_type": "code",
   "execution_count": 2,
   "id": "6f40858d",
   "metadata": {
    "ExecuteTime": {
     "end_time": "2021-11-15T17:43:08.286273Z",
     "start_time": "2021-11-15T17:43:08.270576Z"
    }
   },
   "outputs": [],
   "source": [
    "use_wandb = True"
   ]
  },
  {
   "cell_type": "code",
   "execution_count": 4,
   "id": "05856dc1",
   "metadata": {
    "ExecuteTime": {
     "end_time": "2021-11-15T17:43:17.535062Z",
     "start_time": "2021-11-15T17:43:16.366827Z"
    }
   },
   "outputs": [
    {
     "name": "stderr",
     "output_type": "stream",
     "text": [
      "\u001b[34m\u001b[1mwandb\u001b[0m: Currently logged in as: \u001b[33maskmuhsin\u001b[0m (use `wandb login --relogin` to force relogin)\n"
     ]
    }
   ],
   "source": [
    "if use_wandb:\n",
    "    import wandb\n",
    "    wandb.login()"
   ]
  },
  {
   "cell_type": "code",
   "execution_count": 5,
   "id": "87475c5b",
   "metadata": {
    "ExecuteTime": {
     "end_time": "2021-11-15T17:43:20.469977Z",
     "start_time": "2021-11-15T17:43:18.916953Z"
    }
   },
   "outputs": [],
   "source": [
    "import torch\n",
    "import torch.nn as nn\n",
    "import torch.nn.functional as F\n",
    "import torch.optim as optim\n",
    "from torch.optim.lr_scheduler import StepLR\n",
    "\n",
    "import numpy as np\n",
    "import matplotlib.pyplot as plt\n",
    "from torchsummary import summary"
   ]
  },
  {
   "cell_type": "code",
   "execution_count": 6,
   "id": "0ccb8e03",
   "metadata": {
    "ExecuteTime": {
     "end_time": "2021-11-15T17:44:14.467443Z",
     "start_time": "2021-11-15T17:43:20.473442Z"
    }
   },
   "outputs": [
    {
     "name": "stdout",
     "output_type": "stream",
     "text": [
      "Files already downloaded and verified\n",
      "Total number of images:  50000\n",
      "Mean =  (0.4890062, 0.47970363, 0.47680542) \n",
      " STD =  (0.264582, 0.258996, 0.25643882)\n",
      "Files already downloaded and verified\n",
      "Files already downloaded and verified\n",
      "Batch Size -- 512\n"
     ]
    }
   ],
   "source": [
    "from datasets.cifar10 import trainloader, testloader\n",
    "from utils.general_utils import setup_env\n",
    "from utils.training import train_model\n",
    "from utils.testing import test_model"
   ]
  },
  {
   "cell_type": "code",
   "execution_count": 7,
   "id": "a7dad3e9",
   "metadata": {
    "ExecuteTime": {
     "end_time": "2021-11-15T17:44:14.590670Z",
     "start_time": "2021-11-15T17:44:14.472345Z"
    }
   },
   "outputs": [],
   "source": [
    "from models.model_v7 import Net"
   ]
  },
  {
   "cell_type": "code",
   "execution_count": 12,
   "id": "5e6b8809",
   "metadata": {
    "ExecuteTime": {
     "end_time": "2021-11-15T17:58:59.536198Z",
     "start_time": "2021-11-15T17:58:59.387975Z"
    }
   },
   "outputs": [
    {
     "name": "stdout",
     "output_type": "stream",
     "text": [
      "----------------------------------------------------------------\n",
      "        Layer (type)               Output Shape         Param #\n",
      "================================================================\n",
      "            Conv2d-1           [-1, 32, 32, 32]             864\n",
      "              ReLU-2           [-1, 32, 32, 32]               0\n",
      "       BatchNorm2d-3           [-1, 32, 32, 32]              64\n",
      "           Dropout-4           [-1, 32, 32, 32]               0\n",
      "            Conv2d-5           [-1, 64, 32, 32]          18,432\n",
      "              ReLU-6           [-1, 64, 32, 32]               0\n",
      "       BatchNorm2d-7           [-1, 64, 32, 32]             128\n",
      "           Dropout-8           [-1, 64, 32, 32]               0\n",
      "        conv_block-9           [-1, 64, 32, 32]               0\n",
      "           Conv2d-10           [-1, 32, 16, 16]          18,464\n",
      "           Conv2d-11           [-1, 32, 16, 16]           1,056\n",
      "             ReLU-12           [-1, 32, 16, 16]               0\n",
      "      BatchNorm2d-13           [-1, 32, 16, 16]              64\n",
      " transition_block-14           [-1, 32, 16, 16]               0\n",
      "           Conv2d-15           [-1, 32, 16, 16]             288\n",
      "           Conv2d-16           [-1, 32, 16, 16]             288\n",
      "           Conv2d-17           [-1, 64, 16, 16]           2,048\n",
      "           Conv2d-18           [-1, 64, 16, 16]           2,048\n",
      "             ReLU-19           [-1, 64, 16, 16]               0\n",
      "      BatchNorm2d-20           [-1, 64, 16, 16]             128\n",
      "depthwise_separable_block-21           [-1, 64, 16, 16]               0\n",
      "           Conv2d-22             [-1, 64, 9, 9]          36,928\n",
      "           Conv2d-23             [-1, 64, 9, 9]           4,160\n",
      "             ReLU-24             [-1, 64, 9, 9]               0\n",
      "      BatchNorm2d-25             [-1, 64, 9, 9]             128\n",
      " transition_block-26             [-1, 64, 9, 9]               0\n",
      "           Conv2d-27             [-1, 32, 9, 9]          18,432\n",
      "             ReLU-28             [-1, 32, 9, 9]               0\n",
      "      BatchNorm2d-29             [-1, 32, 9, 9]              64\n",
      "          Dropout-30             [-1, 32, 9, 9]               0\n",
      "           Conv2d-31             [-1, 64, 9, 9]          18,432\n",
      "             ReLU-32             [-1, 64, 9, 9]               0\n",
      "      BatchNorm2d-33             [-1, 64, 9, 9]             128\n",
      "          Dropout-34             [-1, 64, 9, 9]               0\n",
      "       conv_block-35             [-1, 64, 9, 9]               0\n",
      "           Conv2d-36             [-1, 32, 9, 9]          18,464\n",
      "           Conv2d-37             [-1, 64, 9, 9]           2,112\n",
      "             ReLU-38             [-1, 64, 9, 9]               0\n",
      "      BatchNorm2d-39             [-1, 64, 9, 9]             128\n",
      "dilated_conv_block-40             [-1, 64, 9, 9]               0\n",
      "           Conv2d-41             [-1, 32, 5, 5]          18,464\n",
      "           Conv2d-42             [-1, 32, 5, 5]           1,056\n",
      "             ReLU-43             [-1, 32, 5, 5]               0\n",
      "      BatchNorm2d-44             [-1, 32, 5, 5]              64\n",
      " transition_block-45             [-1, 32, 5, 5]               0\n",
      "           Conv2d-46             [-1, 32, 5, 5]           9,216\n",
      "             ReLU-47             [-1, 32, 5, 5]               0\n",
      "      BatchNorm2d-48             [-1, 32, 5, 5]              64\n",
      "          Dropout-49             [-1, 32, 5, 5]               0\n",
      "           Conv2d-50             [-1, 32, 5, 5]           9,216\n",
      "             ReLU-51             [-1, 32, 5, 5]               0\n",
      "      BatchNorm2d-52             [-1, 32, 5, 5]              64\n",
      "          Dropout-53             [-1, 32, 5, 5]               0\n",
      "       conv_block-54             [-1, 32, 5, 5]               0\n",
      "           Conv2d-55             [-1, 10, 5, 5]             330\n",
      "        AvgPool2d-56             [-1, 10, 1, 1]               0\n",
      "================================================================\n",
      "Total params: 181,322\n",
      "Trainable params: 181,322\n",
      "Non-trainable params: 0\n",
      "----------------------------------------------------------------\n",
      "Input size (MB): 0.01\n",
      "Forward/backward pass size (MB): 5.30\n",
      "Params size (MB): 0.69\n",
      "Estimated Total Size (MB): 6.01\n",
      "----------------------------------------------------------------\n"
     ]
    }
   ],
   "source": [
    "cuda, device = setup_env()\n",
    "\n",
    "train_dataloader, test_dataloader = trainloader, testloader\n",
    "\n",
    "model = Net(\n",
    "    batch_norm=True,\n",
    "    dropout_value=0.0,\n",
    ").to(device)\n",
    "summary(model, input_size=(3, 32, 32))"
   ]
  },
  {
   "cell_type": "code",
   "execution_count": 15,
   "id": "0ad7b388",
   "metadata": {
    "ExecuteTime": {
     "end_time": "2021-11-15T17:59:49.348261Z",
     "start_time": "2021-11-15T17:59:45.110062Z"
    }
   },
   "outputs": [
    {
     "name": "stderr",
     "output_type": "stream",
     "text": [
      "\u001b[34m\u001b[1mwandb\u001b[0m: wandb version 0.12.6 is available!  To upgrade, please run:\n",
      "\u001b[34m\u001b[1mwandb\u001b[0m:  $ pip install wandb --upgrade\n"
     ]
    },
    {
     "data": {
      "text/html": [
       "\n",
       "                Tracking run with wandb version 0.10.11<br/>\n",
       "                Syncing run <strong style=\"color:#cdcd00\">version 8 no dropout</strong> to <a href=\"https://wandb.ai\" target=\"_blank\">Weights & Biases</a> <a href=\"https://docs.wandb.com/integrations/jupyter.html\" target=\"_blank\">(Documentation)</a>.<br/>\n",
       "                Project page: <a href=\"https://wandb.ai/weights_heist_eva7/s7_cifar10\" target=\"_blank\">https://wandb.ai/weights_heist_eva7/s7_cifar10</a><br/>\n",
       "                Run page: <a href=\"https://wandb.ai/weights_heist_eva7/s7_cifar10/runs/3r5jy95d\" target=\"_blank\">https://wandb.ai/weights_heist_eva7/s7_cifar10/runs/3r5jy95d</a><br/>\n",
       "                Run data is saved locally in <code>/data/omnibox1/muhsin/OOB_experiments/Eva7_Weights_Heist/S7/wandb/run-20211116_015945-3r5jy95d</code><br/><br/>\n",
       "            "
      ],
      "text/plain": [
       "<IPython.core.display.HTML object>"
      ]
     },
     "metadata": {},
     "output_type": "display_data"
    }
   ],
   "source": [
    "if use_wandb:\n",
    "\n",
    "    wandb.init(\n",
    "        project='s7_cifar10',              ## unique to each project / assignment\n",
    "        entity='weights_heist_eva7',       ## this will not change\n",
    "        ## below are optional but recommended \n",
    "        tags=['muhsin'],                   ## can help later to filter runs\n",
    "        name='version 8 no dropout',    ## a name for the run. \n",
    "        notes=\"dropout - 0.0\"\n",
    "    )"
   ]
  },
  {
   "cell_type": "code",
   "execution_count": 16,
   "id": "9c151f0b",
   "metadata": {
    "ExecuteTime": {
     "end_time": "2021-11-15T18:18:00.465127Z",
     "start_time": "2021-11-15T18:00:08.340873Z"
    },
    "scrolled": true
   },
   "outputs": [
    {
     "name": "stdout",
     "output_type": "stream",
     "text": [
      "EPOCH: 0\n"
     ]
    },
    {
     "name": "stderr",
     "output_type": "stream",
     "text": [
      "Loss=1.498618721961975 Batch_id=97 Accuracy=33.72: 100%|██████████| 98/98 [00:09<00:00, 10.23it/s] \n"
     ]
    },
    {
     "name": "stdout",
     "output_type": "stream",
     "text": [
      "\n",
      "Test set: Average loss: 1.6186, Accuracy: 4151/10000 (41.51%)\n",
      "\n",
      "EPOCH: 1\n"
     ]
    },
    {
     "name": "stderr",
     "output_type": "stream",
     "text": [
      "Loss=1.3299295902252197 Batch_id=97 Accuracy=45.44: 100%|██████████| 98/98 [00:09<00:00,  9.85it/s]\n"
     ]
    },
    {
     "name": "stdout",
     "output_type": "stream",
     "text": [
      "\n",
      "Test set: Average loss: 1.3204, Accuracy: 5213/10000 (52.13%)\n",
      "\n",
      "EPOCH: 2\n"
     ]
    },
    {
     "name": "stderr",
     "output_type": "stream",
     "text": [
      "Loss=1.254443883895874 Batch_id=97 Accuracy=51.08: 100%|██████████| 98/98 [00:09<00:00, 10.42it/s] \n"
     ]
    },
    {
     "name": "stdout",
     "output_type": "stream",
     "text": [
      "\n",
      "Test set: Average loss: 1.2945, Accuracy: 5416/10000 (54.16%)\n",
      "\n",
      "EPOCH: 3\n"
     ]
    },
    {
     "name": "stderr",
     "output_type": "stream",
     "text": [
      "Loss=1.254892349243164 Batch_id=97 Accuracy=54.80: 100%|██████████| 98/98 [00:09<00:00, 10.67it/s] \n"
     ]
    },
    {
     "name": "stdout",
     "output_type": "stream",
     "text": [
      "\n",
      "Test set: Average loss: 1.2124, Accuracy: 5716/10000 (57.16%)\n",
      "\n",
      "EPOCH: 4\n"
     ]
    },
    {
     "name": "stderr",
     "output_type": "stream",
     "text": [
      "Loss=1.1139094829559326 Batch_id=97 Accuracy=58.89: 100%|██████████| 98/98 [00:08<00:00, 11.37it/s]\n"
     ]
    },
    {
     "name": "stdout",
     "output_type": "stream",
     "text": [
      "\n",
      "Test set: Average loss: 0.9951, Accuracy: 6398/10000 (63.98%)\n",
      "\n",
      "EPOCH: 5\n"
     ]
    },
    {
     "name": "stderr",
     "output_type": "stream",
     "text": [
      "Loss=1.0716819763183594 Batch_id=97 Accuracy=61.35: 100%|██████████| 98/98 [00:09<00:00, 10.57it/s]\n"
     ]
    },
    {
     "name": "stdout",
     "output_type": "stream",
     "text": [
      "\n",
      "Test set: Average loss: 0.9374, Accuracy: 6679/10000 (66.79%)\n",
      "\n",
      "EPOCH: 6\n"
     ]
    },
    {
     "name": "stderr",
     "output_type": "stream",
     "text": [
      "Loss=0.9844862818717957 Batch_id=97 Accuracy=63.57: 100%|██████████| 98/98 [00:10<00:00,  8.98it/s]\n"
     ]
    },
    {
     "name": "stdout",
     "output_type": "stream",
     "text": [
      "\n",
      "Test set: Average loss: 0.8497, Accuracy: 7003/10000 (70.03%)\n",
      "\n",
      "EPOCH: 7\n"
     ]
    },
    {
     "name": "stderr",
     "output_type": "stream",
     "text": [
      "Loss=0.9501089453697205 Batch_id=97 Accuracy=65.53: 100%|██████████| 98/98 [00:11<00:00,  8.37it/s]\n"
     ]
    },
    {
     "name": "stdout",
     "output_type": "stream",
     "text": [
      "\n",
      "Test set: Average loss: 0.9741, Accuracy: 6699/10000 (66.99%)\n",
      "\n",
      "EPOCH: 8\n"
     ]
    },
    {
     "name": "stderr",
     "output_type": "stream",
     "text": [
      "Loss=0.9569393396377563 Batch_id=97 Accuracy=66.96: 100%|██████████| 98/98 [00:10<00:00,  9.68it/s]\n"
     ]
    },
    {
     "name": "stdout",
     "output_type": "stream",
     "text": [
      "\n",
      "Test set: Average loss: 0.8222, Accuracy: 7139/10000 (71.39%)\n",
      "\n",
      "EPOCH: 9\n"
     ]
    },
    {
     "name": "stderr",
     "output_type": "stream",
     "text": [
      "Loss=0.9019643068313599 Batch_id=97 Accuracy=68.55: 100%|██████████| 98/98 [00:09<00:00, 10.25it/s]\n"
     ]
    },
    {
     "name": "stdout",
     "output_type": "stream",
     "text": [
      "\n",
      "Test set: Average loss: 0.7634, Accuracy: 7409/10000 (74.09%)\n",
      "\n",
      "EPOCH: 10\n"
     ]
    },
    {
     "name": "stderr",
     "output_type": "stream",
     "text": [
      "Loss=0.73785400390625 Batch_id=97 Accuracy=69.18: 100%|██████████| 98/98 [00:09<00:00, 10.09it/s]  \n"
     ]
    },
    {
     "name": "stdout",
     "output_type": "stream",
     "text": [
      "\n",
      "Test set: Average loss: 0.7709, Accuracy: 7313/10000 (73.13%)\n",
      "\n",
      "EPOCH: 11\n"
     ]
    },
    {
     "name": "stderr",
     "output_type": "stream",
     "text": [
      "Loss=0.8092371821403503 Batch_id=97 Accuracy=70.16: 100%|██████████| 98/98 [00:09<00:00, 10.55it/s]\n"
     ]
    },
    {
     "name": "stdout",
     "output_type": "stream",
     "text": [
      "\n",
      "Test set: Average loss: 0.7413, Accuracy: 7411/10000 (74.11%)\n",
      "\n",
      "EPOCH: 12\n"
     ]
    },
    {
     "name": "stderr",
     "output_type": "stream",
     "text": [
      "Loss=0.8545418977737427 Batch_id=97 Accuracy=72.56: 100%|██████████| 98/98 [00:09<00:00, 10.49it/s]\n"
     ]
    },
    {
     "name": "stdout",
     "output_type": "stream",
     "text": [
      "\n",
      "Test set: Average loss: 0.6606, Accuracy: 7686/10000 (76.86%)\n",
      "\n",
      "EPOCH: 13\n"
     ]
    },
    {
     "name": "stderr",
     "output_type": "stream",
     "text": [
      "Loss=0.7382522225379944 Batch_id=97 Accuracy=73.21: 100%|██████████| 98/98 [00:09<00:00, 10.72it/s]\n"
     ]
    },
    {
     "name": "stdout",
     "output_type": "stream",
     "text": [
      "\n",
      "Test set: Average loss: 0.6273, Accuracy: 7816/10000 (78.16%)\n",
      "\n",
      "EPOCH: 14\n"
     ]
    },
    {
     "name": "stderr",
     "output_type": "stream",
     "text": [
      "Loss=0.7767033576965332 Batch_id=97 Accuracy=73.84: 100%|██████████| 98/98 [00:09<00:00, 10.50it/s]\n"
     ]
    },
    {
     "name": "stdout",
     "output_type": "stream",
     "text": [
      "\n",
      "Test set: Average loss: 0.6167, Accuracy: 7897/10000 (78.97%)\n",
      "\n",
      "EPOCH: 15\n"
     ]
    },
    {
     "name": "stderr",
     "output_type": "stream",
     "text": [
      "Loss=0.6548639535903931 Batch_id=97 Accuracy=74.17: 100%|██████████| 98/98 [00:09<00:00, 10.63it/s]\n"
     ]
    },
    {
     "name": "stdout",
     "output_type": "stream",
     "text": [
      "\n",
      "Test set: Average loss: 0.6208, Accuracy: 7845/10000 (78.45%)\n",
      "\n",
      "EPOCH: 16\n"
     ]
    },
    {
     "name": "stderr",
     "output_type": "stream",
     "text": [
      "Loss=0.7377123832702637 Batch_id=97 Accuracy=74.84: 100%|██████████| 98/98 [00:09<00:00, 10.87it/s]\n"
     ]
    },
    {
     "name": "stdout",
     "output_type": "stream",
     "text": [
      "\n",
      "Test set: Average loss: 0.6024, Accuracy: 7937/10000 (79.37%)\n",
      "\n",
      "EPOCH: 17\n"
     ]
    },
    {
     "name": "stderr",
     "output_type": "stream",
     "text": [
      "Loss=0.7621418833732605 Batch_id=97 Accuracy=74.87: 100%|██████████| 98/98 [00:09<00:00, 10.45it/s]\n"
     ]
    },
    {
     "name": "stdout",
     "output_type": "stream",
     "text": [
      "\n",
      "Test set: Average loss: 0.6070, Accuracy: 7914/10000 (79.14%)\n",
      "\n",
      "EPOCH: 18\n"
     ]
    },
    {
     "name": "stderr",
     "output_type": "stream",
     "text": [
      "Loss=0.7248625755310059 Batch_id=97 Accuracy=75.57: 100%|██████████| 98/98 [00:09<00:00, 10.56it/s]\n"
     ]
    },
    {
     "name": "stdout",
     "output_type": "stream",
     "text": [
      "\n",
      "Test set: Average loss: 0.5883, Accuracy: 7949/10000 (79.49%)\n",
      "\n",
      "EPOCH: 19\n"
     ]
    },
    {
     "name": "stderr",
     "output_type": "stream",
     "text": [
      "Loss=0.7014647126197815 Batch_id=97 Accuracy=75.83: 100%|██████████| 98/98 [00:09<00:00, 10.51it/s]\n"
     ]
    },
    {
     "name": "stdout",
     "output_type": "stream",
     "text": [
      "\n",
      "Test set: Average loss: 0.5921, Accuracy: 7967/10000 (79.67%)\n",
      "\n",
      "EPOCH: 20\n"
     ]
    },
    {
     "name": "stderr",
     "output_type": "stream",
     "text": [
      "Loss=0.7162773013114929 Batch_id=97 Accuracy=76.29: 100%|██████████| 98/98 [00:09<00:00, 10.30it/s]\n"
     ]
    },
    {
     "name": "stdout",
     "output_type": "stream",
     "text": [
      "\n",
      "Test set: Average loss: 0.6081, Accuracy: 7939/10000 (79.39%)\n",
      "\n",
      "EPOCH: 21\n"
     ]
    },
    {
     "name": "stderr",
     "output_type": "stream",
     "text": [
      "Loss=0.667555034160614 Batch_id=97 Accuracy=76.34: 100%|██████████| 98/98 [00:09<00:00, 10.39it/s] \n"
     ]
    },
    {
     "name": "stdout",
     "output_type": "stream",
     "text": [
      "\n",
      "Test set: Average loss: 0.5624, Accuracy: 8054/10000 (80.54%)\n",
      "\n",
      "EPOCH: 22\n"
     ]
    },
    {
     "name": "stderr",
     "output_type": "stream",
     "text": [
      "Loss=0.7223102450370789 Batch_id=97 Accuracy=76.43: 100%|██████████| 98/98 [00:09<00:00, 10.50it/s]\n"
     ]
    },
    {
     "name": "stdout",
     "output_type": "stream",
     "text": [
      "\n",
      "Test set: Average loss: 0.5676, Accuracy: 8062/10000 (80.62%)\n",
      "\n",
      "EPOCH: 23\n"
     ]
    },
    {
     "name": "stderr",
     "output_type": "stream",
     "text": [
      "Loss=0.708755612373352 Batch_id=97 Accuracy=76.71: 100%|██████████| 98/98 [00:10<00:00,  9.69it/s] \n"
     ]
    },
    {
     "name": "stdout",
     "output_type": "stream",
     "text": [
      "\n",
      "Test set: Average loss: 0.6246, Accuracy: 7875/10000 (78.75%)\n",
      "\n",
      "EPOCH: 24\n"
     ]
    },
    {
     "name": "stderr",
     "output_type": "stream",
     "text": [
      "Loss=0.7092095613479614 Batch_id=97 Accuracy=77.99: 100%|██████████| 98/98 [00:09<00:00, 10.14it/s]\n"
     ]
    },
    {
     "name": "stdout",
     "output_type": "stream",
     "text": [
      "\n",
      "Test set: Average loss: 0.5299, Accuracy: 8192/10000 (81.92%)\n",
      "\n",
      "EPOCH: 25\n"
     ]
    },
    {
     "name": "stderr",
     "output_type": "stream",
     "text": [
      "Loss=0.6774817705154419 Batch_id=97 Accuracy=78.28: 100%|██████████| 98/98 [00:10<00:00,  9.67it/s]\n"
     ]
    },
    {
     "name": "stdout",
     "output_type": "stream",
     "text": [
      "\n",
      "Test set: Average loss: 0.5379, Accuracy: 8139/10000 (81.39%)\n",
      "\n",
      "EPOCH: 26\n"
     ]
    },
    {
     "name": "stderr",
     "output_type": "stream",
     "text": [
      "Loss=0.5355492234230042 Batch_id=97 Accuracy=78.71: 100%|██████████| 98/98 [00:09<00:00, 10.61it/s]\n"
     ]
    },
    {
     "name": "stdout",
     "output_type": "stream",
     "text": [
      "\n",
      "Test set: Average loss: 0.5133, Accuracy: 8241/10000 (82.41%)\n",
      "\n",
      "EPOCH: 27\n"
     ]
    },
    {
     "name": "stderr",
     "output_type": "stream",
     "text": [
      "Loss=0.744796097278595 Batch_id=97 Accuracy=78.84: 100%|██████████| 98/98 [00:09<00:00, 10.22it/s] \n"
     ]
    },
    {
     "name": "stdout",
     "output_type": "stream",
     "text": [
      "\n",
      "Test set: Average loss: 0.5244, Accuracy: 8200/10000 (82.00%)\n",
      "\n",
      "EPOCH: 28\n"
     ]
    },
    {
     "name": "stderr",
     "output_type": "stream",
     "text": [
      "Loss=0.634235680103302 Batch_id=97 Accuracy=79.01: 100%|██████████| 98/98 [00:09<00:00, 10.69it/s] \n"
     ]
    },
    {
     "name": "stdout",
     "output_type": "stream",
     "text": [
      "\n",
      "Test set: Average loss: 0.5221, Accuracy: 8224/10000 (82.24%)\n",
      "\n",
      "EPOCH: 29\n"
     ]
    },
    {
     "name": "stderr",
     "output_type": "stream",
     "text": [
      "Loss=0.6010843515396118 Batch_id=97 Accuracy=79.03: 100%|██████████| 98/98 [00:09<00:00, 10.67it/s]\n"
     ]
    },
    {
     "name": "stdout",
     "output_type": "stream",
     "text": [
      "\n",
      "Test set: Average loss: 0.5265, Accuracy: 8216/10000 (82.16%)\n",
      "\n",
      "EPOCH: 30\n"
     ]
    },
    {
     "name": "stderr",
     "output_type": "stream",
     "text": [
      "Loss=0.5163577198982239 Batch_id=97 Accuracy=79.50: 100%|██████████| 98/98 [00:09<00:00, 10.12it/s]\n"
     ]
    },
    {
     "name": "stdout",
     "output_type": "stream",
     "text": [
      "\n",
      "Test set: Average loss: 0.5124, Accuracy: 8258/10000 (82.58%)\n",
      "\n",
      "EPOCH: 31\n"
     ]
    },
    {
     "name": "stderr",
     "output_type": "stream",
     "text": [
      "Loss=0.5982948541641235 Batch_id=97 Accuracy=79.57: 100%|██████████| 98/98 [00:09<00:00, 10.32it/s] \n"
     ]
    },
    {
     "name": "stdout",
     "output_type": "stream",
     "text": [
      "\n",
      "Test set: Average loss: 0.5099, Accuracy: 8244/10000 (82.44%)\n",
      "\n",
      "EPOCH: 32\n"
     ]
    },
    {
     "name": "stderr",
     "output_type": "stream",
     "text": [
      "Loss=0.5486145615577698 Batch_id=97 Accuracy=79.81: 100%|██████████| 98/98 [00:09<00:00, 10.47it/s]\n"
     ]
    },
    {
     "name": "stdout",
     "output_type": "stream",
     "text": [
      "\n",
      "Test set: Average loss: 0.5218, Accuracy: 8223/10000 (82.23%)\n",
      "\n",
      "EPOCH: 33\n"
     ]
    },
    {
     "name": "stderr",
     "output_type": "stream",
     "text": [
      "Loss=0.6802576780319214 Batch_id=97 Accuracy=79.65: 100%|██████████| 98/98 [00:09<00:00, 10.74it/s] \n"
     ]
    },
    {
     "name": "stdout",
     "output_type": "stream",
     "text": [
      "\n",
      "Test set: Average loss: 0.5056, Accuracy: 8297/10000 (82.97%)\n",
      "\n",
      "EPOCH: 34\n"
     ]
    },
    {
     "name": "stderr",
     "output_type": "stream",
     "text": [
      "Loss=0.5986337065696716 Batch_id=97 Accuracy=79.79: 100%|██████████| 98/98 [00:09<00:00, 10.79it/s] \n"
     ]
    },
    {
     "name": "stdout",
     "output_type": "stream",
     "text": [
      "\n",
      "Test set: Average loss: 0.5052, Accuracy: 8280/10000 (82.80%)\n",
      "\n",
      "EPOCH: 35\n"
     ]
    },
    {
     "name": "stderr",
     "output_type": "stream",
     "text": [
      "Loss=0.5763882398605347 Batch_id=97 Accuracy=80.00: 100%|██████████| 98/98 [00:09<00:00, 10.13it/s] \n"
     ]
    },
    {
     "name": "stdout",
     "output_type": "stream",
     "text": [
      "\n",
      "Test set: Average loss: 0.5092, Accuracy: 8239/10000 (82.39%)\n",
      "\n",
      "EPOCH: 36\n"
     ]
    },
    {
     "name": "stderr",
     "output_type": "stream",
     "text": [
      "Loss=0.5874394178390503 Batch_id=97 Accuracy=80.78: 100%|██████████| 98/98 [00:09<00:00, 10.32it/s] \n"
     ]
    },
    {
     "name": "stdout",
     "output_type": "stream",
     "text": [
      "\n",
      "Test set: Average loss: 0.4846, Accuracy: 8384/10000 (83.84%)\n",
      "\n",
      "EPOCH: 37\n"
     ]
    },
    {
     "name": "stderr",
     "output_type": "stream",
     "text": [
      "Loss=0.6150006651878357 Batch_id=97 Accuracy=81.24: 100%|██████████| 98/98 [00:10<00:00,  8.93it/s] \n"
     ]
    },
    {
     "name": "stdout",
     "output_type": "stream",
     "text": [
      "\n",
      "Test set: Average loss: 0.4765, Accuracy: 8390/10000 (83.90%)\n",
      "\n",
      "EPOCH: 38\n"
     ]
    },
    {
     "name": "stderr",
     "output_type": "stream",
     "text": [
      "Loss=0.5912109613418579 Batch_id=97 Accuracy=81.49: 100%|██████████| 98/98 [00:10<00:00,  9.46it/s] \n"
     ]
    },
    {
     "name": "stdout",
     "output_type": "stream",
     "text": [
      "\n",
      "Test set: Average loss: 0.4837, Accuracy: 8350/10000 (83.50%)\n",
      "\n",
      "EPOCH: 39\n"
     ]
    },
    {
     "name": "stderr",
     "output_type": "stream",
     "text": [
      "Loss=0.5097471475601196 Batch_id=97 Accuracy=81.45: 100%|██████████| 98/98 [00:09<00:00, 10.25it/s] \n"
     ]
    },
    {
     "name": "stdout",
     "output_type": "stream",
     "text": [
      "\n",
      "Test set: Average loss: 0.4829, Accuracy: 8372/10000 (83.72%)\n",
      "\n",
      "EPOCH: 40\n"
     ]
    },
    {
     "name": "stderr",
     "output_type": "stream",
     "text": [
      "Loss=0.5528955459594727 Batch_id=97 Accuracy=81.45: 100%|██████████| 98/98 [00:10<00:00,  9.78it/s] \n"
     ]
    },
    {
     "name": "stdout",
     "output_type": "stream",
     "text": [
      "\n",
      "Test set: Average loss: 0.4754, Accuracy: 8408/10000 (84.08%)\n",
      "\n",
      "EPOCH: 41\n"
     ]
    },
    {
     "name": "stderr",
     "output_type": "stream",
     "text": [
      "Loss=0.5550627112388611 Batch_id=97 Accuracy=81.64: 100%|██████████| 98/98 [00:09<00:00, 10.33it/s] \n"
     ]
    },
    {
     "name": "stdout",
     "output_type": "stream",
     "text": [
      "\n",
      "Test set: Average loss: 0.4633, Accuracy: 8429/10000 (84.29%)\n",
      "\n",
      "EPOCH: 42\n"
     ]
    },
    {
     "name": "stderr",
     "output_type": "stream",
     "text": [
      "Loss=0.5020584464073181 Batch_id=97 Accuracy=81.84: 100%|██████████| 98/98 [00:09<00:00, 10.02it/s] \n"
     ]
    },
    {
     "name": "stdout",
     "output_type": "stream",
     "text": [
      "\n",
      "Test set: Average loss: 0.4716, Accuracy: 8388/10000 (83.88%)\n",
      "\n",
      "EPOCH: 43\n"
     ]
    },
    {
     "name": "stderr",
     "output_type": "stream",
     "text": [
      "Loss=0.5867496728897095 Batch_id=97 Accuracy=81.81: 100%|██████████| 98/98 [00:08<00:00, 10.92it/s] \n"
     ]
    },
    {
     "name": "stdout",
     "output_type": "stream",
     "text": [
      "\n",
      "Test set: Average loss: 0.4754, Accuracy: 8369/10000 (83.69%)\n",
      "\n",
      "EPOCH: 44\n"
     ]
    },
    {
     "name": "stderr",
     "output_type": "stream",
     "text": [
      "Loss=0.5210755467414856 Batch_id=97 Accuracy=81.75: 100%|██████████| 98/98 [00:09<00:00, 10.10it/s] \n"
     ]
    },
    {
     "name": "stdout",
     "output_type": "stream",
     "text": [
      "\n",
      "Test set: Average loss: 0.4684, Accuracy: 8445/10000 (84.45%)\n",
      "\n",
      "EPOCH: 45\n"
     ]
    },
    {
     "name": "stderr",
     "output_type": "stream",
     "text": [
      "Loss=0.48646754026412964 Batch_id=97 Accuracy=82.01: 100%|██████████| 98/98 [00:09<00:00, 10.24it/s]\n"
     ]
    },
    {
     "name": "stdout",
     "output_type": "stream",
     "text": [
      "\n",
      "Test set: Average loss: 0.4719, Accuracy: 8424/10000 (84.24%)\n",
      "\n",
      "EPOCH: 46\n"
     ]
    },
    {
     "name": "stderr",
     "output_type": "stream",
     "text": [
      "Loss=0.5689880847930908 Batch_id=97 Accuracy=81.69: 100%|██████████| 98/98 [00:10<00:00,  9.10it/s] \n"
     ]
    },
    {
     "name": "stdout",
     "output_type": "stream",
     "text": [
      "\n",
      "Test set: Average loss: 0.4712, Accuracy: 8433/10000 (84.33%)\n",
      "\n",
      "EPOCH: 47\n"
     ]
    },
    {
     "name": "stderr",
     "output_type": "stream",
     "text": [
      "Loss=0.5651869177818298 Batch_id=97 Accuracy=82.10: 100%|██████████| 98/98 [00:09<00:00, 10.11it/s] \n"
     ]
    },
    {
     "name": "stdout",
     "output_type": "stream",
     "text": [
      "\n",
      "Test set: Average loss: 0.4681, Accuracy: 8427/10000 (84.27%)\n",
      "\n",
      "EPOCH: 48\n"
     ]
    },
    {
     "name": "stderr",
     "output_type": "stream",
     "text": [
      "Loss=0.5074760913848877 Batch_id=97 Accuracy=82.55: 100%|██████████| 98/98 [00:09<00:00, 10.88it/s] \n"
     ]
    },
    {
     "name": "stdout",
     "output_type": "stream",
     "text": [
      "\n",
      "Test set: Average loss: 0.4605, Accuracy: 8468/10000 (84.68%)\n",
      "\n",
      "EPOCH: 49\n"
     ]
    },
    {
     "name": "stderr",
     "output_type": "stream",
     "text": [
      "Loss=0.5083565711975098 Batch_id=97 Accuracy=82.66: 100%|██████████| 98/98 [00:09<00:00, 10.33it/s] \n"
     ]
    },
    {
     "name": "stdout",
     "output_type": "stream",
     "text": [
      "\n",
      "Test set: Average loss: 0.4608, Accuracy: 8467/10000 (84.67%)\n",
      "\n",
      "EPOCH: 50\n"
     ]
    },
    {
     "name": "stderr",
     "output_type": "stream",
     "text": [
      "Loss=0.4878646433353424 Batch_id=97 Accuracy=82.81: 100%|██████████| 98/98 [00:09<00:00, 10.64it/s] \n"
     ]
    },
    {
     "name": "stdout",
     "output_type": "stream",
     "text": [
      "\n",
      "Test set: Average loss: 0.4614, Accuracy: 8447/10000 (84.47%)\n",
      "\n",
      "EPOCH: 51\n"
     ]
    },
    {
     "name": "stderr",
     "output_type": "stream",
     "text": [
      "Loss=0.4277345538139343 Batch_id=97 Accuracy=82.78: 100%|██████████| 98/98 [00:09<00:00, 10.81it/s] \n"
     ]
    },
    {
     "name": "stdout",
     "output_type": "stream",
     "text": [
      "\n",
      "Test set: Average loss: 0.4631, Accuracy: 8448/10000 (84.48%)\n",
      "\n",
      "EPOCH: 52\n"
     ]
    },
    {
     "name": "stderr",
     "output_type": "stream",
     "text": [
      "Loss=0.4388042688369751 Batch_id=97 Accuracy=82.82: 100%|██████████| 98/98 [00:09<00:00,  9.95it/s] \n"
     ]
    },
    {
     "name": "stdout",
     "output_type": "stream",
     "text": [
      "\n",
      "Test set: Average loss: 0.4596, Accuracy: 8484/10000 (84.84%)\n",
      "\n",
      "EPOCH: 53\n"
     ]
    },
    {
     "name": "stderr",
     "output_type": "stream",
     "text": [
      "Loss=0.420668363571167 Batch_id=97 Accuracy=82.97: 100%|██████████| 98/98 [00:09<00:00, 10.01it/s]  \n"
     ]
    },
    {
     "name": "stdout",
     "output_type": "stream",
     "text": [
      "\n",
      "Test set: Average loss: 0.4573, Accuracy: 8491/10000 (84.91%)\n",
      "\n",
      "EPOCH: 54\n"
     ]
    },
    {
     "name": "stderr",
     "output_type": "stream",
     "text": [
      "Loss=0.5466394424438477 Batch_id=97 Accuracy=83.15: 100%|██████████| 98/98 [00:09<00:00, 10.03it/s] \n"
     ]
    },
    {
     "name": "stdout",
     "output_type": "stream",
     "text": [
      "\n",
      "Test set: Average loss: 0.4645, Accuracy: 8474/10000 (84.74%)\n",
      "\n",
      "EPOCH: 55\n"
     ]
    },
    {
     "name": "stderr",
     "output_type": "stream",
     "text": [
      "Loss=0.6404739022254944 Batch_id=97 Accuracy=83.18: 100%|██████████| 98/98 [00:09<00:00,  9.86it/s] \n"
     ]
    },
    {
     "name": "stdout",
     "output_type": "stream",
     "text": [
      "\n",
      "Test set: Average loss: 0.4563, Accuracy: 8493/10000 (84.93%)\n",
      "\n",
      "EPOCH: 56\n"
     ]
    },
    {
     "name": "stderr",
     "output_type": "stream",
     "text": [
      "Loss=0.42930740118026733 Batch_id=97 Accuracy=83.17: 100%|██████████| 98/98 [00:09<00:00, 10.52it/s]\n"
     ]
    },
    {
     "name": "stdout",
     "output_type": "stream",
     "text": [
      "\n",
      "Test set: Average loss: 0.4561, Accuracy: 8488/10000 (84.88%)\n",
      "\n",
      "EPOCH: 57\n"
     ]
    },
    {
     "name": "stderr",
     "output_type": "stream",
     "text": [
      "Loss=0.46687132120132446 Batch_id=97 Accuracy=82.87: 100%|██████████| 98/98 [00:08<00:00, 10.89it/s]\n"
     ]
    },
    {
     "name": "stdout",
     "output_type": "stream",
     "text": [
      "\n",
      "Test set: Average loss: 0.4553, Accuracy: 8504/10000 (85.04%)\n",
      "\n",
      "EPOCH: 58\n"
     ]
    },
    {
     "name": "stderr",
     "output_type": "stream",
     "text": [
      "Loss=0.4606676697731018 Batch_id=97 Accuracy=82.99: 100%|██████████| 98/98 [00:08<00:00, 10.94it/s] \n"
     ]
    },
    {
     "name": "stdout",
     "output_type": "stream",
     "text": [
      "\n",
      "Test set: Average loss: 0.4541, Accuracy: 8468/10000 (84.68%)\n",
      "\n",
      "EPOCH: 59\n"
     ]
    },
    {
     "name": "stderr",
     "output_type": "stream",
     "text": [
      "Loss=0.4039364457130432 Batch_id=97 Accuracy=83.20: 100%|██████████| 98/98 [00:08<00:00, 11.27it/s] \n"
     ]
    },
    {
     "name": "stdout",
     "output_type": "stream",
     "text": [
      "\n",
      "Test set: Average loss: 0.4573, Accuracy: 8477/10000 (84.77%)\n",
      "\n",
      "EPOCH: 60\n"
     ]
    },
    {
     "name": "stderr",
     "output_type": "stream",
     "text": [
      "Loss=0.5018944144248962 Batch_id=97 Accuracy=83.54: 100%|██████████| 98/98 [00:09<00:00, 10.34it/s] \n"
     ]
    },
    {
     "name": "stdout",
     "output_type": "stream",
     "text": [
      "\n",
      "Test set: Average loss: 0.4514, Accuracy: 8505/10000 (85.05%)\n",
      "\n",
      "EPOCH: 61\n"
     ]
    },
    {
     "name": "stderr",
     "output_type": "stream",
     "text": [
      "Loss=0.45628002285957336 Batch_id=97 Accuracy=83.74: 100%|██████████| 98/98 [00:09<00:00, 10.16it/s]\n"
     ]
    },
    {
     "name": "stdout",
     "output_type": "stream",
     "text": [
      "\n",
      "Test set: Average loss: 0.4453, Accuracy: 8522/10000 (85.22%)\n",
      "\n",
      "EPOCH: 62\n"
     ]
    },
    {
     "name": "stderr",
     "output_type": "stream",
     "text": [
      "Loss=0.4811646044254303 Batch_id=97 Accuracy=83.66: 100%|██████████| 98/98 [00:09<00:00, 10.44it/s] \n"
     ]
    },
    {
     "name": "stdout",
     "output_type": "stream",
     "text": [
      "\n",
      "Test set: Average loss: 0.4499, Accuracy: 8510/10000 (85.10%)\n",
      "\n",
      "EPOCH: 63\n"
     ]
    },
    {
     "name": "stderr",
     "output_type": "stream",
     "text": [
      "Loss=0.49570491909980774 Batch_id=97 Accuracy=83.66: 100%|██████████| 98/98 [00:08<00:00, 11.13it/s]\n"
     ]
    },
    {
     "name": "stdout",
     "output_type": "stream",
     "text": [
      "\n",
      "Test set: Average loss: 0.4495, Accuracy: 8511/10000 (85.11%)\n",
      "\n",
      "EPOCH: 64\n"
     ]
    },
    {
     "name": "stderr",
     "output_type": "stream",
     "text": [
      "Loss=0.4517264664173126 Batch_id=97 Accuracy=83.92: 100%|██████████| 98/98 [00:08<00:00, 10.91it/s] \n"
     ]
    },
    {
     "name": "stdout",
     "output_type": "stream",
     "text": [
      "\n",
      "Test set: Average loss: 0.4498, Accuracy: 8509/10000 (85.09%)\n",
      "\n",
      "EPOCH: 65\n"
     ]
    },
    {
     "name": "stderr",
     "output_type": "stream",
     "text": [
      "Loss=0.5260480046272278 Batch_id=97 Accuracy=83.74: 100%|██████████| 98/98 [00:08<00:00, 11.31it/s] \n"
     ]
    },
    {
     "name": "stdout",
     "output_type": "stream",
     "text": [
      "\n",
      "Test set: Average loss: 0.4464, Accuracy: 8505/10000 (85.05%)\n",
      "\n",
      "EPOCH: 66\n"
     ]
    },
    {
     "name": "stderr",
     "output_type": "stream",
     "text": [
      "Loss=0.4314737915992737 Batch_id=97 Accuracy=83.82: 100%|██████████| 98/98 [00:09<00:00, 10.86it/s] \n"
     ]
    },
    {
     "name": "stdout",
     "output_type": "stream",
     "text": [
      "\n",
      "Test set: Average loss: 0.4515, Accuracy: 8503/10000 (85.03%)\n",
      "\n",
      "EPOCH: 67\n"
     ]
    },
    {
     "name": "stderr",
     "output_type": "stream",
     "text": [
      "Loss=0.3567747175693512 Batch_id=97 Accuracy=84.06: 100%|██████████| 98/98 [00:08<00:00, 11.27it/s] \n"
     ]
    },
    {
     "name": "stdout",
     "output_type": "stream",
     "text": [
      "\n",
      "Test set: Average loss: 0.4486, Accuracy: 8503/10000 (85.03%)\n",
      "\n",
      "EPOCH: 68\n"
     ]
    },
    {
     "name": "stderr",
     "output_type": "stream",
     "text": [
      "Loss=0.403886079788208 Batch_id=97 Accuracy=83.90: 100%|██████████| 98/98 [00:09<00:00, 10.14it/s]  \n"
     ]
    },
    {
     "name": "stdout",
     "output_type": "stream",
     "text": [
      "\n",
      "Test set: Average loss: 0.4490, Accuracy: 8528/10000 (85.28%)\n",
      "\n",
      "EPOCH: 69\n"
     ]
    },
    {
     "name": "stderr",
     "output_type": "stream",
     "text": [
      "Loss=0.46427249908447266 Batch_id=97 Accuracy=83.95: 100%|██████████| 98/98 [00:10<00:00,  9.54it/s]\n"
     ]
    },
    {
     "name": "stdout",
     "output_type": "stream",
     "text": [
      "\n",
      "Test set: Average loss: 0.4448, Accuracy: 8545/10000 (85.45%)\n",
      "\n",
      "EPOCH: 70\n"
     ]
    },
    {
     "name": "stderr",
     "output_type": "stream",
     "text": [
      "Loss=0.554193377494812 Batch_id=97 Accuracy=83.87: 100%|██████████| 98/98 [00:10<00:00,  9.62it/s]  \n"
     ]
    },
    {
     "name": "stdout",
     "output_type": "stream",
     "text": [
      "\n",
      "Test set: Average loss: 0.4471, Accuracy: 8529/10000 (85.29%)\n",
      "\n",
      "EPOCH: 71\n"
     ]
    },
    {
     "name": "stderr",
     "output_type": "stream",
     "text": [
      "Loss=0.38617265224456787 Batch_id=97 Accuracy=84.01: 100%|██████████| 98/98 [00:09<00:00, 10.15it/s]\n"
     ]
    },
    {
     "name": "stdout",
     "output_type": "stream",
     "text": [
      "\n",
      "Test set: Average loss: 0.4438, Accuracy: 8532/10000 (85.32%)\n",
      "\n",
      "EPOCH: 72\n"
     ]
    },
    {
     "name": "stderr",
     "output_type": "stream",
     "text": [
      "Loss=0.46157488226890564 Batch_id=97 Accuracy=84.37: 100%|██████████| 98/98 [00:09<00:00, 10.01it/s]\n"
     ]
    },
    {
     "name": "stdout",
     "output_type": "stream",
     "text": [
      "\n",
      "Test set: Average loss: 0.4382, Accuracy: 8542/10000 (85.42%)\n",
      "\n",
      "EPOCH: 73\n"
     ]
    },
    {
     "name": "stderr",
     "output_type": "stream",
     "text": [
      "Loss=0.46372154355049133 Batch_id=97 Accuracy=84.40: 100%|██████████| 98/98 [00:09<00:00, 10.41it/s]\n"
     ]
    },
    {
     "name": "stdout",
     "output_type": "stream",
     "text": [
      "\n",
      "Test set: Average loss: 0.4432, Accuracy: 8525/10000 (85.25%)\n",
      "\n",
      "EPOCH: 74\n"
     ]
    },
    {
     "name": "stderr",
     "output_type": "stream",
     "text": [
      "Loss=0.40087881684303284 Batch_id=97 Accuracy=84.24: 100%|██████████| 98/98 [00:09<00:00, 10.31it/s]\n"
     ]
    },
    {
     "name": "stdout",
     "output_type": "stream",
     "text": [
      "\n",
      "Test set: Average loss: 0.4406, Accuracy: 8518/10000 (85.18%)\n",
      "\n",
      "EPOCH: 75\n"
     ]
    },
    {
     "name": "stderr",
     "output_type": "stream",
     "text": [
      "Loss=0.5287986993789673 Batch_id=97 Accuracy=84.36: 100%|██████████| 98/98 [00:09<00:00,  9.86it/s] \n"
     ]
    },
    {
     "name": "stdout",
     "output_type": "stream",
     "text": [
      "\n",
      "Test set: Average loss: 0.4383, Accuracy: 8536/10000 (85.36%)\n",
      "\n",
      "EPOCH: 76\n"
     ]
    },
    {
     "name": "stderr",
     "output_type": "stream",
     "text": [
      "Loss=0.42983976006507874 Batch_id=97 Accuracy=84.24: 100%|██████████| 98/98 [00:09<00:00, 10.42it/s]\n"
     ]
    },
    {
     "name": "stdout",
     "output_type": "stream",
     "text": [
      "\n",
      "Test set: Average loss: 0.4397, Accuracy: 8549/10000 (85.49%)\n",
      "\n",
      "EPOCH: 77\n"
     ]
    },
    {
     "name": "stderr",
     "output_type": "stream",
     "text": [
      "Loss=0.3630085587501526 Batch_id=97 Accuracy=84.39: 100%|██████████| 98/98 [00:09<00:00, 10.20it/s] \n"
     ]
    },
    {
     "name": "stdout",
     "output_type": "stream",
     "text": [
      "\n",
      "Test set: Average loss: 0.4416, Accuracy: 8529/10000 (85.29%)\n",
      "\n",
      "EPOCH: 78\n"
     ]
    },
    {
     "name": "stderr",
     "output_type": "stream",
     "text": [
      "Loss=0.4493560791015625 Batch_id=97 Accuracy=84.53: 100%|██████████| 98/98 [00:09<00:00, 10.53it/s] \n"
     ]
    },
    {
     "name": "stdout",
     "output_type": "stream",
     "text": [
      "\n",
      "Test set: Average loss: 0.4363, Accuracy: 8563/10000 (85.63%)\n",
      "\n",
      "EPOCH: 79\n"
     ]
    },
    {
     "name": "stderr",
     "output_type": "stream",
     "text": [
      "Loss=0.4742986559867859 Batch_id=97 Accuracy=84.35: 100%|██████████| 98/98 [00:09<00:00, 10.72it/s] \n"
     ]
    },
    {
     "name": "stdout",
     "output_type": "stream",
     "text": [
      "\n",
      "Test set: Average loss: 0.4386, Accuracy: 8525/10000 (85.25%)\n",
      "\n",
      "EPOCH: 80\n"
     ]
    },
    {
     "name": "stderr",
     "output_type": "stream",
     "text": [
      "Loss=0.4445876181125641 Batch_id=97 Accuracy=84.46: 100%|██████████| 98/98 [00:09<00:00, 10.53it/s] \n"
     ]
    },
    {
     "name": "stdout",
     "output_type": "stream",
     "text": [
      "\n",
      "Test set: Average loss: 0.4412, Accuracy: 8545/10000 (85.45%)\n",
      "\n",
      "EPOCH: 81\n"
     ]
    },
    {
     "name": "stderr",
     "output_type": "stream",
     "text": [
      "Loss=0.3827446401119232 Batch_id=97 Accuracy=84.39: 100%|██████████| 98/98 [00:08<00:00, 11.02it/s] \n"
     ]
    },
    {
     "name": "stdout",
     "output_type": "stream",
     "text": [
      "\n",
      "Test set: Average loss: 0.4395, Accuracy: 8532/10000 (85.32%)\n",
      "\n",
      "EPOCH: 82\n"
     ]
    },
    {
     "name": "stderr",
     "output_type": "stream",
     "text": [
      "Loss=0.44028759002685547 Batch_id=97 Accuracy=84.52: 100%|██████████| 98/98 [00:09<00:00, 10.86it/s]\n"
     ]
    },
    {
     "name": "stdout",
     "output_type": "stream",
     "text": [
      "\n",
      "Test set: Average loss: 0.4400, Accuracy: 8544/10000 (85.44%)\n",
      "\n",
      "EPOCH: 83\n"
     ]
    },
    {
     "name": "stderr",
     "output_type": "stream",
     "text": [
      "Loss=0.46527448296546936 Batch_id=97 Accuracy=84.63: 100%|██████████| 98/98 [00:09<00:00, 10.31it/s]\n"
     ]
    },
    {
     "name": "stdout",
     "output_type": "stream",
     "text": [
      "\n",
      "Test set: Average loss: 0.4428, Accuracy: 8528/10000 (85.28%)\n",
      "\n",
      "EPOCH: 84\n"
     ]
    },
    {
     "name": "stderr",
     "output_type": "stream",
     "text": [
      "Loss=0.458291232585907 Batch_id=97 Accuracy=84.66: 100%|██████████| 98/98 [00:09<00:00, 10.30it/s]  \n"
     ]
    },
    {
     "name": "stdout",
     "output_type": "stream",
     "text": [
      "\n",
      "Test set: Average loss: 0.4396, Accuracy: 8559/10000 (85.59%)\n",
      "\n",
      "EPOCH: 85\n"
     ]
    },
    {
     "name": "stderr",
     "output_type": "stream",
     "text": [
      "Loss=0.47905662655830383 Batch_id=97 Accuracy=84.77: 100%|██████████| 98/98 [00:09<00:00, 10.46it/s]\n"
     ]
    },
    {
     "name": "stdout",
     "output_type": "stream",
     "text": [
      "\n",
      "Test set: Average loss: 0.4386, Accuracy: 8555/10000 (85.55%)\n",
      "\n",
      "EPOCH: 86\n"
     ]
    },
    {
     "name": "stderr",
     "output_type": "stream",
     "text": [
      "Loss=0.4328750967979431 Batch_id=97 Accuracy=84.67: 100%|██████████| 98/98 [00:09<00:00, 10.18it/s] \n"
     ]
    },
    {
     "name": "stdout",
     "output_type": "stream",
     "text": [
      "\n",
      "Test set: Average loss: 0.4375, Accuracy: 8560/10000 (85.60%)\n",
      "\n",
      "EPOCH: 87\n"
     ]
    },
    {
     "name": "stderr",
     "output_type": "stream",
     "text": [
      "Loss=0.49739646911621094 Batch_id=97 Accuracy=84.88: 100%|██████████| 98/98 [00:09<00:00, 10.46it/s]\n"
     ]
    },
    {
     "name": "stdout",
     "output_type": "stream",
     "text": [
      "\n",
      "Test set: Average loss: 0.4392, Accuracy: 8564/10000 (85.64%)\n",
      "\n",
      "EPOCH: 88\n"
     ]
    },
    {
     "name": "stderr",
     "output_type": "stream",
     "text": [
      "Loss=0.45829322934150696 Batch_id=97 Accuracy=84.75: 100%|██████████| 98/98 [00:09<00:00, 10.42it/s]\n"
     ]
    },
    {
     "name": "stdout",
     "output_type": "stream",
     "text": [
      "\n",
      "Test set: Average loss: 0.4382, Accuracy: 8542/10000 (85.42%)\n",
      "\n",
      "EPOCH: 89\n"
     ]
    },
    {
     "name": "stderr",
     "output_type": "stream",
     "text": [
      "Loss=0.37618088722229004 Batch_id=97 Accuracy=84.95: 100%|██████████| 98/98 [00:09<00:00, 10.06it/s]\n"
     ]
    },
    {
     "name": "stdout",
     "output_type": "stream",
     "text": [
      "\n",
      "Test set: Average loss: 0.4380, Accuracy: 8547/10000 (85.47%)\n",
      "\n",
      "EPOCH: 90\n"
     ]
    },
    {
     "name": "stderr",
     "output_type": "stream",
     "text": [
      "Loss=0.43700167536735535 Batch_id=97 Accuracy=84.75: 100%|██████████| 98/98 [00:09<00:00, 10.78it/s]\n"
     ]
    },
    {
     "name": "stdout",
     "output_type": "stream",
     "text": [
      "\n",
      "Test set: Average loss: 0.4387, Accuracy: 8567/10000 (85.67%)\n",
      "\n",
      "EPOCH: 91\n"
     ]
    },
    {
     "name": "stderr",
     "output_type": "stream",
     "text": [
      "Loss=0.39468619227409363 Batch_id=97 Accuracy=84.57: 100%|██████████| 98/98 [00:08<00:00, 11.19it/s]\n"
     ]
    },
    {
     "name": "stdout",
     "output_type": "stream",
     "text": [
      "\n",
      "Test set: Average loss: 0.4391, Accuracy: 8557/10000 (85.57%)\n",
      "\n",
      "EPOCH: 92\n"
     ]
    },
    {
     "name": "stderr",
     "output_type": "stream",
     "text": [
      "Loss=0.46580731868743896 Batch_id=97 Accuracy=84.92: 100%|██████████| 98/98 [00:09<00:00, 10.74it/s]\n"
     ]
    },
    {
     "name": "stdout",
     "output_type": "stream",
     "text": [
      "\n",
      "Test set: Average loss: 0.4356, Accuracy: 8566/10000 (85.66%)\n",
      "\n",
      "EPOCH: 93\n"
     ]
    },
    {
     "name": "stderr",
     "output_type": "stream",
     "text": [
      "Loss=0.39455196261405945 Batch_id=97 Accuracy=84.70: 100%|██████████| 98/98 [00:08<00:00, 10.97it/s]\n"
     ]
    },
    {
     "name": "stdout",
     "output_type": "stream",
     "text": [
      "\n",
      "Test set: Average loss: 0.4376, Accuracy: 8572/10000 (85.72%)\n",
      "\n",
      "EPOCH: 94\n"
     ]
    },
    {
     "name": "stderr",
     "output_type": "stream",
     "text": [
      "Loss=0.4220563471317291 Batch_id=97 Accuracy=84.69: 100%|██████████| 98/98 [00:08<00:00, 10.95it/s] \n"
     ]
    },
    {
     "name": "stdout",
     "output_type": "stream",
     "text": [
      "\n",
      "Test set: Average loss: 0.4360, Accuracy: 8565/10000 (85.65%)\n",
      "\n",
      "EPOCH: 95\n"
     ]
    },
    {
     "name": "stderr",
     "output_type": "stream",
     "text": [
      "Loss=0.4153764843940735 Batch_id=97 Accuracy=84.90: 100%|██████████| 98/98 [00:09<00:00, 10.85it/s] \n"
     ]
    },
    {
     "name": "stdout",
     "output_type": "stream",
     "text": [
      "\n",
      "Test set: Average loss: 0.4381, Accuracy: 8553/10000 (85.53%)\n",
      "\n",
      "EPOCH: 96\n"
     ]
    },
    {
     "name": "stderr",
     "output_type": "stream",
     "text": [
      "Loss=0.39644208550453186 Batch_id=97 Accuracy=84.76: 100%|██████████| 98/98 [00:08<00:00, 11.26it/s]\n"
     ]
    },
    {
     "name": "stdout",
     "output_type": "stream",
     "text": [
      "\n",
      "Test set: Average loss: 0.4370, Accuracy: 8564/10000 (85.64%)\n",
      "\n",
      "EPOCH: 97\n"
     ]
    },
    {
     "name": "stderr",
     "output_type": "stream",
     "text": [
      "Loss=0.39196428656578064 Batch_id=97 Accuracy=85.14: 100%|██████████| 98/98 [00:09<00:00, 10.69it/s]\n"
     ]
    },
    {
     "name": "stdout",
     "output_type": "stream",
     "text": [
      "\n",
      "Test set: Average loss: 0.4374, Accuracy: 8561/10000 (85.61%)\n",
      "\n",
      "EPOCH: 98\n"
     ]
    },
    {
     "name": "stderr",
     "output_type": "stream",
     "text": [
      "Loss=0.41966643929481506 Batch_id=97 Accuracy=85.01: 100%|██████████| 98/98 [00:09<00:00,  9.86it/s]\n"
     ]
    },
    {
     "name": "stdout",
     "output_type": "stream",
     "text": [
      "\n",
      "Test set: Average loss: 0.4357, Accuracy: 8575/10000 (85.75%)\n",
      "\n",
      "EPOCH: 99\n"
     ]
    },
    {
     "name": "stderr",
     "output_type": "stream",
     "text": [
      "Loss=0.37477508187294006 Batch_id=97 Accuracy=85.06: 100%|██████████| 98/98 [00:09<00:00, 10.67it/s]\n"
     ]
    },
    {
     "name": "stdout",
     "output_type": "stream",
     "text": [
      "\n",
      "Test set: Average loss: 0.4363, Accuracy: 8563/10000 (85.63%)\n",
      "\n"
     ]
    }
   ],
   "source": [
    "optimizer = optim.SGD(model.parameters(), lr=0.1, momentum=0.9)\n",
    "scheduler = StepLR(optimizer, step_size=12, gamma=0.6)\n",
    "\n",
    "logs = []\n",
    "EPOCHS = 100\n",
    "for epoch in range(EPOCHS):\n",
    "    print(\"EPOCH:\", epoch)\n",
    "    train_batch_loss, train_batch_acc = train_model(\n",
    "        model, device, train_dataloader, optimizer, epoch\n",
    "    )\n",
    "    test_loss, test_acc = test_model(model, device, test_dataloader)\n",
    "    scheduler.step()\n",
    "    \n",
    "    temp_log = {\n",
    "        'train_losses': np.mean(train_batch_loss),\n",
    "        'test_losses': test_loss,\n",
    "        'train_acc': np.mean(train_batch_acc),\n",
    "        'test_acc': test_acc,\n",
    "        \"lr\": optimizer.param_groups[0]['lr'],\n",
    "    }\n",
    "    logs.append(temp_log)\n",
    "    \n",
    "    if use_wandb:\n",
    "        wandb.log(temp_log)"
   ]
  },
  {
   "cell_type": "code",
   "execution_count": 17,
   "id": "7dfd1f18",
   "metadata": {
    "ExecuteTime": {
     "end_time": "2021-11-15T18:24:09.937405Z",
     "start_time": "2021-11-15T18:24:03.515655Z"
    }
   },
   "outputs": [
    {
     "data": {
      "text/html": [
       "<br/>Waiting for W&B process to finish, PID 15964<br/>Program ended successfully."
      ],
      "text/plain": [
       "<IPython.core.display.HTML object>"
      ]
     },
     "metadata": {},
     "output_type": "display_data"
    },
    {
     "data": {
      "application/vnd.jupyter.widget-view+json": {
       "model_id": "",
       "version_major": 2,
       "version_minor": 0
      },
      "text/plain": [
       "VBox(children=(Label(value=' 0.04MB of 0.04MB uploaded (0.00MB deduped)\\r'), FloatProgress(value=1.0, max=1.0)…"
      ]
     },
     "metadata": {},
     "output_type": "display_data"
    },
    {
     "data": {
      "text/html": [
       "Find user logs for this run at: <code>/data/omnibox1/muhsin/OOB_experiments/Eva7_Weights_Heist/S7/wandb/run-20211116_015945-3r5jy95d/logs/debug.log</code>"
      ],
      "text/plain": [
       "<IPython.core.display.HTML object>"
      ]
     },
     "metadata": {},
     "output_type": "display_data"
    },
    {
     "data": {
      "text/html": [
       "Find internal logs for this run at: <code>/data/omnibox1/muhsin/OOB_experiments/Eva7_Weights_Heist/S7/wandb/run-20211116_015945-3r5jy95d/logs/debug-internal.log</code>"
      ],
      "text/plain": [
       "<IPython.core.display.HTML object>"
      ]
     },
     "metadata": {},
     "output_type": "display_data"
    },
    {
     "data": {
      "text/html": [
       "<h3>Run summary:</h3><br/><style>\n",
       "    table.wandb td:nth-child(1) { padding: 0 10px; text-align: right }\n",
       "    </style><table class=\"wandb\">\n",
       "<tr><td>train_losses</td><td>0.43141</td></tr><tr><td>test_losses</td><td>0.4363</td></tr><tr><td>train_acc</td><td>85.2107</td></tr><tr><td>test_acc</td><td>85.63</td></tr><tr><td>lr</td><td>0.00168</td></tr><tr><td>_step</td><td>99</td></tr><tr><td>_runtime</td><td>1095</td></tr><tr><td>_timestamp</td><td>1637000280</td></tr></table>"
      ],
      "text/plain": [
       "<IPython.core.display.HTML object>"
      ]
     },
     "metadata": {},
     "output_type": "display_data"
    },
    {
     "data": {
      "text/html": [
       "<h3>Run history:</h3><br/><style>\n",
       "    table.wandb td:nth-child(1) { padding: 0 10px; text-align: right }\n",
       "    </style><table class=\"wandb\">\n",
       "<tr><td>train_losses</td><td>█▆▄▄▃▃▃▂▂▂▂▂▂▂▂▂▂▂▁▁▁▁▁▁▁▁▁▁▁▁▁▁▁▁▁▁▁▁▁▁</td></tr><tr><td>test_losses</td><td>█▆▄▄▃▂▂▂▂▂▂▂▁▁▁▁▁▁▁▁▁▁▁▁▁▁▁▁▁▁▁▁▁▁▁▁▁▁▁▁</td></tr><tr><td>train_acc</td><td>▁▄▅▆▆▆▇▇▇▇▇▇▇▇▇█████████████████████████</td></tr><tr><td>test_acc</td><td>▁▃▅▅▆▇▇▇▇▇▇▇██▇█████████████████████████</td></tr><tr><td>lr</td><td>█████▅▅▅▅▅▃▃▃▃▂▂▂▂▂▂▂▂▂▂▁▁▁▁▁▁▁▁▁▁▁▁▁▁▁▁</td></tr><tr><td>_step</td><td>▁▁▁▁▂▂▂▂▂▃▃▃▃▃▃▄▄▄▄▄▅▅▅▅▅▅▆▆▆▆▆▇▇▇▇▇▇███</td></tr><tr><td>_runtime</td><td>▁▁▁▂▂▂▂▂▂▃▃▃▃▃▃▄▄▄▄▄▅▅▅▅▅▅▆▆▆▆▆▇▇▇▇▇▇███</td></tr><tr><td>_timestamp</td><td>▁▁▁▂▂▂▂▂▂▃▃▃▃▃▃▄▄▄▄▄▅▅▅▅▅▅▆▆▆▆▆▇▇▇▇▇▇███</td></tr></table><br/>"
      ],
      "text/plain": [
       "<IPython.core.display.HTML object>"
      ]
     },
     "metadata": {},
     "output_type": "display_data"
    },
    {
     "data": {
      "text/html": [
       "Synced 6 W&B file(s), 0 media file(s), 0 artifact file(s) and 1 other file(s)"
      ],
      "text/plain": [
       "<IPython.core.display.HTML object>"
      ]
     },
     "metadata": {},
     "output_type": "display_data"
    },
    {
     "data": {
      "text/html": [
       "\n",
       "                    <br/>Synced <strong style=\"color:#cdcd00\">version 8 no dropout</strong>: <a href=\"https://wandb.ai/weights_heist_eva7/s7_cifar10/runs/3r5jy95d\" target=\"_blank\">https://wandb.ai/weights_heist_eva7/s7_cifar10/runs/3r5jy95d</a><br/>\n",
       "                "
      ],
      "text/plain": [
       "<IPython.core.display.HTML object>"
      ]
     },
     "metadata": {},
     "output_type": "display_data"
    }
   ],
   "source": [
    "if use_wandb:\n",
    "    wandb.finish()"
   ]
  },
  {
   "cell_type": "code",
   "execution_count": null,
   "id": "942b4749",
   "metadata": {},
   "outputs": [],
   "source": []
  },
  {
   "cell_type": "code",
   "execution_count": null,
   "id": "f497e2c4",
   "metadata": {},
   "outputs": [],
   "source": []
  },
  {
   "cell_type": "code",
   "execution_count": null,
   "id": "cfe2c41f",
   "metadata": {},
   "outputs": [],
   "source": []
  },
  {
   "cell_type": "code",
   "execution_count": null,
   "id": "12bbc738",
   "metadata": {},
   "outputs": [],
   "source": []
  },
  {
   "cell_type": "code",
   "execution_count": null,
   "id": "cf1426e5",
   "metadata": {},
   "outputs": [],
   "source": []
  },
  {
   "cell_type": "code",
   "execution_count": null,
   "id": "3f5fd7b2",
   "metadata": {},
   "outputs": [],
   "source": []
  },
  {
   "cell_type": "code",
   "execution_count": null,
   "id": "b36bb985",
   "metadata": {},
   "outputs": [],
   "source": []
  }
 ],
 "metadata": {
  "kernelspec": {
   "display_name": "Python3.8",
   "language": "python",
   "name": "python3.8"
  },
  "language_info": {
   "codemirror_mode": {
    "name": "ipython",
    "version": 3
   },
   "file_extension": ".py",
   "mimetype": "text/x-python",
   "name": "python",
   "nbconvert_exporter": "python",
   "pygments_lexer": "ipython3",
   "version": "3.8.2"
  }
 },
 "nbformat": 4,
 "nbformat_minor": 5
}
