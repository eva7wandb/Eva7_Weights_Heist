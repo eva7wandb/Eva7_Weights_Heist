{
 "cells": [
  {
   "cell_type": "code",
   "execution_count": 1,
   "id": "bc88bc1a",
   "metadata": {
    "ExecuteTime": {
     "end_time": "2021-11-15T15:57:15.477691Z",
     "start_time": "2021-11-15T15:57:15.455346Z"
    }
   },
   "outputs": [],
   "source": [
    "%load_ext autoreload\n",
    "%autoreload 2"
   ]
  },
  {
   "cell_type": "code",
   "execution_count": 1,
   "id": "6f40858d",
   "metadata": {
    "ExecuteTime": {
     "end_time": "2021-11-15T16:37:57.540299Z",
     "start_time": "2021-11-15T16:37:57.529676Z"
    }
   },
   "outputs": [],
   "source": [
    "use_wandb = False"
   ]
  },
  {
   "cell_type": "code",
   "execution_count": 2,
   "id": "05856dc1",
   "metadata": {
    "ExecuteTime": {
     "end_time": "2021-11-15T16:38:14.381339Z",
     "start_time": "2021-11-15T16:38:14.373903Z"
    }
   },
   "outputs": [],
   "source": [
    "if use_wandb:\n",
    "    import wandb\n",
    "    wandb.login()"
   ]
  },
  {
   "cell_type": "code",
   "execution_count": 3,
   "id": "87475c5b",
   "metadata": {
    "ExecuteTime": {
     "end_time": "2021-11-15T16:38:19.259957Z",
     "start_time": "2021-11-15T16:38:17.322818Z"
    }
   },
   "outputs": [],
   "source": [
    "import torch\n",
    "import torch.nn as nn\n",
    "import torch.nn.functional as F\n",
    "import torch.optim as optim\n",
    "from torch.optim.lr_scheduler import StepLR\n",
    "\n",
    "import numpy as np\n",
    "import matplotlib.pyplot as plt\n",
    "from torchsummary import summary"
   ]
  },
  {
   "cell_type": "code",
   "execution_count": 4,
   "id": "0ccb8e03",
   "metadata": {
    "ExecuteTime": {
     "end_time": "2021-11-15T16:39:23.836330Z",
     "start_time": "2021-11-15T16:38:20.156563Z"
    }
   },
   "outputs": [
    {
     "name": "stdout",
     "output_type": "stream",
     "text": [
      "Files already downloaded and verified\n",
      "Total number of images:  50000\n",
      "Mean =  (0.4890062, 0.47970363, 0.47680542) \n",
      " STD =  (0.264582, 0.258996, 0.25643882)\n",
      "Files already downloaded and verified\n",
      "Files already downloaded and verified\n",
      "Batch Size -- 512\n"
     ]
    }
   ],
   "source": [
    "from datasets.cifar10 import trainloader, testloader\n",
    "from utils.general_utils import setup_env\n",
    "from utils.training import train_model\n",
    "from utils.testing import test_model\n",
    "from models.model_v3 import Net"
   ]
  },
  {
   "cell_type": "code",
   "execution_count": 5,
   "id": "5e6b8809",
   "metadata": {
    "ExecuteTime": {
     "end_time": "2021-11-15T16:39:30.876242Z",
     "start_time": "2021-11-15T16:39:28.825743Z"
    }
   },
   "outputs": [
    {
     "name": "stdout",
     "output_type": "stream",
     "text": [
      "----------------------------------------------------------------\n",
      "        Layer (type)               Output Shape         Param #\n",
      "================================================================\n",
      "            Conv2d-1           [-1, 32, 32, 32]             864\n",
      "              ReLU-2           [-1, 32, 32, 32]               0\n",
      "       BatchNorm2d-3           [-1, 32, 32, 32]              64\n",
      "           Dropout-4           [-1, 32, 32, 32]               0\n",
      "            Conv2d-5           [-1, 64, 32, 32]          18,432\n",
      "              ReLU-6           [-1, 64, 32, 32]               0\n",
      "       BatchNorm2d-7           [-1, 64, 32, 32]             128\n",
      "           Dropout-8           [-1, 64, 32, 32]               0\n",
      "        conv_block-9           [-1, 64, 32, 32]               0\n",
      "           Conv2d-10           [-1, 32, 16, 16]          18,464\n",
      "           Conv2d-11           [-1, 32, 16, 16]           1,056\n",
      "             ReLU-12           [-1, 32, 16, 16]               0\n",
      "      BatchNorm2d-13           [-1, 32, 16, 16]              64\n",
      " transition_block-14           [-1, 32, 16, 16]               0\n",
      "           Conv2d-15           [-1, 32, 16, 16]             288\n",
      "           Conv2d-16           [-1, 32, 16, 16]             288\n",
      "           Conv2d-17           [-1, 64, 16, 16]           2,048\n",
      "           Conv2d-18           [-1, 64, 16, 16]           2,048\n",
      "             ReLU-19           [-1, 64, 16, 16]               0\n",
      "      BatchNorm2d-20           [-1, 64, 16, 16]             128\n",
      "depthwise_separable_block-21           [-1, 64, 16, 16]               0\n",
      "           Conv2d-22             [-1, 32, 9, 9]          18,464\n",
      "           Conv2d-23             [-1, 64, 9, 9]           2,112\n",
      "             ReLU-24             [-1, 64, 9, 9]               0\n",
      "      BatchNorm2d-25             [-1, 64, 9, 9]             128\n",
      " transition_block-26             [-1, 64, 9, 9]               0\n",
      "           Conv2d-27             [-1, 32, 9, 9]          18,432\n",
      "             ReLU-28             [-1, 32, 9, 9]               0\n",
      "      BatchNorm2d-29             [-1, 32, 9, 9]              64\n",
      "          Dropout-30             [-1, 32, 9, 9]               0\n",
      "           Conv2d-31             [-1, 32, 9, 9]           9,216\n",
      "             ReLU-32             [-1, 32, 9, 9]               0\n",
      "      BatchNorm2d-33             [-1, 32, 9, 9]              64\n",
      "          Dropout-34             [-1, 32, 9, 9]               0\n",
      "       conv_block-35             [-1, 32, 9, 9]               0\n",
      "           Conv2d-36             [-1, 32, 9, 9]           9,248\n",
      "           Conv2d-37             [-1, 64, 9, 9]           2,112\n",
      "             ReLU-38             [-1, 64, 9, 9]               0\n",
      "      BatchNorm2d-39             [-1, 64, 9, 9]             128\n",
      "dilated_conv_block-40             [-1, 64, 9, 9]               0\n",
      "           Conv2d-41             [-1, 32, 5, 5]          18,464\n",
      "           Conv2d-42             [-1, 16, 5, 5]             528\n",
      "             ReLU-43             [-1, 16, 5, 5]               0\n",
      "      BatchNorm2d-44             [-1, 16, 5, 5]              32\n",
      " transition_block-45             [-1, 16, 5, 5]               0\n",
      "           Conv2d-46             [-1, 16, 5, 5]           2,304\n",
      "             ReLU-47             [-1, 16, 5, 5]               0\n",
      "      BatchNorm2d-48             [-1, 16, 5, 5]              32\n",
      "          Dropout-49             [-1, 16, 5, 5]               0\n",
      "           Conv2d-50             [-1, 32, 5, 5]           4,608\n",
      "             ReLU-51             [-1, 32, 5, 5]               0\n",
      "      BatchNorm2d-52             [-1, 32, 5, 5]              64\n",
      "          Dropout-53             [-1, 32, 5, 5]               0\n",
      "       conv_block-54             [-1, 32, 5, 5]               0\n",
      "           Conv2d-55             [-1, 10, 5, 5]             330\n",
      "        AvgPool2d-56             [-1, 10, 1, 1]               0\n",
      "================================================================\n",
      "Total params: 130,202\n",
      "Trainable params: 130,202\n",
      "Non-trainable params: 0\n",
      "----------------------------------------------------------------\n",
      "Input size (MB): 0.01\n",
      "Forward/backward pass size (MB): 5.16\n",
      "Params size (MB): 0.50\n",
      "Estimated Total Size (MB): 5.67\n",
      "----------------------------------------------------------------\n"
     ]
    }
   ],
   "source": [
    "cuda, device = setup_env()\n",
    "\n",
    "train_dataloader, test_dataloader = trainloader, testloader\n",
    "\n",
    "model = Net(\n",
    "    batch_norm=True,\n",
    "    dropout_value=0.0,\n",
    ").to(device)\n",
    "summary(model, input_size=(3, 32, 32))"
   ]
  },
  {
   "cell_type": "code",
   "execution_count": 6,
   "id": "0ad7b388",
   "metadata": {
    "ExecuteTime": {
     "end_time": "2021-11-15T16:39:42.973319Z",
     "start_time": "2021-11-15T16:39:42.967667Z"
    }
   },
   "outputs": [],
   "source": [
    "if use_wandb:\n",
    "\n",
    "    wandb.init(\n",
    "        project='s7_cifar10',              ## unique to each project / assignment\n",
    "        entity='weights_heist_eva7',       ## this will not change\n",
    "        ## below are optional but recommended \n",
    "        tags=['muhsin'],                   ## can help later to filter runs\n",
    "        name='version 5 C3 increase',    ## a name for the run. \n",
    "        notes=\"C3 conv >> dilated conv\"\n",
    "    )"
   ]
  },
  {
   "cell_type": "code",
   "execution_count": 9,
   "id": "9c151f0b",
   "metadata": {
    "ExecuteTime": {
     "end_time": "2021-11-15T16:40:14.979924Z",
     "start_time": "2021-11-15T16:40:14.975557Z"
    },
    "scrolled": false
   },
   "outputs": [],
   "source": [
    "optimizer = optim.SGD(model.parameters(), lr=0.1, momentum=0.9)\n",
    "scheduler = StepLR(optimizer, step_size=12, gamma=0.6)\n",
    "\n",
    "logs = []\n",
    "EPOCHS = 25\n",
    "for epoch in range(EPOCHS):\n",
    "    print(\"EPOCH:\", epoch)\n",
    "    train_batch_loss, train_batch_acc = train_model(\n",
    "        model, device, train_dataloader, optimizer, epoch\n",
    "    )\n",
    "    test_loss, test_acc = test_model(model, device, test_dataloader)\n",
    "    scheduler.step()\n",
    "    \n",
    "    temp_log = {\n",
    "        'train_losses': np.mean(train_batch_loss),\n",
    "        'test_losses': test_loss,\n",
    "        'train_acc': np.mean(train_batch_acc),\n",
    "        'test_acc': test_acc,\n",
    "        \"lr\": optimizer.param_groups[0]['lr'],\n",
    "    }\n",
    "    logs.append(temp_log)\n",
    "    \n",
    "    if use_wandb:\n",
    "        wandb.log(temp_log)"
   ]
  },
  {
   "cell_type": "code",
   "execution_count": 8,
   "id": "7dfd1f18",
   "metadata": {
    "ExecuteTime": {
     "end_time": "2021-11-15T16:40:04.856461Z",
     "start_time": "2021-11-15T16:40:04.841723Z"
    }
   },
   "outputs": [],
   "source": [
    "if use_wandb:\n",
    "    wandb.finish()"
   ]
  },
  {
   "cell_type": "code",
   "execution_count": null,
   "id": "942b4749",
   "metadata": {},
   "outputs": [],
   "source": []
  },
  {
   "cell_type": "code",
   "execution_count": null,
   "id": "f497e2c4",
   "metadata": {},
   "outputs": [],
   "source": []
  },
  {
   "cell_type": "code",
   "execution_count": null,
   "id": "cfe2c41f",
   "metadata": {},
   "outputs": [],
   "source": []
  },
  {
   "cell_type": "code",
   "execution_count": null,
   "id": "12bbc738",
   "metadata": {},
   "outputs": [],
   "source": []
  },
  {
   "cell_type": "code",
   "execution_count": null,
   "id": "cf1426e5",
   "metadata": {},
   "outputs": [],
   "source": []
  },
  {
   "cell_type": "code",
   "execution_count": null,
   "id": "3f5fd7b2",
   "metadata": {},
   "outputs": [],
   "source": []
  },
  {
   "cell_type": "code",
   "execution_count": null,
   "id": "b36bb985",
   "metadata": {},
   "outputs": [],
   "source": []
  }
 ],
 "metadata": {
  "kernelspec": {
   "display_name": "Python3.8",
   "language": "python",
   "name": "python3.8"
  },
  "language_info": {
   "codemirror_mode": {
    "name": "ipython",
    "version": 3
   },
   "file_extension": ".py",
   "mimetype": "text/x-python",
   "name": "python",
   "nbconvert_exporter": "python",
   "pygments_lexer": "ipython3",
   "version": "3.8.2"
  }
 },
 "nbformat": 4,
 "nbformat_minor": 5
}
