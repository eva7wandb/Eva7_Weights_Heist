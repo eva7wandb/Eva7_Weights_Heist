{
 "cells": [
  {
   "cell_type": "code",
   "execution_count": 1,
   "id": "bc88bc1a",
   "metadata": {
    "ExecuteTime": {
     "end_time": "2021-11-15T17:10:21.409519Z",
     "start_time": "2021-11-15T17:10:21.389469Z"
    }
   },
   "outputs": [],
   "source": [
    "%load_ext autoreload\n",
    "%autoreload 2"
   ]
  },
  {
   "cell_type": "code",
   "execution_count": 2,
   "id": "6f40858d",
   "metadata": {
    "ExecuteTime": {
     "end_time": "2021-11-15T17:10:26.560726Z",
     "start_time": "2021-11-15T17:10:26.548227Z"
    }
   },
   "outputs": [],
   "source": [
    "use_wandb = True"
   ]
  },
  {
   "cell_type": "code",
   "execution_count": 3,
   "id": "7815cc1e",
   "metadata": {
    "ExecuteTime": {
     "end_time": "2021-11-15T17:10:45.701398Z",
     "start_time": "2021-11-15T17:10:45.566566Z"
    }
   },
   "outputs": [
    {
     "name": "stdout",
     "output_type": "stream",
     "text": [
      "Setting proc title..\n",
      "Process title :  MUHSIN_16-Nov_01-AM_NO_JOB_NAME\n",
      "Searching for GPUs..\n",
      "CUDA environment device set to 1\n",
      "GPU allocation finished.\n"
     ]
    }
   ],
   "source": [
    "from ds_toolkit.general_utils.gpu_utils import gpu_alloc\n",
    "\n",
    "gpu_alloc()"
   ]
  },
  {
   "cell_type": "code",
   "execution_count": 4,
   "id": "05856dc1",
   "metadata": {
    "ExecuteTime": {
     "end_time": "2021-11-15T17:10:47.982514Z",
     "start_time": "2021-11-15T17:10:46.925745Z"
    }
   },
   "outputs": [
    {
     "name": "stderr",
     "output_type": "stream",
     "text": [
      "\u001b[34m\u001b[1mwandb\u001b[0m: Currently logged in as: \u001b[33maskmuhsin\u001b[0m (use `wandb login --relogin` to force relogin)\n"
     ]
    }
   ],
   "source": [
    "if use_wandb:\n",
    "    import wandb\n",
    "    wandb.login()"
   ]
  },
  {
   "cell_type": "code",
   "execution_count": 5,
   "id": "87475c5b",
   "metadata": {
    "ExecuteTime": {
     "end_time": "2021-11-15T17:10:50.357269Z",
     "start_time": "2021-11-15T17:10:48.938828Z"
    }
   },
   "outputs": [],
   "source": [
    "import torch\n",
    "import torch.nn as nn\n",
    "import torch.nn.functional as F\n",
    "import torch.optim as optim\n",
    "from torch.optim.lr_scheduler import StepLR\n",
    "\n",
    "import numpy as np\n",
    "import matplotlib.pyplot as plt\n",
    "from torchsummary import summary"
   ]
  },
  {
   "cell_type": "code",
   "execution_count": 6,
   "id": "0ccb8e03",
   "metadata": {
    "ExecuteTime": {
     "end_time": "2021-11-15T17:11:56.433687Z",
     "start_time": "2021-11-15T17:10:54.603874Z"
    }
   },
   "outputs": [
    {
     "name": "stdout",
     "output_type": "stream",
     "text": [
      "Files already downloaded and verified\n",
      "Total number of images:  50000\n",
      "Mean =  (0.4890062, 0.47970363, 0.47680542) \n",
      " STD =  (0.264582, 0.258996, 0.25643882)\n",
      "Files already downloaded and verified\n",
      "Files already downloaded and verified\n",
      "Batch Size -- 512\n"
     ]
    }
   ],
   "source": [
    "from datasets.cifar10 import trainloader, testloader\n",
    "from utils.general_utils import setup_env\n",
    "from utils.training import train_model\n",
    "from utils.testing import test_model"
   ]
  },
  {
   "cell_type": "code",
   "execution_count": 7,
   "id": "a96f6eba",
   "metadata": {
    "ExecuteTime": {
     "end_time": "2021-11-15T17:11:56.991084Z",
     "start_time": "2021-11-15T17:11:56.437937Z"
    }
   },
   "outputs": [],
   "source": [
    "from models.model_v7 import Net"
   ]
  },
  {
   "cell_type": "code",
   "execution_count": 8,
   "id": "5e6b8809",
   "metadata": {
    "ExecuteTime": {
     "end_time": "2021-11-15T17:12:03.257616Z",
     "start_time": "2021-11-15T17:11:58.209490Z"
    }
   },
   "outputs": [
    {
     "name": "stdout",
     "output_type": "stream",
     "text": [
      "----------------------------------------------------------------\n",
      "        Layer (type)               Output Shape         Param #\n",
      "================================================================\n",
      "            Conv2d-1           [-1, 32, 32, 32]             864\n",
      "              ReLU-2           [-1, 32, 32, 32]               0\n",
      "       BatchNorm2d-3           [-1, 32, 32, 32]              64\n",
      "           Dropout-4           [-1, 32, 32, 32]               0\n",
      "            Conv2d-5           [-1, 64, 32, 32]          18,432\n",
      "              ReLU-6           [-1, 64, 32, 32]               0\n",
      "       BatchNorm2d-7           [-1, 64, 32, 32]             128\n",
      "           Dropout-8           [-1, 64, 32, 32]               0\n",
      "        conv_block-9           [-1, 64, 32, 32]               0\n",
      "           Conv2d-10           [-1, 32, 16, 16]          18,464\n",
      "           Conv2d-11           [-1, 32, 16, 16]           1,056\n",
      "             ReLU-12           [-1, 32, 16, 16]               0\n",
      "      BatchNorm2d-13           [-1, 32, 16, 16]              64\n",
      " transition_block-14           [-1, 32, 16, 16]               0\n",
      "           Conv2d-15           [-1, 32, 16, 16]             288\n",
      "           Conv2d-16           [-1, 32, 16, 16]             288\n",
      "           Conv2d-17           [-1, 64, 16, 16]           2,048\n",
      "           Conv2d-18           [-1, 64, 16, 16]           2,048\n",
      "             ReLU-19           [-1, 64, 16, 16]               0\n",
      "      BatchNorm2d-20           [-1, 64, 16, 16]             128\n",
      "depthwise_separable_block-21           [-1, 64, 16, 16]               0\n",
      "           Conv2d-22             [-1, 64, 9, 9]          36,928\n",
      "           Conv2d-23             [-1, 64, 9, 9]           4,160\n",
      "             ReLU-24             [-1, 64, 9, 9]               0\n",
      "      BatchNorm2d-25             [-1, 64, 9, 9]             128\n",
      " transition_block-26             [-1, 64, 9, 9]               0\n",
      "           Conv2d-27             [-1, 32, 9, 9]          18,432\n",
      "             ReLU-28             [-1, 32, 9, 9]               0\n",
      "      BatchNorm2d-29             [-1, 32, 9, 9]              64\n",
      "          Dropout-30             [-1, 32, 9, 9]               0\n",
      "           Conv2d-31             [-1, 64, 9, 9]          18,432\n",
      "             ReLU-32             [-1, 64, 9, 9]               0\n",
      "      BatchNorm2d-33             [-1, 64, 9, 9]             128\n",
      "          Dropout-34             [-1, 64, 9, 9]               0\n",
      "       conv_block-35             [-1, 64, 9, 9]               0\n",
      "           Conv2d-36             [-1, 32, 9, 9]          18,464\n",
      "           Conv2d-37             [-1, 64, 9, 9]           2,112\n",
      "             ReLU-38             [-1, 64, 9, 9]               0\n",
      "      BatchNorm2d-39             [-1, 64, 9, 9]             128\n",
      "dilated_conv_block-40             [-1, 64, 9, 9]               0\n",
      "           Conv2d-41             [-1, 32, 5, 5]          18,464\n",
      "           Conv2d-42             [-1, 32, 5, 5]           1,056\n",
      "             ReLU-43             [-1, 32, 5, 5]               0\n",
      "      BatchNorm2d-44             [-1, 32, 5, 5]              64\n",
      " transition_block-45             [-1, 32, 5, 5]               0\n",
      "           Conv2d-46             [-1, 32, 5, 5]           9,216\n",
      "             ReLU-47             [-1, 32, 5, 5]               0\n",
      "      BatchNorm2d-48             [-1, 32, 5, 5]              64\n",
      "          Dropout-49             [-1, 32, 5, 5]               0\n",
      "           Conv2d-50             [-1, 32, 5, 5]           9,216\n",
      "             ReLU-51             [-1, 32, 5, 5]               0\n",
      "      BatchNorm2d-52             [-1, 32, 5, 5]              64\n",
      "          Dropout-53             [-1, 32, 5, 5]               0\n",
      "       conv_block-54             [-1, 32, 5, 5]               0\n",
      "           Conv2d-55             [-1, 10, 5, 5]             330\n",
      "        AvgPool2d-56             [-1, 10, 1, 1]               0\n",
      "================================================================\n",
      "Total params: 181,322\n",
      "Trainable params: 181,322\n",
      "Non-trainable params: 0\n",
      "----------------------------------------------------------------\n",
      "Input size (MB): 0.01\n",
      "Forward/backward pass size (MB): 5.30\n",
      "Params size (MB): 0.69\n",
      "Estimated Total Size (MB): 6.01\n",
      "----------------------------------------------------------------\n"
     ]
    }
   ],
   "source": [
    "cuda, device = setup_env()\n",
    "\n",
    "train_dataloader, test_dataloader = trainloader, testloader\n",
    "\n",
    "model = Net(\n",
    "    batch_norm=True,\n",
    "    dropout_value=0.0,\n",
    ").to(device)\n",
    "summary(model, input_size=(3, 32, 32))"
   ]
  },
  {
   "cell_type": "code",
   "execution_count": 12,
   "id": "0ad7b388",
   "metadata": {
    "ExecuteTime": {
     "end_time": "2021-11-15T17:24:23.532826Z",
     "start_time": "2021-11-15T17:24:19.765360Z"
    }
   },
   "outputs": [
    {
     "name": "stderr",
     "output_type": "stream",
     "text": [
      "\u001b[34m\u001b[1mwandb\u001b[0m: wandb version 0.12.6 is available!  To upgrade, please run:\n",
      "\u001b[34m\u001b[1mwandb\u001b[0m:  $ pip install wandb --upgrade\n"
     ]
    },
    {
     "data": {
      "text/html": [
       "\n",
       "                Tracking run with wandb version 0.10.11<br/>\n",
       "                Syncing run <strong style=\"color:#cdcd00\">version 7.2 continue</strong> to <a href=\"https://wandb.ai\" target=\"_blank\">Weights & Biases</a> <a href=\"https://docs.wandb.com/integrations/jupyter.html\" target=\"_blank\">(Documentation)</a>.<br/>\n",
       "                Project page: <a href=\"https://wandb.ai/weights_heist_eva7/s7_cifar10\" target=\"_blank\">https://wandb.ai/weights_heist_eva7/s7_cifar10</a><br/>\n",
       "                Run page: <a href=\"https://wandb.ai/weights_heist_eva7/s7_cifar10/runs/xcldz55w\" target=\"_blank\">https://wandb.ai/weights_heist_eva7/s7_cifar10/runs/xcldz55w</a><br/>\n",
       "                Run data is saved locally in <code>/data/omnibox1/muhsin/OOB_experiments/Eva7_Weights_Heist/S7/wandb/run-20211116_012419-xcldz55w</code><br/><br/>\n",
       "            "
      ],
      "text/plain": [
       "<IPython.core.display.HTML object>"
      ]
     },
     "metadata": {},
     "output_type": "display_data"
    }
   ],
   "source": [
    "if use_wandb:\n",
    "\n",
    "    wandb.init(\n",
    "        project='s7_cifar10',              ## unique to each project / assignment\n",
    "        entity='weights_heist_eva7',       ## this will not change\n",
    "        ## below are optional but recommended \n",
    "        tags=['muhsin'],                   ## can help later to filter runs\n",
    "        name='version 7.2 continue',    ## a name for the run. \n",
    "        notes=\"continue training\"\n",
    "    )"
   ]
  },
  {
   "cell_type": "code",
   "execution_count": 13,
   "id": "9c151f0b",
   "metadata": {
    "ExecuteTime": {
     "end_time": "2021-11-15T17:31:13.494410Z",
     "start_time": "2021-11-15T17:24:26.144398Z"
    },
    "scrolled": false
   },
   "outputs": [
    {
     "name": "stdout",
     "output_type": "stream",
     "text": [
      "EPOCH: 0\n"
     ]
    },
    {
     "name": "stderr",
     "output_type": "stream",
     "text": [
      "Loss=0.7177518010139465 Batch_id=97 Accuracy=77.45: 100%|██████████| 98/98 [00:09<00:00, 10.85it/s]\n"
     ]
    },
    {
     "name": "stdout",
     "output_type": "stream",
     "text": [
      "\n",
      "Test set: Average loss: 0.5912, Accuracy: 7989/10000 (79.89%)\n",
      "\n",
      "EPOCH: 1\n"
     ]
    },
    {
     "name": "stderr",
     "output_type": "stream",
     "text": [
      "Loss=0.7636212110519409 Batch_id=97 Accuracy=77.57: 100%|██████████| 98/98 [00:09<00:00, 10.75it/s]\n"
     ]
    },
    {
     "name": "stdout",
     "output_type": "stream",
     "text": [
      "\n",
      "Test set: Average loss: 0.5593, Accuracy: 8106/10000 (81.06%)\n",
      "\n",
      "EPOCH: 2\n"
     ]
    },
    {
     "name": "stderr",
     "output_type": "stream",
     "text": [
      "Loss=0.6215888857841492 Batch_id=97 Accuracy=77.64: 100%|██████████| 98/98 [00:09<00:00, 10.71it/s]\n"
     ]
    },
    {
     "name": "stdout",
     "output_type": "stream",
     "text": [
      "\n",
      "Test set: Average loss: 0.5854, Accuracy: 8045/10000 (80.45%)\n",
      "\n",
      "EPOCH: 3\n"
     ]
    },
    {
     "name": "stderr",
     "output_type": "stream",
     "text": [
      "Loss=0.6967869400978088 Batch_id=97 Accuracy=77.74: 100%|██████████| 98/98 [00:09<00:00, 10.25it/s]\n"
     ]
    },
    {
     "name": "stdout",
     "output_type": "stream",
     "text": [
      "\n",
      "Test set: Average loss: 0.5490, Accuracy: 8118/10000 (81.18%)\n",
      "\n",
      "EPOCH: 4\n"
     ]
    },
    {
     "name": "stderr",
     "output_type": "stream",
     "text": [
      "Loss=0.5811810493469238 Batch_id=97 Accuracy=77.89: 100%|██████████| 98/98 [00:09<00:00, 10.20it/s]\n"
     ]
    },
    {
     "name": "stdout",
     "output_type": "stream",
     "text": [
      "\n",
      "Test set: Average loss: 0.5350, Accuracy: 8169/10000 (81.69%)\n",
      "\n",
      "EPOCH: 5\n"
     ]
    },
    {
     "name": "stderr",
     "output_type": "stream",
     "text": [
      "Loss=0.5997220277786255 Batch_id=97 Accuracy=78.69: 100%|██████████| 98/98 [00:08<00:00, 11.15it/s]\n"
     ]
    },
    {
     "name": "stdout",
     "output_type": "stream",
     "text": [
      "\n",
      "Test set: Average loss: 0.5472, Accuracy: 8156/10000 (81.56%)\n",
      "\n",
      "EPOCH: 6\n"
     ]
    },
    {
     "name": "stderr",
     "output_type": "stream",
     "text": [
      "Loss=0.6460701823234558 Batch_id=97 Accuracy=78.67: 100%|██████████| 98/98 [00:09<00:00, 10.22it/s]\n"
     ]
    },
    {
     "name": "stdout",
     "output_type": "stream",
     "text": [
      "\n",
      "Test set: Average loss: 0.5211, Accuracy: 8254/10000 (82.54%)\n",
      "\n",
      "EPOCH: 7\n"
     ]
    },
    {
     "name": "stderr",
     "output_type": "stream",
     "text": [
      "Loss=0.6910363435745239 Batch_id=97 Accuracy=78.83: 100%|██████████| 98/98 [00:09<00:00, 10.83it/s]\n"
     ]
    },
    {
     "name": "stdout",
     "output_type": "stream",
     "text": [
      "\n",
      "Test set: Average loss: 0.5505, Accuracy: 8180/10000 (81.80%)\n",
      "\n",
      "EPOCH: 8\n"
     ]
    },
    {
     "name": "stderr",
     "output_type": "stream",
     "text": [
      "Loss=0.5742940306663513 Batch_id=97 Accuracy=79.35: 100%|██████████| 98/98 [00:08<00:00, 10.98it/s] \n"
     ]
    },
    {
     "name": "stdout",
     "output_type": "stream",
     "text": [
      "\n",
      "Test set: Average loss: 0.5136, Accuracy: 8276/10000 (82.76%)\n",
      "\n",
      "EPOCH: 9\n"
     ]
    },
    {
     "name": "stderr",
     "output_type": "stream",
     "text": [
      "Loss=0.6108983755111694 Batch_id=97 Accuracy=79.69: 100%|██████████| 98/98 [00:08<00:00, 11.14it/s] \n"
     ]
    },
    {
     "name": "stdout",
     "output_type": "stream",
     "text": [
      "\n",
      "Test set: Average loss: 0.5231, Accuracy: 8254/10000 (82.54%)\n",
      "\n",
      "EPOCH: 10\n"
     ]
    },
    {
     "name": "stderr",
     "output_type": "stream",
     "text": [
      "Loss=0.5643239617347717 Batch_id=97 Accuracy=79.82: 100%|██████████| 98/98 [00:09<00:00, 10.73it/s] \n"
     ]
    },
    {
     "name": "stdout",
     "output_type": "stream",
     "text": [
      "\n",
      "Test set: Average loss: 0.5085, Accuracy: 8297/10000 (82.97%)\n",
      "\n",
      "EPOCH: 11\n"
     ]
    },
    {
     "name": "stderr",
     "output_type": "stream",
     "text": [
      "Loss=0.5313037037849426 Batch_id=97 Accuracy=80.06: 100%|██████████| 98/98 [00:09<00:00, 10.63it/s]\n"
     ]
    },
    {
     "name": "stdout",
     "output_type": "stream",
     "text": [
      "\n",
      "Test set: Average loss: 0.5393, Accuracy: 8189/10000 (81.89%)\n",
      "\n",
      "EPOCH: 12\n"
     ]
    },
    {
     "name": "stderr",
     "output_type": "stream",
     "text": [
      "Loss=0.4850599765777588 Batch_id=97 Accuracy=81.22: 100%|██████████| 98/98 [00:08<00:00, 11.45it/s] \n"
     ]
    },
    {
     "name": "stdout",
     "output_type": "stream",
     "text": [
      "\n",
      "Test set: Average loss: 0.4672, Accuracy: 8431/10000 (84.31%)\n",
      "\n",
      "EPOCH: 13\n"
     ]
    },
    {
     "name": "stderr",
     "output_type": "stream",
     "text": [
      "Loss=0.49570515751838684 Batch_id=97 Accuracy=81.75: 100%|██████████| 98/98 [00:08<00:00, 11.11it/s]\n"
     ]
    },
    {
     "name": "stdout",
     "output_type": "stream",
     "text": [
      "\n",
      "Test set: Average loss: 0.4741, Accuracy: 8369/10000 (83.69%)\n",
      "\n",
      "EPOCH: 14\n"
     ]
    },
    {
     "name": "stderr",
     "output_type": "stream",
     "text": [
      "Loss=0.6148566007614136 Batch_id=97 Accuracy=81.68: 100%|██████████| 98/98 [00:08<00:00, 10.97it/s] \n"
     ]
    },
    {
     "name": "stdout",
     "output_type": "stream",
     "text": [
      "\n",
      "Test set: Average loss: 0.4642, Accuracy: 8415/10000 (84.15%)\n",
      "\n",
      "EPOCH: 15\n"
     ]
    },
    {
     "name": "stderr",
     "output_type": "stream",
     "text": [
      "Loss=0.5777533650398254 Batch_id=97 Accuracy=82.03: 100%|██████████| 98/98 [00:09<00:00, 10.88it/s] \n"
     ]
    },
    {
     "name": "stdout",
     "output_type": "stream",
     "text": [
      "\n",
      "Test set: Average loss: 0.4783, Accuracy: 8401/10000 (84.01%)\n",
      "\n",
      "EPOCH: 16\n"
     ]
    },
    {
     "name": "stderr",
     "output_type": "stream",
     "text": [
      "Loss=0.5223316550254822 Batch_id=97 Accuracy=82.20: 100%|██████████| 98/98 [00:08<00:00, 11.08it/s] \n"
     ]
    },
    {
     "name": "stdout",
     "output_type": "stream",
     "text": [
      "\n",
      "Test set: Average loss: 0.4655, Accuracy: 8472/10000 (84.72%)\n",
      "\n",
      "EPOCH: 17\n"
     ]
    },
    {
     "name": "stderr",
     "output_type": "stream",
     "text": [
      "Loss=0.5484999418258667 Batch_id=97 Accuracy=82.27: 100%|██████████| 98/98 [00:08<00:00, 11.30it/s] \n"
     ]
    },
    {
     "name": "stdout",
     "output_type": "stream",
     "text": [
      "\n",
      "Test set: Average loss: 0.4612, Accuracy: 8470/10000 (84.70%)\n",
      "\n",
      "EPOCH: 18\n"
     ]
    },
    {
     "name": "stderr",
     "output_type": "stream",
     "text": [
      "Loss=0.4879567325115204 Batch_id=97 Accuracy=82.19: 100%|██████████| 98/98 [00:08<00:00, 10.94it/s] \n"
     ]
    },
    {
     "name": "stdout",
     "output_type": "stream",
     "text": [
      "\n",
      "Test set: Average loss: 0.4763, Accuracy: 8389/10000 (83.89%)\n",
      "\n",
      "EPOCH: 19\n"
     ]
    },
    {
     "name": "stderr",
     "output_type": "stream",
     "text": [
      "Loss=0.4811389446258545 Batch_id=97 Accuracy=82.31: 100%|██████████| 98/98 [00:09<00:00, 10.12it/s] \n"
     ]
    },
    {
     "name": "stdout",
     "output_type": "stream",
     "text": [
      "\n",
      "Test set: Average loss: 0.4766, Accuracy: 8454/10000 (84.54%)\n",
      "\n",
      "EPOCH: 20\n"
     ]
    },
    {
     "name": "stderr",
     "output_type": "stream",
     "text": [
      "Loss=0.5073748826980591 Batch_id=97 Accuracy=82.25: 100%|██████████| 98/98 [00:09<00:00,  9.82it/s] \n"
     ]
    },
    {
     "name": "stdout",
     "output_type": "stream",
     "text": [
      "\n",
      "Test set: Average loss: 0.4746, Accuracy: 8417/10000 (84.17%)\n",
      "\n",
      "EPOCH: 21\n"
     ]
    },
    {
     "name": "stderr",
     "output_type": "stream",
     "text": [
      "Loss=0.4610551595687866 Batch_id=97 Accuracy=82.71: 100%|██████████| 98/98 [00:09<00:00, 10.32it/s] \n"
     ]
    },
    {
     "name": "stdout",
     "output_type": "stream",
     "text": [
      "\n",
      "Test set: Average loss: 0.4543, Accuracy: 8482/10000 (84.82%)\n",
      "\n",
      "EPOCH: 22\n"
     ]
    },
    {
     "name": "stderr",
     "output_type": "stream",
     "text": [
      "Loss=0.5047925114631653 Batch_id=97 Accuracy=82.66: 100%|██████████| 98/98 [00:08<00:00, 11.33it/s] \n"
     ]
    },
    {
     "name": "stdout",
     "output_type": "stream",
     "text": [
      "\n",
      "Test set: Average loss: 0.4512, Accuracy: 8503/10000 (85.03%)\n",
      "\n",
      "EPOCH: 23\n"
     ]
    },
    {
     "name": "stderr",
     "output_type": "stream",
     "text": [
      "Loss=0.5287055969238281 Batch_id=97 Accuracy=82.72: 100%|██████████| 98/98 [00:09<00:00, 10.64it/s] \n"
     ]
    },
    {
     "name": "stdout",
     "output_type": "stream",
     "text": [
      "\n",
      "Test set: Average loss: 0.4740, Accuracy: 8418/10000 (84.18%)\n",
      "\n",
      "EPOCH: 24\n"
     ]
    },
    {
     "name": "stderr",
     "output_type": "stream",
     "text": [
      "Loss=0.4288865923881531 Batch_id=97 Accuracy=83.77: 100%|██████████| 98/98 [00:09<00:00, 10.73it/s] \n"
     ]
    },
    {
     "name": "stdout",
     "output_type": "stream",
     "text": [
      "\n",
      "Test set: Average loss: 0.4442, Accuracy: 8504/10000 (85.04%)\n",
      "\n",
      "EPOCH: 25\n"
     ]
    },
    {
     "name": "stderr",
     "output_type": "stream",
     "text": [
      "Loss=0.5110190510749817 Batch_id=97 Accuracy=83.58: 100%|██████████| 98/98 [00:09<00:00, 10.75it/s] \n"
     ]
    },
    {
     "name": "stdout",
     "output_type": "stream",
     "text": [
      "\n",
      "Test set: Average loss: 0.4410, Accuracy: 8530/10000 (85.30%)\n",
      "\n",
      "EPOCH: 26\n"
     ]
    },
    {
     "name": "stderr",
     "output_type": "stream",
     "text": [
      "Loss=0.48107433319091797 Batch_id=97 Accuracy=83.74: 100%|██████████| 98/98 [00:08<00:00, 11.32it/s]\n"
     ]
    },
    {
     "name": "stdout",
     "output_type": "stream",
     "text": [
      "\n",
      "Test set: Average loss: 0.4367, Accuracy: 8576/10000 (85.76%)\n",
      "\n",
      "EPOCH: 27\n"
     ]
    },
    {
     "name": "stderr",
     "output_type": "stream",
     "text": [
      "Loss=0.41568878293037415 Batch_id=97 Accuracy=84.09: 100%|██████████| 98/98 [00:08<00:00, 11.21it/s]\n"
     ]
    },
    {
     "name": "stdout",
     "output_type": "stream",
     "text": [
      "\n",
      "Test set: Average loss: 0.4349, Accuracy: 8535/10000 (85.35%)\n",
      "\n",
      "EPOCH: 28\n"
     ]
    },
    {
     "name": "stderr",
     "output_type": "stream",
     "text": [
      "Loss=0.4198441207408905 Batch_id=97 Accuracy=84.01: 100%|██████████| 98/98 [00:08<00:00, 11.03it/s] \n"
     ]
    },
    {
     "name": "stdout",
     "output_type": "stream",
     "text": [
      "\n",
      "Test set: Average loss: 0.4422, Accuracy: 8552/10000 (85.52%)\n",
      "\n",
      "EPOCH: 29\n"
     ]
    },
    {
     "name": "stderr",
     "output_type": "stream",
     "text": [
      "Loss=0.44396382570266724 Batch_id=97 Accuracy=84.15: 100%|██████████| 98/98 [00:09<00:00, 10.77it/s]\n"
     ]
    },
    {
     "name": "stdout",
     "output_type": "stream",
     "text": [
      "\n",
      "Test set: Average loss: 0.4392, Accuracy: 8552/10000 (85.52%)\n",
      "\n",
      "EPOCH: 30\n"
     ]
    },
    {
     "name": "stderr",
     "output_type": "stream",
     "text": [
      "Loss=0.4845697283744812 Batch_id=97 Accuracy=84.15: 100%|██████████| 98/98 [00:08<00:00, 11.08it/s] \n"
     ]
    },
    {
     "name": "stdout",
     "output_type": "stream",
     "text": [
      "\n",
      "Test set: Average loss: 0.4436, Accuracy: 8509/10000 (85.09%)\n",
      "\n",
      "EPOCH: 31\n"
     ]
    },
    {
     "name": "stderr",
     "output_type": "stream",
     "text": [
      "Loss=0.45054784417152405 Batch_id=97 Accuracy=84.25: 100%|██████████| 98/98 [00:08<00:00, 11.59it/s]\n"
     ]
    },
    {
     "name": "stdout",
     "output_type": "stream",
     "text": [
      "\n",
      "Test set: Average loss: 0.4346, Accuracy: 8564/10000 (85.64%)\n",
      "\n",
      "EPOCH: 32\n"
     ]
    },
    {
     "name": "stderr",
     "output_type": "stream",
     "text": [
      "Loss=0.45164790749549866 Batch_id=97 Accuracy=84.49: 100%|██████████| 98/98 [00:09<00:00, 10.86it/s]\n"
     ]
    },
    {
     "name": "stdout",
     "output_type": "stream",
     "text": [
      "\n",
      "Test set: Average loss: 0.4364, Accuracy: 8532/10000 (85.32%)\n",
      "\n",
      "EPOCH: 33\n"
     ]
    },
    {
     "name": "stderr",
     "output_type": "stream",
     "text": [
      "Loss=0.4942794144153595 Batch_id=97 Accuracy=84.22: 100%|██████████| 98/98 [00:09<00:00, 10.78it/s] \n"
     ]
    },
    {
     "name": "stdout",
     "output_type": "stream",
     "text": [
      "\n",
      "Test set: Average loss: 0.4367, Accuracy: 8588/10000 (85.88%)\n",
      "\n",
      "EPOCH: 34\n"
     ]
    },
    {
     "name": "stderr",
     "output_type": "stream",
     "text": [
      "Loss=0.40555673837661743 Batch_id=97 Accuracy=84.43: 100%|██████████| 98/98 [00:08<00:00, 10.96it/s]\n"
     ]
    },
    {
     "name": "stdout",
     "output_type": "stream",
     "text": [
      "\n",
      "Test set: Average loss: 0.4356, Accuracy: 8564/10000 (85.64%)\n",
      "\n",
      "EPOCH: 35\n"
     ]
    },
    {
     "name": "stderr",
     "output_type": "stream",
     "text": [
      "Loss=0.5164335370063782 Batch_id=97 Accuracy=84.37: 100%|██████████| 98/98 [00:08<00:00, 11.16it/s] \n"
     ]
    },
    {
     "name": "stdout",
     "output_type": "stream",
     "text": [
      "\n",
      "Test set: Average loss: 0.4301, Accuracy: 8566/10000 (85.66%)\n",
      "\n",
      "EPOCH: 36\n"
     ]
    },
    {
     "name": "stderr",
     "output_type": "stream",
     "text": [
      "Loss=0.4619891345500946 Batch_id=97 Accuracy=84.98: 100%|██████████| 98/98 [00:09<00:00, 10.78it/s] \n"
     ]
    },
    {
     "name": "stdout",
     "output_type": "stream",
     "text": [
      "\n",
      "Test set: Average loss: 0.4168, Accuracy: 8596/10000 (85.96%)\n",
      "\n",
      "EPOCH: 37\n"
     ]
    },
    {
     "name": "stderr",
     "output_type": "stream",
     "text": [
      "Loss=0.3569701015949249 Batch_id=97 Accuracy=85.09: 100%|██████████| 98/98 [00:09<00:00, 10.60it/s] \n"
     ]
    },
    {
     "name": "stdout",
     "output_type": "stream",
     "text": [
      "\n",
      "Test set: Average loss: 0.4240, Accuracy: 8615/10000 (86.15%)\n",
      "\n",
      "EPOCH: 38\n"
     ]
    },
    {
     "name": "stderr",
     "output_type": "stream",
     "text": [
      "Loss=0.39051949977874756 Batch_id=97 Accuracy=85.00: 100%|██████████| 98/98 [00:08<00:00, 11.51it/s]\n"
     ]
    },
    {
     "name": "stdout",
     "output_type": "stream",
     "text": [
      "\n",
      "Test set: Average loss: 0.4218, Accuracy: 8613/10000 (86.13%)\n",
      "\n",
      "EPOCH: 39\n"
     ]
    },
    {
     "name": "stderr",
     "output_type": "stream",
     "text": [
      "Loss=0.4365992844104767 Batch_id=97 Accuracy=85.42: 100%|██████████| 98/98 [00:08<00:00, 11.39it/s] \n"
     ]
    },
    {
     "name": "stdout",
     "output_type": "stream",
     "text": [
      "\n",
      "Test set: Average loss: 0.4186, Accuracy: 8623/10000 (86.23%)\n",
      "\n"
     ]
    }
   ],
   "source": [
    "optimizer = optim.SGD(model.parameters(), lr=0.1, momentum=0.9)\n",
    "scheduler = StepLR(optimizer, step_size=12, gamma=0.6)\n",
    "\n",
    "logs = []\n",
    "EPOCHS = 40\n",
    "for epoch in range(EPOCHS):\n",
    "    print(\"EPOCH:\", epoch)\n",
    "    train_batch_loss, train_batch_acc = train_model(\n",
    "        model, device, train_dataloader, optimizer, epoch\n",
    "    )\n",
    "    test_loss, test_acc = test_model(model, device, test_dataloader)\n",
    "    scheduler.step()\n",
    "    \n",
    "    temp_log = {\n",
    "        'train_losses': np.mean(train_batch_loss),\n",
    "        'test_losses': test_loss,\n",
    "        'train_acc': np.mean(train_batch_acc),\n",
    "        'test_acc': test_acc,\n",
    "        \"lr\": optimizer.param_groups[0]['lr'],\n",
    "    }\n",
    "    logs.append(temp_log)\n",
    "    \n",
    "    if use_wandb:\n",
    "        wandb.log(temp_log)"
   ]
  },
  {
   "cell_type": "code",
   "execution_count": 11,
   "id": "7dfd1f18",
   "metadata": {
    "ExecuteTime": {
     "end_time": "2021-11-15T17:23:56.368968Z",
     "start_time": "2021-11-15T17:23:52.495051Z"
    }
   },
   "outputs": [
    {
     "data": {
      "text/html": [
       "<br/>Waiting for W&B process to finish, PID 15064<br/>Program ended successfully."
      ],
      "text/plain": [
       "<IPython.core.display.HTML object>"
      ]
     },
     "metadata": {},
     "output_type": "display_data"
    },
    {
     "data": {
      "application/vnd.jupyter.widget-view+json": {
       "model_id": "",
       "version_major": 2,
       "version_minor": 0
      },
      "text/plain": [
       "VBox(children=(Label(value=' 0.01MB of 0.01MB uploaded (0.00MB deduped)\\r'), FloatProgress(value=1.0, max=1.0)…"
      ]
     },
     "metadata": {},
     "output_type": "display_data"
    },
    {
     "data": {
      "text/html": [
       "Find user logs for this run at: <code>/data/omnibox1/muhsin/OOB_experiments/Eva7_Weights_Heist/S7/wandb/run-20211116_011304-ouocosnp/logs/debug.log</code>"
      ],
      "text/plain": [
       "<IPython.core.display.HTML object>"
      ]
     },
     "metadata": {},
     "output_type": "display_data"
    },
    {
     "data": {
      "text/html": [
       "Find internal logs for this run at: <code>/data/omnibox1/muhsin/OOB_experiments/Eva7_Weights_Heist/S7/wandb/run-20211116_011304-ouocosnp/logs/debug-internal.log</code>"
      ],
      "text/plain": [
       "<IPython.core.display.HTML object>"
      ]
     },
     "metadata": {},
     "output_type": "display_data"
    },
    {
     "data": {
      "text/html": [
       "<h3>Run summary:</h3><br/><style>\n",
       "    table.wandb td:nth-child(1) { padding: 0 10px; text-align: right }\n",
       "    </style><table class=\"wandb\">\n",
       "<tr><td>train_losses</td><td>0.53289</td></tr><tr><td>test_losses</td><td>0.485</td></tr><tr><td>train_acc</td><td>81.18632</td></tr><tr><td>test_acc</td><td>83.52</td></tr><tr><td>lr</td><td>0.0216</td></tr><tr><td>_step</td><td>39</td></tr><tr><td>_runtime</td><td>415</td></tr><tr><td>_timestamp</td><td>1636996799</td></tr></table>"
      ],
      "text/plain": [
       "<IPython.core.display.HTML object>"
      ]
     },
     "metadata": {},
     "output_type": "display_data"
    },
    {
     "data": {
      "text/html": [
       "<h3>Run history:</h3><br/><style>\n",
       "    table.wandb td:nth-child(1) { padding: 0 10px; text-align: right }\n",
       "    </style><table class=\"wandb\">\n",
       "<tr><td>train_losses</td><td>█▆▅▅▄▄▄▄▃▃▃▃▂▂▂▂▂▂▂▂▂▂▂▂▂▁▁▁▁▁▁▁▁▁▁▁▁▁▁▁</td></tr><tr><td>test_losses</td><td>██▇▅▅▄▄▄▃▃▃▃▂▂▂▂▂▂▂▂▂▂▂▂▁▁▁▁▁▁▁▁▁▁▁▁▁▁▁▁</td></tr><tr><td>train_acc</td><td>▁▃▄▅▅▅▆▆▆▆▆▇▇▇▇▇▇▇▇▇▇▇▇▇████████████████</td></tr><tr><td>test_acc</td><td>▁▂▃▄▅▅▅▆▆▆▆▆▇▇▇▇▇▇▇▇▇▇▇▇████████████████</td></tr><tr><td>lr</td><td>███████████▄▄▄▄▄▄▄▄▄▄▄▄▂▂▂▂▂▂▂▂▂▂▂▂▁▁▁▁▁</td></tr><tr><td>_step</td><td>▁▁▁▂▂▂▂▂▂▃▃▃▃▃▄▄▄▄▄▄▅▅▅▅▅▅▆▆▆▆▆▇▇▇▇▇▇███</td></tr><tr><td>_runtime</td><td>▁▁▁▂▂▂▂▂▂▃▃▃▃▃▃▄▄▄▄▄▅▅▅▅▅▅▆▆▆▆▆▇▇▇▇▇▇███</td></tr><tr><td>_timestamp</td><td>▁▁▁▂▂▂▂▂▂▃▃▃▃▃▃▄▄▄▄▄▅▅▅▅▅▅▆▆▆▆▆▇▇▇▇▇▇███</td></tr></table><br/>"
      ],
      "text/plain": [
       "<IPython.core.display.HTML object>"
      ]
     },
     "metadata": {},
     "output_type": "display_data"
    },
    {
     "data": {
      "text/html": [
       "Synced 6 W&B file(s), 0 media file(s), 0 artifact file(s) and 1 other file(s)"
      ],
      "text/plain": [
       "<IPython.core.display.HTML object>"
      ]
     },
     "metadata": {},
     "output_type": "display_data"
    },
    {
     "data": {
      "text/html": [
       "\n",
       "                    <br/>Synced <strong style=\"color:#cdcd00\">version 7</strong>: <a href=\"https://wandb.ai/weights_heist_eva7/s7_cifar10/runs/ouocosnp\" target=\"_blank\">https://wandb.ai/weights_heist_eva7/s7_cifar10/runs/ouocosnp</a><br/>\n",
       "                "
      ],
      "text/plain": [
       "<IPython.core.display.HTML object>"
      ]
     },
     "metadata": {},
     "output_type": "display_data"
    }
   ],
   "source": [
    "if use_wandb:\n",
    "    wandb.finish()"
   ]
  },
  {
   "cell_type": "code",
   "execution_count": null,
   "id": "942b4749",
   "metadata": {},
   "outputs": [],
   "source": []
  },
  {
   "cell_type": "code",
   "execution_count": null,
   "id": "f497e2c4",
   "metadata": {},
   "outputs": [],
   "source": []
  },
  {
   "cell_type": "code",
   "execution_count": null,
   "id": "cfe2c41f",
   "metadata": {},
   "outputs": [],
   "source": []
  },
  {
   "cell_type": "code",
   "execution_count": null,
   "id": "12bbc738",
   "metadata": {},
   "outputs": [],
   "source": []
  },
  {
   "cell_type": "code",
   "execution_count": null,
   "id": "cf1426e5",
   "metadata": {},
   "outputs": [],
   "source": []
  },
  {
   "cell_type": "code",
   "execution_count": null,
   "id": "3f5fd7b2",
   "metadata": {},
   "outputs": [],
   "source": []
  },
  {
   "cell_type": "code",
   "execution_count": null,
   "id": "b36bb985",
   "metadata": {},
   "outputs": [],
   "source": []
  }
 ],
 "metadata": {
  "kernelspec": {
   "display_name": "Python3.8",
   "language": "python",
   "name": "python3.8"
  },
  "language_info": {
   "codemirror_mode": {
    "name": "ipython",
    "version": 3
   },
   "file_extension": ".py",
   "mimetype": "text/x-python",
   "name": "python",
   "nbconvert_exporter": "python",
   "pygments_lexer": "ipython3",
   "version": "3.8.2"
  }
 },
 "nbformat": 4,
 "nbformat_minor": 5
}
