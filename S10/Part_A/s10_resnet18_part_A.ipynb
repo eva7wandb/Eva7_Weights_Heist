{
 "cells": [
  {
   "cell_type": "code",
   "execution_count": 2,
   "id": "dec25ee3-7640-4802-b2dd-b07f6203e965",
   "metadata": {},
   "outputs": [
    {
     "name": "stdout",
     "output_type": "stream",
     "text": [
      "Beginning dataset download with urllib2\n",
      "Dataset downloaded\n",
      "Extracting zip file: /home/studio-lab-user/EVA7/tiny-imagenet-200.zip\n",
      "Extracted at: /home/studio-lab-user/EVA7\n",
      "Formatting: /home/studio-lab-user/EVA7/tiny-imagenet-200/val\n",
      "Cleaning up: /home/studio-lab-user/EVA7/tiny-imagenet-200/val/images\n",
      "Formatting val done\n",
      "Splitting Train+Val into 70.0-30.000000000000004\n",
      "[Old] wind: n03662601 - #: 500\n",
      "[Old] wind: n03662601 - #: 50\n",
      "[New] wnind: n03662601 - #train: 385 - #test: 165\n",
      "[Old] wind: n03544143 - #: 500\n",
      "[Old] wind: n03544143 - #: 50\n",
      "[New] wnind: n03544143 - #train: 385 - #test: 165\n",
      "[Old] wind: n01629819 - #: 500\n",
      "[Old] wind: n01629819 - #: 50\n",
      "[New] wnind: n01629819 - #train: 385 - #test: 165\n",
      "[Old] wind: n04099969 - #: 500\n",
      "[Old] wind: n04099969 - #: 50\n",
      "[New] wnind: n04099969 - #train: 385 - #test: 165\n",
      "[Old] wind: n07734744 - #: 500\n",
      "[Old] wind: n07734744 - #: 50\n",
      "[New] wnind: n07734744 - #train: 385 - #test: 165\n",
      "[Old] wind: n02231487 - #: 500\n",
      "[Old] wind: n02231487 - #: 50\n",
      "[New] wnind: n02231487 - #train: 385 - #test: 165\n",
      "[Old] wind: n03042490 - #: 500\n",
      "[Old] wind: n03042490 - #: 50\n",
      "[New] wnind: n03042490 - #train: 385 - #test: 165\n",
      "[Old] wind: n02963159 - #: 500\n",
      "[Old] wind: n02963159 - #: 50\n",
      "[New] wnind: n02963159 - #train: 385 - #test: 165\n",
      "[Old] wind: n02099712 - #: 500\n",
      "[Old] wind: n02099712 - #: 50\n",
      "[New] wnind: n02099712 - #train: 385 - #test: 165\n",
      "[Old] wind: n04074963 - #: 500\n",
      "[Old] wind: n04074963 - #: 50\n",
      "[New] wnind: n04074963 - #train: 385 - #test: 165\n",
      "[Old] wind: n07768694 - #: 500\n",
      "[Old] wind: n07768694 - #: 50\n",
      "[New] wnind: n07768694 - #train: 385 - #test: 165\n",
      "[Old] wind: n02666196 - #: 500\n",
      "[Old] wind: n02666196 - #: 50\n",
      "[New] wnind: n02666196 - #train: 385 - #test: 165\n",
      "[Old] wind: n04532106 - #: 500\n",
      "[Old] wind: n04532106 - #: 50\n",
      "[New] wnind: n04532106 - #train: 385 - #test: 165\n",
      "[Old] wind: n03804744 - #: 500\n",
      "[Old] wind: n03804744 - #: 50\n",
      "[New] wnind: n03804744 - #train: 385 - #test: 165\n",
      "[Old] wind: n02132136 - #: 500\n",
      "[Old] wind: n02132136 - #: 50\n",
      "[New] wnind: n02132136 - #train: 385 - #test: 165\n",
      "[Old] wind: n03983396 - #: 500\n",
      "[Old] wind: n03983396 - #: 50\n",
      "[New] wnind: n03983396 - #train: 385 - #test: 165\n",
      "[Old] wind: n03763968 - #: 500\n",
      "[Old] wind: n03763968 - #: 50\n",
      "[New] wnind: n03763968 - #train: 385 - #test: 165\n",
      "[Old] wind: n03796401 - #: 500\n",
      "[Old] wind: n03796401 - #: 50\n",
      "[New] wnind: n03796401 - #train: 385 - #test: 165\n",
      "[Old] wind: n03355925 - #: 500\n",
      "[Old] wind: n03355925 - #: 50\n",
      "[New] wnind: n03355925 - #train: 385 - #test: 165\n",
      "[Old] wind: n01784675 - #: 500\n",
      "[Old] wind: n01784675 - #: 50\n",
      "[New] wnind: n01784675 - #train: 385 - #test: 165\n",
      "[Old] wind: n03255030 - #: 500\n",
      "[Old] wind: n03255030 - #: 50\n",
      "[New] wnind: n03255030 - #train: 385 - #test: 165\n",
      "[Old] wind: n02793495 - #: 500\n",
      "[Old] wind: n02793495 - #: 50\n",
      "[New] wnind: n02793495 - #train: 385 - #test: 165\n",
      "[Old] wind: n02236044 - #: 500\n",
      "[Old] wind: n02236044 - #: 50\n",
      "[New] wnind: n02236044 - #train: 385 - #test: 165\n",
      "[Old] wind: n02841315 - #: 500\n",
      "[Old] wind: n02841315 - #: 50\n",
      "[New] wnind: n02841315 - #train: 385 - #test: 165\n",
      "[Old] wind: n03160309 - #: 500\n",
      "[Old] wind: n03160309 - #: 50\n",
      "[New] wnind: n03160309 - #train: 385 - #test: 165\n",
      "[Old] wind: n03814639 - #: 500\n",
      "[Old] wind: n03814639 - #: 50\n",
      "[New] wnind: n03814639 - #train: 385 - #test: 165\n",
      "[Old] wind: n02814533 - #: 500\n",
      "[Old] wind: n02814533 - #: 50\n",
      "[New] wnind: n02814533 - #train: 385 - #test: 165\n",
      "[Old] wind: n01443537 - #: 500\n",
      "[Old] wind: n01443537 - #: 50\n",
      "[New] wnind: n01443537 - #train: 385 - #test: 165\n",
      "[Old] wind: n03447447 - #: 500\n",
      "[Old] wind: n03447447 - #: 50\n",
      "[New] wnind: n03447447 - #train: 385 - #test: 165\n",
      "[Old] wind: n02364673 - #: 500\n",
      "[Old] wind: n02364673 - #: 50\n",
      "[New] wnind: n02364673 - #train: 385 - #test: 165\n",
      "[Old] wind: n02808440 - #: 500\n",
      "[Old] wind: n02808440 - #: 50\n",
      "[New] wnind: n02808440 - #train: 385 - #test: 165\n",
      "[Old] wind: n04597913 - #: 500\n",
      "[Old] wind: n04597913 - #: 50\n",
      "[New] wnind: n04597913 - #train: 385 - #test: 165\n",
      "[Old] wind: n02988304 - #: 500\n",
      "[Old] wind: n02988304 - #: 50\n",
      "[New] wnind: n02988304 - #train: 385 - #test: 165\n",
      "[Old] wind: n02948072 - #: 500\n",
      "[Old] wind: n02948072 - #: 50\n",
      "[New] wnind: n02948072 - #train: 385 - #test: 165\n",
      "[Old] wind: n04486054 - #: 500\n",
      "[Old] wind: n04486054 - #: 50\n",
      "[New] wnind: n04486054 - #train: 385 - #test: 165\n",
      "[Old] wind: n07615774 - #: 500\n",
      "[Old] wind: n07615774 - #: 50\n",
      "[New] wnind: n07615774 - #train: 385 - #test: 165\n",
      "[Old] wind: n03970156 - #: 500\n",
      "[Old] wind: n03970156 - #: 50\n",
      "[New] wnind: n03970156 - #train: 385 - #test: 165\n",
      "[Old] wind: n03388043 - #: 500\n",
      "[Old] wind: n03388043 - #: 50\n",
      "[New] wnind: n03388043 - #train: 385 - #test: 165\n",
      "[Old] wind: n04328186 - #: 500\n",
      "[Old] wind: n04328186 - #: 50\n",
      "[New] wnind: n04328186 - #train: 385 - #test: 165\n",
      "[Old] wind: n03976657 - #: 500\n",
      "[Old] wind: n03976657 - #: 50\n",
      "[New] wnind: n03976657 - #train: 385 - #test: 165\n",
      "[Old] wind: n03014705 - #: 500\n",
      "[Old] wind: n03014705 - #: 50\n",
      "[New] wnind: n03014705 - #train: 385 - #test: 165\n",
      "[Old] wind: n03201208 - #: 500\n",
      "[Old] wind: n03201208 - #: 50\n",
      "[New] wnind: n03201208 - #train: 385 - #test: 165\n",
      "[Old] wind: n02481823 - #: 500\n",
      "[Old] wind: n02481823 - #: 50\n",
      "[New] wnind: n02481823 - #train: 385 - #test: 165\n",
      "[Old] wind: n01698640 - #: 500\n",
      "[Old] wind: n01698640 - #: 50\n",
      "[New] wnind: n01698640 - #train: 385 - #test: 165\n",
      "[Old] wind: n02906734 - #: 500\n",
      "[Old] wind: n02906734 - #: 50\n",
      "[New] wnind: n02906734 - #train: 385 - #test: 165\n",
      "[Old] wind: n03733131 - #: 500\n",
      "[Old] wind: n03733131 - #: 50\n",
      "[New] wnind: n03733131 - #train: 385 - #test: 165\n",
      "[Old] wind: n02909870 - #: 500\n",
      "[Old] wind: n02909870 - #: 50\n",
      "[New] wnind: n02909870 - #train: 385 - #test: 165\n",
      "[Old] wind: n07749582 - #: 500\n",
      "[Old] wind: n07749582 - #: 50\n",
      "[New] wnind: n07749582 - #train: 385 - #test: 165\n",
      "[Old] wind: n04133789 - #: 500\n",
      "[Old] wind: n04133789 - #: 50\n",
      "[New] wnind: n04133789 - #train: 385 - #test: 165\n",
      "[Old] wind: n02892201 - #: 500\n",
      "[Old] wind: n02892201 - #: 50\n",
      "[New] wnind: n02892201 - #train: 385 - #test: 165\n",
      "[Old] wind: n07583066 - #: 500\n",
      "[Old] wind: n07583066 - #: 50\n",
      "[New] wnind: n07583066 - #train: 385 - #test: 165\n",
      "[Old] wind: n03393912 - #: 500\n",
      "[Old] wind: n03393912 - #: 50\n",
      "[New] wnind: n03393912 - #train: 385 - #test: 165\n",
      "[Old] wind: n03649909 - #: 500\n",
      "[Old] wind: n03649909 - #: 50\n",
      "[New] wnind: n03649909 - #train: 385 - #test: 165\n",
      "[Old] wind: n09246464 - #: 500\n",
      "[Old] wind: n09246464 - #: 50\n",
      "[New] wnind: n09246464 - #train: 385 - #test: 165\n",
      "[Old] wind: n03937543 - #: 500\n",
      "[Old] wind: n03937543 - #: 50\n",
      "[New] wnind: n03937543 - #train: 385 - #test: 165\n",
      "[Old] wind: n02730930 - #: 500\n",
      "[Old] wind: n02730930 - #: 50\n",
      "[New] wnind: n02730930 - #train: 385 - #test: 165\n",
      "[Old] wind: n04149813 - #: 500\n",
      "[Old] wind: n04149813 - #: 50\n",
      "[New] wnind: n04149813 - #train: 385 - #test: 165\n",
      "[Old] wind: n01917289 - #: 500\n",
      "[Old] wind: n01917289 - #: 50\n",
      "[New] wnind: n01917289 - #train: 385 - #test: 165\n",
      "[Old] wind: n02415577 - #: 500\n",
      "[Old] wind: n02415577 - #: 50\n",
      "[New] wnind: n02415577 - #train: 385 - #test: 165\n",
      "[Old] wind: n02123394 - #: 500\n",
      "[Old] wind: n02123394 - #: 50\n",
      "[New] wnind: n02123394 - #train: 385 - #test: 165\n",
      "[Old] wind: n02125311 - #: 500\n",
      "[Old] wind: n02125311 - #: 50\n",
      "[New] wnind: n02125311 - #train: 385 - #test: 165\n",
      "[Old] wind: n01983481 - #: 500\n",
      "[Old] wind: n01983481 - #: 50\n",
      "[New] wnind: n01983481 - #train: 385 - #test: 165\n",
      "[Old] wind: n02669723 - #: 500\n",
      "[Old] wind: n02669723 - #: 50\n",
      "[New] wnind: n02669723 - #train: 385 - #test: 165\n",
      "[Old] wind: n01774750 - #: 500\n",
      "[Old] wind: n01774750 - #: 50\n",
      "[New] wnind: n01774750 - #train: 385 - #test: 165\n",
      "[Old] wind: n03977966 - #: 500\n",
      "[Old] wind: n03977966 - #: 50\n",
      "[New] wnind: n03977966 - #train: 385 - #test: 165\n",
      "[Old] wind: n01770393 - #: 500\n",
      "[Old] wind: n01770393 - #: 50\n",
      "[New] wnind: n01770393 - #train: 385 - #test: 165\n",
      "[Old] wind: n04179913 - #: 500\n",
      "[Old] wind: n04179913 - #: 50\n",
      "[New] wnind: n04179913 - #train: 385 - #test: 165\n",
      "[Old] wind: n02950826 - #: 500\n",
      "[Old] wind: n02950826 - #: 50\n",
      "[New] wnind: n02950826 - #train: 385 - #test: 165\n",
      "[Old] wind: n02814860 - #: 500\n",
      "[Old] wind: n02814860 - #: 50\n",
      "[New] wnind: n02814860 - #train: 385 - #test: 165\n",
      "[Old] wind: n02395406 - #: 500\n",
      "[Old] wind: n02395406 - #: 50\n",
      "[New] wnind: n02395406 - #train: 385 - #test: 165\n",
      "[Old] wind: n04356056 - #: 500\n",
      "[Old] wind: n04356056 - #: 50\n",
      "[New] wnind: n04356056 - #train: 385 - #test: 165\n",
      "[Old] wind: n07695742 - #: 500\n",
      "[Old] wind: n07695742 - #: 50\n",
      "[New] wnind: n07695742 - #train: 385 - #test: 165\n",
      "[Old] wind: n04456115 - #: 500\n",
      "[Old] wind: n04456115 - #: 50\n",
      "[New] wnind: n04456115 - #train: 385 - #test: 165\n",
      "[Old] wind: n04285008 - #: 500\n",
      "[Old] wind: n04285008 - #: 50\n",
      "[New] wnind: n04285008 - #train: 385 - #test: 165\n",
      "[Old] wind: n04465501 - #: 500\n",
      "[Old] wind: n04465501 - #: 50\n",
      "[New] wnind: n04465501 - #train: 385 - #test: 165\n",
      "[Old] wind: n03100240 - #: 500\n",
      "[Old] wind: n03100240 - #: 50\n",
      "[New] wnind: n03100240 - #train: 385 - #test: 165\n",
      "[Old] wind: n02403003 - #: 500\n",
      "[Old] wind: n02403003 - #: 50\n",
      "[New] wnind: n02403003 - #train: 385 - #test: 165\n",
      "[Old] wind: n02226429 - #: 500\n",
      "[Old] wind: n02226429 - #: 50\n",
      "[New] wnind: n02226429 - #train: 385 - #test: 165\n",
      "[Old] wind: n03400231 - #: 500\n",
      "[Old] wind: n03400231 - #: 50\n",
      "[New] wnind: n03400231 - #train: 385 - #test: 165\n",
      "[Old] wind: n04275548 - #: 500\n",
      "[Old] wind: n04275548 - #: 50\n",
      "[New] wnind: n04275548 - #train: 385 - #test: 165\n",
      "[Old] wind: n01945685 - #: 500\n",
      "[Old] wind: n01945685 - #: 50\n",
      "[New] wnind: n01945685 - #train: 385 - #test: 165\n",
      "[Old] wind: n02106662 - #: 500\n",
      "[Old] wind: n02106662 - #: 50\n",
      "[New] wnind: n02106662 - #train: 385 - #test: 165\n",
      "[Old] wind: n02129165 - #: 500\n",
      "[Old] wind: n02129165 - #: 50\n",
      "[New] wnind: n02129165 - #train: 385 - #test: 165\n",
      "[Old] wind: n02190166 - #: 500\n",
      "[Old] wind: n02190166 - #: 50\n",
      "[New] wnind: n02190166 - #train: 385 - #test: 165\n",
      "[Old] wind: n02802426 - #: 500\n",
      "[Old] wind: n02802426 - #: 50\n",
      "[New] wnind: n02802426 - #train: 385 - #test: 165\n",
      "[Old] wind: n04067472 - #: 500\n",
      "[Old] wind: n04067472 - #: 50\n",
      "[New] wnind: n04067472 - #train: 385 - #test: 165\n",
      "[Old] wind: n09428293 - #: 500\n",
      "[Old] wind: n09428293 - #: 50\n",
      "[New] wnind: n09428293 - #train: 385 - #test: 165\n",
      "[Old] wind: n04371430 - #: 500\n",
      "[Old] wind: n04371430 - #: 50\n",
      "[New] wnind: n04371430 - #train: 385 - #test: 165\n",
      "[Old] wind: n01882714 - #: 500\n",
      "[Old] wind: n01882714 - #: 50\n",
      "[New] wnind: n01882714 - #train: 385 - #test: 165\n",
      "[Old] wind: n07747607 - #: 500\n",
      "[Old] wind: n07747607 - #: 50\n",
      "[New] wnind: n07747607 - #train: 385 - #test: 165\n",
      "[Old] wind: n04376876 - #: 500\n",
      "[Old] wind: n04376876 - #: 50\n",
      "[New] wnind: n04376876 - #train: 385 - #test: 165\n",
      "[Old] wind: n07579787 - #: 500\n",
      "[Old] wind: n07579787 - #: 50\n",
      "[New] wnind: n07579787 - #train: 385 - #test: 165\n",
      "[Old] wind: n12267677 - #: 500\n",
      "[Old] wind: n12267677 - #: 50\n",
      "[New] wnind: n12267677 - #train: 385 - #test: 165\n",
      "[Old] wind: n03670208 - #: 500\n",
      "[Old] wind: n03670208 - #: 50\n",
      "[New] wnind: n03670208 - #train: 385 - #test: 165\n",
      "[Old] wind: n02883205 - #: 500\n",
      "[Old] wind: n02883205 - #: 50\n",
      "[New] wnind: n02883205 - #train: 385 - #test: 165\n",
      "[Old] wind: n04023962 - #: 500\n",
      "[Old] wind: n04023962 - #: 50\n",
      "[New] wnind: n04023962 - #train: 385 - #test: 165\n",
      "[Old] wind: n07920052 - #: 500\n",
      "[Old] wind: n07920052 - #: 50\n",
      "[New] wnind: n07920052 - #train: 385 - #test: 165\n",
      "[Old] wind: n02279972 - #: 500\n",
      "[Old] wind: n02279972 - #: 50\n",
      "[New] wnind: n02279972 - #train: 385 - #test: 165\n",
      "[Old] wind: n02509815 - #: 500\n",
      "[Old] wind: n02509815 - #: 50\n",
      "[New] wnind: n02509815 - #train: 385 - #test: 165\n",
      "[Old] wind: n02233338 - #: 500\n",
      "[Old] wind: n02233338 - #: 50\n",
      "[New] wnind: n02233338 - #train: 385 - #test: 165\n",
      "[Old] wind: n04562935 - #: 500\n",
      "[Old] wind: n04562935 - #: 50\n",
      "[New] wnind: n04562935 - #train: 385 - #test: 165\n",
      "[Old] wind: n03599486 - #: 500\n",
      "[Old] wind: n03599486 - #: 50\n",
      "[New] wnind: n03599486 - #train: 385 - #test: 165\n",
      "[Old] wind: n04008634 - #: 500\n",
      "[Old] wind: n04008634 - #: 50\n",
      "[New] wnind: n04008634 - #train: 385 - #test: 165\n",
      "[Old] wind: n03770439 - #: 500\n",
      "[Old] wind: n03770439 - #: 50\n",
      "[New] wnind: n03770439 - #train: 385 - #test: 165\n",
      "[Old] wind: n03404251 - #: 500\n",
      "[Old] wind: n03404251 - #: 50\n",
      "[New] wnind: n03404251 - #train: 385 - #test: 165\n",
      "[Old] wind: n04399382 - #: 500\n",
      "[Old] wind: n04399382 - #: 50\n",
      "[New] wnind: n04399382 - #train: 385 - #test: 165\n",
      "[Old] wind: n03126707 - #: 500\n",
      "[Old] wind: n03126707 - #: 50\n",
      "[New] wnind: n03126707 - #train: 385 - #test: 165\n",
      "[Old] wind: n03424325 - #: 500\n",
      "[Old] wind: n03424325 - #: 50\n",
      "[New] wnind: n03424325 - #train: 385 - #test: 165\n",
      "[Old] wind: n01742172 - #: 500\n",
      "[Old] wind: n01742172 - #: 50\n",
      "[New] wnind: n01742172 - #train: 385 - #test: 165\n",
      "[Old] wind: n07614500 - #: 500\n",
      "[Old] wind: n07614500 - #: 50\n",
      "[New] wnind: n07614500 - #train: 385 - #test: 165\n",
      "[Old] wind: n02843684 - #: 500\n",
      "[Old] wind: n02843684 - #: 50\n",
      "[New] wnind: n02843684 - #train: 385 - #test: 165\n",
      "[Old] wind: n02795169 - #: 500\n",
      "[Old] wind: n02795169 - #: 50\n",
      "[New] wnind: n02795169 - #train: 385 - #test: 165\n",
      "[Old] wind: n01644900 - #: 500\n",
      "[Old] wind: n01644900 - #: 50\n",
      "[New] wnind: n01644900 - #train: 385 - #test: 165\n",
      "[Old] wind: n02056570 - #: 500\n",
      "[Old] wind: n02056570 - #: 50\n",
      "[New] wnind: n02056570 - #train: 385 - #test: 165\n",
      "[Old] wind: n03980874 - #: 500\n",
      "[Old] wind: n03980874 - #: 50\n",
      "[New] wnind: n03980874 - #train: 385 - #test: 165\n",
      "[Old] wind: n02423022 - #: 500\n",
      "[Old] wind: n02423022 - #: 50\n",
      "[New] wnind: n02423022 - #train: 385 - #test: 165\n",
      "[Old] wind: n02206856 - #: 500\n",
      "[Old] wind: n02206856 - #: 50\n",
      "[New] wnind: n02206856 - #train: 385 - #test: 165\n",
      "[Old] wind: n02823428 - #: 500\n",
      "[Old] wind: n02823428 - #: 50\n",
      "[New] wnind: n02823428 - #train: 385 - #test: 165\n",
      "[Old] wind: n02927161 - #: 500\n",
      "[Old] wind: n02927161 - #: 50\n",
      "[New] wnind: n02927161 - #train: 385 - #test: 165\n",
      "[Old] wind: n02769748 - #: 500\n",
      "[Old] wind: n02769748 - #: 50\n",
      "[New] wnind: n02769748 - #train: 385 - #test: 165\n",
      "[Old] wind: n03179701 - #: 500\n",
      "[Old] wind: n03179701 - #: 50\n",
      "[New] wnind: n03179701 - #train: 385 - #test: 165\n",
      "[Old] wind: n02504458 - #: 500\n",
      "[Old] wind: n02504458 - #: 50\n",
      "[New] wnind: n02504458 - #train: 385 - #test: 165\n",
      "[Old] wind: n02837789 - #: 500\n",
      "[Old] wind: n02837789 - #: 50\n",
      "[New] wnind: n02837789 - #train: 385 - #test: 165\n",
      "[Old] wind: n02099601 - #: 500\n",
      "[Old] wind: n02099601 - #: 50\n",
      "[New] wnind: n02099601 - #train: 385 - #test: 165\n",
      "[Old] wind: n03837869 - #: 500\n",
      "[Old] wind: n03837869 - #: 50\n",
      "[New] wnind: n03837869 - #train: 385 - #test: 165\n",
      "[Old] wind: n04265275 - #: 500\n",
      "[Old] wind: n04265275 - #: 50\n",
      "[New] wnind: n04265275 - #train: 385 - #test: 165\n",
      "[Old] wind: n02791270 - #: 500\n",
      "[Old] wind: n02791270 - #: 50\n",
      "[New] wnind: n02791270 - #train: 385 - #test: 165\n",
      "[Old] wind: n07875152 - #: 500\n",
      "[Old] wind: n07875152 - #: 50\n",
      "[New] wnind: n07875152 - #train: 385 - #test: 165\n",
      "[Old] wind: n03992509 - #: 500\n",
      "[Old] wind: n03992509 - #: 50\n",
      "[New] wnind: n03992509 - #train: 385 - #test: 165\n",
      "[Old] wind: n02002724 - #: 500\n",
      "[Old] wind: n02002724 - #: 50\n",
      "[New] wnind: n02002724 - #train: 385 - #test: 165\n",
      "[Old] wind: n04146614 - #: 500\n",
      "[Old] wind: n04146614 - #: 50\n",
      "[New] wnind: n04146614 - #train: 385 - #test: 165\n",
      "[Old] wind: n02410509 - #: 500\n",
      "[Old] wind: n02410509 - #: 50\n",
      "[New] wnind: n02410509 - #train: 385 - #test: 165\n",
      "[Old] wind: n06596364 - #: 500\n",
      "[Old] wind: n06596364 - #: 50\n",
      "[New] wnind: n06596364 - #train: 385 - #test: 165\n",
      "[Old] wind: n01641577 - #: 500\n",
      "[Old] wind: n01641577 - #: 50\n",
      "[New] wnind: n01641577 - #train: 385 - #test: 165\n",
      "[Old] wind: n04417672 - #: 500\n",
      "[Old] wind: n04417672 - #: 50\n",
      "[New] wnind: n04417672 - #train: 385 - #test: 165\n",
      "[Old] wind: n03854065 - #: 500\n",
      "[Old] wind: n03854065 - #: 50\n",
      "[New] wnind: n03854065 - #train: 385 - #test: 165\n",
      "[Old] wind: n02268443 - #: 500\n",
      "[Old] wind: n02268443 - #: 50\n",
      "[New] wnind: n02268443 - #train: 385 - #test: 165\n",
      "[Old] wind: n01774384 - #: 500\n",
      "[Old] wind: n01774384 - #: 50\n",
      "[New] wnind: n01774384 - #train: 385 - #test: 165\n",
      "[Old] wind: n03838899 - #: 500\n",
      "[Old] wind: n03838899 - #: 50\n",
      "[New] wnind: n03838899 - #train: 385 - #test: 165\n",
      "[Old] wind: n07871810 - #: 500\n",
      "[Old] wind: n07871810 - #: 50\n",
      "[New] wnind: n07871810 - #train: 385 - #test: 165\n",
      "[Old] wind: n09193705 - #: 500\n",
      "[Old] wind: n09193705 - #: 50\n",
      "[New] wnind: n09193705 - #train: 385 - #test: 165\n",
      "[Old] wind: n01855672 - #: 500\n",
      "[Old] wind: n01855672 - #: 50\n",
      "[New] wnind: n01855672 - #train: 385 - #test: 165\n",
      "[Old] wind: n04070727 - #: 500\n",
      "[Old] wind: n04070727 - #: 50\n",
      "[New] wnind: n04070727 - #train: 385 - #test: 165\n",
      "[Old] wind: n03617480 - #: 500\n",
      "[Old] wind: n03617480 - #: 50\n",
      "[New] wnind: n03617480 - #train: 385 - #test: 165\n",
      "[Old] wind: n04487081 - #: 500\n",
      "[Old] wind: n04487081 - #: 50\n",
      "[New] wnind: n04487081 - #train: 385 - #test: 165\n",
      "[Old] wind: n03706229 - #: 500\n",
      "[Old] wind: n03706229 - #: 50\n",
      "[New] wnind: n03706229 - #train: 385 - #test: 165\n",
      "[Old] wind: n02699494 - #: 500\n",
      "[Old] wind: n02699494 - #: 50\n",
      "[New] wnind: n02699494 - #train: 385 - #test: 165\n",
      "[Old] wind: n07711569 - #: 500\n",
      "[Old] wind: n07711569 - #: 50\n",
      "[New] wnind: n07711569 - #train: 385 - #test: 165\n",
      "[Old] wind: n09332890 - #: 500\n",
      "[Old] wind: n09332890 - #: 50\n",
      "[New] wnind: n09332890 - #train: 385 - #test: 165\n",
      "[Old] wind: n02058221 - #: 500\n",
      "[Old] wind: n02058221 - #: 50\n",
      "[New] wnind: n02058221 - #train: 385 - #test: 165\n",
      "[Old] wind: n02321529 - #: 500\n",
      "[Old] wind: n02321529 - #: 50\n",
      "[New] wnind: n02321529 - #train: 385 - #test: 165\n",
      "[Old] wind: n04560804 - #: 500\n",
      "[Old] wind: n04560804 - #: 50\n",
      "[New] wnind: n04560804 - #train: 385 - #test: 165\n",
      "[Old] wind: n02999410 - #: 500\n",
      "[Old] wind: n02999410 - #: 50\n",
      "[New] wnind: n02999410 - #train: 385 - #test: 165\n",
      "[Old] wind: n01910747 - #: 500\n",
      "[Old] wind: n01910747 - #: 50\n",
      "[New] wnind: n01910747 - #train: 385 - #test: 165\n",
      "[Old] wind: n04366367 - #: 500\n",
      "[Old] wind: n04366367 - #: 50\n",
      "[New] wnind: n04366367 - #train: 385 - #test: 165\n",
      "[Old] wind: n07715103 - #: 500\n",
      "[Old] wind: n07715103 - #: 50\n",
      "[New] wnind: n07715103 - #train: 385 - #test: 165\n",
      "[Old] wind: n04596742 - #: 500\n",
      "[Old] wind: n04596742 - #: 50\n",
      "[New] wnind: n04596742 - #train: 385 - #test: 165\n",
      "[Old] wind: n03584254 - #: 500\n",
      "[Old] wind: n03584254 - #: 50\n",
      "[New] wnind: n03584254 - #train: 385 - #test: 165\n",
      "[Old] wind: n04259630 - #: 500\n",
      "[Old] wind: n04259630 - #: 50\n",
      "[New] wnind: n04259630 - #train: 385 - #test: 165\n",
      "[Old] wind: n09256479 - #: 500\n",
      "[Old] wind: n09256479 - #: 50\n",
      "[New] wnind: n09256479 - #train: 385 - #test: 165\n",
      "[Old] wind: n02977058 - #: 500\n",
      "[Old] wind: n02977058 - #: 50\n",
      "[New] wnind: n02977058 - #train: 385 - #test: 165\n",
      "[Old] wind: n07720875 - #: 500\n",
      "[Old] wind: n07720875 - #: 50\n",
      "[New] wnind: n07720875 - #train: 385 - #test: 165\n",
      "[Old] wind: n04251144 - #: 500\n",
      "[Old] wind: n04251144 - #: 50\n",
      "[New] wnind: n04251144 - #train: 385 - #test: 165\n",
      "[Old] wind: n02085620 - #: 500\n",
      "[Old] wind: n02085620 - #: 50\n",
      "[New] wnind: n02085620 - #train: 385 - #test: 165\n",
      "[Old] wind: n04540053 - #: 500\n",
      "[Old] wind: n04540053 - #: 50\n",
      "[New] wnind: n04540053 - #train: 385 - #test: 165\n",
      "[Old] wind: n02917067 - #: 500\n",
      "[Old] wind: n02917067 - #: 50\n",
      "[New] wnind: n02917067 - #train: 385 - #test: 165\n",
      "[Old] wind: n04311004 - #: 500\n",
      "[Old] wind: n04311004 - #: 50\n",
      "[New] wnind: n04311004 - #train: 385 - #test: 165\n",
      "[Old] wind: n04118538 - #: 500\n",
      "[Old] wind: n04118538 - #: 50\n",
      "[New] wnind: n04118538 - #train: 385 - #test: 165\n",
      "[Old] wind: n01984695 - #: 500\n",
      "[Old] wind: n01984695 - #: 50\n",
      "[New] wnind: n01984695 - #train: 385 - #test: 165\n",
      "[Old] wind: n02124075 - #: 500\n",
      "[Old] wind: n02124075 - #: 50\n",
      "[New] wnind: n02124075 - #train: 385 - #test: 165\n",
      "[Old] wind: n04254777 - #: 500\n",
      "[Old] wind: n04254777 - #: 50\n",
      "[New] wnind: n04254777 - #train: 385 - #test: 165\n",
      "[Old] wind: n07753592 - #: 500\n",
      "[Old] wind: n07753592 - #: 50\n",
      "[New] wnind: n07753592 - #train: 385 - #test: 165\n",
      "[Old] wind: n02113799 - #: 500\n",
      "[Old] wind: n02113799 - #: 50\n",
      "[New] wnind: n02113799 - #train: 385 - #test: 165\n",
      "[Old] wind: n02074367 - #: 500\n",
      "[Old] wind: n02074367 - #: 50\n",
      "[New] wnind: n02074367 - #train: 385 - #test: 165\n",
      "[Old] wind: n01768244 - #: 500\n",
      "[Old] wind: n01768244 - #: 50\n",
      "[New] wnind: n01768244 - #train: 385 - #test: 165\n",
      "[Old] wind: n04507155 - #: 500\n",
      "[Old] wind: n04507155 - #: 50\n",
      "[New] wnind: n04507155 - #train: 385 - #test: 165\n",
      "[Old] wind: n04532670 - #: 500\n",
      "[Old] wind: n04532670 - #: 50\n",
      "[New] wnind: n04532670 - #train: 385 - #test: 165\n",
      "[Old] wind: n07873807 - #: 500\n",
      "[Old] wind: n07873807 - #: 50\n",
      "[New] wnind: n07873807 - #train: 385 - #test: 165\n",
      "[Old] wind: n02437312 - #: 500\n",
      "[Old] wind: n02437312 - #: 50\n",
      "[New] wnind: n02437312 - #train: 385 - #test: 165\n",
      "[Old] wind: n04501370 - #: 500\n",
      "[Old] wind: n04501370 - #: 50\n",
      "[New] wnind: n04501370 - #train: 385 - #test: 165\n",
      "[Old] wind: n03902125 - #: 500\n",
      "[Old] wind: n03902125 - #: 50\n",
      "[New] wnind: n03902125 - #train: 385 - #test: 165\n",
      "[Old] wind: n02815834 - #: 500\n",
      "[Old] wind: n02815834 - #: 50\n",
      "[New] wnind: n02815834 - #train: 385 - #test: 165\n",
      "[Old] wind: n01944390 - #: 500\n",
      "[Old] wind: n01944390 - #: 50\n",
      "[New] wnind: n01944390 - #train: 385 - #test: 165\n",
      "[Old] wind: n03089624 - #: 500\n",
      "[Old] wind: n03089624 - #: 50\n",
      "[New] wnind: n03089624 - #train: 385 - #test: 165\n",
      "[Old] wind: n02788148 - #: 500\n",
      "[Old] wind: n02788148 - #: 50\n",
      "[New] wnind: n02788148 - #train: 385 - #test: 165\n",
      "[Old] wind: n03250847 - #: 500\n",
      "[Old] wind: n03250847 - #: 50\n",
      "[New] wnind: n03250847 - #train: 385 - #test: 165\n",
      "[Old] wind: n03637318 - #: 500\n",
      "[Old] wind: n03637318 - #: 50\n",
      "[New] wnind: n03637318 - #train: 385 - #test: 165\n",
      "[Old] wind: n02480495 - #: 500\n",
      "[Old] wind: n02480495 - #: 50\n",
      "[New] wnind: n02480495 - #train: 385 - #test: 165\n",
      "[Old] wind: n02094433 - #: 500\n",
      "[Old] wind: n02094433 - #: 50\n",
      "[New] wnind: n02094433 - #train: 385 - #test: 165\n",
      "[Old] wind: n03085013 - #: 500\n",
      "[Old] wind: n03085013 - #: 50\n",
      "[New] wnind: n03085013 - #train: 385 - #test: 165\n",
      "[Old] wind: n01950731 - #: 500\n",
      "[Old] wind: n01950731 - #: 50\n",
      "[New] wnind: n01950731 - #train: 385 - #test: 165\n",
      "[Old] wind: n03444034 - #: 500\n",
      "[Old] wind: n03444034 - #: 50\n",
      "[New] wnind: n03444034 - #train: 385 - #test: 165\n",
      "[Old] wind: n02165456 - #: 500\n",
      "[Old] wind: n02165456 - #: 50\n",
      "[New] wnind: n02165456 - #train: 385 - #test: 165\n",
      "[Old] wind: n02281406 - #: 500\n",
      "[Old] wind: n02281406 - #: 50\n",
      "[New] wnind: n02281406 - #train: 385 - #test: 165\n",
      "[Old] wind: n03891332 - #: 500\n",
      "[Old] wind: n03891332 - #: 50\n",
      "[New] wnind: n03891332 - #train: 385 - #test: 165\n",
      "[Old] wind: n02486410 - #: 500\n",
      "[Old] wind: n02486410 - #: 50\n",
      "[New] wnind: n02486410 - #train: 385 - #test: 165\n",
      "[Old] wind: n03026506 - #: 500\n",
      "[Old] wind: n03026506 - #: 50\n",
      "[New] wnind: n03026506 - #train: 385 - #test: 165\n",
      "[Old] wind: n04398044 - #: 500\n",
      "[Old] wind: n04398044 - #: 50\n",
      "[New] wnind: n04398044 - #train: 385 - #test: 165\n",
      "[Old] wind: n02123045 - #: 500\n",
      "[Old] wind: n02123045 - #: 50\n",
      "[New] wnind: n02123045 - #train: 385 - #test: 165\n",
      "[Old] wind: n03930313 - #: 500\n",
      "[Old] wind: n03930313 - #: 50\n",
      "[New] wnind: n03930313 - #train: 385 - #test: 165\n",
      "[New] #train: 77000 - #test: 33000\n",
      "Cleaning up: /home/studio-lab-user/EVA7/tiny-imagenet-200/train\n",
      "Cleaning up: /home/studio-lab-user/EVA7/tiny-imagenet-200/val\n",
      "Created new train data at: /home/studio-lab-user/EVA7/tiny-imagenet-200/new_train\n",
      "Cleaning new test data at: /home/studio-lab-user/EVA7/tiny-imagenet-200/new_test\n",
      "Splitting dataset done\n"
     ]
    }
   ],
   "source": [
    "#!python prepare_tiny-imagenet-200.py"
   ]
  },
  {
   "cell_type": "code",
   "execution_count": 3,
   "id": "cbc75169-4af2-481f-9a72-804b955b5fc0",
   "metadata": {},
   "outputs": [],
   "source": [
    "#!python -m zipfile -c tiny_image_net_200.zip tiny-imagenet-200"
   ]
  },
  {
   "cell_type": "code",
   "execution_count": 1,
   "id": "6622c096-5128-46c5-b828-d87d19790b1d",
   "metadata": {},
   "outputs": [
    {
     "name": "stdout",
     "output_type": "stream",
     "text": [
      "Requirement already satisfied: albumentations in /home/studio-lab-user/.conda/envs/default/lib/python3.9/site-packages (1.1.0)\n",
      "Requirement already satisfied: numpy>=1.11.1 in /home/studio-lab-user/.conda/envs/default/lib/python3.9/site-packages (from albumentations) (1.21.4)\n",
      "Requirement already satisfied: scikit-image>=0.16.1 in /home/studio-lab-user/.conda/envs/default/lib/python3.9/site-packages (from albumentations) (0.19.0)\n",
      "Requirement already satisfied: PyYAML in /home/studio-lab-user/.conda/envs/default/lib/python3.9/site-packages (from albumentations) (6.0)\n",
      "Requirement already satisfied: opencv-python-headless>=4.1.1 in /home/studio-lab-user/.conda/envs/default/lib/python3.9/site-packages (from albumentations) (4.5.4.60)\n",
      "Requirement already satisfied: qudida>=0.0.4 in /home/studio-lab-user/.conda/envs/default/lib/python3.9/site-packages (from albumentations) (0.0.4)\n",
      "Requirement already satisfied: scipy in /home/studio-lab-user/.conda/envs/default/lib/python3.9/site-packages (from albumentations) (1.7.3)\n",
      "Requirement already satisfied: typing-extensions in /home/studio-lab-user/.conda/envs/default/lib/python3.9/site-packages (from qudida>=0.0.4->albumentations) (4.0.1)\n",
      "Requirement already satisfied: scikit-learn>=0.19.1 in /home/studio-lab-user/.conda/envs/default/lib/python3.9/site-packages (from qudida>=0.0.4->albumentations) (1.0.1)\n",
      "Requirement already satisfied: imageio>=2.4.1 in /home/studio-lab-user/.conda/envs/default/lib/python3.9/site-packages (from scikit-image>=0.16.1->albumentations) (2.13.3)\n",
      "Requirement already satisfied: pillow!=7.1.0,!=7.1.1,!=8.3.0,>=6.1.0 in /home/studio-lab-user/.conda/envs/default/lib/python3.9/site-packages (from scikit-image>=0.16.1->albumentations) (8.4.0)\n",
      "Requirement already satisfied: networkx>=2.2 in /home/studio-lab-user/.conda/envs/default/lib/python3.9/site-packages (from scikit-image>=0.16.1->albumentations) (2.6.3)\n",
      "Requirement already satisfied: tifffile>=2019.7.26 in /home/studio-lab-user/.conda/envs/default/lib/python3.9/site-packages (from scikit-image>=0.16.1->albumentations) (2021.11.2)\n",
      "Requirement already satisfied: packaging>=20.0 in /home/studio-lab-user/.conda/envs/default/lib/python3.9/site-packages (from scikit-image>=0.16.1->albumentations) (21.3)\n",
      "Requirement already satisfied: PyWavelets>=1.1.1 in /home/studio-lab-user/.conda/envs/default/lib/python3.9/site-packages (from scikit-image>=0.16.1->albumentations) (1.2.0)\n",
      "Requirement already satisfied: pyparsing!=3.0.5,>=2.0.2 in /home/studio-lab-user/.conda/envs/default/lib/python3.9/site-packages (from packaging>=20.0->scikit-image>=0.16.1->albumentations) (3.0.6)\n",
      "Requirement already satisfied: threadpoolctl>=2.0.0 in /home/studio-lab-user/.conda/envs/default/lib/python3.9/site-packages (from scikit-learn>=0.19.1->qudida>=0.0.4->albumentations) (3.0.0)\n",
      "Requirement already satisfied: joblib>=0.11 in /home/studio-lab-user/.conda/envs/default/lib/python3.9/site-packages (from scikit-learn>=0.19.1->qudida>=0.0.4->albumentations) (1.1.0)\n",
      "fatal: destination path 'torch-cam' already exists and is not an empty directory.\n",
      "Obtaining file:///home/studio-lab-user/EVA7/torch-cam\n",
      "Requirement already satisfied: torch>=1.5.1 in /home/studio-lab-user/.conda/envs/default/lib/python3.9/site-packages (from torchcam==0.3.2.dev0+9b2cc3b) (1.10.0)\n",
      "Requirement already satisfied: numpy>=1.14.0 in /home/studio-lab-user/.conda/envs/default/lib/python3.9/site-packages (from torchcam==0.3.2.dev0+9b2cc3b) (1.21.4)\n",
      "Requirement already satisfied: Pillow>=8.3.2 in /home/studio-lab-user/.conda/envs/default/lib/python3.9/site-packages (from torchcam==0.3.2.dev0+9b2cc3b) (8.4.0)\n",
      "Requirement already satisfied: matplotlib>=3.0.0 in /home/studio-lab-user/.conda/envs/default/lib/python3.9/site-packages (from torchcam==0.3.2.dev0+9b2cc3b) (3.5.1)\n",
      "Requirement already satisfied: kiwisolver>=1.0.1 in /home/studio-lab-user/.conda/envs/default/lib/python3.9/site-packages (from matplotlib>=3.0.0->torchcam==0.3.2.dev0+9b2cc3b) (1.3.2)\n",
      "Requirement already satisfied: pyparsing>=2.2.1 in /home/studio-lab-user/.conda/envs/default/lib/python3.9/site-packages (from matplotlib>=3.0.0->torchcam==0.3.2.dev0+9b2cc3b) (3.0.6)\n",
      "Requirement already satisfied: cycler>=0.10 in /home/studio-lab-user/.conda/envs/default/lib/python3.9/site-packages (from matplotlib>=3.0.0->torchcam==0.3.2.dev0+9b2cc3b) (0.11.0)\n",
      "Requirement already satisfied: packaging>=20.0 in /home/studio-lab-user/.conda/envs/default/lib/python3.9/site-packages (from matplotlib>=3.0.0->torchcam==0.3.2.dev0+9b2cc3b) (21.3)\n",
      "Requirement already satisfied: fonttools>=4.22.0 in /home/studio-lab-user/.conda/envs/default/lib/python3.9/site-packages (from matplotlib>=3.0.0->torchcam==0.3.2.dev0+9b2cc3b) (4.28.3)\n",
      "Requirement already satisfied: python-dateutil>=2.7 in /home/studio-lab-user/.conda/envs/default/lib/python3.9/site-packages (from matplotlib>=3.0.0->torchcam==0.3.2.dev0+9b2cc3b) (2.8.2)\n",
      "Requirement already satisfied: six>=1.5 in /home/studio-lab-user/.conda/envs/default/lib/python3.9/site-packages (from python-dateutil>=2.7->matplotlib>=3.0.0->torchcam==0.3.2.dev0+9b2cc3b) (1.16.0)\n",
      "Requirement already satisfied: typing-extensions in /home/studio-lab-user/.conda/envs/default/lib/python3.9/site-packages (from torch>=1.5.1->torchcam==0.3.2.dev0+9b2cc3b) (4.0.1)\n",
      "Installing collected packages: torchcam\n",
      "  Attempting uninstall: torchcam\n",
      "    Found existing installation: torchcam 0.3.2.dev0+9b2cc3b\n",
      "    Uninstalling torchcam-0.3.2.dev0+9b2cc3b:\n",
      "      Successfully uninstalled torchcam-0.3.2.dev0+9b2cc3b\n",
      "  Running setup.py develop for torchcam\n",
      "Successfully installed torchcam-0.3.2.dev0+9b2cc3b\n",
      "Requirement already satisfied: torch-lr-finder in /home/studio-lab-user/.conda/envs/default/lib/python3.9/site-packages (0.2.1)\n",
      "Requirement already satisfied: packaging in /home/studio-lab-user/.conda/envs/default/lib/python3.9/site-packages (from torch-lr-finder) (21.3)\n",
      "Requirement already satisfied: torch>=0.4.1 in /home/studio-lab-user/.conda/envs/default/lib/python3.9/site-packages (from torch-lr-finder) (1.10.0)\n",
      "Requirement already satisfied: matplotlib in /home/studio-lab-user/.conda/envs/default/lib/python3.9/site-packages (from torch-lr-finder) (3.5.1)\n",
      "Requirement already satisfied: numpy in /home/studio-lab-user/.conda/envs/default/lib/python3.9/site-packages (from torch-lr-finder) (1.21.4)\n",
      "Requirement already satisfied: tqdm in /home/studio-lab-user/.conda/envs/default/lib/python3.9/site-packages (from torch-lr-finder) (4.62.3)\n",
      "Requirement already satisfied: typing-extensions in /home/studio-lab-user/.conda/envs/default/lib/python3.9/site-packages (from torch>=0.4.1->torch-lr-finder) (4.0.1)\n",
      "Requirement already satisfied: cycler>=0.10 in /home/studio-lab-user/.conda/envs/default/lib/python3.9/site-packages (from matplotlib->torch-lr-finder) (0.11.0)\n",
      "Requirement already satisfied: fonttools>=4.22.0 in /home/studio-lab-user/.conda/envs/default/lib/python3.9/site-packages (from matplotlib->torch-lr-finder) (4.28.3)\n",
      "Requirement already satisfied: python-dateutil>=2.7 in /home/studio-lab-user/.conda/envs/default/lib/python3.9/site-packages (from matplotlib->torch-lr-finder) (2.8.2)\n",
      "Requirement already satisfied: pillow>=6.2.0 in /home/studio-lab-user/.conda/envs/default/lib/python3.9/site-packages (from matplotlib->torch-lr-finder) (8.4.0)\n",
      "Requirement already satisfied: pyparsing>=2.2.1 in /home/studio-lab-user/.conda/envs/default/lib/python3.9/site-packages (from matplotlib->torch-lr-finder) (3.0.6)\n",
      "Requirement already satisfied: kiwisolver>=1.0.1 in /home/studio-lab-user/.conda/envs/default/lib/python3.9/site-packages (from matplotlib->torch-lr-finder) (1.3.2)\n",
      "Requirement already satisfied: six>=1.5 in /home/studio-lab-user/.conda/envs/default/lib/python3.9/site-packages (from python-dateutil>=2.7->matplotlib->torch-lr-finder) (1.16.0)\n"
     ]
    }
   ],
   "source": [
    "!pip install --upgrade albumentations\n",
    "!git clone https://github.com/frgfm/torch-cam.git\n",
    "!pip install -e torch-cam/.\n",
    "!pip install torch-lr-finder"
   ]
  },
  {
   "cell_type": "code",
   "execution_count": 2,
   "id": "da2b380f-15a9-4dba-a252-c9747311f08a",
   "metadata": {},
   "outputs": [
    {
     "name": "stdout",
     "output_type": "stream",
     "text": [
      "Requirement already satisfied: torch in /home/studio-lab-user/.conda/envs/default/lib/python3.9/site-packages (1.10.0)\n",
      "Requirement already satisfied: typing-extensions in /home/studio-lab-user/.conda/envs/default/lib/python3.9/site-packages (from torch) (4.0.1)\n",
      "Requirement already satisfied: torchvision in /home/studio-lab-user/.conda/envs/default/lib/python3.9/site-packages (0.11.1)\n",
      "Requirement already satisfied: torch==1.10.0 in /home/studio-lab-user/.conda/envs/default/lib/python3.9/site-packages (from torchvision) (1.10.0)\n",
      "Requirement already satisfied: pillow!=8.3.0,>=5.3.0 in /home/studio-lab-user/.conda/envs/default/lib/python3.9/site-packages (from torchvision) (8.4.0)\n",
      "Requirement already satisfied: numpy in /home/studio-lab-user/.conda/envs/default/lib/python3.9/site-packages (from torchvision) (1.21.4)\n",
      "Requirement already satisfied: typing-extensions in /home/studio-lab-user/.conda/envs/default/lib/python3.9/site-packages (from torch==1.10.0->torchvision) (4.0.1)\n",
      "Requirement already satisfied: torchsummary in /home/studio-lab-user/.conda/envs/default/lib/python3.9/site-packages (1.5.1)\n"
     ]
    }
   ],
   "source": [
    "!pip install torch\n",
    "!pip install torchvision\n",
    "!pip install torchsummary"
   ]
  },
  {
   "cell_type": "code",
   "execution_count": 1,
   "id": "6c56158b-325a-4311-98e7-c1f1c861db49",
   "metadata": {},
   "outputs": [
    {
     "name": "stdout",
     "output_type": "stream",
     "text": [
      "Cloning into 'Weights_Heist_Flow'...\n",
      "remote: Enumerating objects: 230, done.\u001b[K\n",
      "remote: Counting objects: 100% (230/230), done.\u001b[K\n",
      "remote: Compressing objects: 100% (196/196), done.\u001b[K\n",
      "remote: Total 230 (delta 99), reused 109 (delta 31), pack-reused 0\u001b[K\n",
      "Receiving objects: 100% (230/230), 428.00 KiB | 3.86 MiB/s, done.\n",
      "Resolving deltas: 100% (99/99), done.\n"
     ]
    }
   ],
   "source": [
    "#!git clone https://github.com/eva7wandb/Weights_Heist_Flow.git"
   ]
  },
  {
   "cell_type": "code",
   "execution_count": 1,
   "id": "c6d249aa-da48-4c22-b2b3-a64d1f1a035e",
   "metadata": {},
   "outputs": [
    {
     "name": "stdout",
     "output_type": "stream",
     "text": [
      "/home/studio-lab-user/EVA7/Weights_Heist_Flow\n"
     ]
    }
   ],
   "source": [
    "%cd Weights_Heist_Flow"
   ]
  },
  {
   "cell_type": "code",
   "execution_count": 2,
   "id": "bfbb5a47-ddec-4f7d-a040-2c19c76a5650",
   "metadata": {},
   "outputs": [
    {
     "name": "stdout",
     "output_type": "stream",
     "text": [
      "/home/studio-lab-user/EVA7/Weights_Heist_Flow\n"
     ]
    }
   ],
   "source": [
    "!pwd"
   ]
  },
  {
   "cell_type": "code",
   "execution_count": 3,
   "id": "45f09478-45f2-4e01-b4a1-9f41ab70f255",
   "metadata": {},
   "outputs": [
    {
     "name": "stdout",
     "output_type": "stream",
     "text": [
      "[INFO] seed set 1\n",
      "[INFO] Cuda Avaliable :  True\n",
      "[INFO] device :  cuda\n"
     ]
    }
   ],
   "source": [
    "from main import Trainer, show_misclassification, show_loss_curves\n",
    "from models import resnet #, cus_resnet"
   ]
  },
  {
   "cell_type": "code",
   "execution_count": 5,
   "id": "3820dd7f-210e-4605-acbc-645ee708ecc9",
   "metadata": {},
   "outputs": [
    {
     "name": "stdout",
     "output_type": "stream",
     "text": [
      "[INFO] Loading Data\n",
      "----------------------------------------------------------------\n",
      "        Layer (type)               Output Shape         Param #\n",
      "================================================================\n",
      "            Conv2d-1           [-1, 64, 32, 32]           1,728\n",
      "       BatchNorm2d-2           [-1, 64, 32, 32]             128\n",
      "            Conv2d-3           [-1, 64, 32, 32]          36,864\n",
      "       BatchNorm2d-4           [-1, 64, 32, 32]             128\n",
      "            Conv2d-5           [-1, 64, 32, 32]          36,864\n",
      "       BatchNorm2d-6           [-1, 64, 32, 32]             128\n",
      "        BasicBlock-7           [-1, 64, 32, 32]               0\n",
      "            Conv2d-8           [-1, 64, 32, 32]          36,864\n",
      "       BatchNorm2d-9           [-1, 64, 32, 32]             128\n",
      "           Conv2d-10           [-1, 64, 32, 32]          36,864\n",
      "      BatchNorm2d-11           [-1, 64, 32, 32]             128\n",
      "       BasicBlock-12           [-1, 64, 32, 32]               0\n",
      "           Conv2d-13          [-1, 128, 16, 16]          73,728\n",
      "      BatchNorm2d-14          [-1, 128, 16, 16]             256\n",
      "           Conv2d-15          [-1, 128, 16, 16]         147,456\n",
      "      BatchNorm2d-16          [-1, 128, 16, 16]             256\n",
      "           Conv2d-17          [-1, 128, 16, 16]           8,192\n",
      "      BatchNorm2d-18          [-1, 128, 16, 16]             256\n",
      "       BasicBlock-19          [-1, 128, 16, 16]               0\n",
      "           Conv2d-20          [-1, 128, 16, 16]         147,456\n",
      "      BatchNorm2d-21          [-1, 128, 16, 16]             256\n",
      "           Conv2d-22          [-1, 128, 16, 16]         147,456\n",
      "      BatchNorm2d-23          [-1, 128, 16, 16]             256\n",
      "       BasicBlock-24          [-1, 128, 16, 16]               0\n",
      "           Conv2d-25            [-1, 256, 8, 8]         294,912\n",
      "      BatchNorm2d-26            [-1, 256, 8, 8]             512\n",
      "           Conv2d-27            [-1, 256, 8, 8]         589,824\n",
      "      BatchNorm2d-28            [-1, 256, 8, 8]             512\n",
      "           Conv2d-29            [-1, 256, 8, 8]          32,768\n",
      "      BatchNorm2d-30            [-1, 256, 8, 8]             512\n",
      "       BasicBlock-31            [-1, 256, 8, 8]               0\n",
      "           Conv2d-32            [-1, 256, 8, 8]         589,824\n",
      "      BatchNorm2d-33            [-1, 256, 8, 8]             512\n",
      "           Conv2d-34            [-1, 256, 8, 8]         589,824\n",
      "      BatchNorm2d-35            [-1, 256, 8, 8]             512\n",
      "       BasicBlock-36            [-1, 256, 8, 8]               0\n",
      "           Conv2d-37            [-1, 512, 4, 4]       1,179,648\n",
      "      BatchNorm2d-38            [-1, 512, 4, 4]           1,024\n",
      "           Conv2d-39            [-1, 512, 4, 4]       2,359,296\n",
      "      BatchNorm2d-40            [-1, 512, 4, 4]           1,024\n",
      "           Conv2d-41            [-1, 512, 4, 4]         131,072\n",
      "      BatchNorm2d-42            [-1, 512, 4, 4]           1,024\n",
      "       BasicBlock-43            [-1, 512, 4, 4]               0\n",
      "           Conv2d-44            [-1, 512, 4, 4]       2,359,296\n",
      "      BatchNorm2d-45            [-1, 512, 4, 4]           1,024\n",
      "           Conv2d-46            [-1, 512, 4, 4]       2,359,296\n",
      "      BatchNorm2d-47            [-1, 512, 4, 4]           1,024\n",
      "       BasicBlock-48            [-1, 512, 4, 4]               0\n",
      "           Linear-49                  [-1, 200]         102,600\n",
      "================================================================\n",
      "Total params: 11,271,432\n",
      "Trainable params: 11,271,432\n",
      "Non-trainable params: 0\n",
      "----------------------------------------------------------------\n",
      "Input size (MB): 0.01\n",
      "Forward/backward pass size (MB): 11.25\n",
      "Params size (MB): 43.00\n",
      "Estimated Total Size (MB): 54.26\n",
      "----------------------------------------------------------------\n",
      "Adam (\n",
      "Parameter Group 0\n",
      "    amsgrad: False\n",
      "    betas: (0.9, 0.999)\n",
      "    eps: 1e-08\n",
      "    lr: 0.01\n",
      "    weight_decay: 0\n",
      ")\n",
      "----------------------------------------------------------------\n",
      "Running LR finder ... \n"
     ]
    },
    {
     "data": {
      "application/vnd.jupyter.widget-view+json": {
       "model_id": "7f781e83f56548f586d9d146691f7beb",
       "version_major": 2,
       "version_minor": 0
      },
      "text/plain": [
       "  0%|          | 0/100 [00:00<?, ?it/s]"
      ]
     },
     "metadata": {},
     "output_type": "display_data"
    },
    {
     "name": "stdout",
     "output_type": "stream",
     "text": [
      "Learning rate search finished. See the graph with {finder_name}.plot()\n",
      "LR suggestion: steepest gradient\n",
      "Suggested LR: 3.20E-02\n"
     ]
    },
    {
     "data": {
      "image/png": "[encoded data removed]",
      "text/plain": [
       "<Figure size 432x288 with 1 Axes>"
      ]
     },
     "metadata": {
      "needs_background": "light"
     },
     "output_type": "display_data"
    },
    {
     "name": "stdout",
     "output_type": "stream",
     "text": [
      "few steps before and after best_loss\n",
      "(relative step, lr, loss)\n",
      "(-5, 0.4132, 5.23705)\n",
      "(-4, 0.43288, 5.23752)\n",
      "(-3, 0.45349, 5.23399)\n",
      "(-2, 0.47508, 5.23197)\n",
      "(-1, 0.4977, 5.23227)\n",
      "(0, 0.5214, 5.23114)\n",
      "(1, 0.54623, 5.23135)\n",
      "(2, 0.57224, 5.23136)\n",
      "(3, 0.59948, 5.24161)\n",
      "(4, 0.62803, 5.24746)\n",
      "----------------------------------------------------------------\n"
     ]
    }
   ],
   "source": [
    "# trainer = Trainer(\n",
    "#       resnet.ResNet18(num_classes=200), lr=0.01, batch_size=512, scheduler='RegularOCLR', optimizer='Adam', eval_model_on_load=False,\n",
    "#     label_smoothing=0.05, run_find_lr=True, epochs=50\n",
    "# )"
   ]
  },
  {
   "cell_type": "code",
   "execution_count": 4,
   "id": "f358ceae-f074-4f92-81d4-6c0f3a94a75d",
   "metadata": {},
   "outputs": [
    {
     "name": "stdout",
     "output_type": "stream",
     "text": [
      "[INFO] Loading Data\n",
      "----------------------------------------------------------------\n",
      "        Layer (type)               Output Shape         Param #\n",
      "================================================================\n",
      "            Conv2d-1           [-1, 64, 32, 32]           1,728\n",
      "       BatchNorm2d-2           [-1, 64, 32, 32]             128\n",
      "            Conv2d-3           [-1, 64, 32, 32]          36,864\n",
      "       BatchNorm2d-4           [-1, 64, 32, 32]             128\n",
      "            Conv2d-5           [-1, 64, 32, 32]          36,864\n",
      "       BatchNorm2d-6           [-1, 64, 32, 32]             128\n",
      "        BasicBlock-7           [-1, 64, 32, 32]               0\n",
      "            Conv2d-8           [-1, 64, 32, 32]          36,864\n",
      "       BatchNorm2d-9           [-1, 64, 32, 32]             128\n",
      "           Conv2d-10           [-1, 64, 32, 32]          36,864\n",
      "      BatchNorm2d-11           [-1, 64, 32, 32]             128\n",
      "       BasicBlock-12           [-1, 64, 32, 32]               0\n",
      "           Conv2d-13          [-1, 128, 16, 16]          73,728\n",
      "      BatchNorm2d-14          [-1, 128, 16, 16]             256\n",
      "           Conv2d-15          [-1, 128, 16, 16]         147,456\n",
      "      BatchNorm2d-16          [-1, 128, 16, 16]             256\n",
      "           Conv2d-17          [-1, 128, 16, 16]           8,192\n",
      "      BatchNorm2d-18          [-1, 128, 16, 16]             256\n",
      "       BasicBlock-19          [-1, 128, 16, 16]               0\n",
      "           Conv2d-20          [-1, 128, 16, 16]         147,456\n",
      "      BatchNorm2d-21          [-1, 128, 16, 16]             256\n",
      "           Conv2d-22          [-1, 128, 16, 16]         147,456\n",
      "      BatchNorm2d-23          [-1, 128, 16, 16]             256\n",
      "       BasicBlock-24          [-1, 128, 16, 16]               0\n",
      "           Conv2d-25            [-1, 256, 8, 8]         294,912\n",
      "      BatchNorm2d-26            [-1, 256, 8, 8]             512\n",
      "           Conv2d-27            [-1, 256, 8, 8]         589,824\n",
      "      BatchNorm2d-28            [-1, 256, 8, 8]             512\n",
      "           Conv2d-29            [-1, 256, 8, 8]          32,768\n",
      "      BatchNorm2d-30            [-1, 256, 8, 8]             512\n",
      "       BasicBlock-31            [-1, 256, 8, 8]               0\n",
      "           Conv2d-32            [-1, 256, 8, 8]         589,824\n",
      "      BatchNorm2d-33            [-1, 256, 8, 8]             512\n",
      "           Conv2d-34            [-1, 256, 8, 8]         589,824\n",
      "      BatchNorm2d-35            [-1, 256, 8, 8]             512\n",
      "       BasicBlock-36            [-1, 256, 8, 8]               0\n",
      "           Conv2d-37            [-1, 512, 4, 4]       1,179,648\n",
      "      BatchNorm2d-38            [-1, 512, 4, 4]           1,024\n",
      "           Conv2d-39            [-1, 512, 4, 4]       2,359,296\n",
      "      BatchNorm2d-40            [-1, 512, 4, 4]           1,024\n",
      "           Conv2d-41            [-1, 512, 4, 4]         131,072\n",
      "      BatchNorm2d-42            [-1, 512, 4, 4]           1,024\n",
      "       BasicBlock-43            [-1, 512, 4, 4]               0\n",
      "           Conv2d-44            [-1, 512, 4, 4]       2,359,296\n",
      "      BatchNorm2d-45            [-1, 512, 4, 4]           1,024\n",
      "           Conv2d-46            [-1, 512, 4, 4]       2,359,296\n",
      "      BatchNorm2d-47            [-1, 512, 4, 4]           1,024\n",
      "       BasicBlock-48            [-1, 512, 4, 4]               0\n",
      "           Linear-49                  [-1, 200]         102,600\n",
      "================================================================\n",
      "Total params: 11,271,432\n",
      "Trainable params: 11,271,432\n",
      "Non-trainable params: 0\n",
      "----------------------------------------------------------------\n",
      "Input size (MB): 0.01\n",
      "Forward/backward pass size (MB): 11.25\n",
      "Params size (MB): 43.00\n",
      "Estimated Total Size (MB): 54.26\n",
      "----------------------------------------------------------------\n",
      "Adam (\n",
      "Parameter Group 0\n",
      "    amsgrad: False\n",
      "    betas: (0.9, 0.999)\n",
      "    eps: 1e-08\n",
      "    lr: 0.03\n",
      "    weight_decay: 0\n",
      ")\n",
      "----------------------------------------------------------------\n",
      "----------------------------------------------------------------\n"
     ]
    }
   ],
   "source": [
    "trainer = Trainer(\n",
    "      resnet.ResNet18(num_classes=200), lr=0.03, batch_size=512, scheduler='RegularOCLR', optimizer='Adam', eval_model_on_load=False,\n",
    "    label_smoothing=0.05, run_find_lr=False, epochs=50\n",
    ")"
   ]
  },
  {
   "cell_type": "code",
   "execution_count": null,
   "id": "b91de389-916e-4006-855f-3d31dc94a714",
   "metadata": {},
   "outputs": [
    {
     "name": "stdout",
     "output_type": "stream",
     "text": [
      "[INFO] Begin training for 40 epochs.\n"
     ]
    },
    {
     "name": "stderr",
     "output_type": "stream",
     "text": [
      "TRAIN Epoch:0 Loss:4.9952 Batch:150 Acc:2.74: 100%|██████████| 151/151 [05:16<00:00,  2.09s/it]\n"
     ]
    },
    {
     "name": "stdout",
     "output_type": "stream",
     "text": [
      "TEST         Loss:4.8815         Acc:4.78         [1576 / 33000]\n"
     ]
    },
    {
     "name": "stderr",
     "output_type": "stream",
     "text": [
      "TRAIN Epoch:1 Loss:4.4532 Batch:150 Acc:6.55: 100%|██████████| 151/151 [04:55<00:00,  1.96s/it]\n"
     ]
    },
    {
     "name": "stdout",
     "output_type": "stream",
     "text": [
      "TEST         Loss:4.4146         Acc:8.90         [2936 / 33000]\n"
     ]
    },
    {
     "name": "stderr",
     "output_type": "stream",
     "text": [
      "TRAIN Epoch:2 Loss:3.6964 Batch:150 Acc:11.72: 100%|██████████| 151/151 [05:23<00:00,  2.14s/it]\n"
     ]
    },
    {
     "name": "stdout",
     "output_type": "stream",
     "text": [
      "TEST         Loss:4.0434         Acc:14.81         [4886 / 33000]\n"
     ]
    },
    {
     "name": "stderr",
     "output_type": "stream",
     "text": [
      "TRAIN Epoch:3 Loss:3.8201 Batch:150 Acc:17.03: 100%|██████████| 151/151 [05:14<00:00,  2.08s/it]\n"
     ]
    },
    {
     "name": "stdout",
     "output_type": "stream",
     "text": [
      "TEST         Loss:3.7531         Acc:20.52         [6772 / 33000]\n"
     ]
    },
    {
     "name": "stderr",
     "output_type": "stream",
     "text": [
      "TRAIN Epoch:4 Loss:3.611 Batch:150 Acc:22.48: 100%|██████████| 151/151 [05:10<00:00,  2.06s/it] \n"
     ]
    },
    {
     "name": "stdout",
     "output_type": "stream",
     "text": [
      "TEST         Loss:3.5475         Acc:24.45         [8070 / 33000]\n"
     ]
    },
    {
     "name": "stderr",
     "output_type": "stream",
     "text": [
      "TRAIN Epoch:5 Loss:3.2511 Batch:150 Acc:27.14: 100%|██████████| 151/151 [05:29<00:00,  2.18s/it]\n"
     ]
    },
    {
     "name": "stdout",
     "output_type": "stream",
     "text": [
      "TEST         Loss:3.4673         Acc:26.07         [8604 / 33000]\n"
     ]
    },
    {
     "name": "stderr",
     "output_type": "stream",
     "text": [
      "TRAIN Epoch:6 Loss:3.2491 Batch:150 Acc:32.08: 100%|██████████| 151/151 [04:58<00:00,  1.98s/it]\n"
     ]
    },
    {
     "name": "stdout",
     "output_type": "stream",
     "text": [
      "TEST         Loss:3.2962         Acc:30.44         [10046 / 33000]\n"
     ]
    },
    {
     "name": "stderr",
     "output_type": "stream",
     "text": [
      "TRAIN Epoch:7 Loss:2.7027 Batch:150 Acc:36.20: 100%|██████████| 151/151 [05:25<00:00,  2.16s/it]\n"
     ]
    },
    {
     "name": "stdout",
     "output_type": "stream",
     "text": [
      "TEST         Loss:3.3030         Acc:30.40         [10032 / 33000]\n"
     ]
    },
    {
     "name": "stderr",
     "output_type": "stream",
     "text": [
      "TRAIN Epoch:8 Loss:2.643 Batch:150 Acc:40.32: 100%|██████████| 151/151 [05:18<00:00,  2.11s/it] \n"
     ]
    },
    {
     "name": "stdout",
     "output_type": "stream",
     "text": [
      "TEST         Loss:3.2156         Acc:33.50         [11054 / 33000]\n"
     ]
    },
    {
     "name": "stderr",
     "output_type": "stream",
     "text": [
      "TRAIN Epoch:9 Loss:2.5807 Batch:150 Acc:44.01: 100%|██████████| 151/151 [05:04<00:00,  2.02s/it]\n"
     ]
    },
    {
     "name": "stdout",
     "output_type": "stream",
     "text": [
      "TEST         Loss:2.9368         Acc:38.44         [12685 / 33000]\n"
     ]
    },
    {
     "name": "stderr",
     "output_type": "stream",
     "text": [
      "TRAIN Epoch:10 Loss:2.5135 Batch:150 Acc:47.41: 100%|██████████| 151/151 [05:27<00:00,  2.17s/it]\n"
     ]
    },
    {
     "name": "stdout",
     "output_type": "stream",
     "text": [
      "TEST         Loss:2.8717         Acc:40.43         [13341 / 33000]\n"
     ]
    },
    {
     "name": "stderr",
     "output_type": "stream",
     "text": [
      "TRAIN Epoch:11 Loss:2.4404 Batch:150 Acc:50.93: 100%|██████████| 151/151 [05:01<00:00,  1.99s/it]\n"
     ]
    },
    {
     "name": "stdout",
     "output_type": "stream",
     "text": [
      "TEST         Loss:2.7180         Acc:44.15         [14571 / 33000]\n"
     ]
    },
    {
     "name": "stderr",
     "output_type": "stream",
     "text": [
      "TRAIN Epoch:12 Loss:2.1137 Batch:150 Acc:53.87: 100%|██████████| 151/151 [05:21<00:00,  2.13s/it]\n"
     ]
    },
    {
     "name": "stdout",
     "output_type": "stream",
     "text": [
      "TEST         Loss:2.9123         Acc:40.81         [13467 / 33000]\n"
     ]
    },
    {
     "name": "stderr",
     "output_type": "stream",
     "text": [
      "TRAIN Epoch:13 Loss:2.2871 Batch:150 Acc:56.67: 100%|██████████| 151/151 [05:22<00:00,  2.14s/it]\n"
     ]
    },
    {
     "name": "stdout",
     "output_type": "stream",
     "text": [
      "TEST         Loss:2.8027         Acc:43.30         [14289 / 33000]\n"
     ]
    },
    {
     "name": "stderr",
     "output_type": "stream",
     "text": [
      "TRAIN Epoch:14 Loss:1.9516 Batch:150 Acc:59.64: 100%|██████████| 151/151 [04:59<00:00,  1.99s/it]\n"
     ]
    },
    {
     "name": "stdout",
     "output_type": "stream",
     "text": [
      "TEST         Loss:2.7266         Acc:44.69         [14747 / 33000]\n"
     ]
    },
    {
     "name": "stderr",
     "output_type": "stream",
     "text": [
      "TRAIN Epoch:15 Loss:2.009 Batch:150 Acc:62.46: 100%|██████████| 151/151 [05:26<00:00,  2.16s/it] \n"
     ]
    },
    {
     "name": "stdout",
     "output_type": "stream",
     "text": [
      "TEST         Loss:2.6933         Acc:46.62         [15383 / 33000]\n"
     ]
    },
    {
     "name": "stderr",
     "output_type": "stream",
     "text": [
      "TRAIN Epoch:16 Loss:1.8804 Batch:150 Acc:65.34: 100%|██████████| 151/151 [05:06<00:00,  2.03s/it]\n"
     ]
    },
    {
     "name": "stdout",
     "output_type": "stream",
     "text": [
      "TEST         Loss:2.7272         Acc:46.02         [15187 / 33000]\n"
     ]
    },
    {
     "name": "stderr",
     "output_type": "stream",
     "text": [
      "TRAIN Epoch:17 Loss:1.7632 Batch:150 Acc:68.08: 100%|██████████| 151/151 [05:17<00:00,  2.10s/it]\n"
     ]
    },
    {
     "name": "stdout",
     "output_type": "stream",
     "text": [
      "TEST         Loss:2.7781         Acc:46.14         [15227 / 33000]\n"
     ]
    },
    {
     "name": "stderr",
     "output_type": "stream",
     "text": [
      "TRAIN Epoch:18 Loss:1.6659 Batch:150 Acc:70.90: 100%|██████████| 151/151 [05:24<00:00,  2.15s/it]\n"
     ]
    },
    {
     "name": "stdout",
     "output_type": "stream",
     "text": [
      "TEST         Loss:2.6958         Acc:48.24         [15918 / 33000]\n"
     ]
    },
    {
     "name": "stderr",
     "output_type": "stream",
     "text": [
      "TRAIN Epoch:19 Loss:1.4148 Batch:150 Acc:73.80: 100%|██████████| 151/151 [04:56<00:00,  1.96s/it]\n"
     ]
    },
    {
     "name": "stdout",
     "output_type": "stream",
     "text": [
      "TEST         Loss:2.8164         Acc:46.88         [15471 / 33000]\n"
     ]
    },
    {
     "name": "stderr",
     "output_type": "stream",
     "text": [
      "TRAIN Epoch:20 Loss:1.4251 Batch:150 Acc:76.42: 100%|██████████| 151/151 [05:27<00:00,  2.17s/it]\n"
     ]
    },
    {
     "name": "stdout",
     "output_type": "stream",
     "text": [
      "TEST         Loss:2.7530         Acc:47.65         [15724 / 33000]\n"
     ]
    },
    {
     "name": "stderr",
     "output_type": "stream",
     "text": [
      "TRAIN Epoch:21 Loss:1.4945 Batch:150 Acc:79.16: 100%|██████████| 151/151 [05:10<00:00,  2.06s/it]\n"
     ]
    },
    {
     "name": "stdout",
     "output_type": "stream",
     "text": [
      "TEST         Loss:2.8030         Acc:47.33         [15618 / 33000]\n"
     ]
    },
    {
     "name": "stderr",
     "output_type": "stream",
     "text": [
      "TRAIN Epoch:22 Loss:1.2799 Batch:150 Acc:81.60: 100%|██████████| 151/151 [05:10<00:00,  2.06s/it]\n"
     ]
    },
    {
     "name": "stdout",
     "output_type": "stream",
     "text": [
      "TEST         Loss:2.7790         Acc:48.43         [15982 / 33000]\n"
     ]
    },
    {
     "name": "stderr",
     "output_type": "stream",
     "text": [
      "TRAIN Epoch:23 Loss:1.3351 Batch:150 Acc:83.99: 100%|██████████| 151/151 [05:24<00:00,  2.15s/it]\n"
     ]
    },
    {
     "name": "stdout",
     "output_type": "stream",
     "text": [
      "TEST         Loss:2.7362         Acc:49.42         [16309 / 33000]\n"
     ]
    },
    {
     "name": "stderr",
     "output_type": "stream",
     "text": [
      "TRAIN Epoch:24 Loss:1.2798 Batch:150 Acc:86.11: 100%|██████████| 151/151 [04:58<00:00,  1.97s/it]\n"
     ]
    },
    {
     "name": "stdout",
     "output_type": "stream",
     "text": [
      "TEST         Loss:2.7845         Acc:49.44         [16315 / 33000]\n"
     ]
    },
    {
     "name": "stderr",
     "output_type": "stream",
     "text": [
      "TRAIN Epoch:25 Loss:1.0848 Batch:150 Acc:87.99: 100%|██████████| 151/151 [05:25<00:00,  2.16s/it]\n"
     ]
    },
    {
     "name": "stdout",
     "output_type": "stream",
     "text": [
      "TEST         Loss:2.7818         Acc:50.31         [16602 / 33000]\n"
     ]
    },
    {
     "name": "stderr",
     "output_type": "stream",
     "text": [
      "TRAIN Epoch:26 Loss:1.0384 Batch:150 Acc:89.71: 100%|██████████| 151/151 [05:17<00:00,  2.10s/it]\n"
     ]
    },
    {
     "name": "stdout",
     "output_type": "stream",
     "text": [
      "TEST         Loss:2.7323         Acc:50.62         [16705 / 33000]\n"
     ]
    },
    {
     "name": "stderr",
     "output_type": "stream",
     "text": [
      "TRAIN Epoch:27 Loss:0.9941 Batch:150 Acc:91.05: 100%|██████████| 151/151 [05:06<00:00,  2.03s/it]\n"
     ]
    },
    {
     "name": "stdout",
     "output_type": "stream",
     "text": [
      "TEST         Loss:2.7031         Acc:50.47         [16655 / 33000]\n"
     ]
    },
    {
     "name": "stderr",
     "output_type": "stream",
     "text": [
      "TRAIN Epoch:28 Loss:1.0151 Batch:150 Acc:92.39: 100%|██████████| 151/151 [05:25<00:00,  2.16s/it]\n"
     ]
    },
    {
     "name": "stdout",
     "output_type": "stream",
     "text": [
      "TEST         Loss:2.7201         Acc:50.54         [16678 / 33000]\n"
     ]
    },
    {
     "name": "stderr",
     "output_type": "stream",
     "text": [
      "TRAIN Epoch:29 Loss:0.9009 Batch:150 Acc:93.51: 100%|██████████| 151/151 [05:01<00:00,  2.00s/it]\n"
     ]
    },
    {
     "name": "stdout",
     "output_type": "stream",
     "text": [
      "TEST         Loss:2.6668         Acc:51.12         [16871 / 33000]\n"
     ]
    },
    {
     "name": "stderr",
     "output_type": "stream",
     "text": [
      "TRAIN Epoch:30 Loss:0.8384 Batch:150 Acc:94.24: 100%|██████████| 151/151 [05:22<00:00,  2.14s/it]\n"
     ]
    },
    {
     "name": "stdout",
     "output_type": "stream",
     "text": [
      "TEST         Loss:2.6623         Acc:51.14         [16876 / 33000]\n"
     ]
    },
    {
     "name": "stderr",
     "output_type": "stream",
     "text": [
      "TRAIN Epoch:31 Loss:0.8512 Batch:150 Acc:95.09: 100%|██████████| 151/151 [05:21<00:00,  2.13s/it]\n"
     ]
    },
    {
     "name": "stdout",
     "output_type": "stream",
     "text": [
      "TEST         Loss:2.6349         Acc:51.64         [17040 / 33000]\n"
     ]
    },
    {
     "name": "stderr",
     "output_type": "stream",
     "text": [
      "TRAIN Epoch:32 Loss:0.8769 Batch:150 Acc:95.63: 100%|██████████| 151/151 [05:01<00:00,  2.00s/it]\n"
     ]
    },
    {
     "name": "stdout",
     "output_type": "stream",
     "text": [
      "TEST         Loss:2.6126         Acc:52.02         [17168 / 33000]\n"
     ]
    },
    {
     "name": "stderr",
     "output_type": "stream",
     "text": [
      "TRAIN Epoch:33 Loss:0.773 Batch:70 Acc:96.37:  47%|████▋     | 71/151 [02:35<02:53,  2.17s/it] "
     ]
    }
   ],
   "source": [
    "trainer.train_model(epochs=40)"
   ]
  },
  {
   "cell_type": "code",
   "execution_count": null,
   "id": "4b0c089f-12fa-4ef8-b145-08085da81a37",
   "metadata": {},
   "outputs": [],
   "source": [
    "torch.save({\n",
    "            'epoch': 40,\n",
    "            'model_state_dict': trainer.net.state_dict(),\n",
    "            'optimizer_state_dict': trainer.optimizer.state_dict(),\n",
    "            'logs': trainer.logs,\n",
    "            'lr_logs': trainer.lr_logs\n",
    "            }, 's10_resnet18_epochs40.pth')"
   ]
  },
  {
   "cell_type": "code",
   "execution_count": null,
   "id": "3f17d1fe-1ec3-4902-8503-747997b7fab2",
   "metadata": {},
   "outputs": [],
   "source": []
  }
 ],
 "metadata": {
  "kernelspec": {
   "display_name": "default:Python",
   "language": "python",
   "name": "conda-env-default-py"
  },
  "language_info": {
   "codemirror_mode": {
    "name": "ipython",
    "version": 3
   },
   "file_extension": ".py",
   "mimetype": "text/x-python",
   "name": "python",
   "nbconvert_exporter": "python",
   "pygments_lexer": "ipython3",
   "version": "3.9.7"
  }
 },
 "nbformat": 4,
 "nbformat_minor": 5
}
