{
 "cells": [
  {
   "cell_type": "code",
   "execution_count": 1,
   "id": "3397c45f",
   "metadata": {
    "ExecuteTime": {
     "end_time": "2021-11-27T09:05:45.825271Z",
     "start_time": "2021-11-27T09:05:45.805056Z"
    }
   },
   "outputs": [],
   "source": [
    "%load_ext autoreload\n",
    "%autoreload 2"
   ]
  },
  {
   "cell_type": "code",
   "execution_count": 2,
   "id": "5def48ea",
   "metadata": {
    "ExecuteTime": {
     "end_time": "2021-11-27T09:06:12.744375Z",
     "start_time": "2021-11-27T09:06:12.602027Z"
    }
   },
   "outputs": [
    {
     "name": "stdout",
     "output_type": "stream",
     "text": [
      "Setting proc title..\n",
      "Process title :  MUHSIN_27-Nov_05-PM_NO_JOB_NAME\n",
      "Searching for GPUs..\n",
      "CUDA environment device set to 2\n",
      "GPU allocation finished.\n"
     ]
    }
   ],
   "source": [
    "from ds_toolkit.general_utils.gpu_utils import gpu_alloc\n",
    "gpu_alloc()"
   ]
  },
  {
   "cell_type": "code",
   "execution_count": 3,
   "id": "7134a590",
   "metadata": {
    "ExecuteTime": {
     "end_time": "2021-11-27T09:06:26.754865Z",
     "start_time": "2021-11-27T09:06:16.628922Z"
    }
   },
   "outputs": [
    {
     "name": "stdout",
     "output_type": "stream",
     "text": [
      "Cloning into 'Weights_Heist_Flow'...\n",
      "remote: Enumerating objects: 61, done.\u001b[K\n",
      "remote: Counting objects: 100% (61/61), done.\u001b[K\n",
      "remote: Compressing objects: 100% (46/46), done.\u001b[K\n",
      "remote: Total 61 (delta 19), reused 49 (delta 12), pack-reused 0\u001b[K\n",
      "Unpacking objects: 100% (61/61), done.\n",
      "Checking connectivity... done.\n"
     ]
    }
   ],
   "source": [
    "! git clone https://github.com/eva7wandb/Weights_Heist_Flow.git"
   ]
  },
  {
   "cell_type": "code",
   "execution_count": 4,
   "id": "b695245f",
   "metadata": {
    "ExecuteTime": {
     "end_time": "2021-11-27T09:06:26.778380Z",
     "start_time": "2021-11-27T09:06:26.758362Z"
    }
   },
   "outputs": [],
   "source": [
    "import sys\n",
    "sys.path.append('./Weights_Heist_Flow/')"
   ]
  },
  {
   "cell_type": "code",
   "execution_count": null,
   "id": "cef27960",
   "metadata": {},
   "outputs": [],
   "source": []
  },
  {
   "cell_type": "code",
   "execution_count": 5,
   "id": "7b5413ba",
   "metadata": {
    "ExecuteTime": {
     "end_time": "2021-11-27T09:06:43.720464Z",
     "start_time": "2021-11-27T09:06:40.366458Z"
    }
   },
   "outputs": [
    {
     "name": "stdout",
     "output_type": "stream",
     "text": [
      "[INFO] seed set 1\n",
      "[INFO] Cuda Avaliable :  True\n",
      "[INFO] device :  cuda\n"
     ]
    }
   ],
   "source": [
    "from main import Trainer, show_misclassification, show_loss_curves"
   ]
  },
  {
   "cell_type": "code",
   "execution_count": 6,
   "id": "4f72e5c0",
   "metadata": {
    "ExecuteTime": {
     "end_time": "2021-11-27T09:07:00.825378Z",
     "start_time": "2021-11-27T09:07:00.667121Z"
    }
   },
   "outputs": [],
   "source": [
    "from models import resnet9"
   ]
  },
  {
   "cell_type": "code",
   "execution_count": 15,
   "id": "d488b59a",
   "metadata": {
    "ExecuteTime": {
     "end_time": "2021-11-27T09:19:40.457566Z",
     "start_time": "2021-11-27T09:19:29.605732Z"
    }
   },
   "outputs": [
    {
     "name": "stdout",
     "output_type": "stream",
     "text": [
      "[INFO] Loading Data\n",
      "Files already downloaded and verified\n",
      "[INFO] train dataset of size 50000 loaded...\n",
      "Files already downloaded and verified\n",
      "[INFO] test dataset of size 10000 loaded...\n",
      "Files already downloaded and verified\n",
      "[INFO] test dataset of size 10000 loaded...\n",
      "----------------------------------------------------------------\n",
      "        Layer (type)               Output Shape         Param #\n",
      "================================================================\n",
      "            Conv2d-1           [-1, 64, 32, 32]           1,728\n",
      "       BatchNorm2d-2           [-1, 64, 32, 32]             128\n",
      "              ReLU-3           [-1, 64, 32, 32]               0\n",
      "   CustomConvLayer-4           [-1, 64, 32, 32]               0\n",
      "            Conv2d-5          [-1, 128, 32, 32]          73,728\n",
      "         MaxPool2d-6          [-1, 128, 16, 16]               0\n",
      "       BatchNorm2d-7          [-1, 128, 16, 16]             256\n",
      "              ReLU-8          [-1, 128, 16, 16]               0\n",
      "   CustomConvLayer-9          [-1, 128, 16, 16]               0\n",
      "           Conv2d-10          [-1, 128, 16, 16]         147,456\n",
      "      BatchNorm2d-11          [-1, 128, 16, 16]             256\n",
      "             ReLU-12          [-1, 128, 16, 16]               0\n",
      "  CustomConvLayer-13          [-1, 128, 16, 16]               0\n",
      "           Conv2d-14          [-1, 128, 16, 16]         147,456\n",
      "      BatchNorm2d-15          [-1, 128, 16, 16]             256\n",
      "             ReLU-16          [-1, 128, 16, 16]               0\n",
      "  CustomConvLayer-17          [-1, 128, 16, 16]               0\n",
      "           Conv2d-18          [-1, 256, 16, 16]         294,912\n",
      "        MaxPool2d-19            [-1, 256, 8, 8]               0\n",
      "      BatchNorm2d-20            [-1, 256, 8, 8]             512\n",
      "             ReLU-21            [-1, 256, 8, 8]               0\n",
      "  CustomConvLayer-22            [-1, 256, 8, 8]               0\n",
      "           Conv2d-23            [-1, 512, 8, 8]       1,179,648\n",
      "        MaxPool2d-24            [-1, 512, 4, 4]               0\n",
      "      BatchNorm2d-25            [-1, 512, 4, 4]           1,024\n",
      "             ReLU-26            [-1, 512, 4, 4]               0\n",
      "  CustomConvLayer-27            [-1, 512, 4, 4]               0\n",
      "           Conv2d-28            [-1, 512, 4, 4]       2,359,296\n",
      "      BatchNorm2d-29            [-1, 512, 4, 4]           1,024\n",
      "             ReLU-30            [-1, 512, 4, 4]               0\n",
      "  CustomConvLayer-31            [-1, 512, 4, 4]               0\n",
      "           Conv2d-32            [-1, 512, 4, 4]       2,359,296\n",
      "      BatchNorm2d-33            [-1, 512, 4, 4]           1,024\n",
      "             ReLU-34            [-1, 512, 4, 4]               0\n",
      "  CustomConvLayer-35            [-1, 512, 4, 4]               0\n",
      "        MaxPool2d-36            [-1, 512, 1, 1]               0\n",
      "           Conv2d-37             [-1, 10, 1, 1]           5,130\n",
      "================================================================\n",
      "Total params: 6,573,130\n",
      "Trainable params: 6,573,130\n",
      "Non-trainable params: 0\n",
      "----------------------------------------------------------------\n",
      "Input size (MB): 0.01\n",
      "Forward/backward pass size (MB): 8.00\n",
      "Params size (MB): 25.07\n",
      "Estimated Total Size (MB): 33.09\n",
      "----------------------------------------------------------------\n",
      "TEST         Loss:2.2992         Acc:10.02         [1002 / 10000]\n"
     ]
    }
   ],
   "source": [
    "trainer = Trainer(\n",
    "    resnet9.ResNet9()\n",
    ")"
   ]
  },
  {
   "cell_type": "code",
   "execution_count": null,
   "id": "8bfe2495",
   "metadata": {
    "ExecuteTime": {
     "start_time": "2021-11-27T09:19:43.124Z"
    }
   },
   "outputs": [
    {
     "name": "stdout",
     "output_type": "stream",
     "text": [
      "[INFO] Begin training for 40 epochs\n"
     ]
    },
    {
     "name": "stderr",
     "output_type": "stream",
     "text": [
      "TRAIN Epoch:0 Loss:1.9022 Batch:390 Acc:29.38: 100%|██████████| 391/391 [00:34<00:00, 11.47it/s]\n"
     ]
    },
    {
     "name": "stdout",
     "output_type": "stream",
     "text": [
      "TEST         Loss:1.7325         Acc:44.84         [4484 / 10000]\n"
     ]
    },
    {
     "name": "stderr",
     "output_type": "stream",
     "text": [
      "TRAIN Epoch:1 Loss:1.4308 Batch:390 Acc:49.30: 100%|██████████| 391/391 [00:32<00:00, 11.93it/s]\n"
     ]
    },
    {
     "name": "stdout",
     "output_type": "stream",
     "text": [
      "TEST         Loss:1.4843         Acc:56.48         [5648 / 10000]\n"
     ]
    },
    {
     "name": "stderr",
     "output_type": "stream",
     "text": [
      "TRAIN Epoch:2 Loss:1.1449 Batch:390 Acc:61.04: 100%|██████████| 391/391 [00:33<00:00, 11.63it/s]\n"
     ]
    },
    {
     "name": "stdout",
     "output_type": "stream",
     "text": [
      "TEST         Loss:0.9347         Acc:68.70         [6870 / 10000]\n"
     ]
    },
    {
     "name": "stderr",
     "output_type": "stream",
     "text": [
      "TRAIN Epoch:3 Loss:0.7376 Batch:390 Acc:68.24: 100%|██████████| 391/391 [00:32<00:00, 11.89it/s]\n"
     ]
    },
    {
     "name": "stdout",
     "output_type": "stream",
     "text": [
      "TEST         Loss:0.7811         Acc:73.64         [7364 / 10000]\n"
     ]
    },
    {
     "name": "stderr",
     "output_type": "stream",
     "text": [
      "TRAIN Epoch:4 Loss:1.0232 Batch:390 Acc:72.54: 100%|██████████| 391/391 [00:32<00:00, 11.94it/s]\n"
     ]
    },
    {
     "name": "stdout",
     "output_type": "stream",
     "text": [
      "TEST         Loss:0.9995         Acc:75.70         [7570 / 10000]\n"
     ]
    },
    {
     "name": "stderr",
     "output_type": "stream",
     "text": [
      "TRAIN Epoch:5 Loss:0.6643 Batch:390 Acc:74.57: 100%|██████████| 391/391 [00:33<00:00, 11.65it/s]\n"
     ]
    },
    {
     "name": "stdout",
     "output_type": "stream",
     "text": [
      "TEST         Loss:0.6913         Acc:78.27         [7827 / 10000]\n"
     ]
    },
    {
     "name": "stderr",
     "output_type": "stream",
     "text": [
      "TRAIN Epoch:6 Loss:0.4646 Batch:390 Acc:77.69: 100%|██████████| 391/391 [00:34<00:00, 11.38it/s]\n"
     ]
    },
    {
     "name": "stdout",
     "output_type": "stream",
     "text": [
      "TEST         Loss:0.5654         Acc:81.22         [8122 / 10000]\n"
     ]
    },
    {
     "name": "stderr",
     "output_type": "stream",
     "text": [
      "TRAIN Epoch:7 Loss:0.2729 Batch:390 Acc:79.84: 100%|██████████| 391/391 [00:35<00:00, 11.05it/s]\n"
     ]
    },
    {
     "name": "stdout",
     "output_type": "stream",
     "text": [
      "TEST         Loss:0.5662         Acc:81.75         [8175 / 10000]\n"
     ]
    },
    {
     "name": "stderr",
     "output_type": "stream",
     "text": [
      "TRAIN Epoch:8 Loss:0.4863 Batch:390 Acc:81.11: 100%|██████████| 391/391 [00:33<00:00, 11.56it/s]\n"
     ]
    },
    {
     "name": "stdout",
     "output_type": "stream",
     "text": [
      "TEST         Loss:0.4515         Acc:84.87         [8487 / 10000]\n"
     ]
    },
    {
     "name": "stderr",
     "output_type": "stream",
     "text": [
      "TRAIN Epoch:9 Loss:0.3689 Batch:390 Acc:82.07: 100%|██████████| 391/391 [00:33<00:00, 11.79it/s]\n"
     ]
    },
    {
     "name": "stdout",
     "output_type": "stream",
     "text": [
      "TEST         Loss:0.4373         Acc:85.25         [8525 / 10000]\n"
     ]
    },
    {
     "name": "stderr",
     "output_type": "stream",
     "text": [
      "TRAIN Epoch:10 Loss:0.5447 Batch:342 Acc:84.02:  88%|████████▊ | 343/391 [00:29<00:04, 11.89it/s]"
     ]
    }
   ],
   "source": [
    "trainer.train_model(epochs=24)"
   ]
  },
  {
   "cell_type": "code",
   "execution_count": null,
   "id": "2b7ee41f",
   "metadata": {},
   "outputs": [],
   "source": []
  }
 ],
 "metadata": {
  "kernelspec": {
   "display_name": "Python3.8",
   "language": "python",
   "name": "python3.8"
  },
  "language_info": {
   "codemirror_mode": {
    "name": "ipython",
    "version": 3
   },
   "file_extension": ".py",
   "mimetype": "text/x-python",
   "name": "python",
   "nbconvert_exporter": "python",
   "pygments_lexer": "ipython3",
   "version": "3.8.2"
  }
 },
 "nbformat": 4,
 "nbformat_minor": 5
}
