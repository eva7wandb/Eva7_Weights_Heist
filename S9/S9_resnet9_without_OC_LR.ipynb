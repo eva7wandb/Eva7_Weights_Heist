{
 "cells": [
  {
   "cell_type": "code",
   "execution_count": 1,
   "id": "4541ec90",
   "metadata": {
    "ExecuteTime": {
     "end_time": "2021-11-27T09:05:45.825271Z",
     "start_time": "2021-11-27T09:05:45.805056Z"
    }
   },
   "outputs": [],
   "source": [
    "%load_ext autoreload\n",
    "%autoreload 2"
   ]
  },
  {
   "cell_type": "code",
   "execution_count": 2,
   "id": "482e68fb",
   "metadata": {
    "ExecuteTime": {
     "end_time": "2021-11-27T09:06:12.744375Z",
     "start_time": "2021-11-27T09:06:12.602027Z"
    }
   },
   "outputs": [
    {
     "name": "stdout",
     "output_type": "stream",
     "text": [
      "Setting proc title..\n",
      "Process title :  MUHSIN_27-Nov_05-PM_NO_JOB_NAME\n",
      "Searching for GPUs..\n",
      "CUDA environment device set to 2\n",
      "GPU allocation finished.\n"
     ]
    }
   ],
   "source": [
    "from ds_toolkit.general_utils.gpu_utils import gpu_alloc\n",
    "gpu_alloc()"
   ]
  },
  {
   "cell_type": "code",
   "execution_count": 3,
   "id": "ee59a164",
   "metadata": {
    "ExecuteTime": {
     "end_time": "2021-11-27T09:06:26.754865Z",
     "start_time": "2021-11-27T09:06:16.628922Z"
    }
   },
   "outputs": [
    {
     "name": "stdout",
     "output_type": "stream",
     "text": [
      "Cloning into 'Weights_Heist_Flow'...\n",
      "remote: Enumerating objects: 61, done.\u001b[K\n",
      "remote: Counting objects: 100% (61/61), done.\u001b[K\n",
      "remote: Compressing objects: 100% (46/46), done.\u001b[K\n",
      "remote: Total 61 (delta 19), reused 49 (delta 12), pack-reused 0\u001b[K\n",
      "Unpacking objects: 100% (61/61), done.\n",
      "Checking connectivity... done.\n"
     ]
    }
   ],
   "source": [
    "! git clone https://github.com/eva7wandb/Weights_Heist_Flow.git"
   ]
  },
  {
   "cell_type": "code",
   "execution_count": 4,
   "id": "c8e86c18",
   "metadata": {
    "ExecuteTime": {
     "end_time": "2021-11-27T09:06:26.778380Z",
     "start_time": "2021-11-27T09:06:26.758362Z"
    }
   },
   "outputs": [],
   "source": [
    "import sys\n",
    "sys.path.append('./Weights_Heist_Flow/')"
   ]
  },
  {
   "cell_type": "code",
   "execution_count": null,
   "id": "9b26ea66",
   "metadata": {},
   "outputs": [],
   "source": []
  },
  {
   "cell_type": "code",
   "execution_count": 5,
   "id": "30a65dea",
   "metadata": {
    "ExecuteTime": {
     "end_time": "2021-11-27T09:06:43.720464Z",
     "start_time": "2021-11-27T09:06:40.366458Z"
    }
   },
   "outputs": [
    {
     "name": "stdout",
     "output_type": "stream",
     "text": [
      "[INFO] seed set 1\n",
      "[INFO] Cuda Avaliable :  True\n",
      "[INFO] device :  cuda\n"
     ]
    }
   ],
   "source": [
    "from main import Trainer, show_misclassification, show_loss_curves"
   ]
  },
  {
   "cell_type": "code",
   "execution_count": 6,
   "id": "6a3d9cd0",
   "metadata": {
    "ExecuteTime": {
     "end_time": "2021-11-27T09:07:00.825378Z",
     "start_time": "2021-11-27T09:07:00.667121Z"
    }
   },
   "outputs": [],
   "source": [
    "from models import resnet9"
   ]
  },
  {
   "cell_type": "code",
   "execution_count": 15,
   "id": "f1222556",
   "metadata": {
    "ExecuteTime": {
     "end_time": "2021-11-27T09:19:40.457566Z",
     "start_time": "2021-11-27T09:19:29.605732Z"
    }
   },
   "outputs": [
    {
     "name": "stdout",
     "output_type": "stream",
     "text": [
      "[INFO] Loading Data\n",
      "Files already downloaded and verified\n",
      "[INFO] train dataset of size 50000 loaded...\n",
      "Files already downloaded and verified\n",
      "[INFO] test dataset of size 10000 loaded...\n",
      "Files already downloaded and verified\n",
      "[INFO] test dataset of size 10000 loaded...\n",
      "----------------------------------------------------------------\n",
      "        Layer (type)               Output Shape         Param #\n",
      "================================================================\n",
      "            Conv2d-1           [-1, 64, 32, 32]           1,728\n",
      "       BatchNorm2d-2           [-1, 64, 32, 32]             128\n",
      "              ReLU-3           [-1, 64, 32, 32]               0\n",
      "   CustomConvLayer-4           [-1, 64, 32, 32]               0\n",
      "            Conv2d-5          [-1, 128, 32, 32]          73,728\n",
      "         MaxPool2d-6          [-1, 128, 16, 16]               0\n",
      "       BatchNorm2d-7          [-1, 128, 16, 16]             256\n",
      "              ReLU-8          [-1, 128, 16, 16]               0\n",
      "   CustomConvLayer-9          [-1, 128, 16, 16]               0\n",
      "           Conv2d-10          [-1, 128, 16, 16]         147,456\n",
      "      BatchNorm2d-11          [-1, 128, 16, 16]             256\n",
      "             ReLU-12          [-1, 128, 16, 16]               0\n",
      "  CustomConvLayer-13          [-1, 128, 16, 16]               0\n",
      "           Conv2d-14          [-1, 128, 16, 16]         147,456\n",
      "      BatchNorm2d-15          [-1, 128, 16, 16]             256\n",
      "             ReLU-16          [-1, 128, 16, 16]               0\n",
      "  CustomConvLayer-17          [-1, 128, 16, 16]               0\n",
      "           Conv2d-18          [-1, 256, 16, 16]         294,912\n",
      "        MaxPool2d-19            [-1, 256, 8, 8]               0\n",
      "      BatchNorm2d-20            [-1, 256, 8, 8]             512\n",
      "             ReLU-21            [-1, 256, 8, 8]               0\n",
      "  CustomConvLayer-22            [-1, 256, 8, 8]               0\n",
      "           Conv2d-23            [-1, 512, 8, 8]       1,179,648\n",
      "        MaxPool2d-24            [-1, 512, 4, 4]               0\n",
      "      BatchNorm2d-25            [-1, 512, 4, 4]           1,024\n",
      "             ReLU-26            [-1, 512, 4, 4]               0\n",
      "  CustomConvLayer-27            [-1, 512, 4, 4]               0\n",
      "           Conv2d-28            [-1, 512, 4, 4]       2,359,296\n",
      "      BatchNorm2d-29            [-1, 512, 4, 4]           1,024\n",
      "             ReLU-30            [-1, 512, 4, 4]               0\n",
      "  CustomConvLayer-31            [-1, 512, 4, 4]               0\n",
      "           Conv2d-32            [-1, 512, 4, 4]       2,359,296\n",
      "      BatchNorm2d-33            [-1, 512, 4, 4]           1,024\n",
      "             ReLU-34            [-1, 512, 4, 4]               0\n",
      "  CustomConvLayer-35            [-1, 512, 4, 4]               0\n",
      "        MaxPool2d-36            [-1, 512, 1, 1]               0\n",
      "           Conv2d-37             [-1, 10, 1, 1]           5,130\n",
      "================================================================\n",
      "Total params: 6,573,130\n",
      "Trainable params: 6,573,130\n",
      "Non-trainable params: 0\n",
      "----------------------------------------------------------------\n",
      "Input size (MB): 0.01\n",
      "Forward/backward pass size (MB): 8.00\n",
      "Params size (MB): 25.07\n",
      "Estimated Total Size (MB): 33.09\n",
      "----------------------------------------------------------------\n",
      "TEST         Loss:2.2992         Acc:10.02         [1002 / 10000]\n"
     ]
    }
   ],
   "source": [
    "trainer = Trainer(\n",
    "    resnet9.ResNet9()\n",
    ")"
   ]
  },
  {
   "cell_type": "code",
   "execution_count": 16,
   "id": "f9a1be75",
   "metadata": {
    "ExecuteTime": {
     "end_time": "2021-11-27T09:44:04.890312Z",
     "start_time": "2021-11-27T09:19:43.268259Z"
    }
   },
   "outputs": [
    {
     "name": "stdout",
     "output_type": "stream",
     "text": [
      "[INFO] Begin training for 40 epochs\n"
     ]
    },
    {
     "name": "stderr",
     "output_type": "stream",
     "text": [
      "TRAIN Epoch:0 Loss:1.9022 Batch:390 Acc:29.38: 100%|██████████| 391/391 [00:34<00:00, 11.47it/s]\n"
     ]
    },
    {
     "name": "stdout",
     "output_type": "stream",
     "text": [
      "TEST         Loss:1.7325         Acc:44.84         [4484 / 10000]\n"
     ]
    },
    {
     "name": "stderr",
     "output_type": "stream",
     "text": [
      "TRAIN Epoch:1 Loss:1.4308 Batch:390 Acc:49.30: 100%|██████████| 391/391 [00:32<00:00, 11.93it/s]\n"
     ]
    },
    {
     "name": "stdout",
     "output_type": "stream",
     "text": [
      "TEST         Loss:1.4843         Acc:56.48         [5648 / 10000]\n"
     ]
    },
    {
     "name": "stderr",
     "output_type": "stream",
     "text": [
      "TRAIN Epoch:2 Loss:1.1449 Batch:390 Acc:61.04: 100%|██████████| 391/391 [00:33<00:00, 11.63it/s]\n"
     ]
    },
    {
     "name": "stdout",
     "output_type": "stream",
     "text": [
      "TEST         Loss:0.9347         Acc:68.70         [6870 / 10000]\n"
     ]
    },
    {
     "name": "stderr",
     "output_type": "stream",
     "text": [
      "TRAIN Epoch:3 Loss:0.7376 Batch:390 Acc:68.24: 100%|██████████| 391/391 [00:32<00:00, 11.89it/s]\n"
     ]
    },
    {
     "name": "stdout",
     "output_type": "stream",
     "text": [
      "TEST         Loss:0.7811         Acc:73.64         [7364 / 10000]\n"
     ]
    },
    {
     "name": "stderr",
     "output_type": "stream",
     "text": [
      "TRAIN Epoch:4 Loss:1.0232 Batch:390 Acc:72.54: 100%|██████████| 391/391 [00:32<00:00, 11.94it/s]\n"
     ]
    },
    {
     "name": "stdout",
     "output_type": "stream",
     "text": [
      "TEST         Loss:0.9995         Acc:75.70         [7570 / 10000]\n"
     ]
    },
    {
     "name": "stderr",
     "output_type": "stream",
     "text": [
      "TRAIN Epoch:5 Loss:0.6643 Batch:390 Acc:74.57: 100%|██████████| 391/391 [00:33<00:00, 11.65it/s]\n"
     ]
    },
    {
     "name": "stdout",
     "output_type": "stream",
     "text": [
      "TEST         Loss:0.6913         Acc:78.27         [7827 / 10000]\n"
     ]
    },
    {
     "name": "stderr",
     "output_type": "stream",
     "text": [
      "TRAIN Epoch:6 Loss:0.4646 Batch:390 Acc:77.69: 100%|██████████| 391/391 [00:34<00:00, 11.38it/s]\n"
     ]
    },
    {
     "name": "stdout",
     "output_type": "stream",
     "text": [
      "TEST         Loss:0.5654         Acc:81.22         [8122 / 10000]\n"
     ]
    },
    {
     "name": "stderr",
     "output_type": "stream",
     "text": [
      "TRAIN Epoch:7 Loss:0.2729 Batch:390 Acc:79.84: 100%|██████████| 391/391 [00:35<00:00, 11.05it/s]\n"
     ]
    },
    {
     "name": "stdout",
     "output_type": "stream",
     "text": [
      "TEST         Loss:0.5662         Acc:81.75         [8175 / 10000]\n"
     ]
    },
    {
     "name": "stderr",
     "output_type": "stream",
     "text": [
      "TRAIN Epoch:8 Loss:0.4863 Batch:390 Acc:81.11: 100%|██████████| 391/391 [00:33<00:00, 11.56it/s]\n"
     ]
    },
    {
     "name": "stdout",
     "output_type": "stream",
     "text": [
      "TEST         Loss:0.4515         Acc:84.87         [8487 / 10000]\n"
     ]
    },
    {
     "name": "stderr",
     "output_type": "stream",
     "text": [
      "TRAIN Epoch:9 Loss:0.3689 Batch:390 Acc:82.07: 100%|██████████| 391/391 [00:33<00:00, 11.79it/s]\n"
     ]
    },
    {
     "name": "stdout",
     "output_type": "stream",
     "text": [
      "TEST         Loss:0.4373         Acc:85.25         [8525 / 10000]\n"
     ]
    },
    {
     "name": "stderr",
     "output_type": "stream",
     "text": [
      "TRAIN Epoch:10 Loss:0.439 Batch:390 Acc:83.96: 100%|██████████| 391/391 [00:33<00:00, 11.67it/s] \n"
     ]
    },
    {
     "name": "stdout",
     "output_type": "stream",
     "text": [
      "TEST         Loss:0.4400         Acc:85.44         [8544 / 10000]\n"
     ]
    },
    {
     "name": "stderr",
     "output_type": "stream",
     "text": [
      "TRAIN Epoch:11 Loss:0.3579 Batch:390 Acc:84.64: 100%|██████████| 391/391 [00:32<00:00, 12.04it/s]\n"
     ]
    },
    {
     "name": "stdout",
     "output_type": "stream",
     "text": [
      "TEST         Loss:0.4813         Acc:84.24         [8424 / 10000]\n"
     ]
    },
    {
     "name": "stderr",
     "output_type": "stream",
     "text": [
      "TRAIN Epoch:12 Loss:0.4399 Batch:390 Acc:85.63: 100%|██████████| 391/391 [00:33<00:00, 11.55it/s]\n"
     ]
    },
    {
     "name": "stdout",
     "output_type": "stream",
     "text": [
      "TEST         Loss:0.4370         Acc:85.32         [8532 / 10000]\n"
     ]
    },
    {
     "name": "stderr",
     "output_type": "stream",
     "text": [
      "TRAIN Epoch:13 Loss:0.5842 Batch:390 Acc:86.49: 100%|██████████| 391/391 [00:34<00:00, 11.46it/s]\n"
     ]
    },
    {
     "name": "stdout",
     "output_type": "stream",
     "text": [
      "TEST         Loss:0.4718         Acc:85.38         [8538 / 10000]\n"
     ]
    },
    {
     "name": "stderr",
     "output_type": "stream",
     "text": [
      "TRAIN Epoch:14 Loss:0.4966 Batch:390 Acc:87.05: 100%|██████████| 391/391 [00:34<00:00, 11.48it/s]\n"
     ]
    },
    {
     "name": "stdout",
     "output_type": "stream",
     "text": [
      "TEST         Loss:0.4780         Acc:85.39         [8539 / 10000]\n"
     ]
    },
    {
     "name": "stderr",
     "output_type": "stream",
     "text": [
      "TRAIN Epoch:15 Loss:0.3225 Batch:390 Acc:88.11: 100%|██████████| 391/391 [00:33<00:00, 11.62it/s]\n"
     ]
    },
    {
     "name": "stdout",
     "output_type": "stream",
     "text": [
      "TEST         Loss:0.3809         Acc:87.15         [8715 / 10000]\n"
     ]
    },
    {
     "name": "stderr",
     "output_type": "stream",
     "text": [
      "TRAIN Epoch:16 Loss:0.3088 Batch:390 Acc:88.71: 100%|██████████| 391/391 [00:32<00:00, 11.94it/s]\n"
     ]
    },
    {
     "name": "stdout",
     "output_type": "stream",
     "text": [
      "TEST         Loss:0.3934         Acc:87.18         [8718 / 10000]\n"
     ]
    },
    {
     "name": "stderr",
     "output_type": "stream",
     "text": [
      "TRAIN Epoch:19 Loss:0.3305 Batch:390 Acc:90.23: 100%|██████████| 391/391 [00:33<00:00, 11.83it/s]\n"
     ]
    },
    {
     "name": "stdout",
     "output_type": "stream",
     "text": [
      "TEST         Loss:0.3756         Acc:87.81         [8781 / 10000]\n"
     ]
    },
    {
     "name": "stderr",
     "output_type": "stream",
     "text": [
      "TRAIN Epoch:20 Loss:0.453 Batch:390 Acc:90.60: 100%|██████████| 391/391 [00:32<00:00, 11.88it/s] \n"
     ]
    },
    {
     "name": "stdout",
     "output_type": "stream",
     "text": [
      "TEST         Loss:0.3558         Acc:88.95         [8895 / 10000]\n"
     ]
    },
    {
     "name": "stderr",
     "output_type": "stream",
     "text": [
      "TRAIN Epoch:21 Loss:0.2739 Batch:390 Acc:91.16: 100%|██████████| 391/391 [00:33<00:00, 11.81it/s]\n"
     ]
    },
    {
     "name": "stdout",
     "output_type": "stream",
     "text": [
      "TEST         Loss:0.3774         Acc:88.60         [8860 / 10000]\n"
     ]
    },
    {
     "name": "stderr",
     "output_type": "stream",
     "text": [
      "TRAIN Epoch:22 Loss:0.3305 Batch:390 Acc:91.54: 100%|██████████| 391/391 [00:33<00:00, 11.77it/s]\n"
     ]
    },
    {
     "name": "stdout",
     "output_type": "stream",
     "text": [
      "TEST         Loss:0.3614         Acc:88.87         [8887 / 10000]\n"
     ]
    },
    {
     "name": "stderr",
     "output_type": "stream",
     "text": [
      "TRAIN Epoch:23 Loss:0.1668 Batch:390 Acc:91.95: 100%|██████████| 391/391 [00:34<00:00, 11.22it/s]\n"
     ]
    },
    {
     "name": "stdout",
     "output_type": "stream",
     "text": [
      "TEST         Loss:0.3616         Acc:89.10         [8910 / 10000]\n"
     ]
    },
    {
     "name": "stderr",
     "output_type": "stream",
     "text": [
      "TRAIN Epoch:24 Loss:0.1867 Batch:342 Acc:92.24:  88%|████████▊ | 343/391 [00:28<00:03, 13.57it/s]IOPub message rate exceeded.\n",
      "The notebook server will temporarily stop sending output\n",
      "to the client in order to avoid crashing it.\n",
      "To change this limit, set the config variable\n",
      "`--NotebookApp.iopub_msg_rate_limit`.\n",
      "\n",
      "Current values:\n",
      "NotebookApp.iopub_msg_rate_limit=1000.0 (msgs/sec)\n",
      "NotebookApp.rate_limit_window=3.0 (secs)\n",
      "\n"
     ]
    }
   ],
   "source": [
    "trainer.train_model(epochs=24)"
   ]
  },
  {
   "cell_type": "code",
   "execution_count": 17,
   "id": "62e961d1",
   "metadata": {
    "ExecuteTime": {
     "end_time": "2021-11-27T10:14:53.736406Z",
     "start_time": "2021-11-27T10:14:52.944390Z"
    }
   },
   "outputs": [
    {
     "data": {
      "image/png": "[encoded data removed]",
      "text/plain": [
       "<Figure size 432x288 with 1 Axes>"
      ]
     },
     "metadata": {
      "needs_background": "light"
     },
     "output_type": "display_data"
    }
   ],
   "source": [
    "show_loss_curves(trainer.logs)\n"
   ]
  },
  {
   "cell_type": "code",
   "execution_count": null,
   "id": "b648379d",
   "metadata": {},
   "outputs": [],
   "source": []
  }
 ],
 "metadata": {
  "kernelspec": {
   "display_name": "Python3.8",
   "language": "python",
   "name": "python3.8"
  },
  "language_info": {
   "codemirror_mode": {
    "name": "ipython",
    "version": 3
   },
   "file_extension": ".py",
   "mimetype": "text/x-python",
   "name": "python",
   "nbconvert_exporter": "python",
   "pygments_lexer": "ipython3",
   "version": "3.8.2"
  }
 },
 "nbformat": 4,
 "nbformat_minor": 5
}
