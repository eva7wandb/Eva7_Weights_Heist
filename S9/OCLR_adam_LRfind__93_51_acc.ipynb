{
 "cells": [
  {
   "cell_type": "code",
   "execution_count": 1,
   "metadata": {
    "ExecuteTime": {
     "end_time": "2021-11-29T05:16:47.280298Z",
     "start_time": "2021-11-29T05:16:47.249842Z"
    },
    "id": "lqY-iGD6axiV"
   },
   "outputs": [],
   "source": [
    "%load_ext autoreload\n",
    "%autoreload 2"
   ]
  },
  {
   "cell_type": "code",
   "execution_count": 2,
   "metadata": {
    "ExecuteTime": {
     "end_time": "2021-11-29T05:16:47.515982Z",
     "start_time": "2021-11-29T05:16:47.288232Z"
    },
    "colab": {
     "base_uri": "https://localhost:8080/",
     "height": 1000
    },
    "id": "ooL_KkB3Gwxz",
    "outputId": "9d82d51f-e2b8-4390-c683-f487332b5fe8"
   },
   "outputs": [],
   "source": [
    "# !pip install --upgrade albumentations\n",
    "# !git clone https://github.com/frgfm/torch-cam.git\n",
    "# !pip install -e torch-cam/."
   ]
  },
  {
   "cell_type": "code",
   "execution_count": 4,
   "metadata": {
    "ExecuteTime": {
     "end_time": "2021-11-29T05:17:05.219449Z",
     "start_time": "2021-11-29T05:17:04.207850Z"
    }
   },
   "outputs": [],
   "source": [
    "! rm -rf ./Weights_Heist_Flow/"
   ]
  },
  {
   "cell_type": "code",
   "execution_count": 5,
   "metadata": {
    "ExecuteTime": {
     "end_time": "2021-11-29T05:17:10.638188Z",
     "start_time": "2021-11-29T05:17:05.223161Z"
    },
    "colab": {
     "base_uri": "https://localhost:8080/"
    },
    "id": "aNQ7JEoEGFzF",
    "outputId": "337e10bc-9815-4b48-8325-084e29811ff1"
   },
   "outputs": [
    {
     "name": "stdout",
     "output_type": "stream",
     "text": [
      "Cloning into 'Weights_Heist_Flow'...\n",
      "remote: Enumerating objects: 164, done.\u001b[K\n",
      "remote: Counting objects: 100% (164/164), done.\u001b[K\n",
      "remote: Compressing objects: 100% (140/140), done.\u001b[K\n",
      "remote: Total 164 (delta 68), reused 73 (delta 21), pack-reused 0\u001b[K\n",
      "Receiving objects: 100% (164/164), 414.63 KiB | 0 bytes/s, done.\n",
      "Resolving deltas: 100% (68/68), done.\n",
      "Checking connectivity... done.\n"
     ]
    }
   ],
   "source": [
    "! git clone https://github.com/eva7wandb/Weights_Heist_Flow.git"
   ]
  },
  {
   "cell_type": "code",
   "execution_count": 6,
   "metadata": {
    "ExecuteTime": {
     "end_time": "2021-11-29T05:17:10.664939Z",
     "start_time": "2021-11-29T05:17:10.642180Z"
    },
    "colab": {
     "base_uri": "https://localhost:8080/"
    },
    "id": "w3O3tMPYGOXt",
    "outputId": "9a8d4c34-ebe3-4e18-d7a4-36ab51e21b7a"
   },
   "outputs": [],
   "source": [
    "# %cd /content/Weights_Heist_Flow\n",
    "# ! pwd"
   ]
  },
  {
   "cell_type": "code",
   "execution_count": 7,
   "metadata": {
    "ExecuteTime": {
     "end_time": "2021-11-29T05:17:11.336262Z",
     "start_time": "2021-11-29T05:17:11.315465Z"
    }
   },
   "outputs": [],
   "source": [
    "import sys\n",
    "sys.path.append('./Weights_Heist_Flow/')"
   ]
  },
  {
   "cell_type": "code",
   "execution_count": 8,
   "metadata": {
    "ExecuteTime": {
     "end_time": "2021-11-29T05:17:17.152391Z",
     "start_time": "2021-11-29T05:17:12.467745Z"
    },
    "colab": {
     "base_uri": "https://localhost:8080/"
    },
    "id": "O__n2D1eGiLc",
    "outputId": "d043e90e-b6d7-498e-9371-a2bac697170b"
   },
   "outputs": [
    {
     "name": "stdout",
     "output_type": "stream",
     "text": [
      "[INFO] seed set 1\n",
      "[INFO] Cuda Avaliable :  True\n",
      "[INFO] device :  cuda\n"
     ]
    }
   ],
   "source": [
    "from main import Trainer, show_misclassification, show_loss_curves\n",
    "from models import custom_resnet, resnet #, cus_resnet"
   ]
  },
  {
   "cell_type": "code",
   "execution_count": 29,
   "metadata": {
    "ExecuteTime": {
     "end_time": "2021-11-29T07:03:30.787682Z",
     "start_time": "2021-11-29T07:02:57.191722Z"
    },
    "colab": {
     "base_uri": "https://localhost:8080/"
    },
    "id": "Izdc5b1qMGkH",
    "outputId": "8924b7c0-d661-481f-d727-8cc2e3f3b011"
   },
   "outputs": [
    {
     "name": "stdout",
     "output_type": "stream",
     "text": [
      "[INFO] Loading Data\n",
      "Files already downloaded and verified\n",
      "[INFO] train dataset of size 50000 loaded... (v4.1)\n",
      "Files already downloaded and verified\n",
      "[INFO] test dataset of size 10000 loaded... (v4.1)\n",
      "Files already downloaded and verified\n",
      "[INFO] test dataset of size 10000 loaded... (v4.1)\n",
      "----------------------------------------------------------------\n",
      "        Layer (type)               Output Shape         Param #\n",
      "================================================================\n",
      "            Conv2d-1           [-1, 64, 32, 32]           1,728\n",
      "       BatchNorm2d-2           [-1, 64, 32, 32]             128\n",
      "            Conv2d-3          [-1, 128, 32, 32]          73,728\n",
      "         MaxPool2d-4          [-1, 128, 16, 16]               0\n",
      "       BatchNorm2d-5          [-1, 128, 16, 16]             256\n",
      "            XBlock-6          [-1, 128, 16, 16]               0\n",
      "            Conv2d-7          [-1, 128, 16, 16]         147,456\n",
      "       BatchNorm2d-8          [-1, 128, 16, 16]             256\n",
      "            Conv2d-9          [-1, 128, 16, 16]         147,456\n",
      "      BatchNorm2d-10          [-1, 128, 16, 16]             256\n",
      "       BasicBlock-11          [-1, 128, 16, 16]               0\n",
      "           Conv2d-12          [-1, 256, 16, 16]         294,912\n",
      "        MaxPool2d-13            [-1, 256, 8, 8]               0\n",
      "      BatchNorm2d-14            [-1, 256, 8, 8]             512\n",
      "           XBlock-15            [-1, 256, 8, 8]               0\n",
      "           Conv2d-16            [-1, 512, 8, 8]       1,179,648\n",
      "        MaxPool2d-17            [-1, 512, 4, 4]               0\n",
      "      BatchNorm2d-18            [-1, 512, 4, 4]           1,024\n",
      "           XBlock-19            [-1, 512, 4, 4]               0\n",
      "           Conv2d-20            [-1, 512, 4, 4]       2,359,296\n",
      "      BatchNorm2d-21            [-1, 512, 4, 4]           1,024\n",
      "           Conv2d-22            [-1, 512, 4, 4]       2,359,296\n",
      "      BatchNorm2d-23            [-1, 512, 4, 4]           1,024\n",
      "       BasicBlock-24            [-1, 512, 4, 4]               0\n",
      "           Linear-25                   [-1, 10]           5,130\n",
      "================================================================\n",
      "Total params: 6,573,130\n",
      "Trainable params: 6,573,130\n",
      "Non-trainable params: 0\n",
      "----------------------------------------------------------------\n",
      "Input size (MB): 0.01\n",
      "Forward/backward pass size (MB): 5.63\n",
      "Params size (MB): 25.07\n",
      "Estimated Total Size (MB): 30.71\n",
      "----------------------------------------------------------------\n",
      "Adam (\n",
      "Parameter Group 0\n",
      "    amsgrad: False\n",
      "    betas: (0.9, 0.999)\n",
      "    eps: 1e-08\n",
      "    lr: 0.0001\n",
      "    weight_decay: 0\n",
      ")\n",
      "----------------------------------------------------------------\n",
      "Running LR finder ... \n"
     ]
    },
    {
     "data": {
      "application/vnd.jupyter.widget-view+json": {
       "model_id": "66af6657d056455a87f5699e3f6af62e",
       "version_major": 2,
       "version_minor": 0
      },
      "text/plain": [
       "  0%|          | 0/100 [00:00<?, ?it/s]"
      ]
     },
     "metadata": {},
     "output_type": "display_data"
    },
    {
     "name": "stdout",
     "output_type": "stream",
     "text": [
      "Learning rate search finished. See the graph with {finder_name}.plot()\n",
      "LR suggestion: steepest gradient\n",
      "Suggested LR: 3.05E-04\n"
     ]
    },
    {
     "data": {
      "image/png": "[encoded data removed]",
      "text/plain": [
       "<Figure size 432x288 with 1 Axes>"
      ]
     },
     "metadata": {
      "needs_background": "light"
     },
     "output_type": "display_data"
    },
    {
     "name": "stdout",
     "output_type": "stream",
     "text": [
      "few steps before and after best_loss\n",
      "(relative step, lr, loss)\n",
      "(-5, 0.00546, 1.85558)\n",
      "(-4, 0.00599, 1.84806)\n",
      "(-3, 0.00658, 1.84127)\n",
      "(-2, 0.00722, 1.84025)\n",
      "(-1, 0.00792, 1.83662)\n",
      "(0, 0.0087, 1.83605)\n",
      "(1, 0.00955, 1.83964)\n",
      "(2, 0.01048, 1.84661)\n",
      "(3, 0.0115, 1.86144)\n",
      "(4, 0.01262, 1.90428)\n",
      "----------------------------------------------------------------\n",
      "TEST         Loss:2.3030         Acc:10.01         [1001 / 10000]\n"
     ]
    }
   ],
   "source": [
    "## running to get the appropriate lr\n",
    "trainer = Trainer(\n",
    "    custom_resnet.CustomResNet(), lr=0.0001, batch_size=512, \n",
    "    scheduler='OneCycleLR', label_smoothing=0.05,\n",
    "    optimizer='Adam', run_find_lr=True\n",
    ")"
   ]
  },
  {
   "cell_type": "code",
   "execution_count": 66,
   "metadata": {
    "ExecuteTime": {
     "end_time": "2021-11-29T07:52:16.897786Z",
     "start_time": "2021-11-29T07:52:07.966456Z"
    }
   },
   "outputs": [
    {
     "name": "stdout",
     "output_type": "stream",
     "text": [
      "[INFO] Loading Data\n",
      "Files already downloaded and verified\n",
      "[INFO] train dataset of size 50000 loaded... (v4.1)\n",
      "Files already downloaded and verified\n",
      "[INFO] test dataset of size 10000 loaded... (v4.1)\n",
      "Files already downloaded and verified\n",
      "[INFO] test dataset of size 10000 loaded... (v4.1)\n",
      "----------------------------------------------------------------\n",
      "        Layer (type)               Output Shape         Param #\n",
      "================================================================\n",
      "            Conv2d-1           [-1, 64, 32, 32]           1,728\n",
      "       BatchNorm2d-2           [-1, 64, 32, 32]             128\n",
      "            Conv2d-3          [-1, 128, 32, 32]          73,728\n",
      "         MaxPool2d-4          [-1, 128, 16, 16]               0\n",
      "       BatchNorm2d-5          [-1, 128, 16, 16]             256\n",
      "            XBlock-6          [-1, 128, 16, 16]               0\n",
      "            Conv2d-7          [-1, 128, 16, 16]         147,456\n",
      "       BatchNorm2d-8          [-1, 128, 16, 16]             256\n",
      "            Conv2d-9          [-1, 128, 16, 16]         147,456\n",
      "      BatchNorm2d-10          [-1, 128, 16, 16]             256\n",
      "       BasicBlock-11          [-1, 128, 16, 16]               0\n",
      "           Conv2d-12          [-1, 256, 16, 16]         294,912\n",
      "        MaxPool2d-13            [-1, 256, 8, 8]               0\n",
      "      BatchNorm2d-14            [-1, 256, 8, 8]             512\n",
      "           XBlock-15            [-1, 256, 8, 8]               0\n",
      "           Conv2d-16            [-1, 512, 8, 8]       1,179,648\n",
      "        MaxPool2d-17            [-1, 512, 4, 4]               0\n",
      "      BatchNorm2d-18            [-1, 512, 4, 4]           1,024\n",
      "           XBlock-19            [-1, 512, 4, 4]               0\n",
      "           Conv2d-20            [-1, 512, 4, 4]       2,359,296\n",
      "      BatchNorm2d-21            [-1, 512, 4, 4]           1,024\n",
      "           Conv2d-22            [-1, 512, 4, 4]       2,359,296\n",
      "      BatchNorm2d-23            [-1, 512, 4, 4]           1,024\n",
      "       BasicBlock-24            [-1, 512, 4, 4]               0\n",
      "           Linear-25                   [-1, 10]           5,130\n",
      "================================================================\n",
      "Total params: 6,573,130\n",
      "Trainable params: 6,573,130\n",
      "Non-trainable params: 0\n",
      "----------------------------------------------------------------\n",
      "Input size (MB): 0.01\n",
      "Forward/backward pass size (MB): 5.63\n",
      "Params size (MB): 25.07\n",
      "Estimated Total Size (MB): 30.71\n",
      "----------------------------------------------------------------\n",
      "Adam (\n",
      "Parameter Group 0\n",
      "    amsgrad: False\n",
      "    betas: (0.9, 0.999)\n",
      "    eps: 1e-08\n",
      "    lr: 0.00673\n",
      "    weight_decay: 0\n",
      ")\n",
      "----------------------------------------------------------------\n",
      "----------------------------------------------------------------\n",
      "TEST         Loss:2.3011         Acc:12.36         [1236 / 10000]\n"
     ]
    }
   ],
   "source": [
    "trainer = Trainer(\n",
    "    custom_resnet.CustomResNet(), lr=0.00673, batch_size=512, \n",
    "    scheduler='OneCycleLR', label_smoothing=0.05,\n",
    "    optimizer='Adam', run_find_lr=False\n",
    ")\n",
    "trainer.optimizer.param_groups[0]['weight_decay'] = 0.00001"
   ]
  },
  {
   "cell_type": "code",
   "execution_count": 67,
   "metadata": {
    "ExecuteTime": {
     "end_time": "2021-11-29T08:02:35.926987Z",
     "start_time": "2021-11-29T07:52:20.222268Z"
    },
    "colab": {
     "base_uri": "https://localhost:8080/"
    },
    "id": "-IUF_YJq68W7",
    "outputId": "96b48b44-7ab8-4ddb-9aba-85c6a08cc328"
   },
   "outputs": [
    {
     "name": "stdout",
     "output_type": "stream",
     "text": [
      "[INFO] Begin training for 24 epochs.\n"
     ]
    },
    {
     "name": "stderr",
     "output_type": "stream",
     "text": [
      "TRAIN Epoch:0 Loss:1.1918 Batch:97 Acc:49.28: 100%|██████████| 98/98 [00:20<00:00,  4.74it/s]\n"
     ]
    },
    {
     "name": "stdout",
     "output_type": "stream",
     "text": [
      "TEST         Loss:1.3077         Acc:60.11         [6011 / 10000]\n"
     ]
    },
    {
     "name": "stderr",
     "output_type": "stream",
     "text": [
      "TRAIN Epoch:1 Loss:1.027 Batch:97 Acc:67.80: 100%|██████████| 98/98 [00:20<00:00,  4.67it/s] \n"
     ]
    },
    {
     "name": "stdout",
     "output_type": "stream",
     "text": [
      "TEST         Loss:1.1525         Acc:67.35         [6735 / 10000]\n"
     ]
    },
    {
     "name": "stderr",
     "output_type": "stream",
     "text": [
      "TRAIN Epoch:2 Loss:0.8958 Batch:97 Acc:75.25: 100%|██████████| 98/98 [00:21<00:00,  4.52it/s]\n"
     ]
    },
    {
     "name": "stdout",
     "output_type": "stream",
     "text": [
      "TEST         Loss:0.9657         Acc:75.00         [7500 / 10000]\n"
     ]
    },
    {
     "name": "stderr",
     "output_type": "stream",
     "text": [
      "TRAIN Epoch:3 Loss:0.8899 Batch:97 Acc:78.86: 100%|██████████| 98/98 [00:22<00:00,  4.44it/s]\n"
     ]
    },
    {
     "name": "stdout",
     "output_type": "stream",
     "text": [
      "TEST         Loss:0.8641         Acc:79.01         [7901 / 10000]\n"
     ]
    },
    {
     "name": "stderr",
     "output_type": "stream",
     "text": [
      "TRAIN Epoch:4 Loss:0.8544 Batch:97 Acc:80.52: 100%|██████████| 98/98 [00:21<00:00,  4.52it/s]\n"
     ]
    },
    {
     "name": "stdout",
     "output_type": "stream",
     "text": [
      "TEST         Loss:0.8460         Acc:79.48         [7948 / 10000]\n"
     ]
    },
    {
     "name": "stderr",
     "output_type": "stream",
     "text": [
      "TRAIN Epoch:5 Loss:0.7655 Batch:97 Acc:83.67: 100%|██████████| 98/98 [00:21<00:00,  4.57it/s]\n"
     ]
    },
    {
     "name": "stdout",
     "output_type": "stream",
     "text": [
      "TEST         Loss:0.7945         Acc:81.59         [8159 / 10000]\n"
     ]
    },
    {
     "name": "stderr",
     "output_type": "stream",
     "text": [
      "TRAIN Epoch:6 Loss:0.71 Batch:97 Acc:86.06: 100%|██████████| 98/98 [00:21<00:00,  4.61it/s]  \n"
     ]
    },
    {
     "name": "stdout",
     "output_type": "stream",
     "text": [
      "TEST         Loss:0.7110         Acc:84.50         [8450 / 10000]\n"
     ]
    },
    {
     "name": "stderr",
     "output_type": "stream",
     "text": [
      "TRAIN Epoch:7 Loss:0.6771 Batch:97 Acc:87.69: 100%|██████████| 98/98 [00:21<00:00,  4.46it/s]\n"
     ]
    },
    {
     "name": "stdout",
     "output_type": "stream",
     "text": [
      "TEST         Loss:0.7014         Acc:85.43         [8543 / 10000]\n"
     ]
    },
    {
     "name": "stderr",
     "output_type": "stream",
     "text": [
      "TRAIN Epoch:8 Loss:0.5373 Batch:97 Acc:88.88: 100%|██████████| 98/98 [00:22<00:00,  4.41it/s]\n"
     ]
    },
    {
     "name": "stdout",
     "output_type": "stream",
     "text": [
      "TEST         Loss:0.6130         Acc:88.41         [8841 / 10000]\n"
     ]
    },
    {
     "name": "stderr",
     "output_type": "stream",
     "text": [
      "TRAIN Epoch:9 Loss:0.5551 Batch:97 Acc:90.57: 100%|██████████| 98/98 [00:23<00:00,  4.23it/s]\n"
     ]
    },
    {
     "name": "stdout",
     "output_type": "stream",
     "text": [
      "TEST         Loss:0.6067         Acc:88.58         [8858 / 10000]\n"
     ]
    },
    {
     "name": "stderr",
     "output_type": "stream",
     "text": [
      "TRAIN Epoch:10 Loss:0.5537 Batch:97 Acc:91.52: 100%|██████████| 98/98 [00:21<00:00,  4.46it/s]\n"
     ]
    },
    {
     "name": "stdout",
     "output_type": "stream",
     "text": [
      "TEST         Loss:0.6033         Acc:89.02         [8902 / 10000]\n"
     ]
    },
    {
     "name": "stderr",
     "output_type": "stream",
     "text": [
      "TRAIN Epoch:11 Loss:0.5539 Batch:97 Acc:92.14: 100%|██████████| 98/98 [00:22<00:00,  4.38it/s]\n"
     ]
    },
    {
     "name": "stdout",
     "output_type": "stream",
     "text": [
      "TEST         Loss:0.5590         Acc:90.21         [9021 / 10000]\n"
     ]
    },
    {
     "name": "stderr",
     "output_type": "stream",
     "text": [
      "TRAIN Epoch:12 Loss:0.5273 Batch:97 Acc:93.06: 100%|██████████| 98/98 [00:22<00:00,  4.40it/s]\n"
     ]
    },
    {
     "name": "stdout",
     "output_type": "stream",
     "text": [
      "TEST         Loss:0.5799         Acc:89.11         [8911 / 10000]\n"
     ]
    },
    {
     "name": "stderr",
     "output_type": "stream",
     "text": [
      "TRAIN Epoch:13 Loss:0.5053 Batch:97 Acc:94.03: 100%|██████████| 98/98 [00:22<00:00,  4.35it/s]\n"
     ]
    },
    {
     "name": "stdout",
     "output_type": "stream",
     "text": [
      "TEST         Loss:0.6791         Acc:85.98         [8598 / 10000]\n"
     ]
    },
    {
     "name": "stderr",
     "output_type": "stream",
     "text": [
      "TRAIN Epoch:14 Loss:0.4878 Batch:97 Acc:94.57: 100%|██████████| 98/98 [00:22<00:00,  4.39it/s]\n"
     ]
    },
    {
     "name": "stdout",
     "output_type": "stream",
     "text": [
      "TEST         Loss:0.5876         Acc:89.50         [8950 / 10000]\n"
     ]
    },
    {
     "name": "stderr",
     "output_type": "stream",
     "text": [
      "TRAIN Epoch:15 Loss:0.4486 Batch:97 Acc:94.98: 100%|██████████| 98/98 [00:23<00:00,  4.21it/s]\n"
     ]
    },
    {
     "name": "stdout",
     "output_type": "stream",
     "text": [
      "TEST         Loss:0.5354         Acc:91.06         [9106 / 10000]\n"
     ]
    },
    {
     "name": "stderr",
     "output_type": "stream",
     "text": [
      "TRAIN Epoch:16 Loss:0.3981 Batch:97 Acc:95.70: 100%|██████████| 98/98 [00:23<00:00,  4.18it/s]\n"
     ]
    },
    {
     "name": "stdout",
     "output_type": "stream",
     "text": [
      "TEST         Loss:0.5262         Acc:91.54         [9154 / 10000]\n"
     ]
    },
    {
     "name": "stderr",
     "output_type": "stream",
     "text": [
      "TRAIN Epoch:17 Loss:0.4019 Batch:97 Acc:96.24: 100%|██████████| 98/98 [00:23<00:00,  4.22it/s]\n"
     ]
    },
    {
     "name": "stdout",
     "output_type": "stream",
     "text": [
      "TEST         Loss:0.5128         Acc:92.12         [9212 / 10000]\n"
     ]
    },
    {
     "name": "stderr",
     "output_type": "stream",
     "text": [
      "TRAIN Epoch:18 Loss:0.4336 Batch:97 Acc:96.85: 100%|██████████| 98/98 [00:23<00:00,  4.19it/s]\n"
     ]
    },
    {
     "name": "stdout",
     "output_type": "stream",
     "text": [
      "TEST         Loss:0.5073         Acc:92.16         [9216 / 10000]\n"
     ]
    },
    {
     "name": "stderr",
     "output_type": "stream",
     "text": [
      "TRAIN Epoch:19 Loss:0.3852 Batch:97 Acc:97.22: 100%|██████████| 98/98 [00:24<00:00,  3.98it/s]\n"
     ]
    },
    {
     "name": "stdout",
     "output_type": "stream",
     "text": [
      "TEST         Loss:0.5067         Acc:92.19         [9219 / 10000]\n"
     ]
    },
    {
     "name": "stderr",
     "output_type": "stream",
     "text": [
      "TRAIN Epoch:20 Loss:0.3764 Batch:97 Acc:97.62: 100%|██████████| 98/98 [00:23<00:00,  4.08it/s]\n"
     ]
    },
    {
     "name": "stdout",
     "output_type": "stream",
     "text": [
      "TEST         Loss:0.4821         Acc:92.82         [9282 / 10000]\n"
     ]
    },
    {
     "name": "stderr",
     "output_type": "stream",
     "text": [
      "TRAIN Epoch:21 Loss:0.3584 Batch:97 Acc:97.96: 100%|██████████| 98/98 [00:24<00:00,  4.03it/s]\n"
     ]
    },
    {
     "name": "stdout",
     "output_type": "stream",
     "text": [
      "TEST         Loss:0.4847         Acc:93.02         [9302 / 10000]\n"
     ]
    },
    {
     "name": "stderr",
     "output_type": "stream",
     "text": [
      "TRAIN Epoch:22 Loss:0.3578 Batch:97 Acc:98.35: 100%|██████████| 98/98 [00:23<00:00,  4.12it/s]\n"
     ]
    },
    {
     "name": "stdout",
     "output_type": "stream",
     "text": [
      "TEST         Loss:0.4746         Acc:93.16         [9316 / 10000]\n"
     ]
    },
    {
     "name": "stderr",
     "output_type": "stream",
     "text": [
      "TRAIN Epoch:23 Loss:0.3549 Batch:97 Acc:98.63: 100%|██████████| 98/98 [00:23<00:00,  4.09it/s]\n"
     ]
    },
    {
     "name": "stdout",
     "output_type": "stream",
     "text": [
      "TEST         Loss:0.4679         Acc:93.53         [9353 / 10000]\n"
     ]
    }
   ],
   "source": [
    "trainer.train_model(epochs=24)"
   ]
  },
  {
   "cell_type": "code",
   "execution_count": 68,
   "metadata": {
    "ExecuteTime": {
     "end_time": "2021-11-29T08:02:53.927764Z",
     "start_time": "2021-11-29T08:02:53.542185Z"
    },
    "colab": {
     "base_uri": "https://localhost:8080/",
     "height": 295
    },
    "id": "tcEqc9CC7UNS",
    "outputId": "c11c175a-f454-47a5-8892-1e434aaafffc"
   },
   "outputs": [
    {
     "data": {
      "image/png": "[encoded data removed]",
      "text/plain": [
       "<Figure size 432x288 with 1 Axes>"
      ]
     },
     "metadata": {
      "needs_background": "light"
     },
     "output_type": "display_data"
    }
   ],
   "source": [
    "import matplotlib.pyplot as plt\n",
    "\n",
    "plt.title('OneCycleLR schedule')\n",
    "plt.ylabel('Learning rate')\n",
    "plt.xlabel('Step')\n",
    "plt.plot(trainer.lr_logs, c='red')\n",
    "plt.show()"
   ]
  },
  {
   "cell_type": "code",
   "execution_count": 69,
   "metadata": {
    "ExecuteTime": {
     "end_time": "2021-11-29T08:02:54.954912Z",
     "start_time": "2021-11-29T08:02:54.111092Z"
    },
    "colab": {
     "base_uri": "https://localhost:8080/",
     "height": 295
    },
    "id": "tIgiGlLzZMwa",
    "outputId": "faf71a16-1759-4a1f-8fba-3dde53956e07"
   },
   "outputs": [
    {
     "data": {
      "image/png": "[encoded data removed]",
      "text/plain": [
       "<Figure size 432x288 with 1 Axes>"
      ]
     },
     "metadata": {
      "needs_background": "light"
     },
     "output_type": "display_data"
    }
   ],
   "source": [
    "show_loss_curves(trainer.logs)"
   ]
  },
  {
   "cell_type": "code",
   "execution_count": null,
   "metadata": {},
   "outputs": [],
   "source": []
  }
 ],
 "metadata": {
  "accelerator": "GPU",
  "colab": {
   "collapsed_sections": [],
   "machine_shape": "hm",
   "name": "S9 Assignment .ipynb",
   "provenance": []
  },
  "kernelspec": {
   "display_name": "Python3.8",
   "language": "python",
   "name": "python3.8"
  },
  "language_info": {
   "codemirror_mode": {
    "name": "ipython",
    "version": 3
   },
   "file_extension": ".py",
   "mimetype": "text/x-python",
   "name": "python",
   "nbconvert_exporter": "python",
   "pygments_lexer": "ipython3",
   "version": "3.8.2"
  }
 },
 "nbformat": 4,
 "nbformat_minor": 1
}
