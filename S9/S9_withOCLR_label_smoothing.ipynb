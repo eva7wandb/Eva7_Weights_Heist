{
 "cells": [
  {
   "cell_type": "code",
   "execution_count": 1,
   "metadata": {
    "ExecuteTime": {
     "end_time": "2021-11-28T09:42:03.955895Z",
     "start_time": "2021-11-28T09:42:03.940058Z"
    },
    "id": "lqY-iGD6axiV"
   },
   "outputs": [],
   "source": [
    "%load_ext autoreload\n",
    "%autoreload 2"
   ]
  },
  {
   "cell_type": "code",
   "execution_count": 2,
   "metadata": {
    "ExecuteTime": {
     "end_time": "2021-11-28T09:42:05.884188Z",
     "start_time": "2021-11-28T09:42:03.960442Z"
    }
   },
   "outputs": [
    {
     "name": "stdout",
     "output_type": "stream",
     "text": [
      "Setting proc title..\n",
      "Process title :  MUHSIN_28-Nov_05-PM_NO_JOB_NAME\n",
      "Searching for GPUs..\n",
      "CUDA environment device set to 2\n",
      "GPU allocation finished.\n"
     ]
    }
   ],
   "source": [
    "from ds_toolkit.general_utils.gpu_utils import gpu_alloc\n",
    "gpu_alloc()"
   ]
  },
  {
   "cell_type": "code",
   "execution_count": 3,
   "metadata": {
    "ExecuteTime": {
     "end_time": "2021-11-28T09:42:05.910905Z",
     "start_time": "2021-11-28T09:42:05.892231Z"
    },
    "colab": {
     "base_uri": "https://localhost:8080/",
     "height": 1000
    },
    "id": "ooL_KkB3Gwxz",
    "outputId": "9d82d51f-e2b8-4390-c683-f487332b5fe8"
   },
   "outputs": [],
   "source": [
    "# !pip install --upgrade albumentations\n",
    "# !git clone https://github.com/frgfm/torch-cam.git\n",
    "# !pip install -e torch-cam/."
   ]
  },
  {
   "cell_type": "code",
   "execution_count": 4,
   "metadata": {
    "ExecuteTime": {
     "end_time": "2021-11-28T09:42:07.023294Z",
     "start_time": "2021-11-28T09:42:05.914872Z"
    }
   },
   "outputs": [],
   "source": [
    "! rm -rf ./Weights_Heist_Flow/"
   ]
  },
  {
   "cell_type": "code",
   "execution_count": 5,
   "metadata": {
    "ExecuteTime": {
     "end_time": "2021-11-28T09:42:11.895286Z",
     "start_time": "2021-11-28T09:42:07.026617Z"
    },
    "colab": {
     "base_uri": "https://localhost:8080/"
    },
    "id": "aNQ7JEoEGFzF",
    "outputId": "337e10bc-9815-4b48-8325-084e29811ff1"
   },
   "outputs": [
    {
     "name": "stdout",
     "output_type": "stream",
     "text": [
      "Cloning into 'Weights_Heist_Flow'...\n",
      "remote: Enumerating objects: 126, done.\u001b[K\n",
      "remote: Counting objects: 100% (126/126), done.\u001b[K\n",
      "remote: Compressing objects: 100% (102/102), done.\u001b[K\n",
      "remote: Total 126 (delta 54), reused 74 (delta 21), pack-reused 0\u001b[K\n",
      "Receiving objects: 100% (126/126), 405.02 KiB | 0 bytes/s, done.\n",
      "Resolving deltas: 100% (54/54), done.\n",
      "Checking connectivity... done.\n"
     ]
    }
   ],
   "source": [
    "! git clone https://github.com/eva7wandb/Weights_Heist_Flow.git"
   ]
  },
  {
   "cell_type": "code",
   "execution_count": 6,
   "metadata": {
    "ExecuteTime": {
     "end_time": "2021-11-28T09:42:17.593615Z",
     "start_time": "2021-11-28T09:42:17.574668Z"
    },
    "colab": {
     "base_uri": "https://localhost:8080/"
    },
    "id": "w3O3tMPYGOXt",
    "outputId": "9a8d4c34-ebe3-4e18-d7a4-36ab51e21b7a"
   },
   "outputs": [],
   "source": [
    "# %cd /content/Weights_Heist_Flow\n",
    "# ! pwd"
   ]
  },
  {
   "cell_type": "code",
   "execution_count": 7,
   "metadata": {
    "ExecuteTime": {
     "end_time": "2021-11-28T09:42:17.793124Z",
     "start_time": "2021-11-28T09:42:17.774721Z"
    }
   },
   "outputs": [],
   "source": [
    "import sys\n",
    "sys.path.append('./Weights_Heist_Flow/')"
   ]
  },
  {
   "cell_type": "code",
   "execution_count": 8,
   "metadata": {
    "ExecuteTime": {
     "end_time": "2021-11-28T09:42:21.669750Z",
     "start_time": "2021-11-28T09:42:18.105920Z"
    },
    "colab": {
     "base_uri": "https://localhost:8080/"
    },
    "id": "O__n2D1eGiLc",
    "outputId": "d043e90e-b6d7-498e-9371-a2bac697170b"
   },
   "outputs": [
    {
     "name": "stdout",
     "output_type": "stream",
     "text": [
      "[INFO] seed set 1\n",
      "[INFO] Cuda Avaliable :  True\n",
      "[INFO] device :  cuda\n"
     ]
    }
   ],
   "source": [
    "from main import Trainer, show_misclassification, show_loss_curves\n",
    "from models import custom_resnet, resnet #, cus_resnet"
   ]
  },
  {
   "cell_type": "code",
   "execution_count": 9,
   "metadata": {
    "ExecuteTime": {
     "end_time": "2021-11-28T09:42:33.567034Z",
     "start_time": "2021-11-28T09:42:21.677876Z"
    },
    "colab": {
     "base_uri": "https://localhost:8080/"
    },
    "id": "Izdc5b1qMGkH",
    "outputId": "8924b7c0-d661-481f-d727-8cc2e3f3b011"
   },
   "outputs": [
    {
     "name": "stdout",
     "output_type": "stream",
     "text": [
      "[INFO] Loading Data\n"
     ]
    },
    {
     "name": "stderr",
     "output_type": "stream",
     "text": [
      "/data/safe/envs/py_38_env/lib/python3.8/site-packages/albumentations/augmentations/transforms.py:689: FutureWarning: This class has been deprecated. Please use CoarseDropout\n",
      "  warnings.warn(\n"
     ]
    },
    {
     "name": "stdout",
     "output_type": "stream",
     "text": [
      "Files already downloaded and verified\n",
      "[INFO] train dataset of size 50000 loaded... (v4.1)\n",
      "Files already downloaded and verified\n",
      "[INFO] test dataset of size 10000 loaded... (v4.1)\n",
      "Files already downloaded and verified\n",
      "[INFO] test dataset of size 10000 loaded... (v4.1)\n",
      "----------------------------------------------------------------\n",
      "        Layer (type)               Output Shape         Param #\n",
      "================================================================\n",
      "            Conv2d-1           [-1, 64, 32, 32]           1,728\n",
      "       BatchNorm2d-2           [-1, 64, 32, 32]             128\n",
      "            Conv2d-3          [-1, 128, 32, 32]          73,728\n",
      "         MaxPool2d-4          [-1, 128, 16, 16]               0\n",
      "       BatchNorm2d-5          [-1, 128, 16, 16]             256\n",
      "            XBlock-6          [-1, 128, 16, 16]               0\n",
      "            Conv2d-7          [-1, 128, 16, 16]         147,456\n",
      "       BatchNorm2d-8          [-1, 128, 16, 16]             256\n",
      "            Conv2d-9          [-1, 128, 16, 16]         147,456\n",
      "      BatchNorm2d-10          [-1, 128, 16, 16]             256\n",
      "       BasicBlock-11          [-1, 128, 16, 16]               0\n",
      "           Conv2d-12          [-1, 256, 16, 16]         294,912\n",
      "        MaxPool2d-13            [-1, 256, 8, 8]               0\n",
      "      BatchNorm2d-14            [-1, 256, 8, 8]             512\n",
      "           XBlock-15            [-1, 256, 8, 8]               0\n",
      "           Conv2d-16            [-1, 512, 8, 8]       1,179,648\n",
      "        MaxPool2d-17            [-1, 512, 4, 4]               0\n",
      "      BatchNorm2d-18            [-1, 512, 4, 4]           1,024\n",
      "           XBlock-19            [-1, 512, 4, 4]               0\n",
      "           Conv2d-20            [-1, 512, 4, 4]       2,359,296\n",
      "      BatchNorm2d-21            [-1, 512, 4, 4]           1,024\n",
      "           Conv2d-22            [-1, 512, 4, 4]       2,359,296\n",
      "      BatchNorm2d-23            [-1, 512, 4, 4]           1,024\n",
      "       BasicBlock-24            [-1, 512, 4, 4]               0\n",
      "           Linear-25                   [-1, 10]           5,130\n",
      "================================================================\n",
      "Total params: 6,573,130\n",
      "Trainable params: 6,573,130\n",
      "Non-trainable params: 0\n",
      "----------------------------------------------------------------\n",
      "Input size (MB): 0.01\n",
      "Forward/backward pass size (MB): 5.63\n",
      "Params size (MB): 25.07\n",
      "Estimated Total Size (MB): 30.71\n",
      "----------------------------------------------------------------\n",
      "TEST         Loss:2.3022         Acc:9.87         [987 / 10000]\n"
     ]
    }
   ],
   "source": [
    "trainer = Trainer(\n",
    "      custom_resnet.CustomResNet(), lr=0.08, batch_size=512, scheduler='OneCycleLR', label_smoothing=0.05\n",
    ")"
   ]
  },
  {
   "cell_type": "code",
   "execution_count": null,
   "metadata": {
    "ExecuteTime": {
     "start_time": "2021-11-28T09:50:01.870Z"
    },
    "colab": {
     "base_uri": "https://localhost:8080/"
    },
    "id": "-IUF_YJq68W7",
    "outputId": "96b48b44-7ab8-4ddb-9aba-85c6a08cc328"
   },
   "outputs": [
    {
     "name": "stdout",
     "output_type": "stream",
     "text": [
      "[INFO] Begin training for 24 epochs.\n"
     ]
    },
    {
     "name": "stderr",
     "output_type": "stream",
     "text": [
      "TRAIN Epoch:0 Loss:2.0158 Batch:97 Acc:28.63: 100%|██████████| 98/98 [00:19<00:00,  5.05it/s]\n"
     ]
    },
    {
     "name": "stdout",
     "output_type": "stream",
     "text": [
      "TEST         Loss:1.9671         Acc:34.24         [3424 / 10000]\n"
     ]
    },
    {
     "name": "stderr",
     "output_type": "stream",
     "text": [
      "TRAIN Epoch:1 Loss:1.5093 Batch:97 Acc:40.07: 100%|██████████| 98/98 [00:17<00:00,  5.46it/s]\n"
     ]
    },
    {
     "name": "stdout",
     "output_type": "stream",
     "text": [
      "TEST         Loss:1.8605         Acc:44.01         [4401 / 10000]\n"
     ]
    },
    {
     "name": "stderr",
     "output_type": "stream",
     "text": [
      "TRAIN Epoch:2 Loss:1.6456 Batch:97 Acc:46.15: 100%|██████████| 98/98 [00:18<00:00,  5.42it/s]\n"
     ]
    },
    {
     "name": "stdout",
     "output_type": "stream",
     "text": [
      "TEST         Loss:1.5816         Acc:55.42         [5542 / 10000]\n"
     ]
    },
    {
     "name": "stderr",
     "output_type": "stream",
     "text": [
      "TRAIN Epoch:3 Loss:1.8257 Batch:97 Acc:55.58: 100%|██████████| 98/98 [00:18<00:00,  5.18it/s]\n"
     ]
    },
    {
     "name": "stdout",
     "output_type": "stream",
     "text": [
      "TEST         Loss:1.3637         Acc:57.73         [5773 / 10000]\n"
     ]
    },
    {
     "name": "stderr",
     "output_type": "stream",
     "text": [
      "TRAIN Epoch:4 Loss:1.4141 Batch:97 Acc:60.58: 100%|██████████| 98/98 [00:18<00:00,  5.35it/s]\n"
     ]
    },
    {
     "name": "stdout",
     "output_type": "stream",
     "text": [
      "TEST         Loss:1.3534         Acc:62.53         [6253 / 10000]\n"
     ]
    },
    {
     "name": "stderr",
     "output_type": "stream",
     "text": [
      "TRAIN Epoch:5 Loss:0.997 Batch:97 Acc:68.94: 100%|██████████| 98/98 [00:16<00:00,  5.87it/s] \n"
     ]
    },
    {
     "name": "stdout",
     "output_type": "stream",
     "text": [
      "TEST         Loss:1.1339         Acc:68.30         [6830 / 10000]\n"
     ]
    },
    {
     "name": "stderr",
     "output_type": "stream",
     "text": [
      "TRAIN Epoch:6 Loss:0.9646 Batch:97 Acc:73.56: 100%|██████████| 98/98 [00:16<00:00,  5.87it/s]\n"
     ]
    },
    {
     "name": "stdout",
     "output_type": "stream",
     "text": [
      "TEST         Loss:0.8883         Acc:77.48         [7748 / 10000]\n"
     ]
    },
    {
     "name": "stderr",
     "output_type": "stream",
     "text": [
      "TRAIN Epoch:7 Loss:0.8452 Batch:97 Acc:77.60: 100%|██████████| 98/98 [00:18<00:00,  5.22it/s]\n"
     ]
    },
    {
     "name": "stdout",
     "output_type": "stream",
     "text": [
      "TEST         Loss:0.9089         Acc:76.70         [7670 / 10000]\n"
     ]
    },
    {
     "name": "stderr",
     "output_type": "stream",
     "text": [
      "TRAIN Epoch:8 Loss:0.8521 Batch:97 Acc:79.77: 100%|██████████| 98/98 [00:18<00:00,  5.40it/s]\n"
     ]
    },
    {
     "name": "stdout",
     "output_type": "stream",
     "text": [
      "TEST         Loss:0.9095         Acc:78.63         [7863 / 10000]\n"
     ]
    },
    {
     "name": "stderr",
     "output_type": "stream",
     "text": [
      "TRAIN Epoch:9 Loss:0.84 Batch:97 Acc:81.43: 100%|██████████| 98/98 [00:18<00:00,  5.28it/s]  \n"
     ]
    },
    {
     "name": "stdout",
     "output_type": "stream",
     "text": [
      "TEST         Loss:0.7580         Acc:83.11         [8311 / 10000]\n"
     ]
    },
    {
     "name": "stderr",
     "output_type": "stream",
     "text": [
      "TRAIN Epoch:10 Loss:0.7294 Batch:97 Acc:82.86: 100%|██████████| 98/98 [00:18<00:00,  5.19it/s]\n"
     ]
    },
    {
     "name": "stdout",
     "output_type": "stream",
     "text": [
      "TEST         Loss:0.7393         Acc:83.61         [8361 / 10000]\n"
     ]
    },
    {
     "name": "stderr",
     "output_type": "stream",
     "text": [
      "TRAIN Epoch:11 Loss:0.769 Batch:97 Acc:84.67: 100%|██████████| 98/98 [00:19<00:00,  5.10it/s] \n"
     ]
    },
    {
     "name": "stdout",
     "output_type": "stream",
     "text": [
      "TEST         Loss:0.8043         Acc:81.43         [8143 / 10000]\n"
     ]
    },
    {
     "name": "stderr",
     "output_type": "stream",
     "text": [
      "TRAIN Epoch:12 Loss:0.6821 Batch:97 Acc:85.95: 100%|██████████| 98/98 [00:19<00:00,  5.01it/s]\n"
     ]
    },
    {
     "name": "stdout",
     "output_type": "stream",
     "text": [
      "TEST         Loss:0.7111         Acc:84.70         [8470 / 10000]\n"
     ]
    },
    {
     "name": "stderr",
     "output_type": "stream",
     "text": [
      "TRAIN Epoch:13 Loss:0.7064 Batch:97 Acc:86.94: 100%|██████████| 98/98 [00:19<00:00,  5.08it/s]\n"
     ]
    },
    {
     "name": "stdout",
     "output_type": "stream",
     "text": [
      "TEST         Loss:0.7073         Acc:84.84         [8484 / 10000]\n"
     ]
    },
    {
     "name": "stderr",
     "output_type": "stream",
     "text": [
      "TRAIN Epoch:14 Loss:0.59 Batch:97 Acc:88.07: 100%|██████████| 98/98 [00:19<00:00,  5.08it/s]  \n"
     ]
    },
    {
     "name": "stdout",
     "output_type": "stream",
     "text": [
      "TEST         Loss:0.6770         Acc:86.40         [8640 / 10000]\n"
     ]
    },
    {
     "name": "stderr",
     "output_type": "stream",
     "text": [
      "TRAIN Epoch:15 Loss:0.6335 Batch:58 Acc:88.81:  60%|██████    | 59/98 [00:12<00:07,  5.18it/s]"
     ]
    }
   ],
   "source": [
    "trainer.train_model(epochs=24)"
   ]
  },
  {
   "cell_type": "code",
   "execution_count": 11,
   "metadata": {
    "ExecuteTime": {
     "end_time": "2021-11-28T09:08:03.681247Z",
     "start_time": "2021-11-28T09:08:03.316994Z"
    },
    "colab": {
     "base_uri": "https://localhost:8080/",
     "height": 295
    },
    "id": "tcEqc9CC7UNS",
    "outputId": "c11c175a-f454-47a5-8892-1e434aaafffc"
   },
   "outputs": [
    {
     "data": {
      "image/png": "[encoded data removed]",
      "text/plain": [
       "<Figure size 432x288 with 1 Axes>"
      ]
     },
     "metadata": {
      "needs_background": "light"
     },
     "output_type": "display_data"
    }
   ],
   "source": [
    "import matplotlib.pyplot as plt\n",
    "\n",
    "plt.title('OneCycleLR schedule')\n",
    "plt.ylabel('Learning rate')\n",
    "plt.xlabel('Step')\n",
    "plt.plot(trainer.lr_logs, c='red')\n",
    "plt.show()"
   ]
  },
  {
   "cell_type": "code",
   "execution_count": 12,
   "metadata": {
    "ExecuteTime": {
     "end_time": "2021-11-28T09:08:06.179035Z",
     "start_time": "2021-11-28T09:08:06.141377Z"
    },
    "colab": {
     "base_uri": "https://localhost:8080/",
     "height": 349
    },
    "id": "NRJOUsNPwOXC",
    "outputId": "0e970043-4696-4d54-d886-2e6e89dd0926"
   },
   "outputs": [],
   "source": [
    "# ## Use this to check the LR rates without actually training the model ###\n",
    "# import matplotlib.pyplot as plt\n",
    "\n",
    "# epochs = 24\n",
    "# batches_per_epoch = 98\n",
    "# optimiser = trainer.optimizer\n",
    "# scheduler = trainer.scheduler\n",
    "\n",
    "# ys = []\n",
    "# for _ in range(epochs):\n",
    "#     for _ in range(batches_per_epoch):\n",
    "#         ys.append(optimiser.param_groups[0]['lr'])\n",
    "#         scheduler.step()\n",
    "# plt.title('OneCycleLR schedule')\n",
    "# plt.ylabel('Learning rate')\n",
    "# plt.xlabel('Step')\n",
    "# plt.plot(ys, c='red')\n",
    "# plt.show()"
   ]
  },
  {
   "cell_type": "code",
   "execution_count": 13,
   "metadata": {
    "ExecuteTime": {
     "end_time": "2021-11-28T09:08:06.852069Z",
     "start_time": "2021-11-28T09:08:06.532444Z"
    },
    "colab": {
     "base_uri": "https://localhost:8080/",
     "height": 295
    },
    "id": "tIgiGlLzZMwa",
    "outputId": "faf71a16-1759-4a1f-8fba-3dde53956e07"
   },
   "outputs": [
    {
     "data": {
      "image/png": "[encoded data removed]",
      "text/plain": [
       "<Figure size 432x288 with 1 Axes>"
      ]
     },
     "metadata": {
      "needs_background": "light"
     },
     "output_type": "display_data"
    }
   ],
   "source": [
    "show_loss_curves(trainer.logs)"
   ]
  },
  {
   "cell_type": "code",
   "execution_count": null,
   "metadata": {
    "id": "1q7bVXjJVJrb"
   },
   "outputs": [],
   "source": [
    "#show_misclassification(trainer, 'layer3')"
   ]
  },
  {
   "cell_type": "code",
   "execution_count": null,
   "metadata": {
    "id": "SUT7tYTJdfEH"
   },
   "outputs": [],
   "source": []
  },
  {
   "cell_type": "code",
   "execution_count": null,
   "metadata": {},
   "outputs": [],
   "source": []
  },
  {
   "cell_type": "code",
   "execution_count": null,
   "metadata": {},
   "outputs": [],
   "source": []
  }
 ],
 "metadata": {
  "accelerator": "GPU",
  "colab": {
   "collapsed_sections": [],
   "machine_shape": "hm",
   "name": "S9 Assignment .ipynb",
   "provenance": []
  },
  "kernelspec": {
   "display_name": "Python3.8",
   "language": "python",
   "name": "python3.8"
  },
  "language_info": {
   "codemirror_mode": {
    "name": "ipython",
    "version": 3
   },
   "file_extension": ".py",
   "mimetype": "text/x-python",
   "name": "python",
   "nbconvert_exporter": "python",
   "pygments_lexer": "ipython3",
   "version": "3.8.2"
  }
 },
 "nbformat": 4,
 "nbformat_minor": 1
}
