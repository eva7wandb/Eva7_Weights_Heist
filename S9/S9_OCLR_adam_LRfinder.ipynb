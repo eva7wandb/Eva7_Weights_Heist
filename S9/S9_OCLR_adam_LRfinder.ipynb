{
 "cells": [
  {
   "cell_type": "code",
   "execution_count": 1,
   "metadata": {
    "ExecuteTime": {
     "end_time": "2021-11-29T05:16:47.280298Z",
     "start_time": "2021-11-29T05:16:47.249842Z"
    },
    "id": "lqY-iGD6axiV"
   },
   "outputs": [],
   "source": [
    "%load_ext autoreload\n",
    "%autoreload 2"
   ]
  },
  {
   "cell_type": "code",
   "execution_count": 2,
   "metadata": {
    "ExecuteTime": {
     "end_time": "2021-11-29T05:16:47.515982Z",
     "start_time": "2021-11-29T05:16:47.288232Z"
    },
    "colab": {
     "base_uri": "https://localhost:8080/",
     "height": 1000
    },
    "id": "ooL_KkB3Gwxz",
    "outputId": "9d82d51f-e2b8-4390-c683-f487332b5fe8"
   },
   "outputs": [],
   "source": [
    "# !pip install --upgrade albumentations\n",
    "# !git clone https://github.com/frgfm/torch-cam.git\n",
    "# !pip install -e torch-cam/."
   ]
  },
  {
   "cell_type": "code",
   "execution_count": 4,
   "metadata": {
    "ExecuteTime": {
     "end_time": "2021-11-29T05:17:05.219449Z",
     "start_time": "2021-11-29T05:17:04.207850Z"
    }
   },
   "outputs": [],
   "source": [
    "! rm -rf ./Weights_Heist_Flow/"
   ]
  },
  {
   "cell_type": "code",
   "execution_count": 5,
   "metadata": {
    "ExecuteTime": {
     "end_time": "2021-11-29T05:17:10.638188Z",
     "start_time": "2021-11-29T05:17:05.223161Z"
    },
    "colab": {
     "base_uri": "https://localhost:8080/"
    },
    "id": "aNQ7JEoEGFzF",
    "outputId": "337e10bc-9815-4b48-8325-084e29811ff1"
   },
   "outputs": [
    {
     "name": "stdout",
     "output_type": "stream",
     "text": [
      "Cloning into 'Weights_Heist_Flow'...\n",
      "remote: Enumerating objects: 164, done.\u001b[K\n",
      "remote: Counting objects: 100% (164/164), done.\u001b[K\n",
      "remote: Compressing objects: 100% (140/140), done.\u001b[K\n",
      "remote: Total 164 (delta 68), reused 73 (delta 21), pack-reused 0\u001b[K\n",
      "Receiving objects: 100% (164/164), 414.63 KiB | 0 bytes/s, done.\n",
      "Resolving deltas: 100% (68/68), done.\n",
      "Checking connectivity... done.\n"
     ]
    }
   ],
   "source": [
    "! git clone https://github.com/eva7wandb/Weights_Heist_Flow.git"
   ]
  },
  {
   "cell_type": "code",
   "execution_count": 6,
   "metadata": {
    "ExecuteTime": {
     "end_time": "2021-11-29T05:17:10.664939Z",
     "start_time": "2021-11-29T05:17:10.642180Z"
    },
    "colab": {
     "base_uri": "https://localhost:8080/"
    },
    "id": "w3O3tMPYGOXt",
    "outputId": "9a8d4c34-ebe3-4e18-d7a4-36ab51e21b7a"
   },
   "outputs": [],
   "source": [
    "# %cd /content/Weights_Heist_Flow\n",
    "# ! pwd"
   ]
  },
  {
   "cell_type": "code",
   "execution_count": 7,
   "metadata": {
    "ExecuteTime": {
     "end_time": "2021-11-29T05:17:11.336262Z",
     "start_time": "2021-11-29T05:17:11.315465Z"
    }
   },
   "outputs": [],
   "source": [
    "import sys\n",
    "sys.path.append('./Weights_Heist_Flow/')"
   ]
  },
  {
   "cell_type": "code",
   "execution_count": 8,
   "metadata": {
    "ExecuteTime": {
     "end_time": "2021-11-29T05:17:17.152391Z",
     "start_time": "2021-11-29T05:17:12.467745Z"
    },
    "colab": {
     "base_uri": "https://localhost:8080/"
    },
    "id": "O__n2D1eGiLc",
    "outputId": "d043e90e-b6d7-498e-9371-a2bac697170b"
   },
   "outputs": [
    {
     "name": "stdout",
     "output_type": "stream",
     "text": [
      "[INFO] seed set 1\n",
      "[INFO] Cuda Avaliable :  True\n",
      "[INFO] device :  cuda\n"
     ]
    }
   ],
   "source": [
    "from main import Trainer, show_misclassification, show_loss_curves\n",
    "from models import custom_resnet, resnet #, cus_resnet"
   ]
  },
  {
   "cell_type": "code",
   "execution_count": 9,
   "metadata": {
    "ExecuteTime": {
     "end_time": "2021-11-29T05:17:53.760339Z",
     "start_time": "2021-11-29T05:17:18.233890Z"
    },
    "colab": {
     "base_uri": "https://localhost:8080/"
    },
    "id": "Izdc5b1qMGkH",
    "outputId": "8924b7c0-d661-481f-d727-8cc2e3f3b011"
   },
   "outputs": [
    {
     "name": "stdout",
     "output_type": "stream",
     "text": [
      "[INFO] Loading Data\n"
     ]
    },
    {
     "name": "stderr",
     "output_type": "stream",
     "text": [
      "/data/safe/envs/py_38_env/lib/python3.8/site-packages/albumentations/augmentations/transforms.py:689: FutureWarning: This class has been deprecated. Please use CoarseDropout\n",
      "  warnings.warn(\n"
     ]
    },
    {
     "name": "stdout",
     "output_type": "stream",
     "text": [
      "Files already downloaded and verified\n",
      "[INFO] train dataset of size 50000 loaded... (v4.1)\n",
      "Files already downloaded and verified\n",
      "[INFO] test dataset of size 10000 loaded... (v4.1)\n",
      "Files already downloaded and verified\n",
      "[INFO] test dataset of size 10000 loaded... (v4.1)\n",
      "----------------------------------------------------------------\n",
      "        Layer (type)               Output Shape         Param #\n",
      "================================================================\n",
      "            Conv2d-1           [-1, 64, 32, 32]           1,728\n",
      "       BatchNorm2d-2           [-1, 64, 32, 32]             128\n",
      "            Conv2d-3          [-1, 128, 32, 32]          73,728\n",
      "         MaxPool2d-4          [-1, 128, 16, 16]               0\n",
      "       BatchNorm2d-5          [-1, 128, 16, 16]             256\n",
      "            XBlock-6          [-1, 128, 16, 16]               0\n",
      "            Conv2d-7          [-1, 128, 16, 16]         147,456\n",
      "       BatchNorm2d-8          [-1, 128, 16, 16]             256\n",
      "            Conv2d-9          [-1, 128, 16, 16]         147,456\n",
      "      BatchNorm2d-10          [-1, 128, 16, 16]             256\n",
      "       BasicBlock-11          [-1, 128, 16, 16]               0\n",
      "           Conv2d-12          [-1, 256, 16, 16]         294,912\n",
      "        MaxPool2d-13            [-1, 256, 8, 8]               0\n",
      "      BatchNorm2d-14            [-1, 256, 8, 8]             512\n",
      "           XBlock-15            [-1, 256, 8, 8]               0\n",
      "           Conv2d-16            [-1, 512, 8, 8]       1,179,648\n",
      "        MaxPool2d-17            [-1, 512, 4, 4]               0\n",
      "      BatchNorm2d-18            [-1, 512, 4, 4]           1,024\n",
      "           XBlock-19            [-1, 512, 4, 4]               0\n",
      "           Conv2d-20            [-1, 512, 4, 4]       2,359,296\n",
      "      BatchNorm2d-21            [-1, 512, 4, 4]           1,024\n",
      "           Conv2d-22            [-1, 512, 4, 4]       2,359,296\n",
      "      BatchNorm2d-23            [-1, 512, 4, 4]           1,024\n",
      "       BasicBlock-24            [-1, 512, 4, 4]               0\n",
      "           Linear-25                   [-1, 10]           5,130\n",
      "================================================================\n",
      "Total params: 6,573,130\n",
      "Trainable params: 6,573,130\n",
      "Non-trainable params: 0\n",
      "----------------------------------------------------------------\n",
      "Input size (MB): 0.01\n",
      "Forward/backward pass size (MB): 5.63\n",
      "Params size (MB): 25.07\n",
      "Estimated Total Size (MB): 30.71\n",
      "----------------------------------------------------------------\n",
      "Adam (\n",
      "Parameter Group 0\n",
      "    amsgrad: False\n",
      "    betas: (0.9, 0.999)\n",
      "    eps: 1e-08\n",
      "    lr: 1e-05\n",
      "    weight_decay: 0\n",
      ")\n",
      "----------------------------------------------------------------\n",
      "Running LR finder ... \n"
     ]
    },
    {
     "data": {
      "application/vnd.jupyter.widget-view+json": {
       "model_id": "9c34cb7e44404c1cb4c929e797da88ad",
       "version_major": 2,
       "version_minor": 0
      },
      "text/plain": [
       "  0%|          | 0/100 [00:00<?, ?it/s]"
      ]
     },
     "metadata": {},
     "output_type": "display_data"
    },
    {
     "name": "stdout",
     "output_type": "stream",
     "text": [
      "Learning rate search finished. See the graph with {finder_name}.plot()\n",
      "LR suggestion: steepest gradient\n",
      "Suggested LR: 3.13E-01\n"
     ]
    },
    {
     "data": {
      "image/png": "[encoded data removed]",
      "text/plain": [
       "<Figure size 432x288 with 1 Axes>"
      ]
     },
     "metadata": {
      "needs_background": "light"
     },
     "output_type": "display_data"
    },
    {
     "name": "stdout",
     "output_type": "stream",
     "text": [
      "few steps before and after best_loss\n",
      "(relative step, lr, loss)\n",
      "(-5, 0.00423, 1.829)\n",
      "(-4, 0.00475, 1.81686)\n",
      "(-3, 0.00534, 1.80384)\n",
      "(-2, 0.00599, 1.79301)\n",
      "(-1, 0.00673, 1.77833)\n",
      "(0, 0.00756, 1.77717)\n",
      "(1, 0.0085, 1.78842)\n",
      "(2, 0.00955, 1.81259)\n",
      "(3, 0.01072, 1.83655)\n",
      "(4, 0.01205, 1.84344)\n",
      "----------------------------------------------------------------\n",
      "TEST         Loss:2.3022         Acc:9.87         [987 / 10000]\n"
     ]
    }
   ],
   "source": [
    "## running to get the appropriate lr\n",
    "trainer = Trainer(\n",
    "    custom_resnet.CustomResNet(), lr=0.00001, batch_size=512, \n",
    "    scheduler='OneCycleLR', label_smoothing=0.05,\n",
    "    optimizer='Adam', run_find_lr=True\n",
    ")"
   ]
  },
  {
   "cell_type": "code",
   "execution_count": 11,
   "metadata": {
    "ExecuteTime": {
     "end_time": "2021-11-29T05:18:59.156267Z",
     "start_time": "2021-11-29T05:18:49.502060Z"
    }
   },
   "outputs": [
    {
     "name": "stdout",
     "output_type": "stream",
     "text": [
      "[INFO] Loading Data\n",
      "Files already downloaded and verified\n",
      "[INFO] train dataset of size 50000 loaded... (v4.1)\n",
      "Files already downloaded and verified\n",
      "[INFO] test dataset of size 10000 loaded... (v4.1)\n",
      "Files already downloaded and verified\n",
      "[INFO] test dataset of size 10000 loaded... (v4.1)\n",
      "----------------------------------------------------------------\n",
      "        Layer (type)               Output Shape         Param #\n",
      "================================================================\n",
      "            Conv2d-1           [-1, 64, 32, 32]           1,728\n",
      "       BatchNorm2d-2           [-1, 64, 32, 32]             128\n",
      "            Conv2d-3          [-1, 128, 32, 32]          73,728\n",
      "         MaxPool2d-4          [-1, 128, 16, 16]               0\n",
      "       BatchNorm2d-5          [-1, 128, 16, 16]             256\n",
      "            XBlock-6          [-1, 128, 16, 16]               0\n",
      "            Conv2d-7          [-1, 128, 16, 16]         147,456\n",
      "       BatchNorm2d-8          [-1, 128, 16, 16]             256\n",
      "            Conv2d-9          [-1, 128, 16, 16]         147,456\n",
      "      BatchNorm2d-10          [-1, 128, 16, 16]             256\n",
      "       BasicBlock-11          [-1, 128, 16, 16]               0\n",
      "           Conv2d-12          [-1, 256, 16, 16]         294,912\n",
      "        MaxPool2d-13            [-1, 256, 8, 8]               0\n",
      "      BatchNorm2d-14            [-1, 256, 8, 8]             512\n",
      "           XBlock-15            [-1, 256, 8, 8]               0\n",
      "           Conv2d-16            [-1, 512, 8, 8]       1,179,648\n",
      "        MaxPool2d-17            [-1, 512, 4, 4]               0\n",
      "      BatchNorm2d-18            [-1, 512, 4, 4]           1,024\n",
      "           XBlock-19            [-1, 512, 4, 4]               0\n",
      "           Conv2d-20            [-1, 512, 4, 4]       2,359,296\n",
      "      BatchNorm2d-21            [-1, 512, 4, 4]           1,024\n",
      "           Conv2d-22            [-1, 512, 4, 4]       2,359,296\n",
      "      BatchNorm2d-23            [-1, 512, 4, 4]           1,024\n",
      "       BasicBlock-24            [-1, 512, 4, 4]               0\n",
      "           Linear-25                   [-1, 10]           5,130\n",
      "================================================================\n",
      "Total params: 6,573,130\n",
      "Trainable params: 6,573,130\n",
      "Non-trainable params: 0\n",
      "----------------------------------------------------------------\n",
      "Input size (MB): 0.01\n",
      "Forward/backward pass size (MB): 5.63\n",
      "Params size (MB): 25.07\n",
      "Estimated Total Size (MB): 30.71\n",
      "----------------------------------------------------------------\n",
      "Adam (\n",
      "Parameter Group 0\n",
      "    amsgrad: False\n",
      "    betas: (0.9, 0.999)\n",
      "    eps: 1e-08\n",
      "    lr: 0.00673\n",
      "    weight_decay: 0\n",
      ")\n",
      "----------------------------------------------------------------\n",
      "----------------------------------------------------------------\n",
      "TEST         Loss:2.3020         Acc:11.97         [1197 / 10000]\n"
     ]
    }
   ],
   "source": [
    "trainer = Trainer(\n",
    "    custom_resnet.CustomResNet(), lr=0.00673, batch_size=512, \n",
    "    scheduler='OneCycleLR', label_smoothing=0.05,\n",
    "    optimizer='Adam', run_find_lr=False\n",
    ")"
   ]
  },
  {
   "cell_type": "code",
   "execution_count": 12,
   "metadata": {
    "ExecuteTime": {
     "end_time": "2021-11-29T05:28:35.553091Z",
     "start_time": "2021-11-29T05:19:03.158586Z"
    },
    "colab": {
     "base_uri": "https://localhost:8080/"
    },
    "id": "-IUF_YJq68W7",
    "outputId": "96b48b44-7ab8-4ddb-9aba-85c6a08cc328"
   },
   "outputs": [
    {
     "name": "stdout",
     "output_type": "stream",
     "text": [
      "[INFO] Begin training for 24 epochs.\n"
     ]
    },
    {
     "name": "stderr",
     "output_type": "stream",
     "text": [
      "TRAIN Epoch:0 Loss:1.1352 Batch:97 Acc:51.19: 100%|██████████| 98/98 [00:19<00:00,  4.93it/s]\n"
     ]
    },
    {
     "name": "stdout",
     "output_type": "stream",
     "text": [
      "TEST         Loss:1.2821         Acc:59.61         [5961 / 10000]\n"
     ]
    },
    {
     "name": "stderr",
     "output_type": "stream",
     "text": [
      "TRAIN Epoch:1 Loss:1.0321 Batch:97 Acc:70.07: 100%|██████████| 98/98 [00:20<00:00,  4.83it/s]\n"
     ]
    },
    {
     "name": "stdout",
     "output_type": "stream",
     "text": [
      "TEST         Loss:1.0070         Acc:72.14         [7214 / 10000]\n"
     ]
    },
    {
     "name": "stderr",
     "output_type": "stream",
     "text": [
      "TRAIN Epoch:2 Loss:0.8003 Batch:97 Acc:76.09: 100%|██████████| 98/98 [00:21<00:00,  4.64it/s]\n"
     ]
    },
    {
     "name": "stdout",
     "output_type": "stream",
     "text": [
      "TEST         Loss:0.8870         Acc:77.10         [7710 / 10000]\n"
     ]
    },
    {
     "name": "stderr",
     "output_type": "stream",
     "text": [
      "TRAIN Epoch:3 Loss:0.7558 Batch:97 Acc:79.15: 100%|██████████| 98/98 [00:22<00:00,  4.28it/s]\n"
     ]
    },
    {
     "name": "stdout",
     "output_type": "stream",
     "text": [
      "TEST         Loss:0.8107         Acc:80.50         [8050 / 10000]\n"
     ]
    },
    {
     "name": "stderr",
     "output_type": "stream",
     "text": [
      "TRAIN Epoch:4 Loss:0.6904 Batch:97 Acc:80.77: 100%|██████████| 98/98 [00:22<00:00,  4.28it/s]\n"
     ]
    },
    {
     "name": "stdout",
     "output_type": "stream",
     "text": [
      "TEST         Loss:0.9716         Acc:75.17         [7517 / 10000]\n"
     ]
    },
    {
     "name": "stderr",
     "output_type": "stream",
     "text": [
      "TRAIN Epoch:5 Loss:0.7227 Batch:97 Acc:84.14: 100%|██████████| 98/98 [00:22<00:00,  4.38it/s]\n"
     ]
    },
    {
     "name": "stdout",
     "output_type": "stream",
     "text": [
      "TEST         Loss:0.7272         Acc:84.84         [8484 / 10000]\n"
     ]
    },
    {
     "name": "stderr",
     "output_type": "stream",
     "text": [
      "TRAIN Epoch:6 Loss:0.6324 Batch:97 Acc:86.79: 100%|██████████| 98/98 [00:21<00:00,  4.52it/s]\n"
     ]
    },
    {
     "name": "stdout",
     "output_type": "stream",
     "text": [
      "TEST         Loss:0.6974         Acc:85.23         [8523 / 10000]\n"
     ]
    },
    {
     "name": "stderr",
     "output_type": "stream",
     "text": [
      "TRAIN Epoch:7 Loss:0.5636 Batch:97 Acc:88.99: 100%|██████████| 98/98 [00:21<00:00,  4.46it/s]\n"
     ]
    },
    {
     "name": "stdout",
     "output_type": "stream",
     "text": [
      "TEST         Loss:0.6457         Acc:87.29         [8729 / 10000]\n"
     ]
    },
    {
     "name": "stderr",
     "output_type": "stream",
     "text": [
      "TRAIN Epoch:8 Loss:0.589 Batch:97 Acc:90.18: 100%|██████████| 98/98 [00:21<00:00,  4.57it/s] \n"
     ]
    },
    {
     "name": "stdout",
     "output_type": "stream",
     "text": [
      "TEST         Loss:0.6499         Acc:87.26         [8726 / 10000]\n"
     ]
    },
    {
     "name": "stderr",
     "output_type": "stream",
     "text": [
      "TRAIN Epoch:9 Loss:0.5344 Batch:97 Acc:91.30: 100%|██████████| 98/98 [00:20<00:00,  4.78it/s]\n"
     ]
    },
    {
     "name": "stdout",
     "output_type": "stream",
     "text": [
      "TEST         Loss:0.5940         Acc:89.25         [8925 / 10000]\n"
     ]
    },
    {
     "name": "stderr",
     "output_type": "stream",
     "text": [
      "TRAIN Epoch:10 Loss:0.5338 Batch:97 Acc:92.15: 100%|██████████| 98/98 [00:20<00:00,  4.76it/s]\n"
     ]
    },
    {
     "name": "stdout",
     "output_type": "stream",
     "text": [
      "TEST         Loss:0.5897         Acc:89.39         [8939 / 10000]\n"
     ]
    },
    {
     "name": "stderr",
     "output_type": "stream",
     "text": [
      "TRAIN Epoch:11 Loss:0.5063 Batch:97 Acc:93.13: 100%|██████████| 98/98 [00:21<00:00,  4.66it/s]\n"
     ]
    },
    {
     "name": "stdout",
     "output_type": "stream",
     "text": [
      "TEST         Loss:0.5707         Acc:90.31         [9031 / 10000]\n"
     ]
    },
    {
     "name": "stderr",
     "output_type": "stream",
     "text": [
      "TRAIN Epoch:12 Loss:0.4768 Batch:97 Acc:93.95: 100%|██████████| 98/98 [00:21<00:00,  4.56it/s]\n"
     ]
    },
    {
     "name": "stdout",
     "output_type": "stream",
     "text": [
      "TEST         Loss:0.5680         Acc:89.87         [8987 / 10000]\n"
     ]
    },
    {
     "name": "stderr",
     "output_type": "stream",
     "text": [
      "TRAIN Epoch:13 Loss:0.4661 Batch:97 Acc:94.36: 100%|██████████| 98/98 [00:22<00:00,  4.42it/s]\n"
     ]
    },
    {
     "name": "stdout",
     "output_type": "stream",
     "text": [
      "TEST         Loss:0.5594         Acc:90.40         [9040 / 10000]\n"
     ]
    },
    {
     "name": "stderr",
     "output_type": "stream",
     "text": [
      "TRAIN Epoch:14 Loss:0.4533 Batch:97 Acc:95.43: 100%|██████████| 98/98 [00:20<00:00,  4.67it/s]\n"
     ]
    },
    {
     "name": "stdout",
     "output_type": "stream",
     "text": [
      "TEST         Loss:0.5616         Acc:90.64         [9064 / 10000]\n"
     ]
    },
    {
     "name": "stderr",
     "output_type": "stream",
     "text": [
      "TRAIN Epoch:15 Loss:0.4072 Batch:97 Acc:96.04: 100%|██████████| 98/98 [00:21<00:00,  4.62it/s]\n"
     ]
    },
    {
     "name": "stdout",
     "output_type": "stream",
     "text": [
      "TEST         Loss:0.5401         Acc:90.90         [9090 / 10000]\n"
     ]
    },
    {
     "name": "stderr",
     "output_type": "stream",
     "text": [
      "TRAIN Epoch:16 Loss:0.4412 Batch:97 Acc:96.31: 100%|██████████| 98/98 [00:20<00:00,  4.70it/s]\n"
     ]
    },
    {
     "name": "stdout",
     "output_type": "stream",
     "text": [
      "TEST         Loss:0.5352         Acc:91.07         [9107 / 10000]\n"
     ]
    },
    {
     "name": "stderr",
     "output_type": "stream",
     "text": [
      "TRAIN Epoch:17 Loss:0.3971 Batch:97 Acc:96.92: 100%|██████████| 98/98 [00:20<00:00,  4.81it/s]\n"
     ]
    },
    {
     "name": "stdout",
     "output_type": "stream",
     "text": [
      "TEST         Loss:0.5138         Acc:92.21         [9221 / 10000]\n"
     ]
    },
    {
     "name": "stderr",
     "output_type": "stream",
     "text": [
      "TRAIN Epoch:18 Loss:0.3648 Batch:97 Acc:97.62: 100%|██████████| 98/98 [00:20<00:00,  4.71it/s]\n"
     ]
    },
    {
     "name": "stdout",
     "output_type": "stream",
     "text": [
      "TEST         Loss:0.5014         Acc:92.63         [9263 / 10000]\n"
     ]
    },
    {
     "name": "stderr",
     "output_type": "stream",
     "text": [
      "TRAIN Epoch:19 Loss:0.3588 Batch:97 Acc:97.70: 100%|██████████| 98/98 [00:20<00:00,  4.84it/s]\n"
     ]
    },
    {
     "name": "stdout",
     "output_type": "stream",
     "text": [
      "TEST         Loss:0.5062         Acc:92.19         [9219 / 10000]\n"
     ]
    },
    {
     "name": "stderr",
     "output_type": "stream",
     "text": [
      "TRAIN Epoch:20 Loss:0.3452 Batch:97 Acc:98.07: 100%|██████████| 98/98 [00:20<00:00,  4.83it/s]\n"
     ]
    },
    {
     "name": "stdout",
     "output_type": "stream",
     "text": [
      "TEST         Loss:0.4859         Acc:93.10         [9310 / 10000]\n"
     ]
    },
    {
     "name": "stderr",
     "output_type": "stream",
     "text": [
      "TRAIN Epoch:21 Loss:0.3715 Batch:97 Acc:98.37: 100%|██████████| 98/98 [00:20<00:00,  4.74it/s]\n"
     ]
    },
    {
     "name": "stdout",
     "output_type": "stream",
     "text": [
      "TEST         Loss:0.4883         Acc:92.96         [9296 / 10000]\n"
     ]
    },
    {
     "name": "stderr",
     "output_type": "stream",
     "text": [
      "TRAIN Epoch:22 Loss:0.3435 Batch:97 Acc:98.75: 100%|██████████| 98/98 [00:20<00:00,  4.79it/s]\n"
     ]
    },
    {
     "name": "stdout",
     "output_type": "stream",
     "text": [
      "TEST         Loss:0.4799         Acc:93.26         [9326 / 10000]\n"
     ]
    },
    {
     "name": "stderr",
     "output_type": "stream",
     "text": [
      "TRAIN Epoch:23 Loss:0.3611 Batch:97 Acc:98.88: 100%|██████████| 98/98 [00:20<00:00,  4.86it/s]\n"
     ]
    },
    {
     "name": "stdout",
     "output_type": "stream",
     "text": [
      "TEST         Loss:0.4746         Acc:93.51         [9351 / 10000]\n"
     ]
    }
   ],
   "source": [
    "trainer.train_model(epochs=24)"
   ]
  },
  {
   "cell_type": "code",
   "execution_count": 13,
   "metadata": {
    "ExecuteTime": {
     "end_time": "2021-11-29T05:28:38.732243Z",
     "start_time": "2021-11-29T05:28:38.369710Z"
    },
    "colab": {
     "base_uri": "https://localhost:8080/",
     "height": 295
    },
    "id": "tcEqc9CC7UNS",
    "outputId": "c11c175a-f454-47a5-8892-1e434aaafffc"
   },
   "outputs": [
    {
     "data": {
      "image/png": "[encoded data removed]",
      "text/plain": [
       "<Figure size 432x288 with 1 Axes>"
      ]
     },
     "metadata": {
      "needs_background": "light"
     },
     "output_type": "display_data"
    }
   ],
   "source": [
    "import matplotlib.pyplot as plt\n",
    "\n",
    "plt.title('OneCycleLR schedule')\n",
    "plt.ylabel('Learning rate')\n",
    "plt.xlabel('Step')\n",
    "plt.plot(trainer.lr_logs, c='red')\n",
    "plt.show()"
   ]
  },
  {
   "cell_type": "code",
   "execution_count": 14,
   "metadata": {
    "ExecuteTime": {
     "end_time": "2021-11-29T05:28:41.740297Z",
     "start_time": "2021-11-29T05:28:41.393637Z"
    },
    "colab": {
     "base_uri": "https://localhost:8080/",
     "height": 295
    },
    "id": "tIgiGlLzZMwa",
    "outputId": "faf71a16-1759-4a1f-8fba-3dde53956e07"
   },
   "outputs": [
    {
     "data": {
      "image/png": "[encoded data removed]",
      "text/plain": [
       "<Figure size 432x288 with 1 Axes>"
      ]
     },
     "metadata": {
      "needs_background": "light"
     },
     "output_type": "display_data"
    }
   ],
   "source": [
    "show_loss_curves(trainer.logs)"
   ]
  },
  {
   "cell_type": "code",
   "execution_count": null,
   "metadata": {},
   "outputs": [],
   "source": []
  }
 ],
 "metadata": {
  "accelerator": "GPU",
  "colab": {
   "collapsed_sections": [],
   "machine_shape": "hm",
   "name": "S9 Assignment .ipynb",
   "provenance": []
  },
  "kernelspec": {
   "display_name": "Python3.8",
   "language": "python",
   "name": "python3.8"
  },
  "language_info": {
   "codemirror_mode": {
    "name": "ipython",
    "version": 3
   },
   "file_extension": ".py",
   "mimetype": "text/x-python",
   "name": "python",
   "nbconvert_exporter": "python",
   "pygments_lexer": "ipython3",
   "version": "3.8.2"
  }
 },
 "nbformat": 4,
 "nbformat_minor": 1
}
