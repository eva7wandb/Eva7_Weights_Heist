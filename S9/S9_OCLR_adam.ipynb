{
 "cells": [
  {
   "cell_type": "code",
   "execution_count": 1,
   "metadata": {
    "ExecuteTime": {
     "end_time": "2021-11-28T17:42:31.444309Z",
     "start_time": "2021-11-28T17:42:31.418794Z"
    },
    "id": "lqY-iGD6axiV"
   },
   "outputs": [],
   "source": [
    "%load_ext autoreload\n",
    "%autoreload 2"
   ]
  },
  {
   "cell_type": "code",
   "execution_count": 3,
   "metadata": {
    "ExecuteTime": {
     "end_time": "2021-11-28T17:42:33.472313Z",
     "start_time": "2021-11-28T17:42:33.451549Z"
    },
    "colab": {
     "base_uri": "https://localhost:8080/",
     "height": 1000
    },
    "id": "ooL_KkB3Gwxz",
    "outputId": "9d82d51f-e2b8-4390-c683-f487332b5fe8"
   },
   "outputs": [],
   "source": [
    "# !pip install --upgrade albumentations\n",
    "# !git clone https://github.com/frgfm/torch-cam.git\n",
    "# !pip install -e torch-cam/."
   ]
  },
  {
   "cell_type": "code",
   "execution_count": 4,
   "metadata": {
    "ExecuteTime": {
     "end_time": "2021-11-28T17:42:35.132614Z",
     "start_time": "2021-11-28T17:42:33.476838Z"
    }
   },
   "outputs": [],
   "source": [
    "! rm -rf ./Weights_Heist_Flow/"
   ]
  },
  {
   "cell_type": "code",
   "execution_count": 5,
   "metadata": {
    "ExecuteTime": {
     "end_time": "2021-11-28T17:42:41.708295Z",
     "start_time": "2021-11-28T17:42:35.142656Z"
    },
    "colab": {
     "base_uri": "https://localhost:8080/"
    },
    "id": "aNQ7JEoEGFzF",
    "outputId": "337e10bc-9815-4b48-8325-084e29811ff1"
   },
   "outputs": [
    {
     "name": "stdout",
     "output_type": "stream",
     "text": [
      "Cloning into 'Weights_Heist_Flow'...\n",
      "remote: Enumerating objects: 155, done.\u001b[K\n",
      "remote: Counting objects: 100% (155/155), done.\u001b[K\n",
      "remote: Compressing objects: 100% (131/131), done.\u001b[K\n",
      "remote: Total 155 (delta 65), reused 73 (delta 21), pack-reused 0\u001b[K\n",
      "Receiving objects: 100% (155/155), 412.23 KiB | 336.00 KiB/s, done.\n",
      "Resolving deltas: 100% (65/65), done.\n",
      "Checking connectivity... done.\n"
     ]
    }
   ],
   "source": [
    "! git clone https://github.com/eva7wandb/Weights_Heist_Flow.git"
   ]
  },
  {
   "cell_type": "code",
   "execution_count": 6,
   "metadata": {
    "ExecuteTime": {
     "end_time": "2021-11-28T17:42:41.760468Z",
     "start_time": "2021-11-28T17:42:41.720909Z"
    },
    "colab": {
     "base_uri": "https://localhost:8080/"
    },
    "id": "w3O3tMPYGOXt",
    "outputId": "9a8d4c34-ebe3-4e18-d7a4-36ab51e21b7a"
   },
   "outputs": [],
   "source": [
    "# %cd /content/Weights_Heist_Flow\n",
    "# ! pwd"
   ]
  },
  {
   "cell_type": "code",
   "execution_count": 7,
   "metadata": {
    "ExecuteTime": {
     "end_time": "2021-11-28T17:42:41.886676Z",
     "start_time": "2021-11-28T17:42:41.782142Z"
    }
   },
   "outputs": [],
   "source": [
    "import sys\n",
    "sys.path.append('./Weights_Heist_Flow/')"
   ]
  },
  {
   "cell_type": "code",
   "execution_count": 8,
   "metadata": {
    "ExecuteTime": {
     "end_time": "2021-11-28T17:42:47.271196Z",
     "start_time": "2021-11-28T17:42:41.890959Z"
    },
    "colab": {
     "base_uri": "https://localhost:8080/"
    },
    "id": "O__n2D1eGiLc",
    "outputId": "d043e90e-b6d7-498e-9371-a2bac697170b"
   },
   "outputs": [
    {
     "name": "stdout",
     "output_type": "stream",
     "text": [
      "[INFO] seed set 1\n",
      "[INFO] Cuda Avaliable :  True\n",
      "[INFO] device :  cuda\n"
     ]
    }
   ],
   "source": [
    "from main import Trainer, show_misclassification, show_loss_curves\n",
    "from models import custom_resnet, resnet #, cus_resnet"
   ]
  },
  {
   "cell_type": "code",
   "execution_count": 13,
   "metadata": {
    "ExecuteTime": {
     "end_time": "2021-11-28T17:57:18.843336Z",
     "start_time": "2021-11-28T17:57:12.459297Z"
    },
    "colab": {
     "base_uri": "https://localhost:8080/"
    },
    "id": "Izdc5b1qMGkH",
    "outputId": "8924b7c0-d661-481f-d727-8cc2e3f3b011"
   },
   "outputs": [
    {
     "name": "stdout",
     "output_type": "stream",
     "text": [
      "[INFO] Loading Data\n",
      "Files already downloaded and verified\n",
      "[INFO] train dataset of size 50000 loaded... (v4.1)\n",
      "Files already downloaded and verified\n",
      "[INFO] test dataset of size 10000 loaded... (v4.1)\n",
      "Files already downloaded and verified\n",
      "[INFO] test dataset of size 10000 loaded... (v4.1)\n",
      "----------------------------------------------------------------\n",
      "        Layer (type)               Output Shape         Param #\n",
      "================================================================\n",
      "            Conv2d-1           [-1, 64, 32, 32]           1,728\n",
      "       BatchNorm2d-2           [-1, 64, 32, 32]             128\n",
      "            Conv2d-3          [-1, 128, 32, 32]          73,728\n",
      "         MaxPool2d-4          [-1, 128, 16, 16]               0\n",
      "       BatchNorm2d-5          [-1, 128, 16, 16]             256\n",
      "            XBlock-6          [-1, 128, 16, 16]               0\n",
      "            Conv2d-7          [-1, 128, 16, 16]         147,456\n",
      "       BatchNorm2d-8          [-1, 128, 16, 16]             256\n",
      "            Conv2d-9          [-1, 128, 16, 16]         147,456\n",
      "      BatchNorm2d-10          [-1, 128, 16, 16]             256\n",
      "       BasicBlock-11          [-1, 128, 16, 16]               0\n",
      "           Conv2d-12          [-1, 256, 16, 16]         294,912\n",
      "        MaxPool2d-13            [-1, 256, 8, 8]               0\n",
      "      BatchNorm2d-14            [-1, 256, 8, 8]             512\n",
      "           XBlock-15            [-1, 256, 8, 8]               0\n",
      "           Conv2d-16            [-1, 512, 8, 8]       1,179,648\n",
      "        MaxPool2d-17            [-1, 512, 4, 4]               0\n",
      "      BatchNorm2d-18            [-1, 512, 4, 4]           1,024\n",
      "           XBlock-19            [-1, 512, 4, 4]               0\n",
      "           Conv2d-20            [-1, 512, 4, 4]       2,359,296\n",
      "      BatchNorm2d-21            [-1, 512, 4, 4]           1,024\n",
      "           Conv2d-22            [-1, 512, 4, 4]       2,359,296\n",
      "      BatchNorm2d-23            [-1, 512, 4, 4]           1,024\n",
      "       BasicBlock-24            [-1, 512, 4, 4]               0\n",
      "           Linear-25                   [-1, 10]           5,130\n",
      "================================================================\n",
      "Total params: 6,573,130\n",
      "Trainable params: 6,573,130\n",
      "Non-trainable params: 0\n",
      "----------------------------------------------------------------\n",
      "Input size (MB): 0.01\n",
      "Forward/backward pass size (MB): 5.63\n",
      "Params size (MB): 25.07\n",
      "Estimated Total Size (MB): 30.71\n",
      "----------------------------------------------------------------\n",
      "Adam (\n",
      "Parameter Group 0\n",
      "    amsgrad: False\n",
      "    betas: (0.9, 0.999)\n",
      "    eps: 1e-08\n",
      "    lr: 0.035\n",
      "    weight_decay: 0\n",
      ")\n",
      "TEST         Loss:2.3035         Acc:10.79         [1079 / 10000]\n"
     ]
    }
   ],
   "source": [
    "trainer = Trainer(\n",
    "    custom_resnet.CustomResNet(), lr=0.035, batch_size=512, \n",
    "    scheduler='OneCycleLR', label_smoothing=0.05,\n",
    "    optimizer='Adam'\n",
    ")"
   ]
  },
  {
   "cell_type": "code",
   "execution_count": 14,
   "metadata": {
    "ExecuteTime": {
     "end_time": "2021-11-28T18:06:29.576400Z",
     "start_time": "2021-11-28T17:57:18.851747Z"
    },
    "colab": {
     "base_uri": "https://localhost:8080/"
    },
    "id": "-IUF_YJq68W7",
    "outputId": "96b48b44-7ab8-4ddb-9aba-85c6a08cc328"
   },
   "outputs": [
    {
     "name": "stdout",
     "output_type": "stream",
     "text": [
      "[INFO] Begin training for 24 epochs.\n"
     ]
    },
    {
     "name": "stderr",
     "output_type": "stream",
     "text": [
      "TRAIN Epoch:0 Loss:1.7228 Batch:97 Acc:31.84: 100%|██████████| 98/98 [00:20<00:00,  4.81it/s]\n"
     ]
    },
    {
     "name": "stdout",
     "output_type": "stream",
     "text": [
      "TEST         Loss:1.6239         Acc:44.69         [4469 / 10000]\n"
     ]
    },
    {
     "name": "stderr",
     "output_type": "stream",
     "text": [
      "TRAIN Epoch:1 Loss:1.4606 Batch:97 Acc:51.74: 100%|██████████| 98/98 [00:20<00:00,  4.76it/s]\n"
     ]
    },
    {
     "name": "stdout",
     "output_type": "stream",
     "text": [
      "TEST         Loss:1.5212         Acc:53.40         [5340 / 10000]\n"
     ]
    },
    {
     "name": "stderr",
     "output_type": "stream",
     "text": [
      "TRAIN Epoch:2 Loss:1.1583 Batch:97 Acc:63.61: 100%|██████████| 98/98 [00:20<00:00,  4.89it/s]\n"
     ]
    },
    {
     "name": "stdout",
     "output_type": "stream",
     "text": [
      "TEST         Loss:1.1319         Acc:67.84         [6784 / 10000]\n"
     ]
    },
    {
     "name": "stderr",
     "output_type": "stream",
     "text": [
      "TRAIN Epoch:3 Loss:0.9336 Batch:97 Acc:72.18: 100%|██████████| 98/98 [00:19<00:00,  5.01it/s]\n"
     ]
    },
    {
     "name": "stdout",
     "output_type": "stream",
     "text": [
      "TEST         Loss:1.0408         Acc:72.53         [7253 / 10000]\n"
     ]
    },
    {
     "name": "stderr",
     "output_type": "stream",
     "text": [
      "TRAIN Epoch:4 Loss:0.938 Batch:97 Acc:77.15: 100%|██████████| 98/98 [00:20<00:00,  4.81it/s] \n"
     ]
    },
    {
     "name": "stdout",
     "output_type": "stream",
     "text": [
      "TEST         Loss:0.9433         Acc:74.63         [7463 / 10000]\n"
     ]
    },
    {
     "name": "stderr",
     "output_type": "stream",
     "text": [
      "TRAIN Epoch:5 Loss:0.7769 Batch:97 Acc:80.47: 100%|██████████| 98/98 [00:19<00:00,  5.02it/s]\n"
     ]
    },
    {
     "name": "stdout",
     "output_type": "stream",
     "text": [
      "TEST         Loss:0.8247         Acc:79.94         [7994 / 10000]\n"
     ]
    },
    {
     "name": "stderr",
     "output_type": "stream",
     "text": [
      "TRAIN Epoch:6 Loss:0.7386 Batch:97 Acc:83.12: 100%|██████████| 98/98 [00:19<00:00,  5.08it/s]\n"
     ]
    },
    {
     "name": "stdout",
     "output_type": "stream",
     "text": [
      "TEST         Loss:0.8044         Acc:80.82         [8082 / 10000]\n"
     ]
    },
    {
     "name": "stderr",
     "output_type": "stream",
     "text": [
      "TRAIN Epoch:7 Loss:0.673 Batch:97 Acc:84.56: 100%|██████████| 98/98 [00:20<00:00,  4.77it/s] \n"
     ]
    },
    {
     "name": "stdout",
     "output_type": "stream",
     "text": [
      "TEST         Loss:0.6939         Acc:84.85         [8485 / 10000]\n"
     ]
    },
    {
     "name": "stderr",
     "output_type": "stream",
     "text": [
      "TRAIN Epoch:8 Loss:0.6147 Batch:97 Acc:86.15: 100%|██████████| 98/98 [00:20<00:00,  4.82it/s]\n"
     ]
    },
    {
     "name": "stdout",
     "output_type": "stream",
     "text": [
      "TEST         Loss:0.6768         Acc:85.60         [8560 / 10000]\n"
     ]
    },
    {
     "name": "stderr",
     "output_type": "stream",
     "text": [
      "TRAIN Epoch:9 Loss:0.6805 Batch:97 Acc:87.67: 100%|██████████| 98/98 [00:21<00:00,  4.66it/s]\n"
     ]
    },
    {
     "name": "stdout",
     "output_type": "stream",
     "text": [
      "TEST         Loss:0.7200         Acc:84.08         [8408 / 10000]\n"
     ]
    },
    {
     "name": "stderr",
     "output_type": "stream",
     "text": [
      "TRAIN Epoch:10 Loss:0.5944 Batch:97 Acc:88.99: 100%|██████████| 98/98 [00:21<00:00,  4.65it/s]\n"
     ]
    },
    {
     "name": "stdout",
     "output_type": "stream",
     "text": [
      "TEST         Loss:0.6249         Acc:87.85         [8785 / 10000]\n"
     ]
    },
    {
     "name": "stderr",
     "output_type": "stream",
     "text": [
      "TRAIN Epoch:11 Loss:0.5567 Batch:97 Acc:90.10: 100%|██████████| 98/98 [00:20<00:00,  4.88it/s]\n"
     ]
    },
    {
     "name": "stdout",
     "output_type": "stream",
     "text": [
      "TEST         Loss:0.6653         Acc:86.64         [8664 / 10000]\n"
     ]
    },
    {
     "name": "stderr",
     "output_type": "stream",
     "text": [
      "TRAIN Epoch:12 Loss:0.5724 Batch:97 Acc:90.54: 100%|██████████| 98/98 [00:20<00:00,  4.82it/s]\n"
     ]
    },
    {
     "name": "stdout",
     "output_type": "stream",
     "text": [
      "TEST         Loss:0.5977         Acc:88.54         [8854 / 10000]\n"
     ]
    },
    {
     "name": "stderr",
     "output_type": "stream",
     "text": [
      "TRAIN Epoch:13 Loss:0.5351 Batch:97 Acc:91.48: 100%|██████████| 98/98 [00:19<00:00,  4.95it/s]\n"
     ]
    },
    {
     "name": "stdout",
     "output_type": "stream",
     "text": [
      "TEST         Loss:0.6051         Acc:88.61         [8861 / 10000]\n"
     ]
    },
    {
     "name": "stderr",
     "output_type": "stream",
     "text": [
      "TRAIN Epoch:14 Loss:0.5014 Batch:97 Acc:92.27: 100%|██████████| 98/98 [00:20<00:00,  4.86it/s]\n"
     ]
    },
    {
     "name": "stdout",
     "output_type": "stream",
     "text": [
      "TEST         Loss:0.5984         Acc:88.19         [8819 / 10000]\n"
     ]
    },
    {
     "name": "stderr",
     "output_type": "stream",
     "text": [
      "TRAIN Epoch:15 Loss:0.5014 Batch:97 Acc:93.19: 100%|██████████| 98/98 [00:19<00:00,  5.00it/s]\n"
     ]
    },
    {
     "name": "stdout",
     "output_type": "stream",
     "text": [
      "TEST         Loss:0.5594         Acc:90.41         [9041 / 10000]\n"
     ]
    },
    {
     "name": "stderr",
     "output_type": "stream",
     "text": [
      "TRAIN Epoch:16 Loss:0.4694 Batch:97 Acc:93.95: 100%|██████████| 98/98 [00:20<00:00,  4.73it/s]\n"
     ]
    },
    {
     "name": "stdout",
     "output_type": "stream",
     "text": [
      "TEST         Loss:0.5500         Acc:90.46         [9046 / 10000]\n"
     ]
    },
    {
     "name": "stderr",
     "output_type": "stream",
     "text": [
      "TRAIN Epoch:17 Loss:0.4652 Batch:97 Acc:94.35: 100%|██████████| 98/98 [00:20<00:00,  4.87it/s]\n"
     ]
    },
    {
     "name": "stdout",
     "output_type": "stream",
     "text": [
      "TEST         Loss:0.5510         Acc:90.31         [9031 / 10000]\n"
     ]
    },
    {
     "name": "stderr",
     "output_type": "stream",
     "text": [
      "TRAIN Epoch:18 Loss:0.4249 Batch:97 Acc:95.15: 100%|██████████| 98/98 [00:20<00:00,  4.71it/s]\n"
     ]
    },
    {
     "name": "stdout",
     "output_type": "stream",
     "text": [
      "TEST         Loss:0.5324         Acc:90.96         [9096 / 10000]\n"
     ]
    },
    {
     "name": "stderr",
     "output_type": "stream",
     "text": [
      "TRAIN Epoch:19 Loss:0.4068 Batch:97 Acc:95.68: 100%|██████████| 98/98 [00:20<00:00,  4.72it/s]\n"
     ]
    },
    {
     "name": "stdout",
     "output_type": "stream",
     "text": [
      "TEST         Loss:0.5382         Acc:90.84         [9084 / 10000]\n"
     ]
    },
    {
     "name": "stderr",
     "output_type": "stream",
     "text": [
      "TRAIN Epoch:20 Loss:0.3807 Batch:97 Acc:96.17: 100%|██████████| 98/98 [00:20<00:00,  4.79it/s]\n"
     ]
    },
    {
     "name": "stdout",
     "output_type": "stream",
     "text": [
      "TEST         Loss:0.5213         Acc:91.52         [9152 / 10000]\n"
     ]
    },
    {
     "name": "stderr",
     "output_type": "stream",
     "text": [
      "TRAIN Epoch:21 Loss:0.407 Batch:97 Acc:96.66: 100%|██████████| 98/98 [00:20<00:00,  4.74it/s] \n"
     ]
    },
    {
     "name": "stdout",
     "output_type": "stream",
     "text": [
      "TEST         Loss:0.5095         Acc:91.96         [9196 / 10000]\n"
     ]
    },
    {
     "name": "stderr",
     "output_type": "stream",
     "text": [
      "TRAIN Epoch:22 Loss:0.3541 Batch:97 Acc:97.13: 100%|██████████| 98/98 [00:20<00:00,  4.75it/s]\n"
     ]
    },
    {
     "name": "stdout",
     "output_type": "stream",
     "text": [
      "TEST         Loss:0.5011         Acc:92.25         [9225 / 10000]\n"
     ]
    },
    {
     "name": "stderr",
     "output_type": "stream",
     "text": [
      "TRAIN Epoch:23 Loss:0.3703 Batch:97 Acc:97.58: 100%|██████████| 98/98 [00:22<00:00,  4.35it/s]\n"
     ]
    },
    {
     "name": "stdout",
     "output_type": "stream",
     "text": [
      "TEST         Loss:0.4956         Acc:92.40         [9240 / 10000]\n"
     ]
    }
   ],
   "source": [
    "trainer.train_model(epochs=24)"
   ]
  },
  {
   "cell_type": "code",
   "execution_count": 15,
   "metadata": {
    "ExecuteTime": {
     "end_time": "2021-11-28T18:06:57.980034Z",
     "start_time": "2021-11-28T18:06:57.539566Z"
    },
    "colab": {
     "base_uri": "https://localhost:8080/",
     "height": 295
    },
    "id": "tcEqc9CC7UNS",
    "outputId": "c11c175a-f454-47a5-8892-1e434aaafffc"
   },
   "outputs": [
    {
     "data": {
      "image/png": "[encoded data removed]",
      "text/plain": [
       "<Figure size 432x288 with 1 Axes>"
      ]
     },
     "metadata": {
      "needs_background": "light"
     },
     "output_type": "display_data"
    }
   ],
   "source": [
    "import matplotlib.pyplot as plt\n",
    "\n",
    "plt.title('OneCycleLR schedule')\n",
    "plt.ylabel('Learning rate')\n",
    "plt.xlabel('Step')\n",
    "plt.plot(trainer.lr_logs, c='red')\n",
    "plt.show()"
   ]
  },
  {
   "cell_type": "code",
   "execution_count": 16,
   "metadata": {
    "ExecuteTime": {
     "end_time": "2021-11-28T18:06:58.507835Z",
     "start_time": "2021-11-28T18:06:58.068009Z"
    },
    "colab": {
     "base_uri": "https://localhost:8080/",
     "height": 295
    },
    "id": "tIgiGlLzZMwa",
    "outputId": "faf71a16-1759-4a1f-8fba-3dde53956e07"
   },
   "outputs": [
    {
     "data": {
      "image/png": "[encoded data removed]",
      "text/plain": [
       "<Figure size 432x288 with 1 Axes>"
      ]
     },
     "metadata": {
      "needs_background": "light"
     },
     "output_type": "display_data"
    }
   ],
   "source": [
    "show_loss_curves(trainer.logs)"
   ]
  },
  {
   "cell_type": "code",
   "execution_count": null,
   "metadata": {},
   "outputs": [],
   "source": []
  },
  {
   "cell_type": "code",
   "execution_count": null,
   "metadata": {},
   "outputs": [],
   "source": []
  },
  {
   "cell_type": "code",
   "execution_count": null,
   "metadata": {},
   "outputs": [],
   "source": []
  }
 ],
 "metadata": {
  "accelerator": "GPU",
  "colab": {
   "collapsed_sections": [],
   "machine_shape": "hm",
   "name": "S9 Assignment .ipynb",
   "provenance": []
  },
  "kernelspec": {
   "display_name": "Python3.8",
   "language": "python",
   "name": "python3.8"
  },
  "language_info": {
   "codemirror_mode": {
    "name": "ipython",
    "version": 3
   },
   "file_extension": ".py",
   "mimetype": "text/x-python",
   "name": "python",
   "nbconvert_exporter": "python",
   "pygments_lexer": "ipython3",
   "version": "3.8.2"
  }
 },
 "nbformat": 4,
 "nbformat_minor": 1
}
