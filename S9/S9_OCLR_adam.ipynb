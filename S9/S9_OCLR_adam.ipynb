{
 "cells": [
  {
   "cell_type": "code",
   "execution_count": 1,
   "metadata": {
    "ExecuteTime": {
     "end_time": "2021-11-28T17:40:38.595851Z",
     "start_time": "2021-11-28T17:40:38.575623Z"
    },
    "id": "lqY-iGD6axiV"
   },
   "outputs": [],
   "source": [
    "%load_ext autoreload\n",
    "%autoreload 2"
   ]
  },
  {
   "cell_type": "code",
   "execution_count": 3,
   "metadata": {
    "ExecuteTime": {
     "end_time": "2021-11-28T17:40:40.456787Z",
     "start_time": "2021-11-28T17:40:40.416265Z"
    },
    "colab": {
     "base_uri": "https://localhost:8080/",
     "height": 1000
    },
    "id": "ooL_KkB3Gwxz",
    "outputId": "9d82d51f-e2b8-4390-c683-f487332b5fe8"
   },
   "outputs": [],
   "source": [
    "# !pip install --upgrade albumentations\n",
    "# !git clone https://github.com/frgfm/torch-cam.git\n",
    "# !pip install -e torch-cam/."
   ]
  },
  {
   "cell_type": "code",
   "execution_count": 4,
   "metadata": {
    "ExecuteTime": {
     "end_time": "2021-11-28T17:40:42.257376Z",
     "start_time": "2021-11-28T17:40:40.462549Z"
    }
   },
   "outputs": [],
   "source": [
    "! rm -rf ./Weights_Heist_Flow/"
   ]
  },
  {
   "cell_type": "code",
   "execution_count": 5,
   "metadata": {
    "ExecuteTime": {
     "end_time": "2021-11-28T17:40:47.320325Z",
     "start_time": "2021-11-28T17:40:42.262365Z"
    },
    "colab": {
     "base_uri": "https://localhost:8080/"
    },
    "id": "aNQ7JEoEGFzF",
    "outputId": "337e10bc-9815-4b48-8325-084e29811ff1"
   },
   "outputs": [
    {
     "name": "stdout",
     "output_type": "stream",
     "text": [
      "Cloning into 'Weights_Heist_Flow'...\n",
      "remote: Enumerating objects: 155, done.\u001b[K\n",
      "remote: Counting objects: 100% (155/155), done.\u001b[K\n",
      "remote: Compressing objects: 100% (131/131), done.\u001b[K\n",
      "remote: Total 155 (delta 65), reused 73 (delta 21), pack-reused 0\u001b[K\n",
      "Receiving objects: 100% (155/155), 412.23 KiB | 0 bytes/s, done.\n",
      "Resolving deltas: 100% (65/65), done.\n",
      "Checking connectivity... done.\n"
     ]
    }
   ],
   "source": [
    "! git clone https://github.com/eva7wandb/Weights_Heist_Flow.git"
   ]
  },
  {
   "cell_type": "code",
   "execution_count": 6,
   "metadata": {
    "ExecuteTime": {
     "end_time": "2021-11-28T17:40:47.348237Z",
     "start_time": "2021-11-28T17:40:47.324205Z"
    },
    "colab": {
     "base_uri": "https://localhost:8080/"
    },
    "id": "w3O3tMPYGOXt",
    "outputId": "9a8d4c34-ebe3-4e18-d7a4-36ab51e21b7a"
   },
   "outputs": [],
   "source": [
    "# %cd /content/Weights_Heist_Flow\n",
    "# ! pwd"
   ]
  },
  {
   "cell_type": "code",
   "execution_count": 7,
   "metadata": {
    "ExecuteTime": {
     "end_time": "2021-11-28T17:40:47.476632Z",
     "start_time": "2021-11-28T17:40:47.351905Z"
    }
   },
   "outputs": [],
   "source": [
    "import sys\n",
    "sys.path.append('./Weights_Heist_Flow/')"
   ]
  },
  {
   "cell_type": "code",
   "execution_count": 8,
   "metadata": {
    "ExecuteTime": {
     "end_time": "2021-11-28T17:40:52.304341Z",
     "start_time": "2021-11-28T17:40:47.488087Z"
    },
    "colab": {
     "base_uri": "https://localhost:8080/"
    },
    "id": "O__n2D1eGiLc",
    "outputId": "d043e90e-b6d7-498e-9371-a2bac697170b"
   },
   "outputs": [
    {
     "name": "stdout",
     "output_type": "stream",
     "text": [
      "[INFO] seed set 1\n",
      "[INFO] Cuda Avaliable :  True\n",
      "[INFO] device :  cuda\n"
     ]
    }
   ],
   "source": [
    "from main import Trainer, show_misclassification, show_loss_curves\n",
    "from models import custom_resnet, resnet #, cus_resnet"
   ]
  },
  {
   "cell_type": "code",
   "execution_count": 11,
   "metadata": {
    "ExecuteTime": {
     "end_time": "2021-11-28T18:06:01.331597Z",
     "start_time": "2021-11-28T18:05:53.558188Z"
    },
    "colab": {
     "base_uri": "https://localhost:8080/"
    },
    "id": "Izdc5b1qMGkH",
    "outputId": "8924b7c0-d661-481f-d727-8cc2e3f3b011"
   },
   "outputs": [
    {
     "name": "stdout",
     "output_type": "stream",
     "text": [
      "[INFO] seed set 1\n",
      "[INFO] Cuda Avaliable :  True\n",
      "[INFO] device :  cuda\n",
      "[INFO] Loading Data\n",
      "Files already downloaded and verified\n",
      "[INFO] train dataset of size 50000 loaded... (v4.1)\n",
      "Files already downloaded and verified\n",
      "[INFO] test dataset of size 10000 loaded... (v4.1)\n",
      "Files already downloaded and verified\n",
      "[INFO] test dataset of size 10000 loaded... (v4.1)\n",
      "----------------------------------------------------------------\n",
      "        Layer (type)               Output Shape         Param #\n",
      "================================================================\n",
      "            Conv2d-1           [-1, 64, 32, 32]           1,728\n",
      "       BatchNorm2d-2           [-1, 64, 32, 32]             128\n",
      "            Conv2d-3          [-1, 128, 32, 32]          73,728\n",
      "         MaxPool2d-4          [-1, 128, 16, 16]               0\n",
      "       BatchNorm2d-5          [-1, 128, 16, 16]             256\n",
      "            XBlock-6          [-1, 128, 16, 16]               0\n",
      "            Conv2d-7          [-1, 128, 16, 16]         147,456\n",
      "       BatchNorm2d-8          [-1, 128, 16, 16]             256\n",
      "            Conv2d-9          [-1, 128, 16, 16]         147,456\n",
      "      BatchNorm2d-10          [-1, 128, 16, 16]             256\n",
      "       BasicBlock-11          [-1, 128, 16, 16]               0\n",
      "           Conv2d-12          [-1, 256, 16, 16]         294,912\n",
      "        MaxPool2d-13            [-1, 256, 8, 8]               0\n",
      "      BatchNorm2d-14            [-1, 256, 8, 8]             512\n",
      "           XBlock-15            [-1, 256, 8, 8]               0\n",
      "           Conv2d-16            [-1, 512, 8, 8]       1,179,648\n",
      "        MaxPool2d-17            [-1, 512, 4, 4]               0\n",
      "      BatchNorm2d-18            [-1, 512, 4, 4]           1,024\n",
      "           XBlock-19            [-1, 512, 4, 4]               0\n",
      "           Conv2d-20            [-1, 512, 4, 4]       2,359,296\n",
      "      BatchNorm2d-21            [-1, 512, 4, 4]           1,024\n",
      "           Conv2d-22            [-1, 512, 4, 4]       2,359,296\n",
      "      BatchNorm2d-23            [-1, 512, 4, 4]           1,024\n",
      "       BasicBlock-24            [-1, 512, 4, 4]               0\n",
      "           Linear-25                   [-1, 10]           5,130\n",
      "================================================================\n",
      "Total params: 6,573,130\n",
      "Trainable params: 6,573,130\n",
      "Non-trainable params: 0\n",
      "----------------------------------------------------------------\n",
      "Input size (MB): 0.01\n",
      "Forward/backward pass size (MB): 5.63\n",
      "Params size (MB): 25.07\n",
      "Estimated Total Size (MB): 30.71\n",
      "----------------------------------------------------------------\n",
      "Adam (\n",
      "Parameter Group 0\n",
      "    amsgrad: False\n",
      "    betas: (0.9, 0.999)\n",
      "    eps: 1e-08\n",
      "    lr: 0.02\n",
      "    weight_decay: 0\n",
      ")\n",
      "TEST         Loss:2.3022         Acc:9.87         [987 / 10000]\n"
     ]
    }
   ],
   "source": [
    "trainer = Trainer(\n",
    "    custom_resnet.CustomResNet(), lr=0.02, batch_size=512, \n",
    "    scheduler='OneCycleLR', label_smoothing=0.05,\n",
    "    optimizer='Adam'\n",
    ")"
   ]
  },
  {
   "cell_type": "code",
   "execution_count": 12,
   "metadata": {
    "ExecuteTime": {
     "end_time": "2021-11-28T18:16:14.734416Z",
     "start_time": "2021-11-28T18:06:08.039981Z"
    },
    "colab": {
     "base_uri": "https://localhost:8080/"
    },
    "id": "-IUF_YJq68W7",
    "outputId": "96b48b44-7ab8-4ddb-9aba-85c6a08cc328"
   },
   "outputs": [
    {
     "name": "stdout",
     "output_type": "stream",
     "text": [
      "[INFO] Begin training for 24 epochs.\n"
     ]
    },
    {
     "name": "stderr",
     "output_type": "stream",
     "text": [
      "TRAIN Epoch:0 Loss:1.4598 Batch:97 Acc:36.94: 100%|██████████| 98/98 [00:23<00:00,  4.24it/s]\n"
     ]
    },
    {
     "name": "stdout",
     "output_type": "stream",
     "text": [
      "TEST         Loss:1.5200         Acc:47.90         [4790 / 10000]\n"
     ]
    },
    {
     "name": "stderr",
     "output_type": "stream",
     "text": [
      "TRAIN Epoch:1 Loss:1.0734 Batch:97 Acc:56.89: 100%|██████████| 98/98 [00:21<00:00,  4.61it/s]\n"
     ]
    },
    {
     "name": "stdout",
     "output_type": "stream",
     "text": [
      "TEST         Loss:1.4671         Acc:55.97         [5597 / 10000]\n"
     ]
    },
    {
     "name": "stderr",
     "output_type": "stream",
     "text": [
      "TRAIN Epoch:2 Loss:1.0712 Batch:97 Acc:66.65: 100%|██████████| 98/98 [00:20<00:00,  4.71it/s]\n"
     ]
    },
    {
     "name": "stdout",
     "output_type": "stream",
     "text": [
      "TEST         Loss:0.9848         Acc:73.13         [7313 / 10000]\n"
     ]
    },
    {
     "name": "stderr",
     "output_type": "stream",
     "text": [
      "TRAIN Epoch:3 Loss:0.9275 Batch:97 Acc:73.20: 100%|██████████| 98/98 [00:21<00:00,  4.56it/s]\n"
     ]
    },
    {
     "name": "stdout",
     "output_type": "stream",
     "text": [
      "TEST         Loss:1.1206         Acc:69.08         [6908 / 10000]\n"
     ]
    },
    {
     "name": "stderr",
     "output_type": "stream",
     "text": [
      "TRAIN Epoch:4 Loss:0.8908 Batch:97 Acc:77.99: 100%|██████████| 98/98 [00:22<00:00,  4.37it/s]\n"
     ]
    },
    {
     "name": "stdout",
     "output_type": "stream",
     "text": [
      "TEST         Loss:0.9233         Acc:76.73         [7673 / 10000]\n"
     ]
    },
    {
     "name": "stderr",
     "output_type": "stream",
     "text": [
      "TRAIN Epoch:5 Loss:0.6994 Batch:97 Acc:81.69: 100%|██████████| 98/98 [00:21<00:00,  4.61it/s]\n"
     ]
    },
    {
     "name": "stdout",
     "output_type": "stream",
     "text": [
      "TEST         Loss:0.7839         Acc:82.02         [8202 / 10000]\n"
     ]
    },
    {
     "name": "stderr",
     "output_type": "stream",
     "text": [
      "TRAIN Epoch:6 Loss:0.6853 Batch:97 Acc:84.71: 100%|██████████| 98/98 [00:21<00:00,  4.60it/s]\n"
     ]
    },
    {
     "name": "stdout",
     "output_type": "stream",
     "text": [
      "TEST         Loss:0.7326         Acc:83.35         [8335 / 10000]\n"
     ]
    },
    {
     "name": "stderr",
     "output_type": "stream",
     "text": [
      "TRAIN Epoch:7 Loss:0.6553 Batch:97 Acc:86.58: 100%|██████████| 98/98 [00:22<00:00,  4.43it/s]\n"
     ]
    },
    {
     "name": "stdout",
     "output_type": "stream",
     "text": [
      "TEST         Loss:0.7191         Acc:83.90         [8390 / 10000]\n"
     ]
    },
    {
     "name": "stderr",
     "output_type": "stream",
     "text": [
      "TRAIN Epoch:8 Loss:0.5769 Batch:97 Acc:87.96: 100%|██████████| 98/98 [00:21<00:00,  4.58it/s]\n"
     ]
    },
    {
     "name": "stdout",
     "output_type": "stream",
     "text": [
      "TEST         Loss:0.6613         Acc:86.13         [8613 / 10000]\n"
     ]
    },
    {
     "name": "stderr",
     "output_type": "stream",
     "text": [
      "TRAIN Epoch:9 Loss:0.5966 Batch:97 Acc:89.37: 100%|██████████| 98/98 [00:21<00:00,  4.48it/s]\n"
     ]
    },
    {
     "name": "stdout",
     "output_type": "stream",
     "text": [
      "TEST         Loss:0.6273         Acc:87.85         [8785 / 10000]\n"
     ]
    },
    {
     "name": "stderr",
     "output_type": "stream",
     "text": [
      "TRAIN Epoch:10 Loss:0.5669 Batch:97 Acc:90.43: 100%|██████████| 98/98 [00:22<00:00,  4.38it/s]\n"
     ]
    },
    {
     "name": "stdout",
     "output_type": "stream",
     "text": [
      "TEST         Loss:0.6090         Acc:88.04         [8804 / 10000]\n"
     ]
    },
    {
     "name": "stderr",
     "output_type": "stream",
     "text": [
      "TRAIN Epoch:11 Loss:0.5865 Batch:97 Acc:91.33: 100%|██████████| 98/98 [00:21<00:00,  4.48it/s]\n"
     ]
    },
    {
     "name": "stdout",
     "output_type": "stream",
     "text": [
      "TEST         Loss:0.6220         Acc:87.60         [8760 / 10000]\n"
     ]
    },
    {
     "name": "stderr",
     "output_type": "stream",
     "text": [
      "TRAIN Epoch:12 Loss:0.5219 Batch:97 Acc:92.08: 100%|██████████| 98/98 [00:22<00:00,  4.36it/s]\n"
     ]
    },
    {
     "name": "stdout",
     "output_type": "stream",
     "text": [
      "TEST         Loss:0.6140         Acc:88.08         [8808 / 10000]\n"
     ]
    },
    {
     "name": "stderr",
     "output_type": "stream",
     "text": [
      "TRAIN Epoch:13 Loss:0.5252 Batch:97 Acc:92.98: 100%|██████████| 98/98 [00:21<00:00,  4.54it/s]\n"
     ]
    },
    {
     "name": "stdout",
     "output_type": "stream",
     "text": [
      "TEST         Loss:0.5784         Acc:89.44         [8944 / 10000]\n"
     ]
    },
    {
     "name": "stderr",
     "output_type": "stream",
     "text": [
      "TRAIN Epoch:14 Loss:0.4503 Batch:97 Acc:93.87: 100%|██████████| 98/98 [00:22<00:00,  4.43it/s]\n"
     ]
    },
    {
     "name": "stdout",
     "output_type": "stream",
     "text": [
      "TEST         Loss:0.5586         Acc:89.88         [8988 / 10000]\n"
     ]
    },
    {
     "name": "stderr",
     "output_type": "stream",
     "text": [
      "TRAIN Epoch:15 Loss:0.4311 Batch:97 Acc:94.67: 100%|██████████| 98/98 [00:21<00:00,  4.53it/s]\n"
     ]
    },
    {
     "name": "stdout",
     "output_type": "stream",
     "text": [
      "TEST         Loss:0.5633         Acc:90.02         [9002 / 10000]\n"
     ]
    },
    {
     "name": "stderr",
     "output_type": "stream",
     "text": [
      "TRAIN Epoch:16 Loss:0.4541 Batch:97 Acc:95.17: 100%|██████████| 98/98 [00:22<00:00,  4.35it/s]\n"
     ]
    },
    {
     "name": "stdout",
     "output_type": "stream",
     "text": [
      "TEST         Loss:0.5409         Acc:90.78         [9078 / 10000]\n"
     ]
    },
    {
     "name": "stderr",
     "output_type": "stream",
     "text": [
      "TRAIN Epoch:17 Loss:0.4242 Batch:97 Acc:95.82: 100%|██████████| 98/98 [00:22<00:00,  4.40it/s]\n"
     ]
    },
    {
     "name": "stdout",
     "output_type": "stream",
     "text": [
      "TEST         Loss:0.5408         Acc:90.92         [9092 / 10000]\n"
     ]
    },
    {
     "name": "stderr",
     "output_type": "stream",
     "text": [
      "TRAIN Epoch:18 Loss:0.4061 Batch:97 Acc:96.25: 100%|██████████| 98/98 [00:21<00:00,  4.57it/s]\n"
     ]
    },
    {
     "name": "stdout",
     "output_type": "stream",
     "text": [
      "TEST         Loss:0.5224         Acc:91.58         [9158 / 10000]\n"
     ]
    },
    {
     "name": "stderr",
     "output_type": "stream",
     "text": [
      "TRAIN Epoch:19 Loss:0.3895 Batch:97 Acc:96.80: 100%|██████████| 98/98 [00:23<00:00,  4.26it/s]\n"
     ]
    },
    {
     "name": "stdout",
     "output_type": "stream",
     "text": [
      "TEST         Loss:0.5136         Acc:91.94         [9194 / 10000]\n"
     ]
    },
    {
     "name": "stderr",
     "output_type": "stream",
     "text": [
      "TRAIN Epoch:20 Loss:0.361 Batch:97 Acc:97.16: 100%|██████████| 98/98 [00:25<00:00,  3.79it/s] \n"
     ]
    },
    {
     "name": "stdout",
     "output_type": "stream",
     "text": [
      "TEST         Loss:0.5073         Acc:91.94         [9194 / 10000]\n"
     ]
    },
    {
     "name": "stderr",
     "output_type": "stream",
     "text": [
      "TRAIN Epoch:21 Loss:0.3602 Batch:97 Acc:97.67: 100%|██████████| 98/98 [00:24<00:00,  3.96it/s]\n"
     ]
    },
    {
     "name": "stdout",
     "output_type": "stream",
     "text": [
      "TEST         Loss:0.4995         Acc:92.22         [9222 / 10000]\n"
     ]
    },
    {
     "name": "stderr",
     "output_type": "stream",
     "text": [
      "TRAIN Epoch:22 Loss:0.3421 Batch:97 Acc:97.98: 100%|██████████| 98/98 [00:23<00:00,  4.15it/s]\n"
     ]
    },
    {
     "name": "stdout",
     "output_type": "stream",
     "text": [
      "TEST         Loss:0.4948         Acc:92.44         [9244 / 10000]\n"
     ]
    },
    {
     "name": "stderr",
     "output_type": "stream",
     "text": [
      "TRAIN Epoch:23 Loss:0.3499 Batch:97 Acc:98.27: 100%|██████████| 98/98 [00:25<00:00,  3.78it/s]\n"
     ]
    },
    {
     "name": "stdout",
     "output_type": "stream",
     "text": [
      "TEST         Loss:0.4887         Acc:92.72         [9272 / 10000]\n"
     ]
    }
   ],
   "source": [
    "trainer.train_model(epochs=24)"
   ]
  },
  {
   "cell_type": "code",
   "execution_count": 13,
   "metadata": {
    "ExecuteTime": {
     "end_time": "2021-11-28T18:16:53.866694Z",
     "start_time": "2021-11-28T18:16:53.439065Z"
    },
    "colab": {
     "base_uri": "https://localhost:8080/",
     "height": 295
    },
    "id": "tcEqc9CC7UNS",
    "outputId": "c11c175a-f454-47a5-8892-1e434aaafffc"
   },
   "outputs": [
    {
     "data": {
      "image/png": "[encoded data removed]",
      "text/plain": [
       "<Figure size 432x288 with 1 Axes>"
      ]
     },
     "metadata": {
      "needs_background": "light"
     },
     "output_type": "display_data"
    }
   ],
   "source": [
    "import matplotlib.pyplot as plt\n",
    "\n",
    "plt.title('OneCycleLR schedule')\n",
    "plt.ylabel('Learning rate')\n",
    "plt.xlabel('Step')\n",
    "plt.plot(trainer.lr_logs, c='red')\n",
    "plt.show()"
   ]
  },
  {
   "cell_type": "code",
   "execution_count": 14,
   "metadata": {
    "ExecuteTime": {
     "end_time": "2021-11-28T18:16:55.336274Z",
     "start_time": "2021-11-28T18:16:54.935370Z"
    },
    "colab": {
     "base_uri": "https://localhost:8080/",
     "height": 295
    },
    "id": "tIgiGlLzZMwa",
    "outputId": "faf71a16-1759-4a1f-8fba-3dde53956e07"
   },
   "outputs": [
    {
     "data": {
      "image/png": "[encoded data removed]",
      "text/plain": [
       "<Figure size 432x288 with 1 Axes>"
      ]
     },
     "metadata": {
      "needs_background": "light"
     },
     "output_type": "display_data"
    }
   ],
   "source": [
    "show_loss_curves(trainer.logs)"
   ]
  },
  {
   "cell_type": "code",
   "execution_count": null,
   "metadata": {
    "id": "1q7bVXjJVJrb"
   },
   "outputs": [],
   "source": [
    "#show_misclassification(trainer, 'layer3')"
   ]
  },
  {
   "cell_type": "code",
   "execution_count": null,
   "metadata": {
    "id": "SUT7tYTJdfEH"
   },
   "outputs": [],
   "source": []
  },
  {
   "cell_type": "code",
   "execution_count": null,
   "metadata": {},
   "outputs": [],
   "source": []
  },
  {
   "cell_type": "code",
   "execution_count": null,
   "metadata": {},
   "outputs": [],
   "source": []
  }
 ],
 "metadata": {
  "accelerator": "GPU",
  "colab": {
   "collapsed_sections": [],
   "machine_shape": "hm",
   "name": "S9 Assignment .ipynb",
   "provenance": []
  },
  "kernelspec": {
   "display_name": "Python3.8",
   "language": "python",
   "name": "python3.8"
  },
  "language_info": {
   "codemirror_mode": {
    "name": "ipython",
    "version": 3
   },
   "file_extension": ".py",
   "mimetype": "text/x-python",
   "name": "python",
   "nbconvert_exporter": "python",
   "pygments_lexer": "ipython3",
   "version": "3.8.2"
  }
 },
 "nbformat": 4,
 "nbformat_minor": 1
}
