{
 "cells": [
  {
   "cell_type": "code",
   "execution_count": 1,
   "id": "170915f5",
   "metadata": {
    "ExecuteTime": {
     "end_time": "2021-10-30T16:09:17.561057Z",
     "start_time": "2021-10-30T16:09:16.197314Z"
    }
   },
   "outputs": [],
   "source": [
    "import torch\n",
    "from torchsummary import summary\n",
    "\n",
    "## the parametrized model is in dir -- ./models/model.py\n",
    "from models.model import Net "
   ]
  },
  {
   "cell_type": "code",
   "execution_count": 2,
   "id": "1eeb0909",
   "metadata": {
    "ExecuteTime": {
     "end_time": "2021-10-30T16:09:18.649290Z",
     "start_time": "2021-10-30T16:09:18.641532Z"
    }
   },
   "outputs": [],
   "source": [
    "# ! ls  ./models/model.py"
   ]
  },
  {
   "cell_type": "code",
   "execution_count": 3,
   "id": "a6dd7273",
   "metadata": {
    "ExecuteTime": {
     "end_time": "2021-10-30T16:09:19.400267Z",
     "start_time": "2021-10-30T16:09:19.368436Z"
    }
   },
   "outputs": [
    {
     "name": "stdout",
     "output_type": "stream",
     "text": [
      "cpu\n"
     ]
    }
   ],
   "source": [
    "use_cuda = torch.cuda.is_available()\n",
    "device = torch.device(\"cuda\" if use_cuda else \"cpu\")\n",
    "print(device)"
   ]
  },
  {
   "cell_type": "code",
   "execution_count": null,
   "id": "941fc70f",
   "metadata": {},
   "outputs": [],
   "source": []
  },
  {
   "cell_type": "markdown",
   "id": "6c6f9b49",
   "metadata": {
    "ExecuteTime": {
     "end_time": "2021-10-30T15:55:17.187107Z",
     "start_time": "2021-10-30T15:55:17.183366Z"
    }
   },
   "source": [
    "## Network from S5  👇"
   ]
  },
  {
   "cell_type": "code",
   "execution_count": 5,
   "id": "f69a8683",
   "metadata": {
    "ExecuteTime": {
     "end_time": "2021-10-30T16:09:25.308837Z",
     "start_time": "2021-10-30T16:09:24.194446Z"
    }
   },
   "outputs": [
    {
     "name": "stdout",
     "output_type": "stream",
     "text": [
      "----------------------------------------------------------------\n",
      "        Layer (type)               Output Shape         Param #\n",
      "================================================================\n",
      "            Conv2d-1            [-1, 8, 26, 26]              72\n",
      "              ReLU-2            [-1, 8, 26, 26]               0\n",
      "       BatchNorm2d-3            [-1, 8, 26, 26]              16\n",
      "           Dropout-4            [-1, 8, 26, 26]               0\n",
      "        conv_block-5            [-1, 8, 26, 26]               0\n",
      "            Conv2d-6           [-1, 16, 24, 24]           1,152\n",
      "              ReLU-7           [-1, 16, 24, 24]               0\n",
      "       BatchNorm2d-8           [-1, 16, 24, 24]              32\n",
      "           Dropout-9           [-1, 16, 24, 24]               0\n",
      "       conv_block-10           [-1, 16, 24, 24]               0\n",
      "           Conv2d-11            [-1, 8, 24, 24]             128\n",
      "       conv_block-12            [-1, 8, 24, 24]               0\n",
      "        MaxPool2d-13            [-1, 8, 12, 12]               0\n",
      "           Conv2d-14           [-1, 12, 10, 10]             864\n",
      "             ReLU-15           [-1, 12, 10, 10]               0\n",
      "      BatchNorm2d-16           [-1, 12, 10, 10]              24\n",
      "          Dropout-17           [-1, 12, 10, 10]               0\n",
      "       conv_block-18           [-1, 12, 10, 10]               0\n",
      "           Conv2d-19             [-1, 14, 8, 8]           1,512\n",
      "             ReLU-20             [-1, 14, 8, 8]               0\n",
      "      BatchNorm2d-21             [-1, 14, 8, 8]              28\n",
      "          Dropout-22             [-1, 14, 8, 8]               0\n",
      "       conv_block-23             [-1, 14, 8, 8]               0\n",
      "           Conv2d-24             [-1, 14, 8, 8]           1,764\n",
      "             ReLU-25             [-1, 14, 8, 8]               0\n",
      "      BatchNorm2d-26             [-1, 14, 8, 8]              28\n",
      "          Dropout-27             [-1, 14, 8, 8]               0\n",
      "       conv_block-28             [-1, 14, 8, 8]               0\n",
      "        AvgPool2d-29             [-1, 14, 1, 1]               0\n",
      "           Conv2d-30             [-1, 10, 1, 1]             140\n",
      "       conv_block-31             [-1, 10, 1, 1]               0\n",
      "================================================================\n",
      "Total params: 5,760\n",
      "Trainable params: 5,760\n",
      "Non-trainable params: 0\n",
      "----------------------------------------------------------------\n",
      "Input size (MB): 0.00\n",
      "Forward/backward pass size (MB): 0.75\n",
      "Params size (MB): 0.02\n",
      "Estimated Total Size (MB): 0.78\n",
      "----------------------------------------------------------------\n"
     ]
    }
   ],
   "source": [
    "model = Net().to(device)\n",
    "summary(model, input_size=(1, 28, 28))"
   ]
  },
  {
   "cell_type": "code",
   "execution_count": null,
   "id": "0770faff",
   "metadata": {},
   "outputs": [],
   "source": []
  },
  {
   "cell_type": "markdown",
   "id": "7f3ee818",
   "metadata": {},
   "source": [
    "## Network with Group Normalization 👇"
   ]
  },
  {
   "cell_type": "code",
   "execution_count": 6,
   "id": "add40848",
   "metadata": {
    "ExecuteTime": {
     "end_time": "2021-10-30T16:09:37.584301Z",
     "start_time": "2021-10-30T16:09:36.588164Z"
    }
   },
   "outputs": [
    {
     "name": "stdout",
     "output_type": "stream",
     "text": [
      "----------------------------------------------------------------\n",
      "        Layer (type)               Output Shape         Param #\n",
      "================================================================\n",
      "            Conv2d-1            [-1, 8, 26, 26]              72\n",
      "              ReLU-2            [-1, 8, 26, 26]               0\n",
      "         GroupNorm-3            [-1, 8, 26, 26]              16\n",
      "           Dropout-4            [-1, 8, 26, 26]               0\n",
      "        conv_block-5            [-1, 8, 26, 26]               0\n",
      "            Conv2d-6           [-1, 16, 24, 24]           1,152\n",
      "              ReLU-7           [-1, 16, 24, 24]               0\n",
      "         GroupNorm-8           [-1, 16, 24, 24]              32\n",
      "           Dropout-9           [-1, 16, 24, 24]               0\n",
      "       conv_block-10           [-1, 16, 24, 24]               0\n",
      "           Conv2d-11            [-1, 8, 24, 24]             128\n",
      "       conv_block-12            [-1, 8, 24, 24]               0\n",
      "        MaxPool2d-13            [-1, 8, 12, 12]               0\n",
      "           Conv2d-14           [-1, 12, 10, 10]             864\n",
      "             ReLU-15           [-1, 12, 10, 10]               0\n",
      "        GroupNorm-16           [-1, 12, 10, 10]              24\n",
      "          Dropout-17           [-1, 12, 10, 10]               0\n",
      "       conv_block-18           [-1, 12, 10, 10]               0\n",
      "           Conv2d-19             [-1, 14, 8, 8]           1,512\n",
      "             ReLU-20             [-1, 14, 8, 8]               0\n",
      "        GroupNorm-21             [-1, 14, 8, 8]              28\n",
      "          Dropout-22             [-1, 14, 8, 8]               0\n",
      "       conv_block-23             [-1, 14, 8, 8]               0\n",
      "           Conv2d-24             [-1, 14, 8, 8]           1,764\n",
      "             ReLU-25             [-1, 14, 8, 8]               0\n",
      "        GroupNorm-26             [-1, 14, 8, 8]              28\n",
      "          Dropout-27             [-1, 14, 8, 8]               0\n",
      "       conv_block-28             [-1, 14, 8, 8]               0\n",
      "        AvgPool2d-29             [-1, 14, 1, 1]               0\n",
      "           Conv2d-30             [-1, 10, 1, 1]             140\n",
      "       conv_block-31             [-1, 10, 1, 1]               0\n",
      "================================================================\n",
      "Total params: 5,760\n",
      "Trainable params: 5,760\n",
      "Non-trainable params: 0\n",
      "----------------------------------------------------------------\n",
      "Input size (MB): 0.00\n",
      "Forward/backward pass size (MB): 0.75\n",
      "Params size (MB): 0.02\n",
      "Estimated Total Size (MB): 0.78\n",
      "----------------------------------------------------------------\n"
     ]
    }
   ],
   "source": [
    "model = Net(\n",
    "    batch_norm=False,\n",
    "    layer_norm=False,\n",
    "    group_norm=True,\n",
    "    group_norm_groups=2,\n",
    ").to(device)\n",
    "summary(model, input_size=(1, 28, 28))"
   ]
  },
  {
   "cell_type": "code",
   "execution_count": null,
   "id": "aeefeb99",
   "metadata": {},
   "outputs": [],
   "source": []
  },
  {
   "cell_type": "markdown",
   "id": "658f8420",
   "metadata": {},
   "source": [
    "## Network with Layer Normalization 👇"
   ]
  },
  {
   "cell_type": "code",
   "execution_count": 7,
   "id": "b197be2c",
   "metadata": {
    "ExecuteTime": {
     "end_time": "2021-10-30T16:09:41.030822Z",
     "start_time": "2021-10-30T16:09:40.095403Z"
    }
   },
   "outputs": [
    {
     "name": "stdout",
     "output_type": "stream",
     "text": [
      "----------------------------------------------------------------\n",
      "        Layer (type)               Output Shape         Param #\n",
      "================================================================\n",
      "            Conv2d-1            [-1, 8, 26, 26]              72\n",
      "              ReLU-2            [-1, 8, 26, 26]               0\n",
      "         GroupNorm-3            [-1, 8, 26, 26]              16\n",
      "           Dropout-4            [-1, 8, 26, 26]               0\n",
      "        conv_block-5            [-1, 8, 26, 26]               0\n",
      "            Conv2d-6           [-1, 16, 24, 24]           1,152\n",
      "              ReLU-7           [-1, 16, 24, 24]               0\n",
      "         GroupNorm-8           [-1, 16, 24, 24]              32\n",
      "           Dropout-9           [-1, 16, 24, 24]               0\n",
      "       conv_block-10           [-1, 16, 24, 24]               0\n",
      "           Conv2d-11            [-1, 8, 24, 24]             128\n",
      "       conv_block-12            [-1, 8, 24, 24]               0\n",
      "        MaxPool2d-13            [-1, 8, 12, 12]               0\n",
      "           Conv2d-14           [-1, 12, 10, 10]             864\n",
      "             ReLU-15           [-1, 12, 10, 10]               0\n",
      "        GroupNorm-16           [-1, 12, 10, 10]              24\n",
      "          Dropout-17           [-1, 12, 10, 10]               0\n",
      "       conv_block-18           [-1, 12, 10, 10]               0\n",
      "           Conv2d-19             [-1, 14, 8, 8]           1,512\n",
      "             ReLU-20             [-1, 14, 8, 8]               0\n",
      "        GroupNorm-21             [-1, 14, 8, 8]              28\n",
      "          Dropout-22             [-1, 14, 8, 8]               0\n",
      "       conv_block-23             [-1, 14, 8, 8]               0\n",
      "           Conv2d-24             [-1, 14, 8, 8]           1,764\n",
      "             ReLU-25             [-1, 14, 8, 8]               0\n",
      "        GroupNorm-26             [-1, 14, 8, 8]              28\n",
      "          Dropout-27             [-1, 14, 8, 8]               0\n",
      "       conv_block-28             [-1, 14, 8, 8]               0\n",
      "        AvgPool2d-29             [-1, 14, 1, 1]               0\n",
      "           Conv2d-30             [-1, 10, 1, 1]             140\n",
      "       conv_block-31             [-1, 10, 1, 1]               0\n",
      "================================================================\n",
      "Total params: 5,760\n",
      "Trainable params: 5,760\n",
      "Non-trainable params: 0\n",
      "----------------------------------------------------------------\n",
      "Input size (MB): 0.00\n",
      "Forward/backward pass size (MB): 0.75\n",
      "Params size (MB): 0.02\n",
      "Estimated Total Size (MB): 0.78\n",
      "----------------------------------------------------------------\n"
     ]
    }
   ],
   "source": [
    "## Network with \"Layer Norm\" only\n",
    "model = Net(\n",
    "    batch_norm=False,\n",
    "    layer_norm=True,\n",
    "    group_norm=False,\n",
    ").to(device)\n",
    "summary(model, input_size=(1, 28, 28))"
   ]
  },
  {
   "cell_type": "code",
   "execution_count": null,
   "id": "adc8ff38",
   "metadata": {},
   "outputs": [],
   "source": []
  },
  {
   "cell_type": "markdown",
   "id": "a103ae17",
   "metadata": {},
   "source": [
    "## Network with ALL Normalization OFF 👇"
   ]
  },
  {
   "cell_type": "code",
   "execution_count": 8,
   "id": "84bf9a2d",
   "metadata": {
    "ExecuteTime": {
     "end_time": "2021-10-30T16:09:51.796310Z",
     "start_time": "2021-10-30T16:09:51.002315Z"
    }
   },
   "outputs": [
    {
     "name": "stdout",
     "output_type": "stream",
     "text": [
      "----------------------------------------------------------------\n",
      "        Layer (type)               Output Shape         Param #\n",
      "================================================================\n",
      "            Conv2d-1            [-1, 8, 26, 26]              72\n",
      "              ReLU-2            [-1, 8, 26, 26]               0\n",
      "           Dropout-3            [-1, 8, 26, 26]               0\n",
      "        conv_block-4            [-1, 8, 26, 26]               0\n",
      "            Conv2d-5           [-1, 16, 24, 24]           1,152\n",
      "              ReLU-6           [-1, 16, 24, 24]               0\n",
      "           Dropout-7           [-1, 16, 24, 24]               0\n",
      "        conv_block-8           [-1, 16, 24, 24]               0\n",
      "            Conv2d-9            [-1, 8, 24, 24]             128\n",
      "       conv_block-10            [-1, 8, 24, 24]               0\n",
      "        MaxPool2d-11            [-1, 8, 12, 12]               0\n",
      "           Conv2d-12           [-1, 12, 10, 10]             864\n",
      "             ReLU-13           [-1, 12, 10, 10]               0\n",
      "          Dropout-14           [-1, 12, 10, 10]               0\n",
      "       conv_block-15           [-1, 12, 10, 10]               0\n",
      "           Conv2d-16             [-1, 14, 8, 8]           1,512\n",
      "             ReLU-17             [-1, 14, 8, 8]               0\n",
      "          Dropout-18             [-1, 14, 8, 8]               0\n",
      "       conv_block-19             [-1, 14, 8, 8]               0\n",
      "           Conv2d-20             [-1, 14, 8, 8]           1,764\n",
      "             ReLU-21             [-1, 14, 8, 8]               0\n",
      "          Dropout-22             [-1, 14, 8, 8]               0\n",
      "       conv_block-23             [-1, 14, 8, 8]               0\n",
      "        AvgPool2d-24             [-1, 14, 1, 1]               0\n",
      "           Conv2d-25             [-1, 10, 1, 1]             140\n",
      "       conv_block-26             [-1, 10, 1, 1]               0\n",
      "================================================================\n",
      "Total params: 5,632\n",
      "Trainable params: 5,632\n",
      "Non-trainable params: 0\n",
      "----------------------------------------------------------------\n",
      "Input size (MB): 0.00\n",
      "Forward/backward pass size (MB): 0.62\n",
      "Params size (MB): 0.02\n",
      "Estimated Total Size (MB): 0.64\n",
      "----------------------------------------------------------------\n"
     ]
    }
   ],
   "source": [
    "## BN, LN, GN off --\n",
    "model = Net(\n",
    "    batch_norm=False,\n",
    "    layer_norm=False,\n",
    "    group_norm=False,\n",
    ").to(device)\n",
    "summary(model, input_size=(1, 28, 28))"
   ]
  },
  {
   "cell_type": "code",
   "execution_count": null,
   "id": "8f15d19b",
   "metadata": {},
   "outputs": [],
   "source": []
  },
  {
   "cell_type": "code",
   "execution_count": null,
   "id": "7c10ffdf",
   "metadata": {},
   "outputs": [],
   "source": []
  },
  {
   "cell_type": "code",
   "execution_count": null,
   "id": "b36bb985",
   "metadata": {},
   "outputs": [],
   "source": []
  }
 ],
 "metadata": {
  "kernelspec": {
   "display_name": "Python3.8",
   "language": "python",
   "name": "python3.8"
  },
  "language_info": {
   "codemirror_mode": {
    "name": "ipython",
    "version": 3
   },
   "file_extension": ".py",
   "mimetype": "text/x-python",
   "name": "python",
   "nbconvert_exporter": "python",
   "pygments_lexer": "ipython3",
   "version": "3.8.2"
  }
 },
 "nbformat": 4,
 "nbformat_minor": 5
}
