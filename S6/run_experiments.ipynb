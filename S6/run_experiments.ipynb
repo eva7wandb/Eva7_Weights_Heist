{
  "nbformat": 4,
  "nbformat_minor": 0,
  "metadata": {
    "colab": {
      "name": "run_experiments.ipynb",
      "provenance": [],
      "authorship_tag": "ABX9TyNfqdnN05dHrjcP1oZH4L0v",
      "include_colab_link": true
    },
    "kernelspec": {
      "name": "python3",
      "display_name": "Python 3"
    },
    "language_info": {
      "name": "python"
    },
    "accelerator": "GPU"
  },
  "cells": [
    {
      "cell_type": "markdown",
      "metadata": {
        "id": "view-in-github",
        "colab_type": "text"
      },
      "source": [
        "<a href=\"https://colab.research.google.com/github/eva7wandb/Eva7_Weights_Heist/blob/main/S6/run_experiments.ipynb\" target=\"_parent\"><img src=\"https://colab.research.google.com/assets/colab-badge.svg\" alt=\"Open In Colab\"/></a>"
      ]
    },
    {
      "cell_type": "code",
      "metadata": {
        "colab": {
          "base_uri": "https://localhost:8080/"
        },
        "id": "bDrEex1ftP8M",
        "outputId": "dc2657d3-36cd-4a04-be33-b86e0997a6dc"
      },
      "source": [
        "! git clone https://github.com/eva7wandb/Eva7_Weights_Heist"
      ],
      "execution_count": 3,
      "outputs": [
        {
          "output_type": "stream",
          "name": "stdout",
          "text": [
            "Cloning into 'Eva7_Weights_Heist'...\n",
            "remote: Enumerating objects: 198, done.\u001b[K\n",
            "remote: Counting objects: 100% (198/198), done.\u001b[K\n",
            "remote: Compressing objects: 100% (183/183), done.\u001b[K\n",
            "remote: Total 198 (delta 70), reused 36 (delta 8), pack-reused 0\u001b[K\n",
            "Receiving objects: 100% (198/198), 1.12 MiB | 6.64 MiB/s, done.\n",
            "Resolving deltas: 100% (70/70), done.\n"
          ]
        }
      ]
    },
    {
      "cell_type": "code",
      "metadata": {
        "colab": {
          "base_uri": "https://localhost:8080/"
        },
        "id": "ckOo7df5tb1O",
        "outputId": "f346afd5-ebb8-47f1-8443-20647e16871f"
      },
      "source": [
        "! ls ./Eva7_Weights_Heist/S6"
      ],
      "execution_count": 12,
      "outputs": [
        {
          "output_type": "stream",
          "name": "stdout",
          "text": [
            "datasets  models  README.md  usage_notebook.ipynb  utils\n"
          ]
        }
      ]
    },
    {
      "cell_type": "code",
      "metadata": {
        "id": "BuCa8jdKtiU3"
      },
      "source": [
        "import sys\n",
        "sys.path.append('./Eva7_Weights_Heist/S6/')"
      ],
      "execution_count": 5,
      "outputs": []
    },
    {
      "cell_type": "code",
      "metadata": {
        "id": "BVoAiC5btquA"
      },
      "source": [
        "import torch\n",
        "import torch.nn as nn\n",
        "import torch.nn.functional as F\n",
        "import torch.optim as optim\n",
        "from torch.optim.lr_scheduler import StepLR\n",
        "\n",
        "import matplotlib.pyplot as plt\n",
        "from torchsummary import summary\n",
        "\n",
        "from utils.general_utils import setup_env\n",
        "from utils.training import train_model\n",
        "from utils.testing import test_model\n",
        "from utils.misclassified import (\n",
        "    get_incorrect_preds, plot_incorrect_preds\n",
        ")\n",
        "from datasets.mnist import MNIST\n",
        "from models.model import Net"
      ],
      "execution_count": 13,
      "outputs": []
    },
    {
      "cell_type": "code",
      "metadata": {
        "colab": {
          "base_uri": "https://localhost:8080/"
        },
        "id": "UQ7gGPkyuOq1",
        "outputId": "4d433786-fceb-415c-d04a-e3a5d6bbe564"
      },
      "source": [
        "cuda, device = setup_env()\n",
        "print(cuda, device)"
      ],
      "execution_count": 7,
      "outputs": [
        {
          "output_type": "stream",
          "name": "stdout",
          "text": [
            "True cuda\n"
          ]
        }
      ]
    },
    {
      "cell_type": "code",
      "metadata": {
        "colab": {
          "base_uri": "https://localhost:8080/"
        },
        "id": "dqeBIvK2t_lO",
        "outputId": "06b074e4-8a9e-48b2-d486-d67659df9850"
      },
      "source": [
        "## Load Model\n",
        "train_dataloader, test_dataloader = MNIST(cuda).get_dataloader()"
      ],
      "execution_count": 8,
      "outputs": [
        {
          "output_type": "stream",
          "name": "stderr",
          "text": [
            "/usr/local/lib/python3.7/dist-packages/torchvision/datasets/mnist.py:498: UserWarning: The given NumPy array is not writeable, and PyTorch does not support non-writeable tensors. This means you can write to the underlying (supposedly non-writeable) NumPy array using the tensor. You may want to copy the array to protect its data or make it writeable before converting it to a tensor. This type of warning will be suppressed for the rest of this program. (Triggered internally at  /pytorch/torch/csrc/utils/tensor_numpy.cpp:180.)\n",
            "  return torch.from_numpy(parsed.astype(m[2], copy=False)).view(*s)\n",
            "/usr/local/lib/python3.7/dist-packages/torch/utils/data/dataloader.py:481: UserWarning: This DataLoader will create 4 worker processes in total. Our suggested max number of worker in current system is 2, which is smaller than what this DataLoader is going to create. Please be aware that excessive worker creation might get DataLoader running slow or even freeze, lower the worker number to avoid potential slowness/freeze if necessary.\n",
            "  cpuset_checked))\n"
          ]
        }
      ]
    },
    {
      "cell_type": "code",
      "metadata": {
        "colab": {
          "base_uri": "https://localhost:8080/"
        },
        "id": "b_qh00RAudbX",
        "outputId": "33d49486-0ba8-485f-a876-db9239e5acb4"
      },
      "source": [
        "## Load Base Model\n",
        "model_1 = Net(\n",
        "    batch_norm=True,\n",
        "    dropout_value=0.01,\n",
        ").to(device)\n",
        "summary(model_1, input_size=(1, 28, 28))"
      ],
      "execution_count": 9,
      "outputs": [
        {
          "output_type": "stream",
          "name": "stdout",
          "text": [
            "----------------------------------------------------------------\n",
            "        Layer (type)               Output Shape         Param #\n",
            "================================================================\n",
            "            Conv2d-1            [-1, 8, 26, 26]              72\n",
            "              ReLU-2            [-1, 8, 26, 26]               0\n",
            "       BatchNorm2d-3            [-1, 8, 26, 26]              16\n",
            "           Dropout-4            [-1, 8, 26, 26]               0\n",
            "        conv_block-5            [-1, 8, 26, 26]               0\n",
            "            Conv2d-6           [-1, 16, 24, 24]           1,152\n",
            "              ReLU-7           [-1, 16, 24, 24]               0\n",
            "       BatchNorm2d-8           [-1, 16, 24, 24]              32\n",
            "           Dropout-9           [-1, 16, 24, 24]               0\n",
            "       conv_block-10           [-1, 16, 24, 24]               0\n",
            "           Conv2d-11            [-1, 8, 24, 24]             128\n",
            "       conv_block-12            [-1, 8, 24, 24]               0\n",
            "        MaxPool2d-13            [-1, 8, 12, 12]               0\n",
            "           Conv2d-14           [-1, 12, 10, 10]             864\n",
            "             ReLU-15           [-1, 12, 10, 10]               0\n",
            "      BatchNorm2d-16           [-1, 12, 10, 10]              24\n",
            "          Dropout-17           [-1, 12, 10, 10]               0\n",
            "       conv_block-18           [-1, 12, 10, 10]               0\n",
            "           Conv2d-19             [-1, 14, 8, 8]           1,512\n",
            "             ReLU-20             [-1, 14, 8, 8]               0\n",
            "      BatchNorm2d-21             [-1, 14, 8, 8]              28\n",
            "          Dropout-22             [-1, 14, 8, 8]               0\n",
            "       conv_block-23             [-1, 14, 8, 8]               0\n",
            "           Conv2d-24             [-1, 14, 8, 8]           1,764\n",
            "             ReLU-25             [-1, 14, 8, 8]               0\n",
            "      BatchNorm2d-26             [-1, 14, 8, 8]              28\n",
            "          Dropout-27             [-1, 14, 8, 8]               0\n",
            "       conv_block-28             [-1, 14, 8, 8]               0\n",
            "        AvgPool2d-29             [-1, 14, 1, 1]               0\n",
            "           Conv2d-30             [-1, 10, 1, 1]             140\n",
            "       conv_block-31             [-1, 10, 1, 1]               0\n",
            "================================================================\n",
            "Total params: 5,760\n",
            "Trainable params: 5,760\n",
            "Non-trainable params: 0\n",
            "----------------------------------------------------------------\n",
            "Input size (MB): 0.00\n",
            "Forward/backward pass size (MB): 0.75\n",
            "Params size (MB): 0.02\n",
            "Estimated Total Size (MB): 0.78\n",
            "----------------------------------------------------------------\n"
          ]
        },
        {
          "output_type": "stream",
          "name": "stderr",
          "text": [
            "/usr/local/lib/python3.7/dist-packages/torch/nn/functional.py:718: UserWarning: Named tensors and all their associated APIs are an experimental feature and subject to change. Please do not use them for anything important until they are released as stable. (Triggered internally at  /pytorch/c10/core/TensorImpl.h:1156.)\n",
            "  return torch.max_pool2d(input, kernel_size, stride, padding, dilation, ceil_mode)\n"
          ]
        }
      ]
    },
    {
      "cell_type": "code",
      "metadata": {
        "colab": {
          "base_uri": "https://localhost:8080/"
        },
        "id": "74IWssy_usdz",
        "outputId": "d9694f70-e429-45d1-f528-62b6f189e7ee"
      },
      "source": [
        "optimizer = optim.SGD(model_1.parameters(), lr=0.1, momentum=0.9)\n",
        "scheduler = StepLR(optimizer, step_size=8, gamma=0.01)\n",
        "\n",
        "logs = []\n",
        "EPOCHS = 20\n",
        "for epoch in range(EPOCHS):\n",
        "    print(\"EPOCH:\", epoch)\n",
        "    train_batch_loss, train_batch_acc = train_model(\n",
        "        model_1, device, train_dataloader, optimizer, epoch\n",
        "    )\n",
        "    test_loss, test_acc = test_model(model_1, device, test_dataloader)\n",
        "    scheduler.step()\n",
        "    \n",
        "    logs.append({\n",
        "        'train_losses': train_batch_loss,\n",
        "        'test_losses': test_loss,\n",
        "        'train_acc': train_batch_acc,\n",
        "        'test_acc': test_acc,\n",
        "    })"
      ],
      "execution_count": 10,
      "outputs": [
        {
          "output_type": "stream",
          "name": "stdout",
          "text": [
            "EPOCH: 0\n"
          ]
        },
        {
          "output_type": "stream",
          "name": "stderr",
          "text": [
            "\r  0%|          | 0/938 [00:00<?, ?it/s]/usr/local/lib/python3.7/dist-packages/torch/utils/data/dataloader.py:481: UserWarning: This DataLoader will create 4 worker processes in total. Our suggested max number of worker in current system is 2, which is smaller than what this DataLoader is going to create. Please be aware that excessive worker creation might get DataLoader running slow or even freeze, lower the worker number to avoid potential slowness/freeze if necessary.\n",
            "  cpuset_checked))\n",
            "Loss=0.048607904464006424 Batch_id=937 Accuracy=94.64: 100%|██████████| 938/938 [00:26<00:00, 35.15it/s]\n"
          ]
        },
        {
          "output_type": "stream",
          "name": "stdout",
          "text": [
            "\n",
            "Test set: Average loss: 0.0515, Accuracy: 9833/10000 (98.33%)\n",
            "\n",
            "EPOCH: 1\n"
          ]
        },
        {
          "output_type": "stream",
          "name": "stderr",
          "text": [
            "Loss=0.00896806176751852 Batch_id=937 Accuracy=97.86: 100%|██████████| 938/938 [00:26<00:00, 35.07it/s]\n"
          ]
        },
        {
          "output_type": "stream",
          "name": "stdout",
          "text": [
            "\n",
            "Test set: Average loss: 0.0534, Accuracy: 9829/10000 (98.29%)\n",
            "\n",
            "EPOCH: 2\n"
          ]
        },
        {
          "output_type": "stream",
          "name": "stderr",
          "text": [
            "Loss=0.05382397025823593 Batch_id=937 Accuracy=98.22: 100%|██████████| 938/938 [00:26<00:00, 35.13it/s]\n"
          ]
        },
        {
          "output_type": "stream",
          "name": "stdout",
          "text": [
            "\n",
            "Test set: Average loss: 0.0433, Accuracy: 9867/10000 (98.67%)\n",
            "\n",
            "EPOCH: 3\n"
          ]
        },
        {
          "output_type": "stream",
          "name": "stderr",
          "text": [
            "Loss=0.06462964415550232 Batch_id=937 Accuracy=98.55: 100%|██████████| 938/938 [00:26<00:00, 35.17it/s]\n"
          ]
        },
        {
          "output_type": "stream",
          "name": "stdout",
          "text": [
            "\n",
            "Test set: Average loss: 0.0419, Accuracy: 9860/10000 (98.60%)\n",
            "\n",
            "EPOCH: 4\n"
          ]
        },
        {
          "output_type": "stream",
          "name": "stderr",
          "text": [
            "Loss=0.0019127258565276861 Batch_id=937 Accuracy=98.56: 100%|██████████| 938/938 [00:26<00:00, 35.35it/s]\n"
          ]
        },
        {
          "output_type": "stream",
          "name": "stdout",
          "text": [
            "\n",
            "Test set: Average loss: 0.0303, Accuracy: 9905/10000 (99.05%)\n",
            "\n",
            "EPOCH: 5\n"
          ]
        },
        {
          "output_type": "stream",
          "name": "stderr",
          "text": [
            "Loss=0.0007856903248466551 Batch_id=937 Accuracy=98.76: 100%|██████████| 938/938 [00:26<00:00, 35.08it/s]\n"
          ]
        },
        {
          "output_type": "stream",
          "name": "stdout",
          "text": [
            "\n",
            "Test set: Average loss: 0.0275, Accuracy: 9907/10000 (99.07%)\n",
            "\n",
            "EPOCH: 6\n"
          ]
        },
        {
          "output_type": "stream",
          "name": "stderr",
          "text": [
            "Loss=0.08402000367641449 Batch_id=937 Accuracy=98.81: 100%|██████████| 938/938 [00:26<00:00, 35.22it/s]\n"
          ]
        },
        {
          "output_type": "stream",
          "name": "stdout",
          "text": [
            "\n",
            "Test set: Average loss: 0.0320, Accuracy: 9900/10000 (99.00%)\n",
            "\n",
            "EPOCH: 7\n"
          ]
        },
        {
          "output_type": "stream",
          "name": "stderr",
          "text": [
            "Loss=0.0005946093588136137 Batch_id=937 Accuracy=98.82: 100%|██████████| 938/938 [00:26<00:00, 35.19it/s]\n"
          ]
        },
        {
          "output_type": "stream",
          "name": "stdout",
          "text": [
            "\n",
            "Test set: Average loss: 0.0269, Accuracy: 9917/10000 (99.17%)\n",
            "\n",
            "EPOCH: 8\n"
          ]
        },
        {
          "output_type": "stream",
          "name": "stderr",
          "text": [
            "Loss=0.010696876794099808 Batch_id=937 Accuracy=99.09: 100%|██████████| 938/938 [00:26<00:00, 35.05it/s]\n"
          ]
        },
        {
          "output_type": "stream",
          "name": "stdout",
          "text": [
            "\n",
            "Test set: Average loss: 0.0220, Accuracy: 9925/10000 (99.25%)\n",
            "\n",
            "EPOCH: 9\n"
          ]
        },
        {
          "output_type": "stream",
          "name": "stderr",
          "text": [
            "Loss=0.009234458208084106 Batch_id=937 Accuracy=99.15: 100%|██████████| 938/938 [00:26<00:00, 34.85it/s]\n"
          ]
        },
        {
          "output_type": "stream",
          "name": "stdout",
          "text": [
            "\n",
            "Test set: Average loss: 0.0215, Accuracy: 9932/10000 (99.32%)\n",
            "\n",
            "EPOCH: 10\n"
          ]
        },
        {
          "output_type": "stream",
          "name": "stderr",
          "text": [
            "Loss=0.022256191819906235 Batch_id=937 Accuracy=99.27: 100%|██████████| 938/938 [00:26<00:00, 35.11it/s]\n"
          ]
        },
        {
          "output_type": "stream",
          "name": "stdout",
          "text": [
            "\n",
            "Test set: Average loss: 0.0204, Accuracy: 9938/10000 (99.38%)\n",
            "\n",
            "EPOCH: 11\n"
          ]
        },
        {
          "output_type": "stream",
          "name": "stderr",
          "text": [
            "Loss=0.0027273413725197315 Batch_id=937 Accuracy=99.25: 100%|██████████| 938/938 [00:26<00:00, 35.37it/s]\n"
          ]
        },
        {
          "output_type": "stream",
          "name": "stdout",
          "text": [
            "\n",
            "Test set: Average loss: 0.0204, Accuracy: 9937/10000 (99.37%)\n",
            "\n",
            "EPOCH: 12\n"
          ]
        },
        {
          "output_type": "stream",
          "name": "stderr",
          "text": [
            "Loss=0.004460166208446026 Batch_id=937 Accuracy=99.27: 100%|██████████| 938/938 [00:26<00:00, 35.28it/s]\n"
          ]
        },
        {
          "output_type": "stream",
          "name": "stdout",
          "text": [
            "\n",
            "Test set: Average loss: 0.0205, Accuracy: 9939/10000 (99.39%)\n",
            "\n",
            "EPOCH: 13\n"
          ]
        },
        {
          "output_type": "stream",
          "name": "stderr",
          "text": [
            "Loss=0.016490448266267776 Batch_id=937 Accuracy=99.28: 100%|██████████| 938/938 [00:26<00:00, 34.80it/s]\n"
          ]
        },
        {
          "output_type": "stream",
          "name": "stdout",
          "text": [
            "\n",
            "Test set: Average loss: 0.0199, Accuracy: 9938/10000 (99.38%)\n",
            "\n",
            "EPOCH: 14\n"
          ]
        },
        {
          "output_type": "stream",
          "name": "stderr",
          "text": [
            "Loss=0.001124134287238121 Batch_id=937 Accuracy=99.28: 100%|██████████| 938/938 [00:27<00:00, 34.70it/s]\n"
          ]
        },
        {
          "output_type": "stream",
          "name": "stdout",
          "text": [
            "\n",
            "Test set: Average loss: 0.0200, Accuracy: 9941/10000 (99.41%)\n",
            "\n",
            "EPOCH: 15\n"
          ]
        },
        {
          "output_type": "stream",
          "name": "stderr",
          "text": [
            "Loss=0.05465338006615639 Batch_id=937 Accuracy=99.24: 100%|██████████| 938/938 [00:26<00:00, 34.75it/s]\n"
          ]
        },
        {
          "output_type": "stream",
          "name": "stdout",
          "text": [
            "\n",
            "Test set: Average loss: 0.0200, Accuracy: 9940/10000 (99.40%)\n",
            "\n",
            "EPOCH: 16\n"
          ]
        },
        {
          "output_type": "stream",
          "name": "stderr",
          "text": [
            "Loss=0.03545990213751793 Batch_id=937 Accuracy=99.25: 100%|██████████| 938/938 [00:27<00:00, 34.70it/s]\n"
          ]
        },
        {
          "output_type": "stream",
          "name": "stdout",
          "text": [
            "\n",
            "Test set: Average loss: 0.0200, Accuracy: 9938/10000 (99.38%)\n",
            "\n",
            "EPOCH: 17\n"
          ]
        },
        {
          "output_type": "stream",
          "name": "stderr",
          "text": [
            "Loss=0.0005008289008401334 Batch_id=937 Accuracy=99.29: 100%|██████████| 938/938 [00:27<00:00, 34.65it/s]\n"
          ]
        },
        {
          "output_type": "stream",
          "name": "stdout",
          "text": [
            "\n",
            "Test set: Average loss: 0.0197, Accuracy: 9940/10000 (99.40%)\n",
            "\n",
            "EPOCH: 18\n"
          ]
        },
        {
          "output_type": "stream",
          "name": "stderr",
          "text": [
            "Loss=0.005953436251729727 Batch_id=937 Accuracy=99.27: 100%|██████████| 938/938 [00:27<00:00, 34.68it/s]\n"
          ]
        },
        {
          "output_type": "stream",
          "name": "stdout",
          "text": [
            "\n",
            "Test set: Average loss: 0.0206, Accuracy: 9937/10000 (99.37%)\n",
            "\n",
            "EPOCH: 19\n"
          ]
        },
        {
          "output_type": "stream",
          "name": "stderr",
          "text": [
            "Loss=0.045303650200366974 Batch_id=937 Accuracy=99.23: 100%|██████████| 938/938 [00:27<00:00, 34.63it/s]\n"
          ]
        },
        {
          "output_type": "stream",
          "name": "stdout",
          "text": [
            "\n",
            "Test set: Average loss: 0.0198, Accuracy: 9941/10000 (99.41%)\n",
            "\n"
          ]
        }
      ]
    },
    {
      "cell_type": "code",
      "metadata": {
        "colab": {
          "base_uri": "https://localhost:8080/",
          "height": 430
        },
        "id": "DoMtHmMlu8uu",
        "outputId": "62c6da29-f898-4b6e-ff93-4efa888edecc"
      },
      "source": [
        "(\n",
        "    true_wrong, incorrect_examples, pred_wrong\n",
        " ) = get_incorrect_preds(model_1, test_dataloader)\n",
        "plot_incorrect_preds(true_wrong, incorrect_examples, pred_wrong)"
      ],
      "execution_count": 16,
      "outputs": [
        {
          "output_type": "stream",
          "name": "stderr",
          "text": [
            "/usr/local/lib/python3.7/dist-packages/torch/utils/data/dataloader.py:481: UserWarning: This DataLoader will create 4 worker processes in total. Our suggested max number of worker in current system is 2, which is smaller than what this DataLoader is going to create. Please be aware that excessive worker creation might get DataLoader running slow or even freeze, lower the worker number to avoid potential slowness/freeze if necessary.\n",
            "  cpuset_checked))\n"
          ]
        },
        {
          "output_type": "stream",
          "name": "stdout",
          "text": [
            "Classes in order Actual and Predicted\n"
          ]
        },
        {
          "output_type": "display_data",
          "data": {
            "image/png": "[encoded data removed]",
            "text/plain": [
              "<Figure size 1008x432 with 10 Axes>"
            ]
          },
          "metadata": {
            "needs_background": "light"
          }
        }
      ]
    },
    {
      "cell_type": "code",
      "metadata": {
        "id": "A5HUFzisy32n"
      },
      "source": [
        ""
      ],
      "execution_count": null,
      "outputs": []
    },
    {
      "cell_type": "code",
      "metadata": {
        "id": "5bbjaLgSu2hB"
      },
      "source": [
        ""
      ],
      "execution_count": null,
      "outputs": []
    },
    {
      "cell_type": "code",
      "metadata": {
        "id": "UyKPm0jvunA1"
      },
      "source": [
        ""
      ],
      "execution_count": null,
      "outputs": []
    }
  ]
}