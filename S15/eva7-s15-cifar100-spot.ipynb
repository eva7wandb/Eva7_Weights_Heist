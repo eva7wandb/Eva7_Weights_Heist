{
 "cells": [
  {
   "cell_type": "code",
   "execution_count": null,
   "id": "b54bc475-1845-425b-a922-76a6cc315a12",
   "metadata": {},
   "outputs": [],
   "source": [
    "import sagemaker\n",
    "import uuid"
   ]
  },
  {
   "cell_type": "code",
   "execution_count": null,
   "id": "8924dfb4-7818-4f6e-828f-f47fee51047d",
   "metadata": {},
   "outputs": [],
   "source": [
    "sagemaker_session = sagemaker.Session()\n",
    "print('SageMaker version: ' + sagemaker.__version__)"
   ]
  },
  {
   "cell_type": "code",
   "execution_count": null,
   "id": "44e566bb-76dc-4f42-9dd0-99c14832e5cd",
   "metadata": {},
   "outputs": [],
   "source": [
    "bucket = sagemaker_session.default_bucket()\n",
    "prefix = 'sagemaker/eva7-s15-cifar100'\n",
    "role = sagemaker.get_execution_role()"
   ]
  },
  {
   "cell_type": "code",
   "execution_count": null,
   "id": "c4731e9b-410a-4411-8df3-da40cde1d125",
   "metadata": {},
   "outputs": [],
   "source": [
    "checkpoint_suffix = str(uuid.uuid4())[:8]\n",
    "checkpoint_s3_path = 's3://{}/checkpoint-{}'.format(bucket, checkpoint_suffix)"
   ]
  },
  {
   "cell_type": "code",
   "execution_count": null,
   "id": "5e79952b-794d-4fbc-b520-97d00ce3c17f",
   "metadata": {},
   "outputs": [],
   "source": [
    "print('Checkpointing Path: {}'.format(checkpoint_s3_path))\n",
    "print(role)"
   ]
  },
  {
   "cell_type": "code",
   "execution_count": null,
   "id": "79df1b08-6782-4b43-9f19-7656f4d76663",
   "metadata": {},
   "outputs": [],
   "source": [
    "import os\n",
    "import subprocess"
   ]
  },
  {
   "cell_type": "code",
   "execution_count": null,
   "id": "6419d657-a89d-4999-8355-08bcf752a0ec",
   "metadata": {},
   "outputs": [],
   "source": [
    "instance_type = 'local'\n",
    "\n",
    "if subprocess.call('nvidia-smi') == 0:\n",
    "    ## Set type to GPU if one is present\n",
    "    instance_type = 'local_gpu'\n",
    "\n",
    "print(\"Instance Type = \" + instance_type)"
   ]
  },
  {
   "cell_type": "code",
   "execution_count": null,
   "id": "18f55789-f582-45a6-b971-b63b2729f3bc",
   "metadata": {},
   "outputs": [],
   "source": [
    "!pip install pytorch-lightning --quiet"
   ]
  },
  {
   "cell_type": "code",
   "execution_count": null,
   "id": "d0761f6d-04f1-4e93-9aa7-8d56b2156b9e",
   "metadata": {},
   "outputs": [],
   "source": [
    "import numpy as np\n",
    "import torchvision, torch\n",
    "import matplotlib.pyplot as plt\n",
    "import pickle"
   ]
  },
  {
   "cell_type": "code",
   "execution_count": null,
   "id": "d4372071-b63e-4e0c-a37c-4ead825716f3",
   "metadata": {},
   "outputs": [],
   "source": [
    "import pytorch_lightning as pl\n",
    "from pytorch_lightning import seed_everything  # Global Seeding\n",
    "\n",
    "from utils_cifar100 import CIFAR100DataModule, unpickle, imshow"
   ]
  },
  {
   "cell_type": "code",
   "execution_count": null,
   "id": "eb525f58-f2b0-452f-bcf8-bb8c768b756d",
   "metadata": {},
   "outputs": [],
   "source": [
    "early_stop_callback = EarlyStopping(\n",
    "    monitor=\"val_loss\", patience=10, verbose=False, mode=\"min\"\n",
    ")\n",
    "\n",
    "MODEL_CKPT_PATH = \"./resnet34_model/\"\n",
    "MODEL_CKPT = \"resnet34-{epoch:02d}-{val_loss:.2f}\"\n",
    "\n",
    "checkpoint_callback = ModelCheckpoint(\n",
    "    monitor=\"val_loss\",\n",
    "    dirpath=MODEL_CKPT_PATH,\n",
    "    filename=MODEL_CKPT,\n",
    "    save_top_k=3,\n",
    "    mode=\"min\",\n",
    ")"
   ]
  },
  {
   "cell_type": "code",
   "execution_count": null,
   "id": "461f836a-492e-4f1b-a799-a982c374bc61",
   "metadata": {},
   "outputs": [],
   "source": [
    "# Init our data pipeline\n",
    "dm = CIFAR100DataModule(batch_size=64)"
   ]
  },
  {
   "cell_type": "code",
   "execution_count": null,
   "id": "33916dae-1622-43ce-b857-9887c68ee11e",
   "metadata": {},
   "outputs": [],
   "source": [
    "# To access the x_dataloader we need to call prepare_data and setup.\n",
    "dm.prepare_data()"
   ]
  },
  {
   "cell_type": "code",
   "execution_count": null,
   "id": "178a2a75-947e-4e5a-a2dc-82b03098e978",
   "metadata": {},
   "outputs": [],
   "source": [
    "dm.setup()"
   ]
  },
  {
   "cell_type": "code",
   "execution_count": null,
   "id": "d6003897-c822-462f-908b-dfb1fb0bcf38",
   "metadata": {},
   "outputs": [],
   "source": [
    "trainloader = dm.train_dataloader()\n",
    "testloader = dm.test_dataloader()"
   ]
  },
  {
   "cell_type": "code",
   "execution_count": null,
   "id": "9d6850fc-4ebe-43ce-bb3a-34c3290bfce9",
   "metadata": {},
   "outputs": [],
   "source": [
    "metaData = unpickle(\"./data/cifar-100-python/meta\")\n",
    "\n",
    "label_names = metaData[\"fine_label_names\"]\n",
    "print(len(label_names))"
   ]
  },
  {
   "cell_type": "code",
   "execution_count": null,
   "id": "8df4e63e-b607-4bb6-a936-f5d278b552bf",
   "metadata": {},
   "outputs": [],
   "source": [
    "# get some random training images\n",
    "trainiter = iter(trainloader)\n",
    "img_train, lbl_train = trainiter.next()\n",
    "\n",
    "# show images\n",
    "imshow(torchvision.utils.make_grid(img_train))\n",
    "labels_list = lbl_train.tolist()\n",
    "print(\"Showing label names of first 8 train images\")\n",
    "for i in range(8):\n",
    "    print(labels_list[i], label_names[labels_list[i]])"
   ]
  },
  {
   "cell_type": "code",
   "execution_count": null,
   "id": "059c90f7-559b-45a7-9886-5af8dbcf4eef",
   "metadata": {},
   "outputs": [],
   "source": [
    "# get some random test images\n",
    "testiter = iter(testloader)\n",
    "img_test, lbl_test = testiter.next()\n",
    "\n",
    "# show images\n",
    "imshow(torchvision.utils.make_grid(img_test))\n",
    "labels_list = lbl_test.tolist()\n",
    "print(\"Showing label names of first 8 test images\")\n",
    "for i in range(8):\n",
    "    print(labels_list[i], label_names[labels_list[i]])"
   ]
  },
  {
   "cell_type": "code",
   "execution_count": null,
   "id": "99ae65d8-ebdf-4ddf-a8ea-87d6a692f45a",
   "metadata": {},
   "outputs": [],
   "source": [
    "inputs = sagemaker_session.upload_data(\n",
    "    path=\"data\", bucket=bucket, key_prefix=\"data/cifar100\"\n",
    ")"
   ]
  },
  {
   "cell_type": "code",
   "execution_count": null,
   "id": "1c32b73a-a666-467d-983d-008c7503202a",
   "metadata": {},
   "outputs": [],
   "source": [
    "from sagemaker.pytorch import PyTorch"
   ]
  },
  {
   "cell_type": "code",
   "execution_count": null,
   "id": "6d087a24-20ff-43ce-bf3f-80fc574fca0e",
   "metadata": {},
   "outputs": [],
   "source": [
    "use_spot_instances = True\n",
    "max_run = 600\n",
    "max_wait = 1200 if use_spot_instances else None"
   ]
  },
  {
   "cell_type": "code",
   "execution_count": null,
   "id": "fd7b4f9c-7025-4e30-baca-98e1fa699854",
   "metadata": {},
   "outputs": [],
   "source": [
    "hyperparameters = {\"batch_size\": 64, \"checkpoint-path\": checkpoint_s3_path}"
   ]
  },
  {
   "cell_type": "code",
   "execution_count": null,
   "id": "442bec32-7bd0-4595-aac4-64ac0a5d4f7d",
   "metadata": {},
   "outputs": [],
   "source": [
    "checkpoint_local_path = \"/opt/ml/checkpoints\""
   ]
  },
  {
   "cell_type": "code",
   "execution_count": null,
   "id": "c4c1fbfc-17a1-4ff4-8414-1bcc9ee01d24",
   "metadata": {},
   "outputs": [],
   "source": [
    "cifar100_estimator = PyTorch(\n",
    "    entry_point=\"source_dir/cifar100.py\",\n",
    "    role=role,\n",
    "    framework_version=\"1.7.1\",\n",
    "    py_version=\"py3\",\n",
    "    hyperparameters=hyperparameters,\n",
    "    instance_count=1,\n",
    "    instance_type=\"ml.p3.8xlarge\",\n",
    "    base_job_name=\"cifar100-Feb24-v0-spot\",\n",
    "    checkpoints_s3_uri=checkpoint_s3_path,\n",
    "    checkpoint_local_path=checkpoint_local_path,\n",
    "    debugger_hook_config=False,\n",
    "    use_spot_instances=use_spot_instances,\n",
    "    max_run=max_run,\n",
    "    max_wait=max_wait,\n",
    ")"
   ]
  },
  {
   "cell_type": "code",
   "execution_count": null,
   "id": "5ecdbb30-22fc-4054-b126-8cedb4ce5474",
   "metadata": {},
   "outputs": [],
   "source": [
    "cifar100_estimator.fit(inputs)"
   ]
  },
  {
   "cell_type": "code",
   "execution_count": null,
   "id": "a61803c9-e48a-43c2-833f-5a6a0242c2dc",
   "metadata": {},
   "outputs": [],
   "source": [
    "from sagemaker.pytorch import PyTorchModel"
   ]
  },
  {
   "cell_type": "code",
   "execution_count": null,
   "id": "2ef55b47-78b2-411f-98e1-dbba42da8dcc",
   "metadata": {},
   "outputs": [],
   "source": [
    "predictor = cifar100_estimator.deploy(\n",
    "    initial_instance_count=1, instance_type=\"ml.m4.xlarge\"\n",
    ")"
   ]
  },
  {
   "cell_type": "code",
   "execution_count": null,
   "id": "db90f424-4752-415d-b7b1-69690f4839f8",
   "metadata": {},
   "outputs": [],
   "source": [
    "# get some test images\n",
    "dataiter = iter(testloader)\n",
    "images, labels = dataiter.next()\n",
    "print(images.size())\n",
    "\n",
    "labels_list = labels.tolist()"
   ]
  },
  {
   "cell_type": "code",
   "execution_count": null,
   "id": "fe619c4d-eda8-4a45-8f35-96aa39e6b975",
   "metadata": {},
   "outputs": [],
   "source": [
    "# print images\n",
    "imshow(torchvision.utils.make_grid(images))\n",
    "print(\"Ground Truth: \", \" \".join(\"%4s\" % label_names[labels_list[j]] for j in range(4)))"
   ]
  },
  {
   "cell_type": "code",
   "execution_count": null,
   "id": "1311f3ef-8340-470b-bd13-3b3bd8504645",
   "metadata": {},
   "outputs": [],
   "source": [
    "outputs = predictor.predict(images.numpy())"
   ]
  },
  {
   "cell_type": "code",
   "execution_count": null,
   "id": "62379e13-5678-462e-b1fb-9e1b7303ca6f",
   "metadata": {},
   "outputs": [],
   "source": [
    "_, predicted = torch.max(torch.from_numpy(np.array(outputs)), 1)"
   ]
  },
  {
   "cell_type": "code",
   "execution_count": null,
   "id": "b8d443c1-ad39-455a-9577-60fd41bb46f4",
   "metadata": {},
   "outputs": [],
   "source": [
    "print(\"Predicted: \", \" \".join(\"%4s\" % label_names[predicted[j]] for j in range(4)))"
   ]
  },
  {
   "cell_type": "code",
   "execution_count": null,
   "id": "aaa30d99-65cf-447a-8d5a-96a05f6d522a",
   "metadata": {},
   "outputs": [],
   "source": [
    "# predictor.delete_endpoint()  #Very Important !!!"
   ]
  }
 ],
 "metadata": {
  "kernelspec": {
   "display_name": "Python [conda env:pytor] *",
   "language": "python",
   "name": "conda-env-pytor-py"
  },
  "language_info": {
   "codemirror_mode": {
    "name": "ipython",
    "version": 3
   },
   "file_extension": ".py",
   "mimetype": "text/x-python",
   "name": "python",
   "nbconvert_exporter": "python",
   "pygments_lexer": "ipython3",
   "version": "3.9.7"
  }
 },
 "nbformat": 4,
 "nbformat_minor": 5
}
